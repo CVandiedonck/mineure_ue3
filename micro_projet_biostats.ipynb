{
 "cells": [
  {
   "cell_type": "markdown",
   "id": "98c0c946-dd44-45c5-aa81-9c3884b6afc3",
   "metadata": {},
   "source": [
    "# **Micro-Projet Biostatistiques**\n",
    "\n",
    "Antoine Bridier-Nahmias et Claire Vandiedonck - UE3 \"Analyses de données\" de la mineure \"Recherche en Santé\" - Université Paris Cité\n",
    "\n",
    "<mark>Notebook à positionner dans le repretoire <code>~/pass_minrs_ue3/micro_projet_bi/</code></mark>\n",
    "\n",
    "## Polymorphisme dans _BRCA1_ à partir des données du projet 1000 genomes\n",
    "\n",
    "Ce micro-projet a pour objectif d'explorer la variabilité génétique du gène _BRCA1_ au moyen des données du projet  ['1000 genomes'](https://www.internationalgenome.org/home).<br>\n",
    "Il fait suite au micro-projet Unix dans lequel nous avions récupéré le fichier `.vcf` (pour *variant calling format)* de variants du chromosome 17 du projet 1000 genomes. <br>\n",
    "Dans ce micro-projet, nous utiliserons un sous-fichier `.vcf` d'une portion du chromosome 17. Ce fichier a été **annoté** au moyen du logiciel [ANNOVAR](https://annovar.openbioinformatics.org/en/latest/). Les annotations ainsi ajoutées dans les 1ères collones (avant les génotypes) incluent:\n",
    "- l'identifiant `rsID` de chaque variant dans la base de données [dbSNP](https://www.ncbi.nlm.nih.gov/snp/) du ncbi\n",
    "- la position de chaque variant relative aux différents gènes\n",
    "- l'impact fonctionnel putatif de chaque variant sur la protéine\n",
    "- des données de fréquences\n",
    "\n",
    "Notre objectif sera, avec le langage R:<br>\n",
    "1. d'étudier la distribution des variants en fonction de leur position le long du gène *BRCA1*\n",
    "2. d'explorer le degré d'hétérozygotie de ces variants\n",
    "3. d'évaluer la pathogénicité de ces variants\n",
    "4. d'explorer la variabilité génétique de *BRCA1* selon les populations"
   ]
  },
  {
   "cell_type": "markdown",
   "id": "4e08e5f4-0d80-4e71-beba-b68cfb6ca682",
   "metadata": {},
   "source": [
    "<div class=\"alert alert-warning\"><b> Modalités d'évaluation :</b><br><br>\n",
    "Les boîtes oranges contiennent des instructions que vous allez devoir traduire en commandes R.\n",
    "Une partie de la commande peut vous être donnée, à vous de la compléter en remplacant les <b>[XXX]</b>.\n",
    "<br/>\n",
    "<br/>\n",
    "    L'évaluation consistera en un simple questionnaire numéroté sur <b>moodle</b> dans lequel vous devrez reporter ce par quoi vous avez remplacé ces <b>[XXX]</b>, le résultat de certaines commandes ou encore des champs de réponses libres.\n",
    "<br/>\n",
    "<br/>\n",
    "Contrairement à ce qui vous avait initialement été indiqué, le travail sera évalué <u><b>individuellement et NON en binôme</b></u>, le format du micro-projet ayant été simplifié. La date limite pour rendre vos réponses sur moodle est fixée au <u><b>10/05/2023 20h00</b></u>.\n",
    "</div>"
   ]
  },
  {
   "cell_type": "markdown",
   "id": "29637530-52c0-4fd2-b54e-39c9d57bc7db",
   "metadata": {},
   "source": [
    "Avant de commencer, on se positionne dans le bon repertoire de travail, on affiche la version de R utilisée et les paquets chargés dans la session. "
   ]
  },
  {
   "cell_type": "code",
   "execution_count": null,
   "id": "0f30ae51-3f1f-468f-adde-acba5b17179e",
   "metadata": {},
   "outputs": [],
   "source": [
    "##### cell 1\n",
    "setwd(\"~/pass_minrs_ue3/micro_projet_bi/\")\n",
    "getwd()\n",
    "library(tidyverse)\n",
    "library(FactoMineR)\n",
    "library(factoextra)\n",
    "library(ggpubr)\n",
    "sessionInfo()"
   ]
  },
  {
   "cell_type": "markdown",
   "id": "67fa095c-eb86-4d04-a023-c7a90eddcdf3",
   "metadata": {},
   "source": [
    "## I. Chargement des données\n",
    "---"
   ]
  },
  {
   "cell_type": "markdown",
   "id": "d687d3dd-455f-4c9f-82b5-d309cc14ff1a",
   "metadata": {},
   "source": [
    "### I.A. Chargement du .vcf"
   ]
  },
  {
   "cell_type": "markdown",
   "id": "9182815a-9aa0-4e28-a6fa-c7fb790361f3",
   "metadata": {},
   "source": [
    "On charge d'abord le fichier tabulé `.vcf` annoté avec ANNOVAR. Il a été mis dans le répertoire `/srv/data/pass-rs-ue3/brca1/` sur adenine. <mark>Cette commande peut prendre quelques secondes.</mark>"
   ]
  },
  {
   "cell_type": "code",
   "execution_count": null,
   "id": "75eea9b7-4640-42dd-a775-38cba093cb80",
   "metadata": {},
   "outputs": [],
   "source": [
    "##### cell 2\n",
    "vcf_annot <-  read.table('/srv/data/pass-rs-ue3/brca1/chr17_brca1.tsv',\n",
    "                         header = TRUE,\n",
    "                         sep = \"\\t\")\n",
    "str(vcf_annot)"
   ]
  },
  {
   "cell_type": "markdown",
   "id": "7b3019a3-b3c1-49ec-afe6-3d8bbdfd7bab",
   "metadata": {},
   "source": [
    "### I.B. Chargement des metadata"
   ]
  },
  {
   "cell_type": "markdown",
   "id": "00bfdc4e-8d0a-4631-8905-29a274e22a1b",
   "metadata": {},
   "source": [
    "On charge à présent un fichier de données supplémentaires (*metadata*) donnant des indications sur les sujets inclus dans le projet 1000 genomes, en particulier leur sexe et leur origine géographique. Ce fichier est dans le répertoire relatif au chromosome 17 sur adenine."
   ]
  },
  {
   "cell_type": "code",
   "execution_count": null,
   "id": "39259799-40fd-416e-b950-ae73854e12c7",
   "metadata": {},
   "outputs": [],
   "source": [
    "##### cell 3\n",
    "metadata <- read.table('/srv/data/pass-rs-ue3/hg38-chr17-1kgenome/20130606_g1k_3202_samples_ped_population.txt',\n",
    "                       sep=\" \",\n",
    "                       header = TRUE)\n",
    "str(metadata)"
   ]
  },
  {
   "cell_type": "markdown",
   "id": "ff8ca958-67bb-43b0-a2dd-f8a53d7fe6d3",
   "metadata": {},
   "source": [
    "=> Nous avons à présent deux objets chargés dans notre session R, comme l'indique le résultat de la commande `ls()`"
   ]
  },
  {
   "cell_type": "code",
   "execution_count": null,
   "id": "533f8eae-bca0-4cf2-a8dd-8ddd8e7713ff",
   "metadata": {},
   "outputs": [],
   "source": [
    "##### cell 4\n",
    "ls()"
   ]
  },
  {
   "cell_type": "markdown",
   "id": "8f141c5e-74ef-4f83-974b-d9b1289e71ca",
   "metadata": {
    "tags": []
   },
   "source": [
    "## II. Un premier regard sur les données de variants...\n",
    "---\n",
    "\n",
    "\n",
    "### II.A. Dimensions du fichier .vcf annoté\n",
    "\n",
    "Chaque ligne représente un SNV (*Single Nucleotide Variant*) et les sujets font partie des variables mises en colonnes."
   ]
  },
  {
   "cell_type": "code",
   "execution_count": null,
   "id": "6fcaaf56-8a09-4817-b416-635d46d99e9d",
   "metadata": {},
   "outputs": [],
   "source": [
    "##### cell 5\n",
    "dim(vcf_annot)\n",
    "head(vcf_annot)"
   ]
  },
  {
   "cell_type": "markdown",
   "id": "7e57c77d-7bc5-4ac6-be0b-3cb60c493f71",
   "metadata": {
    "tags": []
   },
   "source": [
    "Compte tenu des dimensions de `vcf_annot`, dans un notebook jupyter, l'affichage de toutes les colonnes est en partie masqué lorsque vous utilisez la fonction `head()` ou `str()`. Vous pouvez aussi afficher les noms des colonnes avec la fonction `names()`. Là encore l'affichage sera réduit dans un notebook Jupyter mais vous pouvez lire plus de colonnes."
   ]
  },
  {
   "cell_type": "code",
   "execution_count": null,
   "id": "6dc7a5b0-f9a5-42c5-ac8b-2dd710f18a36",
   "metadata": {},
   "outputs": [],
   "source": [
    "##### cell 6\n",
    "names(vcf_annot)"
   ]
  },
  {
   "cell_type": "markdown",
   "id": "b2dff54c-1cba-41e8-8378-e4de6378e48b",
   "metadata": {},
   "source": [
    "<div class=\"alert alert-warning\"> \n",
    "    <p>\n",
    "        <b>Question 1)</b> A propos de <code>vcf_annot</code> :<br>\n",
    "           &emsp; Le dataset contient les informations de 2697 SNVs ? \n",
    "            <br>\n",
    "           &emsp; Le dataset contient les informations de 4918 sujets ?\n",
    "            <br>\n",
    "           &emsp; Le dataset contient les informations de 4918 SNVs ? \n",
    "            <br>\n",
    "           &emsp; Le dataset contient les informations de 2697 sujets ?\n",
    "            <br>\n",
    "           &emsp; Le dataset contient les informations de moins de 2697 sujets ?\n",
    "    </p>\n",
    "</div>"
   ]
  },
  {
   "cell_type": "markdown",
   "id": "974eb25c-55b0-4b57-8f3c-17774cf5fa7c",
   "metadata": {},
   "source": [
    "### II.B. Gènes présents dans le fichier .vcf annoté"
   ]
  },
  {
   "cell_type": "markdown",
   "id": "143201c2-1c88-4f26-ae6c-d5e0d204757b",
   "metadata": {},
   "source": [
    "Les colonnes d'annotations relatives aux gènes sont les suivantes:"
   ]
  },
  {
   "cell_type": "code",
   "execution_count": null,
   "id": "3c867a65-3f2a-4d94-9649-a94dadebaf43",
   "metadata": {},
   "outputs": [],
   "source": [
    "##### cell 7\n",
    "gene_columns <- grep(\"Gene\", names(vcf_annot))\n",
    "names(vcf_annot)[gene_columns]"
   ]
  },
  {
   "cell_type": "markdown",
   "id": "f7442c93-2f54-4955-acea-b444178b7386",
   "metadata": {},
   "source": [
    "=> Il existe plusieurs versions d'annotations des gènes sur le génome (positions des gènes).  Dans le fichier `.vcf` annoté, les colonnes dont le nom se termine par `.refGene` sont celles de l'annotation [RefSeq](https://www.ncbi.nlm.nih.gov/refseq/) du génome, tandis que les colonnes se terminant par `.ensGene` sont celles de l'annotation [ENSEMBL](https://www.ensembl.org/index.html) du génome. Le symbole du gène est disponible dans les colonnes `Gene.refGene` ou `Gene.ensGene`. Pour la suite de ce micro-projet, nous utiliserons exclusivement les annotations de ***RefSeq***.\n",
    "\n",
    "Nous pouvons lister toutes les co-occurences uniques de noms de gènes dans notre fichier de variants avec la fonction `unique()` ou la fonction `table()` qui permet en plus de compter le nombre d'occurences par gène."
   ]
  },
  {
   "cell_type": "code",
   "execution_count": null,
   "id": "6c7bc698-afbc-46da-9a46-efab8cb0b574",
   "metadata": {},
   "outputs": [],
   "source": [
    "##### cell 8\n",
    "unique(vcf_annot$Gene.refGene)\n",
    "table(vcf_annot$Gene.refGene, useNA = \"always\")"
   ]
  },
  {
   "cell_type": "markdown",
   "id": "3528418b-428f-4f21-bd14-d09d3822ef54",
   "metadata": {},
   "source": [
    "### II.C. Création d'un sous-jeu de données pour le gène *BRCA1*"
   ]
  },
  {
   "cell_type": "markdown",
   "id": "e1c853eb-3e1e-4310-aaf4-d9a135da3641",
   "metadata": {},
   "source": [
    "Par souci de simplicité pour ce microprojet, nous nous focalisons sur les variants pour lesquels le gène annoté est exclusivement *BRCA1*.\n",
    "\n",
    "Nous réalisons donc un sous-jeu de données pour ce gène avec la fonction `subset()`."
   ]
  },
  {
   "cell_type": "code",
   "execution_count": null,
   "id": "97c22ab4-7dd5-4ed9-802f-5269d9abd4c5",
   "metadata": {},
   "outputs": [],
   "source": [
    "##### cell 9\n",
    "\n",
    "# Subsetting to keep BRCA1 only:\n",
    "brca1_vcf <- subset(vcf_annot, Gene.refGene == 'BRCA1')\n",
    "dim(brca1_vcf)"
   ]
  },
  {
   "cell_type": "markdown",
   "id": "8a7ff8c1-1527-4ab1-8ce0-5d40373f78a4",
   "metadata": {},
   "source": [
    "<div class=\"alert alert-warning\"> \n",
    "    <b>Question 2) :</b>\n",
    "    Le dataset ne contient-il désormais que des SNP présents dans <i>BRCA1</i> (vous pouvez vous aider de la commande <code>table()</code> ou d'une autre commande de votre choix).\n",
    "</div>"
   ]
  },
  {
   "cell_type": "markdown",
   "id": "34b61848-f251-4357-b686-f55b6e21d6f5",
   "metadata": {},
   "source": [
    "<div class=\"alert alert-warning\"> \n",
    "    <b>Question 3) :</b>\n",
    "    Quelle commande avez-vous utilisé pour vous assurer que le dataframe `brca1_vcf` ne contenait que des SNP présents dans <i>BRCA1</i> ? (plusieurs commandes et écritures sont possibles, entrez la commande exacte que vous avez éxécutée).\n",
    "</div>"
   ]
  },
  {
   "cell_type": "code",
   "execution_count": null,
   "id": "373b00a9-4145-4b93-a67c-327bca67c40f",
   "metadata": {},
   "outputs": [],
   "source": [
    "##### cell 10\n",
    "\n",
    "# Votre commande:\n"
   ]
  },
  {
   "cell_type": "markdown",
   "id": "5fa7ec93-40b5-403a-9f70-6bed40cdc361",
   "metadata": {},
   "source": [
    "### II.D. Distribution des variants le long du gène *BRCA1*\n",
    "\n",
    "Nous explorons à présent les données avec différentes représentations graphiques."
   ]
  },
  {
   "cell_type": "code",
   "execution_count": null,
   "id": "d0216349-5055-4904-bbfa-634c9bf22e4e",
   "metadata": {},
   "outputs": [],
   "source": [
    "##### cell 11\n",
    "\n",
    "# SNP distribution on BRCA1:\n",
    "snp_density <- density(brca1_vcf$Start,\n",
    "                       adjust = 0.8)\n",
    "\n",
    "# plot the snp density\n",
    "plot(x = snp_density,\n",
    "     frame = FALSE,\n",
    "     main = \"SNP density across BRCA1\")\n",
    "\n",
    "# secondary fonction to color the area under the curve\n",
    "polygon(snp_density,\n",
    "        col = \"steelblue\") "
   ]
  },
  {
   "cell_type": "code",
   "execution_count": null,
   "id": "148cbd86-fabd-442c-9f10-063f139b6b71",
   "metadata": {},
   "outputs": [],
   "source": [
    "##### cell 12\n",
    "snp_density <- density(brca1_vcf$Start,\n",
    "                       adjust = 0.2)\n",
    "\n",
    "plot(x = snp_density,\n",
    "     frame = FALSE,\n",
    "     main = \"SNP density across BRCA1\")\n",
    "\n",
    "polygon(snp_density,\n",
    "        col = \"steelblue\")"
   ]
  },
  {
   "cell_type": "code",
   "execution_count": null,
   "id": "ca9c516d-3ae6-43e5-afd0-acd9f0118035",
   "metadata": {},
   "outputs": [],
   "source": [
    "##### cell 13\n",
    "hist(x = brca1_vcf$Start,\n",
    "     main = \"SNP density in BRCA1\",\n",
    "     breaks = 1e2,\n",
    "     col = \"steelblue\",\n",
    "     freq = FALSE,\n",
    "     xlab = \"SNV coordinates on chr17\")"
   ]
  },
  {
   "cell_type": "markdown",
   "id": "3a28bb0b-ff2f-46de-9aba-a9cf0a212a79",
   "metadata": {},
   "source": [
    "<div class=\"alert alert-warning\"> \n",
    "    <b>Question 4) :</b>\n",
    "        <br>\n",
    "        &emsp;Ces plots représentent la densité en SNP le long du gène <i>BRCA1</i>. \n",
    "        <br>\n",
    "        &emsp;Laquelle de ces représentations choisiriez-vous et pourquoi (justifiez en une brève phrase) ?\n",
    "</div>"
   ]
  },
  {
   "cell_type": "markdown",
   "id": "64e9f1a4-d15f-4709-9a6a-9dd0b3d0d3dd",
   "metadata": {},
   "source": [
    "## III. Homo et hétéro-zygotie\n",
    "---"
   ]
  },
  {
   "cell_type": "markdown",
   "id": "6cb8b38c-e818-485d-a32d-0f18755f6803",
   "metadata": {},
   "source": [
    "### III.A. Génération d'une variable discrète *genotype* { 0, 1, 2 } indiquant le nombre de copies de l'allèle alternatif à l'allèle de référence sur la séquence du génome pour chaque individu. "
   ]
  },
  {
   "cell_type": "markdown",
   "id": "2c945e4c-c9e2-48e1-b88d-b9f1bfacf2d0",
   "metadata": {},
   "source": [
    "Dans le fichier `.vcf` les 149 1ères colonnes fournissent des annotations sur les SNVs, les suivantes donnent les génotypes phasés de chaque sujet du projet 1000 genomes.\n",
    "Nous allons extraire les colonnes correspondantes dans 2 nouveaux objets R.\n",
    "\n",
    "- **un dataframe pour les informations sur les variants :**"
   ]
  },
  {
   "cell_type": "code",
   "execution_count": null,
   "id": "3c9d9a28-744e-4ab8-8001-0f6a2786bd73",
   "metadata": {},
   "outputs": [],
   "source": [
    "##### cell 14\n",
    "\n",
    "# separating SNP and genotypes\n",
    "brca1_snps <-  brca1_vcf[ , 1:149 ]"
   ]
  },
  {
   "cell_type": "markdown",
   "id": "2f879a1d-723a-40e8-a2f1-ddfafce22d20",
   "metadata": {},
   "source": [
    "- **une matrice pour les informations sur les génotypes** avec une écriture simplifiée :\n",
    "\n",
    "On opère en trois temps :\n",
    "\n",
    "1. d'abord en extrayant les colonnes d'intérêt dans un sous-dataframe."
   ]
  },
  {
   "cell_type": "code",
   "execution_count": null,
   "id": "1e7e08de-5beb-40cb-9535-9fdab66212e8",
   "metadata": {},
   "outputs": [],
   "source": [
    "##### cell 15\n",
    "\n",
    "# separating SNP and genotypes\n",
    "brca1_samples <- brca1_vcf[ , 150:ncol(brca1_vcf) ]"
   ]
  },
  {
   "cell_type": "markdown",
   "id": "9b17bb12-13b6-4880-84ab-536f69436969",
   "metadata": {},
   "source": [
    "2. Puis en créant une fonction pour automatiquement remplacer les génotypes phasés par le nombre de copies de l'allèle alternatif."
   ]
  },
  {
   "cell_type": "code",
   "execution_count": null,
   "id": "b5af2b78-3acd-4139-99a7-489096a513c4",
   "metadata": {},
   "outputs": [],
   "source": [
    "##### cell 16\n",
    "\n",
    "# This function transforms the 0|0 , 1|0, 0|1 and 1|1 into a more numerical variable\n",
    "# 0 is 0|0\n",
    "# 1 is 0|1 or 1|0\n",
    "# 2 is 1|1 \n",
    "\n",
    "simplify_genotype <- function(genotype) {\n",
    "    genotype <- unlist(genotype)\n",
    "    out <- vector(mode = 'numeric', length = length(genotype))\n",
    "    out[genotype == '0|0'] <- 0\n",
    "    out[genotype == '1|0'] <- 1\n",
    "    out[genotype == '0|1'] <- 1\n",
    "    out[genotype == '1|1'] <- 2\n",
    "    # out <- factor(x = out, levels = c(0, 1, 2), labels = c(0, 1, 2))\n",
    "    return(out)\n",
    "}"
   ]
  },
  {
   "cell_type": "markdown",
   "id": "5a147a91-85c0-4c8d-97ed-eae59aca0e00",
   "metadata": {},
   "source": [
    "3. Et enfin en appliquant cette fonction sur le sous-dataframe et en obtenant une matrice de valeurs 0, 1 ou 2."
   ]
  },
  {
   "cell_type": "code",
   "execution_count": null,
   "id": "57caf5b9-edd2-446d-b0f4-a22d6feb7c42",
   "metadata": {},
   "outputs": [],
   "source": [
    "##### cell 17\n",
    "\n",
    "# apply the transformation\n",
    "brca1_genotypes <-  sapply(brca1_samples,\n",
    "                            simplify_genotype,\n",
    "                            simplify = TRUE)\n",
    "str(brca1_genotypes)\n",
    "brca1_genotypes[1:20, 1:20] # on affiche ici les 20 premiers SNVs pour les 20 premiers sujets"
   ]
  },
  {
   "cell_type": "markdown",
   "id": "7cea0dda-f224-468c-9567-7ac7e966e055",
   "metadata": {},
   "source": [
    "### III.B. Comptes et plots"
   ]
  },
  {
   "cell_type": "markdown",
   "id": "c1155fa5-f64c-46c3-ab87-4c7bbf4f04f2",
   "metadata": {},
   "source": [
    "- Nous allons compter les **effectifs et proportion de chaque type de génotype sur l'ensemble des sujets et des variants** et faire une réprésentation graphique *<mark>(la cellule suivante prend quelques secondes à s'executer)</mark>*:"
   ]
  },
  {
   "cell_type": "code",
   "execution_count": null,
   "id": "0c1befbc-28ea-4e83-ab8c-47ed926ecd0f",
   "metadata": {},
   "outputs": [],
   "source": [
    "##### cell 18\n",
    "table(brca1_genotypes)\n",
    "proportions(as.matrix(table(brca1_genotypes)), 2)\n",
    "barplot(proportions (as.matrix(table(brca1_genotypes)), 2),\n",
    "    beside = TRUE, legend = 0:2)"
   ]
  },
  {
   "cell_type": "markdown",
   "id": "01610325-835b-4308-a6bd-dd63a29353f2",
   "metadata": {},
   "source": [
    "Nous voyons que la majorité des génotypes sont homozygotes pour l'allèle de référence. Mais qu'en est-il pour chaque sujet et chaque SNV? "
   ]
  },
  {
   "cell_type": "markdown",
   "id": "3b37ee78-1647-4bbc-998c-2552f6c65258",
   "metadata": {},
   "source": [
    "- Nous allons à présent compter les **effectifs de chaque type de génotype par sujet**:\n",
    "\n",
    "La fonction `apply()` avec l'argument `MARGIN = 2` permet d'appliquer une même fonction sur chaque ligne de l'objet X, ici générant une variable pour chaque génotype, contenant le comptes de variants par sujet."
   ]
  },
  {
   "cell_type": "code",
   "execution_count": null,
   "id": "da820645-fd42-4eab-9f53-6757188e5452",
   "metadata": {},
   "outputs": [],
   "source": [
    "##### cell 19\n",
    "\n",
    "SNV_count_homozy_REF <- apply( X = brca1_genotypes,\n",
    "                    MARGIN = 2,\n",
    "                    FUN = function(x) sum(x == 0))\n",
    "                              \n",
    "SNV_count_heterozy <- apply(X = brca1_genotypes,\n",
    "                  MARGIN = 2,\n",
    "                  FUN = function(x) sum(x == 1))\n",
    "                  \n",
    "SNV_count_homozy_ALT <- apply(X = brca1_genotypes,\n",
    "                    MARGIN = 2,\n",
    "                    FUN = function(x) sum(x == 2))                    "
   ]
  },
  {
   "cell_type": "markdown",
   "id": "0ef41e58-7566-4fdd-a002-a6cc61815aab",
   "metadata": {},
   "source": [
    "Nous regroupons ces résultats dans un nouveau dataframe **SNV_count_zygo_df**, avec chaque type de génotype dans une colonne comme une variable quantitative séparée. Chaque ligne correspond ici à un sujet."
   ]
  },
  {
   "cell_type": "code",
   "execution_count": null,
   "id": "7c634ce5-4a86-47b7-860b-346078ed277a",
   "metadata": {},
   "outputs": [],
   "source": [
    "##### cell 20\n",
    "SNV_count_zygo_df <- data.frame(SNV_count_homozy_REF, SNV_count_heterozy, SNV_count_homozy_ALT)\n",
    "str(SNV_count_zygo_df)\n",
    "head(SNV_count_zygo_df)"
   ]
  },
  {
   "cell_type": "markdown",
   "id": "d86542f0-0c2a-4977-b668-3e14c754d1bd",
   "metadata": {},
   "source": [
    "Dans le dataframe ci-dessus, chaque ligne donne le nombre de SNPs par catégorie de génotype pour  l'individu de la ligne. A noter que pour chaque ligne, la somme des comptes (calculée avec la fonction `rowSums()`) donne le nombre de variants par individu, et que cette somme est la même pour chaque ligne comme l'indique le résumé ci-dessous."
   ]
  },
  {
   "cell_type": "code",
   "execution_count": null,
   "id": "62fbaa63-c2d2-43f1-99c9-233b41707f4f",
   "metadata": {},
   "outputs": [],
   "source": [
    "##### cell 21\n",
    "summary(rowSums(SNV_count_zygo_df))"
   ]
  },
  {
   "cell_type": "markdown",
   "id": "8eaab20e-4b94-424c-aae9-0c12a42a469b",
   "metadata": {},
   "source": [
    "Dans le dataframe `SNV_count_zygo_df`, chaque colonne est une variable discrète. Ces 3 variables ne sont pas indépendantes car leur somme correspond au nombre de variants.\n",
    "\n",
    "On peut regarder les valeurs de dispersion :"
   ]
  },
  {
   "cell_type": "code",
   "execution_count": null,
   "id": "30b1dda0-d702-4cd0-8bbf-357d4b9b484a",
   "metadata": {},
   "outputs": [],
   "source": [
    "##### cell 22\n",
    "summary(SNV_count_zygo_df)"
   ]
  },
  {
   "cell_type": "markdown",
   "id": "1aaff310-fee8-456a-b1fb-ed3aec98e48a",
   "metadata": {},
   "source": [
    "et représenter leur distribution avec un barplot, par exemple ci-dessous avec la variable sur le compte de SNVs homozygotes :"
   ]
  },
  {
   "cell_type": "code",
   "execution_count": null,
   "id": "cbaec117-e3a3-43d2-8404-f8b3d735cefe",
   "metadata": {},
   "outputs": [],
   "source": [
    "##### cell 23\n",
    "barplot(table(SNV_count_homozy_REF))"
   ]
  },
  {
   "cell_type": "markdown",
   "id": "c050f23f-2c4a-419d-98d6-f90009a7f725",
   "metadata": {},
   "source": [
    "Compte-tenu du nombre élevé de valeurs possibles pour chacune de ces variables {0, 1, ..., 1969}, on peut assimiler ces variables discrètes à des variables quantitatives continues et explorer aussi leur distribution avec un histogramme (en jouant sur le nombre d'intervalles) ou avec un boxplot par exemple."
   ]
  },
  {
   "cell_type": "code",
   "execution_count": null,
   "id": "6d25c3f9-e2bb-4ac1-9ce7-0b5bdff15b34",
   "metadata": {},
   "outputs": [],
   "source": [
    "##### cell 24\n",
    "hist(SNV_count_homozy_REF,\n",
    "     ylab = \"nombre de sujets\",\n",
    "     freq = TRUE,\n",
    "     breaks = 1000 )\n",
    "\n",
    "hist(SNV_count_homozy_REF,\n",
    "     ylab = \"nombre de sujets\",\n",
    "     freq = TRUE,\n",
    "     breaks = 100 ) "
   ]
  },
  {
   "cell_type": "markdown",
   "id": "17e7bff9-3f05-4da2-a3a3-c378f0544cdb",
   "metadata": {},
   "source": [
    "On représente maintenant les 3 histogrammes côte à côte dans un même graphique."
   ]
  },
  {
   "cell_type": "code",
   "execution_count": null,
   "id": "1a6f299b-75a9-4566-b2e0-8742a8a6682b",
   "metadata": {},
   "outputs": [],
   "source": [
    "##### cell 25\n",
    "options(repr.plot.width = 20, repr.plot.height = 10)\n",
    "opar <- par()\n",
    "par(mfrow = c(1, 3))\n",
    "hist(SNV_count_homozy_REF,\n",
    "     ylab = \"nombre de sujets\",\n",
    "     freq = TRUE,\n",
    "     breaks = 100,\n",
    "     main = \"Distribution des comptes de SNVs \\n homoyzgotes pour l'allèle de référence\",\n",
    "     cex.lab = 1.5,\n",
    "     cex.main = 2)\n",
    "hist(SNV_count_homozy_ALT,\n",
    "     ylab = \"nombre de sujets\",\n",
    "     freq = TRUE,\n",
    "     breaks = 100, \n",
    "     main = \"Distribution des comptes de SNVs \\n hétérozygotes\",\n",
    "     cex.lab = 1.5,\n",
    "     cex.main = 2)\n",
    "hist(SNV_count_heterozy,\n",
    "     ylab = \"nombre de sujets\",\n",
    "     freq = TRUE,\n",
    "     breaks = 100, \n",
    "     main = \"Distribution des comptes de SNVs \\n homoyzgotes pour l'allèle alternatif\",\n",
    "     cex.lab = 1.5,\n",
    "     cex.main = 2)\n",
    "suppressWarnings(par(opar))"
   ]
  },
  {
   "cell_type": "markdown",
   "id": "4738ac9b-1c91-4ea8-a0de-dd1ed302fa35",
   "metadata": {},
   "source": [
    "De même, on peut représenter les boxplots:"
   ]
  },
  {
   "cell_type": "code",
   "execution_count": null,
   "id": "ff962a8d-d50c-476e-b40c-3d3e3934a87b",
   "metadata": {},
   "outputs": [],
   "source": [
    "##### cell 26\n",
    "\n",
    "options(repr.plot.width = 20, repr.plot.height = 10)\n",
    "# On the same scale\n",
    "boxplot(SNV_count_zygo_df)\n",
    "\n",
    "# to each it's own\n",
    "opar <- par()\n",
    "par(mfrow = c(1, 3))\n",
    "boxplot(SNV_count_zygo_df$SNV_count_homozy_REF,\n",
    "        main = 'Homozygote REF SNV counts')\n",
    "\n",
    "boxplot(SNV_count_zygo_df$SNV_count_heterozy,\n",
    "        main = 'Heterozygote SNV counts')\n",
    "\n",
    "boxplot(SNV_count_zygo_df$SNV_count_homozy_ALT,\n",
    "        main = 'Homozygote ALT SNV counts')\n",
    "\n",
    "suppressWarnings(par(opar))"
   ]
  },
  {
   "cell_type": "markdown",
   "id": "8ef5b294-9b57-4e4d-b122-be30084d3028",
   "metadata": {},
   "source": [
    "Comme les 3 variables  ne sont pas indépendantes, on peut juste regarder la distribution des 2 dernières, donnant une indication plus claire du nombre moyen d'allèles alternatifs sur l'ensemble des sujets."
   ]
  },
  {
   "cell_type": "markdown",
   "id": "0ed38ce1-9e4e-422c-b6b4-17c699d4aba7",
   "metadata": {},
   "source": [
    "<div class=\"alert alert-warning\"> \n",
    "    <b>Question 5) </b>:\n",
    "    <br>\n",
    "    &emsp;Complétez la commande suivante pour faire apparaître le boxplot <b>sans</b> la catégorie <code>SNV_count_homozy_REF</code>. Sur moodle, indiquez ce qui remplace XXX (pas toute la commande). Plusieurs écritures sont possibles.\n",
    "</div>"
   ]
  },
  {
   "cell_type": "code",
   "execution_count": null,
   "id": "c2a860cc-fb0d-4d19-9a35-40f35f8afdd2",
   "metadata": {},
   "outputs": [],
   "source": [
    "##### cell 27\n",
    "\n",
    "# Without the homozy_ref, just heterozy and homozy_ALT\n",
    "boxplot(SNV_count_zygo_df$SNV_count_heterozy,\n",
    "        XXX,\n",
    "        names = c('Heterozygote', 'Homozygote ALT'))"
   ]
  },
  {
   "cell_type": "markdown",
   "id": "d485914a-c6ec-4b54-9295-96a809acb472",
   "metadata": {},
   "source": [
    "On voit qu'en moyenne, il y a environ 70 variants hétérozygotes et 30 variants homozygotes. En génétique des populations, un pourcentage élevé de variants homozygotes peut indiquer la présence de populations consanguines. La distribution bimodale des comptes de variants homozygotes peut aussi suggérer qu'il y a des différences de populations parmi les sujets."
   ]
  },
  {
   "cell_type": "markdown",
   "id": "e7d5ed38-c140-4c8a-96a3-1a3187c556db",
   "metadata": {},
   "source": [
    "- Nous allons à présent compter les **effectifs de chaque type de génotype pour l'ensemble des individus par SNV** :\n",
    "\n",
    "Cette fois-ci on applique la fonction `apply()` avec l'argument `MARGIN = 1` permettant d'appliquer une même fonction sur chaque colonne de l'objet X, ici générant une variable pour chaque génotype, contenant le comptes de sujets par SNV."
   ]
  },
  {
   "cell_type": "code",
   "execution_count": null,
   "id": "daa01f68-f31f-4286-9fbb-ee27079f3aa2",
   "metadata": {},
   "outputs": [],
   "source": [
    "##### cell 28\n",
    "\n",
    "# A quick peek at genotypes\n",
    "#Overall\n",
    "individual_count_homozy_REF <- apply( X = brca1_genotypes,\n",
    "                    MARGIN = 1,\n",
    "                    FUN = function(x) sum(x == 0)\n",
    "                                     )\n",
    "                                     \n",
    "individual_count_heterozy <- apply(X = brca1_genotypes,\n",
    "                  MARGIN = 1,\n",
    "                  FUN = function(x) sum(x == 1)\n",
    "                                   )\n",
    "                  \n",
    "individual_count_homozy_ALT <- apply(X = brca1_genotypes,\n",
    "                    MARGIN = 1,\n",
    "                    FUN = function(x) sum(x == 2)\n",
    "                                     )\n",
    "                    "
   ]
  },
  {
   "cell_type": "markdown",
   "id": "86b0bdfe-f901-479a-8a7e-75080ad2eb58",
   "metadata": {},
   "source": [
    "Nous regroupons ces résultats dans un nouveau dataframe **individual_count_zygo_df**, avec chaque type de génotype dans une colonne comme une variable quantitative séparée. Chaque ligne correspond ici à un SNV."
   ]
  },
  {
   "cell_type": "code",
   "execution_count": null,
   "id": "0963c5db-940b-4eb1-adb4-494c71afd556",
   "metadata": {},
   "outputs": [],
   "source": [
    "##### cell 29\n",
    "individual_count_zygo_df <- data.frame(individual_count_homozy_REF,\n",
    "                                       individual_count_heterozy,\n",
    "                                       individual_count_homozy_ALT)\n",
    "str(individual_count_zygo_df)\n",
    "head(individual_count_zygo_df)"
   ]
  },
  {
   "cell_type": "markdown",
   "id": "e73d750c-1ece-4002-86e9-424b28a18067",
   "metadata": {},
   "source": [
    "A noter que pour chaque ligne, la somme des comptes (calculée avec la fonction `rowSums()`) donne le nombre d'individus, et que cette somme est la même pour chaque ligne comme l'indique le résumé ci-dessous."
   ]
  },
  {
   "cell_type": "code",
   "execution_count": null,
   "id": "350d78db-059a-434d-8ab5-d9e135ccab56",
   "metadata": {},
   "outputs": [],
   "source": [
    "##### cell 30\n",
    "summary(rowSums(individual_count_zygo_df))"
   ]
  },
  {
   "cell_type": "markdown",
   "id": "9bd6bd79-6d0c-4010-854d-ef88c813622b",
   "metadata": {},
   "source": [
    "Dans le dataframe `individual_count_zygo_df`, chaque colonne est une variable discrète. Elles sont non indépendantes car leur somme correspond au nombre de variants. Compte-tenu du nombre élevé d'observations possibles, on peut assimiler là encore ces variables discrètes à des variables variables quantitatives continues et explorer leur distribution."
   ]
  },
  {
   "cell_type": "code",
   "execution_count": null,
   "id": "20000384-8512-40b7-a014-b9b268ecd899",
   "metadata": {
    "tags": []
   },
   "outputs": [],
   "source": [
    "##### cell 31\n",
    "summary(individual_count_zygo_df)\n",
    "\n",
    "options(repr.plot.width = 20, repr.plot.height = 10)\n",
    "opar <- par()\n",
    "par(mfrow = c(1, 3))\n",
    "hist(individual_count_zygo_df$individual_count_homozy_REF,\n",
    "     ylab = \"nombre de variants\",\n",
    "     freq = TRUE,\n",
    "     breaks = 100,\n",
    "     main = \"Distribution des comptes de sujets \\n homoyzgotes pour l'allèle de référence\",\n",
    "     cex.lab = 1.5,\n",
    "     cex.main = 2)\n",
    "hist(individual_count_zygo_df$individual_count_heterozy,\n",
    "     ylab = \"nombre de variants\",\n",
    "     freq = TRUE,\n",
    "     breaks = 100, \n",
    "     main = \"Distribution des comptes de sujets \\n hétérozygotes\",\n",
    "     cex.lab = 1.5,\n",
    "     cex.main = 2)\n",
    "hist(individual_count_zygo_df$individual_count_homozy_ALT,\n",
    "     ylab = \"nombre de variants\",\n",
    "     freq = TRUE,\n",
    "     breaks = 100, \n",
    "     main = \"Distribution des comptes de sujets \\n homoyzgotes pour l'allèle alternatif\",\n",
    "     cex.lab = 1.5,\n",
    "     cex.main = 2)\n",
    "suppressWarnings(par(opar))"
   ]
  },
  {
   "cell_type": "code",
   "execution_count": null,
   "id": "9d4cbac3-f37d-45e8-988c-8353ac106283",
   "metadata": {},
   "outputs": [],
   "source": [
    "##### cell 32\n",
    "\n",
    "# all types of genotypes\n",
    "boxplot(individual_count_zygo_df,\n",
    "        names = c('Homozyygote REF', 'Heterozygote', 'Homozygote ALT'),\n",
    "        outline = TRUE)\n",
    "\n",
    "# Without the homozy_ref, just heterozy and homozy_ALT, and without outliers\n",
    "boxplot(individual_count_zygo_df[,-1],\n",
    "        names = c('Heterozygote', 'Homozygote ALT'),\n",
    "        outline = FALSE)"
   ]
  },
  {
   "cell_type": "markdown",
   "id": "e5bd5f11-8c3a-4c1e-8ce5-1c66e6990a29",
   "metadata": {},
   "source": [
    "=> On observe globalement un faible nombre de variants présentant un allèle alternatif à l'état homozygote ou hétérozygote. Il existe cependant quelques valeurs aberrantes pour quelques variants potentiellement interessants. En génétique des populations, le **taux d'hétérozygotie** est un indicateur de l'informativité ou du degré de polymorphisme des variants. Il serait interessant de comparer ces catégories de variants en fonction de la fréquence de leur allèle mineur."
   ]
  },
  {
   "cell_type": "markdown",
   "id": "08ad9145-271a-446a-a40a-fa33ecaecf40",
   "metadata": {},
   "source": [
    "## IV. Pathogénicité des variants\n",
    "---"
   ]
  },
  {
   "cell_type": "markdown",
   "id": "dccb0417-93f1-4f0f-87c0-127b235b90d0",
   "metadata": {},
   "source": [
    "### IV.A. Scores predictifs\n",
    "\n",
    "Nous allons ici observer et comparer plusieurs scores prédictifs qui se proposent d'évaluer la pathogénicité d'un variant.\n",
    "<br>\n",
    "Nous avons choisi les scores suivants: \n",
    "- DANN (https://www.ncbi.nlm.nih.gov/pmc/articles/PMC4341060/)\n",
    "- REVEL (https://www.ncbi.nlm.nih.gov/pmc/articles/PMC5065685/)\n",
    "- VEST_4 (https://www.ncbi.nlm.nih.gov/pmc/articles/PMC3665549/)\n",
    "- CADD (https://cadd.gs.washington.edu/) qui est à ce jour la référence"
   ]
  },
  {
   "cell_type": "markdown",
   "id": "6a374cc6-495b-49d5-82cb-ecf778602f4e",
   "metadata": {},
   "source": [
    "Afin de comparer ces scores, qui sont des variables quantitatives continues, nous les représentons 2 à 2 sous forme d'un nuage de points et testons leur corrélation 2 à 2."
   ]
  },
  {
   "cell_type": "code",
   "execution_count": null,
   "id": "8c9addd1-de55-47b6-b16b-43b20c359af7",
   "metadata": {},
   "outputs": [],
   "source": [
    "##### cell 33\n",
    "\n",
    "options(repr.plot.width = 20, repr.plot.height = 12)\n",
    "opar <- par()\n",
    "par(mfrow = c(2, 3))\n",
    "\n",
    "# Correlation\n",
    "# between pathogeneicity scores:\n",
    "plot(x = brca1_snps$DANN_score,\n",
    "     y = brca1_snps$REVEL_score,\n",
    "     xlab = \"DANN\",\n",
    "     ylab = \"REVEL\",\n",
    "     cex.lab = 1.5)\n",
    "abline(lm(formula = REVEL_score ~ DANN_score, data = brca1_snps),\n",
    "       col = 'tomato3')\n",
    "\n",
    "plot(x = brca1_snps$DANN_score,\n",
    "     y = brca1_snps$CADD_phred,\n",
    "     xlab = \"DANN\",\n",
    "     ylab = \"CADD\",\n",
    "     cex.lab = 1.5)\n",
    "abline(lm(formula = DANN_score ~ CADD_phred, data = brca1_snps), \n",
    "       col = 'tomato3')\n",
    "\n",
    "plot(x = brca1_snps$DANN_score,\n",
    "     y = brca1_snps$VEST4_score,\n",
    "     xlab = \"DANN\",\n",
    "     ylab = \"VEST_4\",\n",
    "     cex.lab = 1.5)\n",
    "abline(lm(formula = DANN_score ~ VEST4_score, data = brca1_snps),\n",
    "       col = 'tomato3')\n",
    "\n",
    "plot(x = brca1_snps$REVEL_score,\n",
    "     y = brca1_snps$CADD_phred,\n",
    "     xlab = \"REVEL\",\n",
    "     ylab = \"CADD\",\n",
    "     cex.lab = 1.5)\n",
    "abline(lm(formula = CADD_phred ~ REVEL_score, data = brca1_snps),\n",
    "       col = 'tomato3')\n",
    "\n",
    "plot(x = brca1_snps$REVEL_score,\n",
    "     y = brca1_snps$VEST4_score,\n",
    "     xlab = \"REVEL\",\n",
    "     ylab = \"VEST_4\",\n",
    "     cex.lab = 1.5)\n",
    "abline(lm(formula = VEST4_score ~ REVEL_score, data = brca1_snps), \n",
    "       col = 'tomato3')\n",
    "\n",
    "plot(x = brca1_snps$CADD_phred,\n",
    "     y = brca1_snps$VEST4_score,\n",
    "     xlab = \"REVEL\",\n",
    "     ylab = \"VEST_4\",\n",
    "     cex.lab = 1.5)\n",
    "abline(lm(formula = VEST4_score ~ REVEL_score, data = brca1_snps),\n",
    "       col = 'tomato3')\n",
    "\n",
    "\n",
    "suppressWarnings(par(opar))"
   ]
  },
  {
   "cell_type": "code",
   "execution_count": null,
   "id": "5b8cf03d-66eb-420f-904f-e3aa62faab17",
   "metadata": {},
   "outputs": [],
   "source": [
    "##### cell 34\n",
    "\n",
    "# Statistical testing:\n",
    "\n",
    "cat(\"-----REVEL and DANN:\\n\")\n",
    "cor.test(brca1_snps$REVEL_score, brca1_snps$DANN_score, \n",
    "         alternative = 'two.sided', \n",
    "         method = 'pearson', \n",
    "         use = 'complete.obs') # complete to eliminate the NA's\n",
    "\n",
    "cat(\"\\n-----CADD and DANN:\\n\")\n",
    "cor.test(brca1_snps$CADD_phred, brca1_snps$DANN_score, \n",
    "         alternative = 'two.sided', \n",
    "         method = 'pearson', \n",
    "         use = 'complete.obs') # complete to eliminate the NA's\n",
    "\n",
    "cat(\"\\n-----VEST4 and DANN:\\n\")\n",
    "cor.test(brca1_snps$VEST4_score, brca1_snps$DANN, \n",
    "         alternative = 'two.sided', \n",
    "         method = 'pearson', \n",
    "         use = 'complete.obs') # complete to eliminate the NA's\n",
    "\n",
    "cat(\"-----CADD and REVEL:\\n\")\n",
    "cor.test(brca1_snps$CADD_phred, brca1_snps$REVEL_score, \n",
    "         alternative = 'two.sided', \n",
    "         method = 'pearson', \n",
    "         use = 'complete.obs') # complete to eliminate the NA's\n",
    "\n",
    "cat(\"\\n-----VEST4 and REVEL:\\n\")\n",
    "cor.test(brca1_snps$VEST4_score, brca1_snps$REVEL_score, \n",
    "         alternative = 'two.sided', \n",
    "         method = 'pearson', \n",
    "         use = 'complete.obs') # complete to eliminate the NA's\n",
    "\n",
    "cat(\"\\n-----VEST4 and CADD:\\n\")\n",
    "cor.test(brca1_snps$VEST4_score, brca1_snps$CADD_phred, \n",
    "         alternative = 'two.sided', \n",
    "         method = 'pearson', \n",
    "         use = 'complete.obs') # complete to eliminate the NA's"
   ]
  },
  {
   "cell_type": "markdown",
   "id": "73313378-e9d2-4ae1-82fb-26ac6bc6b027",
   "metadata": {},
   "source": [
    "On pouvait aussi générer directement la matrice des coefficients de corrélation 2 à 2 et les valeurs p, ainsi que des représentations graphiques avec les fonctions suivantes."
   ]
  },
  {
   "cell_type": "code",
   "execution_count": null,
   "id": "4b590729-710c-4c75-ac57-cb3192e00d76",
   "metadata": {},
   "outputs": [],
   "source": [
    "##### cell 35\n",
    "\n",
    "# generate pairwise correlation coeffifients of a matrix\n",
    "cor(brca1_snps[,c(\"REVEL_score\", \"DANN_score\", \"CADD_phred\", \"VEST4_score\")],\n",
    "    method = 'pearson',\n",
    "   use = 'complete.obs')\n",
    "\n",
    "# draw a heatmap of the pairwise correlation matrix\n",
    "heatmap(cor(brca1_snps[,c(\"REVEL_score\", \"DANN_score\", \"CADD_phred\", \"VEST4_score\")],\n",
    "    method = 'pearson',\n",
    "   use = 'complete.obs'))\n",
    "\n",
    "# do all in one: matrix of correlation coefficients, matrix of pvalues, correlograme\n",
    "source(\"http://www.sthda.com/upload/rquery_cormat.r\")\n",
    "options(width = 200)\n",
    "rquery.cormat(brca1_snps[,c(\"REVEL_score\", \"DANN_score\", \"CADD_phred\", \"VEST4_score\")])\n",
    "\n",
    "\n"
   ]
  },
  {
   "cell_type": "markdown",
   "id": "e44f5f99-fb75-4eb7-ad66-a540417154e1",
   "metadata": {},
   "source": [
    "<div class=\"alert alert-warning\"> \n",
    "    <b>Question 6) </b>:\n",
    "    <br>\n",
    "    &emsp;Commentez brièvement (un court paragraphe) les résultats des <i>cells</i> 33 à 35 et expliquez si ils représentent selon vous un problème.\n",
    "</div>"
   ]
  },
  {
   "cell_type": "markdown",
   "id": "acbe598f-9af3-410d-a98a-9f3ab3b4af41",
   "metadata": {},
   "source": [
    "### IV.B. Introns, exons et pathogénicité\n",
    "\n",
    "Les analyses suivantes visent à déterminer s'il existe une différence de pathogénicité pour les variants de _BRCA1_ selon leur localisation dans les exons ou dans les introns."
   ]
  },
  {
   "cell_type": "markdown",
   "id": "99012312-b041-491c-9d62-afff3b76d48e",
   "metadata": {},
   "source": [
    "- distribution des SNVs selon leur position dans le gène:"
   ]
  },
  {
   "cell_type": "code",
   "execution_count": null,
   "id": "2edc398d-122d-4c5c-85a9-76eb167747dd",
   "metadata": {},
   "outputs": [],
   "source": [
    "##### cell 36\n",
    "\n",
    "# Subsetting and comparing exonic and intronic patho scores\n",
    "table(brca1_snps$Func.refGene, useNA = \"always\")\n",
    "barplot(proportions (as.matrix(table(brca1_snps$Func.refGene)), 2),\n",
    "    beside = TRUE,\n",
    "        legend = sort(unique(brca1_snps$Func.refGene)))"
   ]
  },
  {
   "cell_type": "markdown",
   "id": "5eb6f356-7aa6-41be-a5d7-789259b96878",
   "metadata": {},
   "source": [
    "- étude de la pathogénicité selon le score DANN selon la position exonique ou intronique:"
   ]
  },
  {
   "cell_type": "markdown",
   "id": "2ec4c704-be26-458c-8ada-ddbf0734711f",
   "metadata": {},
   "source": [
    "<div class=\"alert alert-warning\"> \n",
    "    <b>Question 7) </b>:\n",
    "    <br>\n",
    "    &emsp;Complétez la <i>cell</i> 37 pour connaitre le nombre de données manquantes pour le score CADD  dans la catégorie <code>is_intronic</code>.\n",
    "</div>"
   ]
  },
  {
   "cell_type": "code",
   "execution_count": null,
   "id": "1eb0cc72-1b08-4da1-a6a8-fe29dc2b5511",
   "metadata": {},
   "outputs": [],
   "source": [
    "##### cell 37\n",
    "\n",
    "# the next two commands return TRUE or FALSE depending on the result of the test\n",
    "is_exonic <- brca1_snps$Func.refGene == 'exonic'\n",
    "is_intronic <- brca1_snps$Func.refGene == 'intronic'\n",
    "\n",
    "# we can use is.na() to count the TRUEs and sum them\n",
    "sum(is.na(brca1_snps$CADD_phred[which(is_exonic)]))\n",
    "sum(is.na(XXX))"
   ]
  },
  {
   "cell_type": "code",
   "execution_count": null,
   "id": "7ce0d4b6-1328-4e8b-a997-2314cd0f7c25",
   "metadata": {},
   "outputs": [],
   "source": [
    "##### cell 38\n",
    "\n",
    "# since there are no NAs in Func.refGene (cf. cell 36), we can remove which() in subsetting for this variable in the next commands\n",
    "\n",
    "summary(brca1_snps$CADD_phred[is_exonic], na.rm = TRUE)\n",
    "summary(brca1_snps$CADD_phred[is_intronic], na.rm = TRUE)\n",
    "\n",
    "options(repr.plot.width = 8, repr.plot.height = 8)\n",
    "boxplot(brca1_snps$CADD_phred[is_exonic], brca1_snps$CADD_phred[is_intronic], \n",
    "        names = c('exonic', 'intronic'), ylab = 'CADD')"
   ]
  },
  {
   "cell_type": "markdown",
   "id": "562dd9bd-0926-40ae-85ca-0ba899b551ee",
   "metadata": {},
   "source": [
    "<div class=\"alert alert-warning\"> \n",
    "    <b>Question 8) </b>:\n",
    "    <br>\n",
    "         &emsp;Pouvez-vous effectuer un test statistique afin de savoir si la différence de pathogénicité prédite par le score CADD selon la localistion exon | intron d'un SNP est significative ?\n",
    "</div>"
   ]
  },
  {
   "cell_type": "markdown",
   "id": "7144398d-e025-4234-bc7e-9050abe76ed9",
   "metadata": {},
   "source": [
    "## V. Etude des génotypes selon les metadata (géographie et sexe)\n",
    "---"
   ]
  },
  {
   "cell_type": "markdown",
   "id": "bcbe1cb4-bed2-49e3-b939-dac3230391b6",
   "metadata": {},
   "source": [
    "### V.A. Préparation des données\n",
    "\n",
    "- Nous nous focalisons sur les **sujets présents à la fois dans `metadata` et dans `brca1_genotypes`**.\n",
    "\n",
    "Le nombre de sujets en commun est donné par la commande suivante:"
   ]
  },
  {
   "cell_type": "code",
   "execution_count": null,
   "id": "d49cc495-1ade-4649-8671-6d355428c631",
   "metadata": {},
   "outputs": [],
   "source": [
    "##### cell 39\n",
    "length(intersect(metadata$SampleID, colnames(brca1_genotypes)))"
   ]
  },
  {
   "cell_type": "markdown",
   "id": "903ea93e-8079-40d8-907a-642a891a842a",
   "metadata": {},
   "source": [
    "Nous créons à présent 2 sous-dataframes avec ces seuls sujets en commun:"
   ]
  },
  {
   "cell_type": "code",
   "execution_count": null,
   "id": "7918fbf9-24b1-4758-9f2f-23c7d1b12bfd",
   "metadata": {},
   "outputs": [],
   "source": [
    "##### cell 40\n",
    "\n",
    "#  metadata and SNPS\n",
    "brca1_genotypes_filt <- brca1_genotypes[ , colnames(brca1_genotypes) %in% metadata$SampleID]\n",
    "str(brca1_genotypes_filt)\n",
    "\n",
    "metadata_filt <- metadata[metadata$SampleID %in% colnames(brca1_genotypes_filt), ]\n",
    "str(metadata_filt)"
   ]
  },
  {
   "cell_type": "markdown",
   "id": "1a387652-baca-47ea-a035-60a65f4535ce",
   "metadata": {},
   "source": [
    "- Nous créons ci-dessous des **sous-jeux de données pour les différentes catégories de populations**:\n",
    "    - Hommes\n",
    "    - Femmes\n",
    "    - Afrique (AFR)\n",
    "    - Asie de l'est (EAS)\n",
    "    - Asie du sud (SAS)"
   ]
  },
  {
   "cell_type": "markdown",
   "id": "c15cac7c-764a-4ed7-83fc-046780ecb4c4",
   "metadata": {},
   "source": [
    "<div class=\"alert alert-warning\"> \n",
    "    <b>Question 9) </b> :\n",
    "    <br>\n",
    "         &emsp; Complétez la commande suivante pour créer le vecteur <code>sample_AFR</code>.\n",
    "</div>"
   ]
  },
  {
   "cell_type": "markdown",
   "id": "ae2075ba-dea8-4fd8-bc5d-43e5494e64ce",
   "metadata": {},
   "source": [
    "Pour ce faire nous identifions d'abord les sujets appartenant à chaque catégorie de population."
   ]
  },
  {
   "cell_type": "code",
   "execution_count": null,
   "id": "fcd091c6-1297-44ed-8a7c-b2b24c66fc50",
   "metadata": {},
   "outputs": [],
   "source": [
    "##### cell 41\n",
    "\n",
    "# generating a vector with subjects per category\n",
    "\n",
    "sample_man <- metadata_filt$SampleID[metadata_filt$Sex == 1]\n",
    "\n",
    "sample_wom <- metadata_filt$SampleID[metadata_filt$Sex == 2]\n",
    "\n",
    "sample_AFR <- metadata_filt$SampleID[XXX]\n",
    "\n",
    "sample_EAS <- metadata_filt$SampleID[metadata_filt$Superpopulation == 'EAS']\n",
    "\n",
    "sample_SAS <- metadata_filt$SampleID[metadata_filt$Superpopulation == 'SAS']\n",
    "\n",
    "sample_three_pop <- c(sample_AFR, sample_EAS, sample_SAS)"
   ]
  },
  {
   "cell_type": "markdown",
   "id": "b5516293-471d-4425-b892-50ab2ed3de50",
   "metadata": {},
   "source": [
    "Puis nous extrayons les colonnes correspondantes dans la matrice brca1_genotypes."
   ]
  },
  {
   "cell_type": "code",
   "execution_count": null,
   "id": "57bb5028-2bd2-463e-ad99-cd060651e57c",
   "metadata": {},
   "outputs": [],
   "source": [
    "##### cell 42\n",
    "\n",
    "## Filtering\n",
    "brca1_man <- brca1_genotypes_filt[ ,sample_man]\n",
    "brca1_wom <- brca1_genotypes_filt[ ,sample_wom]\n",
    "brca1_AFR <- brca1_genotypes_filt[ ,sample_AFR]\n",
    "brca1_EAS <- brca1_genotypes_filt[ ,sample_EAS]\n",
    "brca1_SAS <- brca1_genotypes_filt[ ,sample_SAS]"
   ]
  },
  {
   "cell_type": "markdown",
   "id": "359acfb0-c5c1-4aff-8f7e-c8420d558a4a",
   "metadata": {},
   "source": [
    "### V.B. Comparaison des distributions des fréquences des allèles ALT sur l'ensemble des variants"
   ]
  },
  {
   "cell_type": "markdown",
   "id": "40551101-4ac4-440f-b5f4-4173c2dbb2b3",
   "metadata": {},
   "source": [
    "- On calcule ensuite le **nombre total et la proportion d'allèles alternatifs présents dans les différentes catégories de population** sur l'ensemble des variants."
   ]
  },
  {
   "cell_type": "markdown",
   "id": "e1f3d0d5-998f-432b-8a6e-a53a513311e1",
   "metadata": {},
   "source": [
    "Nous pouvons déjà compter le nombre de génotypes dans une sous-population, par exemple dans le sous-groupe de femmes."
   ]
  },
  {
   "cell_type": "code",
   "execution_count": null,
   "id": "1d54d8bd-fada-4400-ae20-d7d1f0dd8c84",
   "metadata": {},
   "outputs": [],
   "source": [
    "##### cell 43\n",
    "\n",
    "table(brca1_wom)"
   ]
  },
  {
   "cell_type": "markdown",
   "id": "61d2c3ac-0190-4912-a03f-153d36813c69",
   "metadata": {},
   "source": [
    "Et en déduire le nombre d'observations de l'allèle ALT. Attention, les homozygotes en ont 2 copies!"
   ]
  },
  {
   "cell_type": "code",
   "execution_count": null,
   "id": "c8c2cbe6-a11e-4152-b26e-25358d2938ce",
   "metadata": {},
   "outputs": [],
   "source": [
    "##### cell 44\n",
    "\n",
    "86498 +  2 * 38356\n"
   ]
  },
  {
   "cell_type": "markdown",
   "id": "c1a37d0a-eb8b-45b0-9633-f08512199ea1",
   "metadata": {},
   "source": [
    "On peut utiliser la fonction `sum()` pour directement compter le nombre  d'observations de l'allèle ALT  et en déduire sa fréquence) pour chaque catégorie de la population:"
   ]
  },
  {
   "cell_type": "code",
   "execution_count": null,
   "id": "c47f34c4-0efb-4349-b620-9e0ecab498f0",
   "metadata": {},
   "outputs": [],
   "source": [
    "##### cell 45\n",
    "\n",
    "# Comparing the number of ALT between population\n",
    "\n",
    "## Counting\n",
    "cat(\"====Counts:\")\n",
    "cat(\"\\n------Women and Men:\\n\")\n",
    "sum(brca1_wom)\n",
    "sum(brca1_man)\n",
    "cat(\"------Geographic:\\n\")\n",
    "sum(brca1_AFR)\n",
    "sum(brca1_EAS)\n",
    "sum(brca1_SAS)\n",
    "\n",
    "cat(\"\\n====Proportions:\")\n",
    "cat(\"\\n------Women and Men:\\n\")\n",
    "round(sum(brca1_wom) / (dim(brca1_wom)[1]*dim(brca1_wom)[2]*2), 4)\n",
    "round(sum(brca1_man) / (dim(brca1_man)[1]*dim(brca1_man)[2]*2), 4)\n",
    "cat(\"------Geographic:\\n\")\n",
    "round(sum(brca1_AFR) / (dim(brca1_AFR)[1]*dim(brca1_AFR)[2]*2), 4)\n",
    "round(sum(brca1_EAS) / (dim(brca1_EAS)[1]*dim(brca1_EAS)[2]*2), 4)\n",
    "round(sum(brca1_SAS) / (dim(brca1_SAS)[1]*dim(brca1_SAS)[2]*2), 4)"
   ]
  },
  {
   "cell_type": "markdown",
   "id": "39649c3a-69b4-42b1-bf56-c62829a96bb0",
   "metadata": {},
   "source": [
    "<div class=\"alert alert-warning\"> \n",
    "    <b>Question 10) </b>:\n",
    "    <br>\n",
    "         &emsp; Commentez brièvement (un ou deux court·s paragraphe·s) les fréquences en fonction des sous-populations.\n",
    "</div>"
   ]
  },
  {
   "cell_type": "markdown",
   "id": "34c2577c-f56a-4959-878a-e6de61e3c08c",
   "metadata": {},
   "source": [
    "### V.C. Comparaison des fréquences de l'allèle ALT pour un SNV d'intérêt"
   ]
  },
  {
   "cell_type": "markdown",
   "id": "ec674664-4065-4538-9d0a-0b4aa66e9313",
   "metadata": {},
   "source": [
    "- A titre d'exemple, nous nous focalisons sur le variant [rs8176166](https://www.ncbi.nlm.nih.gov/snp/rs8176166)"
   ]
  },
  {
   "cell_type": "code",
   "execution_count": null,
   "id": "ad203456-a265-4acd-8ec9-9add3d5557ff",
   "metadata": {},
   "outputs": [],
   "source": [
    "##### cell 46\n",
    "brca1_snps[which(brca1_snps$avsnp150 == \"rs8176166\"), 1:20]"
   ]
  },
  {
   "cell_type": "markdown",
   "id": "c2d33d2f-9543-45cc-8cce-8b464f82a094",
   "metadata": {},
   "source": [
    "- La fonction suivante vous est donnée afin de pouvoir effectuer des tests de ${\\chi}^2$ ou des test exact de Fisher sur la présence de SNP d'intérêt entre deux populations.\n",
    "Ici, le test exact de Fisher nous donnera la même information qu'un test de ${\\chi}^2$ mais il est dit _exact_ car le calcul de la valeur _p_ ne dépend pas d'un calcul basé sur un approximation...C'est un test non paramétrique toujours utilisable."
   ]
  },
  {
   "cell_type": "code",
   "execution_count": null,
   "id": "b841e598-a870-4993-973c-9925cd620a04",
   "metadata": {},
   "outputs": [],
   "source": [
    "##### cell 47\n",
    "\n",
    "# Function for statistical test between two populations\n",
    "stat_test <- function(matrix_1, matrix_2, wanted_snp, fisher = FALSE) {\n",
    "  tab_1 <- table(matrix_1[wanted_snp, ])\n",
    "  tab_2 <- table(matrix_2[wanted_snp, ])\n",
    "  name_1 <- deparse(substitute(matrix_1))\n",
    "  name_2 <- deparse(substitute(matrix_2))\n",
    "  # Replace empty values by zeroes if needed\n",
    "  if(is.na(tab_1[2])) tab_1[2] <- 0\n",
    "  if(is.na(tab_2[2])) tab_2[2] <- 0\n",
    "  if(is.na(tab_1[3])) tab_1[3] <- 0\n",
    "  if(is.na(tab_2[3])) tab_2[3] <- 0\n",
    "  \n",
    "  cont_tab <- rbind(tab_1, tab_2)\n",
    "  rownames(cont_tab) <- c(name_1, name_2)\n",
    "  colnames(cont_tab) <- 0:2  \n",
    "  print(cont_tab)\n",
    "  \n",
    "  if(fisher == TRUE) {\n",
    "    out_fish <- fisher.test(cont_tab)\n",
    "    return(out_fish)\n",
    "  }\n",
    "  \n",
    "  out_chi <- chisq.test(cont_tab)\n",
    "  return(out_chi)\n",
    "}"
   ]
  },
  {
   "cell_type": "code",
   "execution_count": null,
   "id": "8a7b727a-4faa-46bd-9c1f-e35cc907ea7a",
   "metadata": {},
   "outputs": [],
   "source": [
    "##### cell 48\n",
    "wanted_snp_1 <- brca1_snps$avsnp150 == 'rs8176166'"
   ]
  },
  {
   "cell_type": "code",
   "execution_count": null,
   "id": "8674e551-d174-4bbd-8381-40cea3c4e9fa",
   "metadata": {},
   "outputs": [],
   "source": [
    "##### cell 49\n",
    "cat(\"=============== Chisquare tests: ===============\\n\")\n",
    "cat(\"\\n----- AFR versus SAS\\n\")\n",
    "stat_test(matrix_1 = brca1_AFR, matrix_2 = brca1_SAS, wanted_snp = wanted_snp_1)\n",
    "cat(\"\\n----- AFR versus EAS\\n\")\n",
    "stat_test(matrix_1 = brca1_AFR, matrix_2 = brca1_EAS, wanted_snp = wanted_snp_1)\n",
    "cat(\"\\n----- SAS versus EAS\\n\")\n",
    "stat_test(matrix_1 = brca1_SAS, matrix_2 = brca1_EAS, wanted_snp = wanted_snp_1)\n",
    "cat(\"\\n=============== Fisher exact tests: ===============\\n\")\n",
    "cat(\"\\n----- AFR versus SAS\\n\")\n",
    "stat_test(matrix_1 = brca1_AFR, matrix_2 = brca1_SAS, wanted_snp = wanted_snp_1, fisher = TRUE)\n",
    "cat(\"\\n----- AFR versus EAS\\n\")\n",
    "stat_test(matrix_1 = brca1_AFR, matrix_2 = brca1_EAS, wanted_snp = wanted_snp_1, fisher = TRUE)\n",
    "cat(\"\\n----- SAS versus EAS\\n\")\n",
    "stat_test(matrix_1 = brca1_SAS, matrix_2 = brca1_EAS, wanted_snp = wanted_snp_1, fisher = TRUE)"
   ]
  },
  {
   "cell_type": "markdown",
   "id": "ea3c0a64-c834-454c-b8b9-cda6d55be91a",
   "metadata": {},
   "source": [
    "<div class=\"alert alert-warning\"> \n",
    "    <b>Question 10) </b>:\n",
    "    <br>\n",
    "         &emsp;En observant les différentes table de contingence et les résultats des tests statistiques, diriez-vous pour le SNP considéré que les affirmations suivantes sont vraies ?:\n",
    "    <br>\n",
    "    &emsp; - Les populations <code>AFR</code> et <code>EAS</code> sont plus proches entre elles qu'elles ne le sont de <code>SAS</code>\n",
    "    <br>\n",
    "    &emsp; - Les populations <code>EAS</code> et <code>SAS</code> sont plus proches entre elles qu'elles ne le sont de <code>AFR</code>\n",
    "    <br>\n",
    "    &emsp; - Ces résultats sont généralisables à l'ensemble des SNP du génome.\n",
    "    <br>\n",
    "    &emsp; - le test de Chi^2 entre <code>AFR</code> et <code>EAS</code> envoie un <i>warning message</i> car l'une des catégories présente un faible effectif.\n",
    "</div>"
   ]
  },
  {
   "cell_type": "markdown",
   "id": "49a3438b-afa4-4d7d-ad8b-a4cba8abbedc",
   "metadata": {},
   "source": [
    "## VI. Analyse multidimensionnelle\n",
    "---"
   ]
  },
  {
   "cell_type": "markdown",
   "id": "58b7612d-4295-4206-a862-849869c29483",
   "metadata": {},
   "source": [
    "La section suivante est un bonus et ne comptera que positiviement dans la note finale.\n",
    "\n",
    "Regardez la vidéo suivante afin de mieux comprendre la PCA en 5 minutes https://youtu.be/HMOI_lkzW08 !"
   ]
  },
  {
   "cell_type": "markdown",
   "id": "801673ef-3658-428c-9239-6f0c63ebf041",
   "metadata": {},
   "source": [
    "<div class=\"alert alert-block alert-danger\">\n",
    "    <b>Attention:</b> \n",
    "    La commande suivante peut prendre un peu de temps (environ 5 à 10 minutes) de calcul. Lancez-là pendant que vous regardez la vidéo.\n",
    "    <br>\n",
    "    Patience patience ...\n",
    "</div>"
   ]
  },
  {
   "cell_type": "code",
   "execution_count": null,
   "id": "603ce64d-c15f-4141-899c-5d9ac9ffbef0",
   "metadata": {},
   "outputs": [],
   "source": [
    "##### cell 50\n",
    "# PCA\n",
    "system.time({\n",
    "brca1_pca <- \n",
    "  FactoMineR::PCA(X = t(brca1_genotypes_filt), ncp = 2, graph = FALSE)\n",
    " })"
   ]
  },
  {
   "cell_type": "code",
   "execution_count": null,
   "id": "7c26ae82-aeff-4564-8af2-d6b0fb5eb9fd",
   "metadata": {},
   "outputs": [],
   "source": [
    "##### cell 51\n",
    "brca1_pca_forplot <-\n",
    "  cbind(brca1_pca$ind$coord[,1:2], metadata_filt)"
   ]
  },
  {
   "cell_type": "markdown",
   "id": "46fd0923-7724-470e-9231-f0339b292297",
   "metadata": {},
   "source": [
    "Représentation des deux premières dimensions (principal components) avec les points (qui représentent donc les individus) colorés en fonction du sexe."
   ]
  },
  {
   "cell_type": "code",
   "execution_count": null,
   "id": "4a045133-6e4b-4119-8c52-d086dfd3bbe8",
   "metadata": {},
   "outputs": [],
   "source": [
    "##### cell 52\n",
    "ggplot(as.data.frame(brca1_pca_forplot)) +\n",
    "  geom_point(aes(x = Dim.1, y = Dim.2, colour = as.factor(metadata_filt$Sex))) +\n",
    "  scale_colour_viridis_d() +\n",
    "  theme_bw()"
   ]
  },
  {
   "cell_type": "markdown",
   "id": "59d0297c-329c-4b3b-b6dd-7588f9c7d260",
   "metadata": {},
   "source": [
    "Représentation des deux premières dimensions (principal components) avec les points (qui représentent donc les individus) colorés en fonction de la population."
   ]
  },
  {
   "cell_type": "code",
   "execution_count": null,
   "id": "785d54bc-e454-4c1d-a29b-cae065487486",
   "metadata": {},
   "outputs": [],
   "source": [
    "##### cell 53\n",
    "ggplot(as.data.frame(brca1_pca_forplot)) +\n",
    "  geom_point(aes(x = Dim.1, y = Dim.2, colour = Superpopulation), alpha = 0.5) +\n",
    "  scale_colour_viridis_d() +\n",
    "  theme_bw()"
   ]
  },
  {
   "cell_type": "markdown",
   "id": "d1cb9415-0971-4f56-888b-2f0a9caa7f04",
   "metadata": {},
   "source": [
    "On approfondit avec le paquet factoextra:"
   ]
  },
  {
   "cell_type": "code",
   "execution_count": null,
   "id": "89f7ca30-997b-4673-a2f7-8a6efb29d194",
   "metadata": {},
   "outputs": [],
   "source": [
    "##### cell 54\n",
    "factoextra::fviz_eig(brca1_pca, addlabels = TRUE)"
   ]
  },
  {
   "cell_type": "code",
   "execution_count": null,
   "id": "acb0d04d-65f8-4284-8794-5017c2935ba7",
   "metadata": {},
   "outputs": [],
   "source": [
    "##### cell 55\n",
    "factoextra::fviz_pca_ind(brca1_pca, label = \"none\", habillage = as.factor(metadata_filt$Sex),\n",
    "             addEllipses = TRUE, ellipse.level = 0.95)"
   ]
  },
  {
   "cell_type": "code",
   "execution_count": null,
   "id": "fc231228-890e-488b-adee-cf2caa627b7c",
   "metadata": {},
   "outputs": [],
   "source": [
    "##### cell 56\n",
    "factoextra::fviz_pca_ind(brca1_pca, label = \"none\", habillage = as.factor(metadata_filt$Superpopulation),\n",
    "             addEllipses = TRUE, ellipse.level = 0.95)"
   ]
  },
  {
   "cell_type": "markdown",
   "id": "a3cdb038-eca1-46dd-aa09-fa24a3cc5611",
   "metadata": {},
   "source": [
    "<div class=\"alert alert-warning\"> \n",
    "    <b>Question bonus) </b>:\n",
    "    <br>\n",
    "         &emsp; Décrivez et essayez d'interpreter les graphiques issus de cette PCA.\n",
    "</div>"
   ]
  },
  {
   "cell_type": "markdown",
   "id": "a3b92810-901d-491d-94e8-74451762b36c",
   "metadata": {},
   "source": [
    "*[Last edition: 19/04/2023 by CVandiedonck]*"
   ]
  }
 ],
 "metadata": {
  "kernelspec": {
   "display_name": "R",
   "language": "R",
   "name": "ir"
  },
  "language_info": {
   "codemirror_mode": "r",
   "file_extension": ".r",
   "mimetype": "text/x-r-source",
   "name": "R",
   "pygments_lexer": "r",
   "version": "4.1.3"
  }
 },
 "nbformat": 4,
 "nbformat_minor": 5
}
