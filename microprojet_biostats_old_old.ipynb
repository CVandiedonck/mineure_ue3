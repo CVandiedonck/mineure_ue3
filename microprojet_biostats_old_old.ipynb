{
 "cells": [
  {
   "cell_type": "code",
   "execution_count": 1,
   "id": "09454886-288a-4661-9caf-36ce87d0dd6a",
   "metadata": {
    "scrolled": true,
    "tags": []
   },
   "outputs": [
    {
     "name": "stderr",
     "output_type": "stream",
     "text": [
      "Warning message:\n",
      "“Failed to locate timezone database”\n",
      "── \u001b[1mAttaching packages\u001b[22m ─────────────────────────────────────── tidyverse 1.3.1 ──\n",
      "\n",
      "\u001b[32m✔\u001b[39m \u001b[34mggplot2\u001b[39m 3.3.5     \u001b[32m✔\u001b[39m \u001b[34mpurrr  \u001b[39m 0.3.4\n",
      "\u001b[32m✔\u001b[39m \u001b[34mtibble \u001b[39m 3.1.6     \u001b[32m✔\u001b[39m \u001b[34mdplyr  \u001b[39m 1.0.8\n",
      "\u001b[32m✔\u001b[39m \u001b[34mtidyr  \u001b[39m 1.2.0     \u001b[32m✔\u001b[39m \u001b[34mstringr\u001b[39m 1.4.0\n",
      "\u001b[32m✔\u001b[39m \u001b[34mreadr  \u001b[39m 2.1.2     \u001b[32m✔\u001b[39m \u001b[34mforcats\u001b[39m 0.5.1\n",
      "\n",
      "── \u001b[1mConflicts\u001b[22m ────────────────────────────────────────── tidyverse_conflicts() ──\n",
      "\u001b[31m✖\u001b[39m \u001b[34mdplyr\u001b[39m::\u001b[32mfilter()\u001b[39m masks \u001b[34mstats\u001b[39m::filter()\n",
      "\u001b[31m✖\u001b[39m \u001b[34mdplyr\u001b[39m::\u001b[32mlag()\u001b[39m    masks \u001b[34mstats\u001b[39m::lag()\n",
      "\n"
     ]
    }
   ],
   "source": [
    "library(tidyverse)"
   ]
  },
  {
   "cell_type": "code",
   "execution_count": 2,
   "id": "66e5e619-31bd-4e98-ad03-ca88dcb4d454",
   "metadata": {
    "scrolled": true,
    "tags": []
   },
   "outputs": [
    {
     "name": "stderr",
     "output_type": "stream",
     "text": [
      "Warning message:\n",
      "“One or more parsing issues, see `problems()` for details”\n",
      "\u001b[1mRows: \u001b[22m\u001b[34m30000\u001b[39m \u001b[1mColumns: \u001b[22m\u001b[34m2697\u001b[39m\n",
      "\u001b[36m──\u001b[39m \u001b[1mColumn specification\u001b[22m \u001b[36m────────────────────────────────────────────────────────\u001b[39m\n",
      "\u001b[1mDelimiter:\u001b[22m \"\\t\"\n",
      "\u001b[31mchr\u001b[39m (2590): Ref, Alt, Func.refGene, Gene.refGene, GeneDetail.refGene, Exonic...\n",
      "\u001b[32mdbl\u001b[39m   (95): Chr, Start, End, gnomAD_exome_ALL, gnomAD_exome_AFR, gnomAD_exom...\n",
      "\u001b[33mlgl\u001b[39m   (12): mcap_score, mcap_sensitivity, FATHMM_pred, MetaSVM_pred, MetaLR_...\n",
      "\n",
      "\u001b[36mℹ\u001b[39m Use `spec()` to retrieve the full column specification for this data.\n",
      "\u001b[36mℹ\u001b[39m Specify the column types or set `show_col_types = FALSE` to quiet this message.\n"
     ]
    },
    {
     "data": {
      "text/plain": [
       "   user  system elapsed \n",
       " 15.498   2.822  15.748 "
      ]
     },
     "metadata": {},
     "output_type": "display_data"
    },
    {
     "ename": "ERROR",
     "evalue": "Error: 'ftp.1000genomes.ebi.ac.uk/vol1/ftp/data_collections/1000G_2504_high_coverage/20130606_g1k_3202_samples_ped_population.txt' does not exist in current working directory ('/srv/home/abridiernahmias/pass_rs_ue3_bistats/biostats_2').\n",
     "output_type": "error",
     "traceback": [
      "Error: 'ftp.1000genomes.ebi.ac.uk/vol1/ftp/data_collections/1000G_2504_high_coverage/20130606_g1k_3202_samples_ped_population.txt' does not exist in current working directory ('/srv/home/abridiernahmias/pass_rs_ue3_bistats/biostats_2').\nTraceback:\n",
      "1. system.time(my_meta <- read_tsv(file = \"ftp.1000genomes.ebi.ac.uk/vol1/ftp/data_collections/1000G_2504_high_coverage/20130606_g1k_3202_samples_ped_population.txt\"))",
      "2. read_tsv(file = \"ftp.1000genomes.ebi.ac.uk/vol1/ftp/data_collections/1000G_2504_high_coverage/20130606_g1k_3202_samples_ped_population.txt\")",
      "3. vroom::vroom(file, delim = \"\\t\", col_names = col_names, col_types = col_types, \n .     col_select = {\n .         {\n .             col_select\n .         }\n .     }, id = id, .name_repair = name_repair, skip = skip, n_max = n_max, \n .     na = na, quote = quote, comment = comment, skip_empty_rows = skip_empty_rows, \n .     trim_ws = trim_ws, escape_double = TRUE, escape_backslash = FALSE, \n .     locale = locale, guess_max = guess_max, show_col_types = show_col_types, \n .     progress = progress, altrep = lazy, num_threads = num_threads)",
      "4. vroom_(file, delim = delim %||% col_types$delim, col_names = col_names, \n .     col_types = col_types, id = id, skip = skip, col_select = col_select, \n .     name_repair = .name_repair, na = na, quote = quote, trim_ws = trim_ws, \n .     escape_double = escape_double, escape_backslash = escape_backslash, \n .     comment = comment, skip_empty_rows = skip_empty_rows, locale = locale, \n .     guess_max = guess_max, n_max = n_max, altrep = vroom_altrep(altrep), \n .     num_threads = num_threads, progress = progress)",
      "5. (function (path, write = FALSE) \n . {\n .     if (is.raw(path)) {\n .         return(rawConnection(path, \"rb\"))\n .     }\n .     if (!is.character(path)) {\n .         return(path)\n .     }\n .     if (is_url(path)) {\n .         if (requireNamespace(\"curl\", quietly = TRUE)) {\n .             con <- curl::curl(path)\n .         }\n .         else {\n .             rlang::inform(\"`curl` package not installed, falling back to using `url()`\")\n .             con <- url(path)\n .         }\n .         ext <- tolower(tools::file_ext(path))\n .         return(switch(ext, zip = , bz2 = , xz = {\n .             close(con)\n .             stop(\"Reading from remote `\", ext, \"` compressed files is not supported,\\n\", \n .                 \"  download the files locally first.\", call. = FALSE)\n .         }, gz = gzcon(con), con))\n .     }\n .     p <- split_path_ext(basename(path))\n .     if (write) {\n .         path <- normalizePath(path, mustWork = FALSE)\n .     }\n .     else {\n .         path <- check_path(path)\n .     }\n .     if (rlang::is_installed(\"archive\")) {\n .         formats <- archive_formats(p$extension)\n .         extension <- p$extension\n .         while (is.null(formats) && nzchar(extension)) {\n .             extension <- split_path_ext(extension)$extension\n .             formats <- archive_formats(extension)\n .         }\n .         if (!is.null(formats)) {\n .             p$extension <- extension\n .             if (write) {\n .                 if (is.null(formats[[1]])) {\n .                   return(archive::file_write(path, filter = formats[[2]]))\n .                 }\n .                 return(archive::archive_write(path, p$path, format = formats[[1]], \n .                   filter = formats[[2]]))\n .             }\n .             if (is.null(formats[[1]])) {\n .                 return(archive::file_read(path, filter = formats[[2]]))\n .             }\n .             return(archive::archive_read(path, format = formats[[1]], \n .                 filter = formats[[2]]))\n .         }\n .     }\n .     if (!write) {\n .         compression <- detect_compression(path)\n .     }\n .     else {\n .         compression <- NA\n .     }\n .     if (is.na(compression)) {\n .         compression <- tools::file_ext(path)\n .     }\n .     if (write && compression == \"zip\") {\n .         stop(\"Can only read from, not write to, .zip\", call. = FALSE)\n .     }\n .     switch(compression, gz = gzfile(path, \"\"), bz2 = bzfile(path, \n .         \"\"), xz = xzfile(path, \"\"), zip = zipfile(path, \"\"), \n .         if (!has_trailing_newline(path)) {\n .             file(path)\n .         } else {\n .             path\n .         })\n . })(\"ftp.1000genomes.ebi.ac.uk/vol1/ftp/data_collections/1000G_2504_high_coverage/20130606_g1k_3202_samples_ped_population.txt\")",
      "6. check_path(path)",
      "7. stop(\"'\", path, \"' does not exist\", if (!is_absolute_path(path)) {\n .     paste0(\" in current working directory ('\", getwd(), \"')\")\n . }, \".\", call. = FALSE)"
     ]
    },
    {
     "name": "stderr",
     "output_type": "stream",
     "text": [
      "Timing stopped at: 0.007 0 0.007\n",
      "\n"
     ]
    }
   ],
   "source": [
    "system.time(my_vcf <- read_tsv(file = '/srv/data/pass-rs-ue3/hg38-chr17-1kgenome/chr17_1kg.hg38_multianno.txt', n_max = 3e4, na = '.'))\n",
    "system.time(my_meta <- read_tsv(file = 'ftp.1000genomes.ebi.ac.uk/vol1/ftp/data_collections/1000G_2504_high_coverage/20130606_g1k_3202_samples_ped_population.txt'))"
   ]
  },
  {
   "cell_type": "code",
   "execution_count": null,
   "id": "6f3cb2d1-90a1-460e-8f12-b01d133de62b",
   "metadata": {},
   "outputs": [],
   "source": []
  },
  {
   "cell_type": "code",
   "execution_count": null,
   "id": "6f826e5b-71e0-434a-b8bc-76f18bb1ebd1",
   "metadata": {
    "scrolled": true,
    "tags": []
   },
   "outputs": [],
   "source": [
    "str(my_vcf)"
   ]
  },
  {
   "cell_type": "code",
   "execution_count": null,
   "id": "7af80590-f3c6-45f7-82d8-54a4fcd30e13",
   "metadata": {},
   "outputs": [],
   "source": [
    "hist(my_vcf$AF_eas)\n",
    "hist(my_vcf$AF_sas)"
   ]
  },
  {
   "cell_type": "code",
   "execution_count": null,
   "id": "98615376-39ad-40eb-a731-ee503c91d7bc",
   "metadata": {},
   "outputs": [],
   "source": [
    "sum(is.na(my_vcf$AF_eas))\n",
    "sum(is.na(my_vcf$AF_sas))\n"
   ]
  },
  {
   "cell_type": "code",
   "execution_count": null,
   "id": "0454016f-278d-470a-9568-0f35275bd463",
   "metadata": {},
   "outputs": [],
   "source": [
    "print(cor.test(x = my_vcf$AF_eas, y = my_vcf$AF_sas, method = 'pearson'))\n",
    "\n",
    "print(cor.test(x = my_vcf$AF_eas, y = my_vcf$AF_sas, method = 'spearman'))"
   ]
  },
  {
   "cell_type": "code",
   "execution_count": null,
   "id": "7efb9aa7-e4ed-433e-9265-21f131ebbc85",
   "metadata": {},
   "outputs": [],
   "source": [
    "print(cor.test(x = my_vcf$AF_eas, y = my_vcf$AF_afr, method = 'pearson'))\n",
    "\n",
    "print(cor.test(x = my_vcf$AF_eas, y = my_vcf$AF_afr, method = 'spearman'))"
   ]
  },
  {
   "cell_type": "code",
   "execution_count": null,
   "id": "eff7ecab-48ba-4d98-87b4-6bb4fefac388",
   "metadata": {},
   "outputs": [],
   "source": [
    "plot(x = my_vcf$AF_eas, y = my_vcf$AF_sas)\n",
    "\n",
    "plot(x = rank(my_vcf$AF_eas), y = rank(my_vcf$AF_sas))"
   ]
  },
  {
   "cell_type": "code",
   "execution_count": null,
   "id": "2651d78e-0108-4133-94e1-9e12e2984fc3",
   "metadata": {},
   "outputs": [],
   "source": [
    "plot(x = my_vcf$AF_eas, y = my_vcf$AF_afr)\n",
    "\n",
    "plot(x = rank(my_vcf$AF_eas), y = rank(my_vcf$AF_afr))"
   ]
  },
  {
   "cell_type": "code",
   "execution_count": null,
   "id": "c363500b-a6ae-47d1-803f-609b2cc32c90",
   "metadata": {},
   "outputs": [],
   "source": [
    "t.test(x = my_vcf$AF_eas, y = my_vcf$AF_sas, alternative = 'two.sided')\n",
    "\n",
    "t.test(x = my_vcf$AF_eas, y = my_vcf$AF_afr, alternative = 'two.sided')\n"
   ]
  },
  {
   "cell_type": "code",
   "execution_count": 9,
   "id": "4a033248-0b10-4d02-97c5-038fef7d0724",
   "metadata": {},
   "outputs": [
    {
     "data": {
      "text/plain": [
       "\n",
       "\tPearson's product-moment correlation\n",
       "\n",
       "data:  my_vcf$AF_eas and my_vcf$DANN_score\n",
       "t = -1.6761, df = 276, p-value = 0.09485\n",
       "alternative hypothesis: true correlation is not equal to 0\n",
       "95 percent confidence interval:\n",
       " -0.21547868  0.01746902\n",
       "sample estimates:\n",
       "       cor \n",
       "-0.1003803 \n"
      ]
     },
     "metadata": {},
     "output_type": "display_data"
    },
    {
     "data": {
      "image/png": "[encoded data removed]",
      "text/plain": [
       "plot without title"
      ]
     },
     "metadata": {
      "image/png": {
       "height": 420,
       "width": 420
      }
     },
     "output_type": "display_data"
    }
   ],
   "source": [
    "(cor.test(x = my_vcf$AF_eas, y = my_vcf$DANN_score, method = 'pearson'))\n",
    "plot(x = my_vcf$AF_eas, y = my_vcf$DANN_score)"
   ]
  }
 ],
 "metadata": {
  "kernelspec": {
   "display_name": "R",
   "language": "R",
   "name": "ir"
  },
  "language_info": {
   "codemirror_mode": "r",
   "file_extension": ".r",
   "mimetype": "text/x-r-source",
   "name": "R",
   "pygments_lexer": "r",
   "version": "4.1.2"
  }
 },
 "nbformat": 4,
 "nbformat_minor": 5
}
