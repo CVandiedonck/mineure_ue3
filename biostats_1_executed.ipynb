{
 "cells": [
  {
   "cell_type": "markdown",
   "metadata": {},
   "source": [
    "# **Biostatistiques #1**\n",
    "## **Découverte des commandes de base R et de ses fonctionnalités graphiques et statistiques**\n",
    "\n",
    "I. Introduction to R\n",
    "1. R as a calculator \n",
    "2. Assigning data to R objects, using and reading them  \n",
    "3. Managing your session\n",
    "4. Managing objects in your R Session\n",
    "5. Saving your data, session, and history\n",
    "6. Classes and types of R objects\n",
    "\n",
    "II. Vectors\n",
    "\n",
    "III. Dataframes\n",
    "\n",
    "IV. Plots\n",
    "\n",
    "V. Statistics"
   ]
  },
  {
   "cell_type": "markdown",
   "metadata": {},
   "source": [
    "---\n",
    "## Avant d'aller plus loin\n",
    "\n",
    "<div class=\"alert alert-block alert-danger\"><b>Attention:</b> \n",
    "Ne travaillez pas directement sur ce notebook pour ne pas le perdre. Dupliquez-le et renommez-le par exemple en ajoutant vos initiales et travaillez sur cette nouvelle copie. Pour ce faire, dans le panneau de gauche, faites un clic droit sur le fichier et sélectionnez \"Duplicate\". Puis, toujours dans la colonne de gauche, faites un clic droit sur cette copie et sélectionnez \"rename\" pour changer le nom. Ouvrez ensuite cette nouvelle version en double cliquant dessus. Vous êtes prêt(e) à démarrer! <br>\n",
    "<br>\n",
    "<b>N'oubliez pas de sauvegarder régulièrement votre notebook</b>: <kbd>Ctrl</kbd> + <kbd>S</kbd>. ou en cliquant sur l'icone 💾 en haut à gauche de votre notebook ou dans le Menu du JupyterLab \"File puis \"Save Notebook\"!\n",
    "</div>\n",
    " "
   ]
  },
  {
   "cell_type": "markdown",
   "metadata": {},
   "source": [
    "__=> A propos de ce notebook jupyter__\n",
    "\n",
    "Ce notebook jupyter notebook est en **R**, ce qui signifie que les commandes que vous entrerez dans les cellules de `Code` seront directement lues en R par le serveur. <br> "
   ]
  },
  {
   "cell_type": "markdown",
   "metadata": {
    "tags": []
   },
   "source": [
    "## **I. Intoduction**\n",
    "---\n",
    "\n",
    "### **I.0 What is R ?**\n",
    "---\n",
    "\n",
    "R is available on this website: https://www.r-project.org\n",
    "\n",
    "The language is:\n",
    "- open-source\n",
    "- available for Windows, Mac and Unix\n",
    "- widely used in academia, finance, pharma, social sciences...\n",
    "\n",
    "R is a statsitical programming language. This project started in 1993. We are currently at version 4.0.4 (15/02/2021). There is a new release twice a year."
   ]
  },
  {
   "cell_type": "markdown",
   "metadata": {},
   "source": [
    "R includes a \"core language\" called `R base` with more than 3000 contributed packages. A package is a set of functions.\n",
    "\n",
    "R can be used for:\n",
    "1. data manipulation: import, format, edit, export\n",
    "2. statistics\n",
    "3. avdanced graphics\n",
    "\n",
    "***Some useful links***\n",
    "- Quick R: https://www.statmethods.net/index.html\n",
    "- Emmanuel Paradis tutorial: [in French](https://cran.r-project.org/doc/contrib/Paradis-rdebuts_fr.pdf) or [in English](https://cran.r-project.org/doc/contrib/Paradis-rdebuts_en.pdf)\n",
    "- R cheatsheet: https://rstudio.com/resources/cheatsheets/\n",
    "- R style guide: https://google.github.io/styleguide/Rguide.html"
   ]
  },
  {
   "cell_type": "markdown",
   "metadata": {},
   "source": [
    "### **I.1 - R as a calulator**\n",
    "---\n",
    "\n",
    "**Some very simple examples**"
   ]
  },
  {
   "cell_type": "markdown",
   "metadata": {},
   "source": [
    "You can directly use R to perform mathematic operations with usual operators: `+`, `-`, `*` to multiply,`^` to raise to the power, `/` to divide, `%%` to get the modulo."
   ]
  },
  {
   "cell_type": "code",
   "execution_count": 1,
   "metadata": {},
   "outputs": [
    {
     "data": {
      "text/html": [
       "4"
      ],
      "text/latex": [
       "4"
      ],
      "text/markdown": [
       "4"
      ],
      "text/plain": [
       "[1] 4"
      ]
     },
     "metadata": {},
     "output_type": "display_data"
    }
   ],
   "source": [
    "# cell 1\n",
    "2+2"
   ]
  },
  {
   "cell_type": "code",
   "execution_count": 2,
   "metadata": {},
   "outputs": [
    {
     "data": {
      "text/html": [
       "-1"
      ],
      "text/latex": [
       "-1"
      ],
      "text/markdown": [
       "-1"
      ],
      "text/plain": [
       "[1] -1"
      ]
     },
     "metadata": {},
     "output_type": "display_data"
    },
    {
     "data": {
      "text/html": [
       "3"
      ],
      "text/latex": [
       "3"
      ],
      "text/markdown": [
       "3"
      ],
      "text/plain": [
       "[1] 3"
      ]
     },
     "metadata": {},
     "output_type": "display_data"
    },
    {
     "data": {
      "text/html": [
       "3.33333333333333"
      ],
      "text/latex": [
       "3.33333333333333"
      ],
      "text/markdown": [
       "3.33333333333333"
      ],
      "text/plain": [
       "[1] 3.333333"
      ]
     },
     "metadata": {},
     "output_type": "display_data"
    },
    {
     "data": {
      "text/html": [
       "1"
      ],
      "text/latex": [
       "1"
      ],
      "text/markdown": [
       "1"
      ],
      "text/plain": [
       "[1] 1"
      ]
     },
     "metadata": {},
     "output_type": "display_data"
    }
   ],
   "source": [
    "# cell 2\n",
    "2-3\n",
    "6/2\n",
    "10/3\n",
    "10%%3"
   ]
  },
  {
   "cell_type": "markdown",
   "metadata": {},
   "source": [
    "You can use built-in functions like `round()`,`log()`, `mean`...\n"
   ]
  },
  {
   "cell_type": "code",
   "execution_count": 3,
   "metadata": {},
   "outputs": [
    {
     "data": {
      "text/html": [
       "1.5"
      ],
      "text/latex": [
       "1.5"
      ],
      "text/markdown": [
       "1.5"
      ],
      "text/plain": [
       "[1] 1.5"
      ]
     },
     "metadata": {},
     "output_type": "display_data"
    },
    {
     "data": {
      "text/html": [
       "0.135335283236613"
      ],
      "text/latex": [
       "0.135335283236613"
      ],
      "text/markdown": [
       "0.135335283236613"
      ],
      "text/plain": [
       "[1] 0.1353353"
      ]
     },
     "metadata": {},
     "output_type": "display_data"
    }
   ],
   "source": [
    "# cell 3\n",
    "mean(c(1,2)) # we will see that we need to put concatenate different values with a c() first\n",
    "exp(-2)"
   ]
  },
  {
   "cell_type": "markdown",
   "metadata": {},
   "source": [
    "You can nest functions, in the following example, `exp()` is nested in `round()`"
   ]
  },
  {
   "cell_type": "code",
   "execution_count": 4,
   "metadata": {},
   "outputs": [
    {
     "data": {
      "text/html": [
       "0.14"
      ],
      "text/latex": [
       "0.14"
      ],
      "text/markdown": [
       "0.14"
      ],
      "text/plain": [
       "[1] 0.14"
      ]
     },
     "metadata": {},
     "output_type": "display_data"
    }
   ],
   "source": [
    "# cell 4\n",
    "round(exp(-2), 2)"
   ]
  },
  {
   "cell_type": "markdown",
   "metadata": {},
   "source": [
    "For some functions, you need to enter several arguments. In the example below, we add the `base` argument for the `log()` function."
   ]
  },
  {
   "cell_type": "code",
   "execution_count": 5,
   "metadata": {},
   "outputs": [
    {
     "data": {
      "text/html": [
       "2"
      ],
      "text/latex": [
       "2"
      ],
      "text/markdown": [
       "2"
      ],
      "text/plain": [
       "[1] 2"
      ]
     },
     "metadata": {},
     "output_type": "display_data"
    }
   ],
   "source": [
    "# cell 5\n",
    "log(100, base = 10) #we want to get the log of 100 in base 10 "
   ]
  },
  {
   "cell_type": "markdown",
   "metadata": {},
   "source": [
    "***Getting help on functions:***\n",
    "\n",
    "To know which argument to use, it is recommanded to always look at the help of the functions. To do so, enter the name of the function after `?` or `help()` and the name of the function in the brackets. A help page will be displayed with different sections:\n",
    "\n",
    "- description: what is the purpose of the function?\n",
    "- usage: how is it used?\n",
    "- arguments: which parameters are used by the function. Default values may be specified.\n",
    "- details: technical description of the function\n",
    "- value: type of the output returned by the function\n",
    "- see also: similar functions in R\n",
    "- source/references: not always\n",
    "- example: concrete examples -> the best way to learn how it works!"
   ]
  },
  {
   "cell_type": "code",
   "execution_count": 6,
   "metadata": {
    "tags": []
   },
   "outputs": [
    {
     "data": {
      "text/html": [
       "\n",
       "<table width=\"100%\" summary=\"page for Round {base}\"><tr><td>Round {base}</td><td style=\"text-align: right;\">R Documentation</td></tr></table>\n",
       "\n",
       "<h2>Rounding of Numbers</h2>\n",
       "\n",
       "<h3>Description</h3>\n",
       "\n",
       "<p><code>ceiling</code> takes a single numeric argument <code>x</code> and returns a\n",
       "numeric vector containing the smallest integers not less than the\n",
       "corresponding elements of <code>x</code>.\n",
       "</p>\n",
       "<p><code>floor</code> takes a single numeric argument <code>x</code> and returns a\n",
       "numeric vector containing the largest integers not greater than the\n",
       "corresponding elements of <code>x</code>.\n",
       "</p>\n",
       "<p><code>trunc</code> takes a single numeric argument <code>x</code> and returns a\n",
       "numeric vector containing the integers formed by truncating the values in\n",
       "<code>x</code> toward <code>0</code>.\n",
       "</p>\n",
       "<p><code>round</code> rounds the values in its first argument to the specified\n",
       "number of decimal places (default 0).  See &lsquo;Details&rsquo; about\n",
       "&ldquo;round to even&rdquo; when rounding off a 5.\n",
       "</p>\n",
       "<p><code>signif</code> rounds the values in its first argument to the specified\n",
       "number of significant digits.   Hence, for <code>numeric</code> <code>x</code>,\n",
       "<code>signif(x, dig)</code> is the same as <code>round(x, dig - ceiling(log10(abs(x))))</code>.\n",
       "For <code>complex</code> <code>x</code>, this is not the case, \n",
       "see the &lsquo;Details&rsquo;.\n",
       "</p>\n",
       "\n",
       "\n",
       "<h3>Usage</h3>\n",
       "\n",
       "<pre>\n",
       "ceiling(x)\n",
       "floor(x)\n",
       "trunc(x, ...)\n",
       "\n",
       "round(x, digits = 0)\n",
       "signif(x, digits = 6)\n",
       "</pre>\n",
       "\n",
       "\n",
       "<h3>Arguments</h3>\n",
       "\n",
       "<table summary=\"R argblock\">\n",
       "<tr valign=\"top\"><td><code>x</code></td>\n",
       "<td>\n",
       "<p>a numeric vector.  Or, for <code>round</code> and <code>signif</code>, a\n",
       "complex vector.</p>\n",
       "</td></tr>\n",
       "<tr valign=\"top\"><td><code>digits</code></td>\n",
       "<td>\n",
       "<p>integer indicating the number of decimal places\n",
       "(<code>round</code>) or significant digits (<code>signif</code>) to be used.\n",
       "Negative values are allowed (see &lsquo;Details&rsquo;).</p>\n",
       "</td></tr>\n",
       "<tr valign=\"top\"><td><code>...</code></td>\n",
       "<td>\n",
       "<p>arguments to be passed to methods.</p>\n",
       "</td></tr>\n",
       "</table>\n",
       "\n",
       "\n",
       "<h3>Details</h3>\n",
       "\n",
       "<p>These are generic functions: methods can be defined for them\n",
       "individually or via the <code>Math</code> group\n",
       "generic.\n",
       "</p>\n",
       "<p>Note that for rounding off a 5, the IEC 60559 standard (see also\n",
       "&lsquo;IEEE 754&rsquo;) is expected to be used, &lsquo;<em>go to the even digit</em>&rsquo;.\n",
       "Therefore <code>round(0.5)</code> is <code>0</code> and <code>round(-1.5)</code> is\n",
       "<code>-2</code>.  However, this is dependent on OS services and on\n",
       "representation error (since e.g. <code>0.15</code> is not represented\n",
       "exactly, the rounding rule applies to the represented number and not\n",
       "to the printed number, and so <code>round(0.15, 1)</code> could be either\n",
       "<code>0.1</code> or <code>0.2</code>).\n",
       "</p>\n",
       "<p>Rounding to a negative number of digits means rounding to a power of\n",
       "ten, so for example <code>round(x, digits = -2)</code> rounds to the nearest\n",
       "hundred.\n",
       "</p>\n",
       "<p>For <code>signif</code> the recognized values of <code>digits</code> are\n",
       "<code>1...22</code>, and non-missing values are rounded to the nearest\n",
       "integer in that range.  Complex numbers are rounded to retain the\n",
       "specified number of digits in the larger of the components.  Each\n",
       "element of the vector is rounded individually, unlike printing.\n",
       "</p>\n",
       "<p>These are all primitive functions.\n",
       "</p>\n",
       "\n",
       "\n",
       "<h3>S4 methods</h3>\n",
       "\n",
       "<p>These are all (internally) S4 generic.\n",
       "</p>\n",
       "<p><code>ceiling</code>, <code>floor</code> and <code>trunc</code> are members of the\n",
       "<code>Math</code> group generic.  As an S4\n",
       "generic, <code>trunc</code> has only one argument.\n",
       "</p>\n",
       "<p><code>round</code> and <code>signif</code> are members of the\n",
       "<code>Math2</code> group generic.\n",
       "</p>\n",
       "\n",
       "\n",
       "<h3>Warning</h3>\n",
       "\n",
       "<p>The realities of computer arithmetic can cause unexpected results,\n",
       "especially with <code>floor</code> and <code>ceiling</code>.  For example, we\n",
       "&lsquo;know&rsquo; that <code>floor(log(x, base = 8))</code> for <code>x = 8</code> is\n",
       "<code>1</code>, but <code>0</code> has been seen on an <span style=\"font-family: Courier New, Courier; color: #666666;\"><b>R</b></span> platform.  It is\n",
       "normally necessary to use a tolerance.\n",
       "</p>\n",
       "<p>Rounding to decimal digits in binary arithmetic is non-trivial (when\n",
       "<code>digits != 0</code>) and may be surprising.  Be aware that most decimal\n",
       "fractions are <em>not</em> exactly representable in binary double precision.\n",
       "In <span style=\"font-family: Courier New, Courier; color: #666666;\"><b>R</b></span> 4.0.0, the algorithm for <code>round(x, d)</code>, for <i>d &gt; 0</i>, has\n",
       "been improved to <em>measure</em> and round &ldquo;to nearest even&rdquo;,\n",
       "contrary to earlier versions of <span style=\"font-family: Courier New, Courier; color: #666666;\"><b>R</b></span> (or also to <code>sprintf()</code>\n",
       "or <code>format()</code> based rounding).\n",
       "</p>\n",
       "\n",
       "\n",
       "<h3>References</h3>\n",
       "\n",
       "<p>Becker, R. A., Chambers, J. M. and Wilks, A. R. (1988)\n",
       "<em>The New S Language</em>.  Wadsworth &amp; Brooks/Cole.\n",
       "</p>\n",
       "<p>The ISO/IEC/IEEE 60559:2011 standard is available for money from\n",
       "<a href=\"https://www.iso.org\">https://www.iso.org</a>.\n",
       "</p>\n",
       "<p>The IEEE 754:2008 standard is more openly documented, e.g, at\n",
       "<a href=\"https://en.wikipedia.org/wiki/IEEE_754\">https://en.wikipedia.org/wiki/IEEE_754</a>.\n",
       "</p>\n",
       "\n",
       "\n",
       "<h3>See Also</h3>\n",
       "\n",
       "<p><code>as.integer</code>.\n",
       "Package <a href=\"https://CRAN.R-project.org/package=round\"><span class=\"pkg\">round</span></a>'s <code>roundX()</code> for several\n",
       "versions or implementations of rounding, including some previous and the\n",
       "current <span style=\"font-family: Courier New, Courier; color: #666666;\"><b>R</b></span> version (as <code>version = \"3d.C\"</code>).\n",
       "</p>\n",
       "\n",
       "\n",
       "<h3>Examples</h3>\n",
       "\n",
       "<pre>\n",
       "round(.5 + -2:4) # IEEE / IEC rounding: -2  0  0  2  2  4  4\n",
       "## (this is *good* behaviour -- do *NOT* report it as bug !)\n",
       "\n",
       "( x1 &lt;- seq(-2, 4, by = .5) )\n",
       "round(x1) #-- IEEE / IEC rounding !\n",
       "x1[trunc(x1) != floor(x1)]\n",
       "x1[round(x1) != floor(x1 + .5)]\n",
       "(non.int &lt;- ceiling(x1) != floor(x1))\n",
       "\n",
       "x2 &lt;- pi * 100^(-1:3)\n",
       "round(x2, 3)\n",
       "signif(x2, 3)\n",
       "</pre>\n",
       "\n",
       "<hr /><div style=\"text-align: center;\">[Package <em>base</em> version 4.1.2 ]</div>"
      ],
      "text/latex": [
       "\\inputencoding{utf8}\n",
       "\\HeaderA{Round}{Rounding of Numbers}{Round}\n",
       "\\aliasA{ceiling}{Round}{ceiling}\n",
       "\\aliasA{floor}{Round}{floor}\n",
       "\\aliasA{round}{Round}{round}\n",
       "\\aliasA{signif}{Round}{signif}\n",
       "\\aliasA{trunc}{Round}{trunc}\n",
       "\\keyword{arith}{Round}\n",
       "%\n",
       "\\begin{Description}\\relax\n",
       "\\code{ceiling} takes a single numeric argument \\code{x} and returns a\n",
       "numeric vector containing the smallest integers not less than the\n",
       "corresponding elements of \\code{x}.\n",
       "\n",
       "\\code{floor} takes a single numeric argument \\code{x} and returns a\n",
       "numeric vector containing the largest integers not greater than the\n",
       "corresponding elements of \\code{x}.\n",
       "\n",
       "\\code{trunc} takes a single numeric argument \\code{x} and returns a\n",
       "numeric vector containing the integers formed by truncating the values in\n",
       "\\code{x} toward \\code{0}.\n",
       "\n",
       "\\code{round} rounds the values in its first argument to the specified\n",
       "number of decimal places (default 0).  See `Details' about\n",
       "``round to even'' when rounding off a 5.\n",
       "\n",
       "\\code{signif} rounds the values in its first argument to the specified\n",
       "number of significant digits.   Hence, for \\code{numeric} \\code{x},\n",
       "\\code{signif(x, dig)} is the same as \\code{round(x, dig - ceiling(log10(abs(x))))}.\n",
       "For \\code{\\LinkA{complex}{complex}} \\code{x}, this is not the case, \n",
       "see the `Details'.\n",
       "\\end{Description}\n",
       "%\n",
       "\\begin{Usage}\n",
       "\\begin{verbatim}\n",
       "ceiling(x)\n",
       "floor(x)\n",
       "trunc(x, ...)\n",
       "\n",
       "round(x, digits = 0)\n",
       "signif(x, digits = 6)\n",
       "\\end{verbatim}\n",
       "\\end{Usage}\n",
       "%\n",
       "\\begin{Arguments}\n",
       "\\begin{ldescription}\n",
       "\\item[\\code{x}] a numeric vector.  Or, for \\code{round} and \\code{signif}, a\n",
       "complex vector.\n",
       "\n",
       "\\item[\\code{digits}] integer indicating the number of decimal places\n",
       "(\\code{round}) or significant digits (\\code{signif}) to be used.\n",
       "Negative values are allowed (see `Details').\n",
       "\n",
       "\\item[\\code{...}] arguments to be passed to methods.\n",
       "\\end{ldescription}\n",
       "\\end{Arguments}\n",
       "%\n",
       "\\begin{Details}\\relax\n",
       "These are generic functions: methods can be defined for them\n",
       "individually or via the \\code{\\LinkA{Math}{S3groupGeneric}} group\n",
       "generic.\n",
       "\n",
       "Note that for rounding off a 5, the IEC 60559 standard (see also\n",
       "`IEEE 754') is expected to be used, `\\emph{go to the even digit}'.\n",
       "Therefore \\code{round(0.5)} is \\code{0} and \\code{round(-1.5)} is\n",
       "\\code{-2}.  However, this is dependent on OS services and on\n",
       "representation error (since e.g.~\\code{0.15} is not represented\n",
       "exactly, the rounding rule applies to the represented number and not\n",
       "to the printed number, and so \\code{round(0.15, 1)} could be either\n",
       "\\code{0.1} or \\code{0.2}).\n",
       "\n",
       "Rounding to a negative number of digits means rounding to a power of\n",
       "ten, so for example \\code{round(x, digits = -2)} rounds to the nearest\n",
       "hundred.\n",
       "\n",
       "For \\code{signif} the recognized values of \\code{digits} are\n",
       "\\code{1...22}, and non-missing values are rounded to the nearest\n",
       "integer in that range.  Complex numbers are rounded to retain the\n",
       "specified number of digits in the larger of the components.  Each\n",
       "element of the vector is rounded individually, unlike printing.\n",
       "\n",
       "These are all primitive functions.\n",
       "\\end{Details}\n",
       "%\n",
       "\\begin{Section}{S4 methods}\n",
       "These are all (internally) S4 generic.\n",
       "\n",
       "\\code{ceiling}, \\code{floor} and \\code{trunc} are members of the\n",
       "\\code{\\LinkA{Math}{S4groupGeneric}} group generic.  As an S4\n",
       "generic, \\code{trunc} has only one argument.\n",
       "\n",
       "\\code{round} and \\code{signif} are members of the\n",
       "\\code{\\LinkA{Math2}{S4groupGeneric}} group generic.\n",
       "\\end{Section}\n",
       "%\n",
       "\\begin{Section}{Warning}\n",
       "The realities of computer arithmetic can cause unexpected results,\n",
       "especially with \\code{floor} and \\code{ceiling}.  For example, we\n",
       "`know' that \\code{floor(log(x, base = 8))} for \\code{x = 8} is\n",
       "\\code{1}, but \\code{0} has been seen on an \\R{} platform.  It is\n",
       "normally necessary to use a tolerance.\n",
       "\n",
       "Rounding to decimal digits in binary arithmetic is non-trivial (when\n",
       "\\code{digits != 0}) and may be surprising.  Be aware that most decimal\n",
       "fractions are \\emph{not} exactly representable in binary double precision.\n",
       "In \\R{} 4.0.0, the algorithm for \\code{round(x, d)}, for \\eqn{d > 0}{}, has\n",
       "been improved to \\emph{measure} and round ``to nearest even'',\n",
       "contrary to earlier versions of \\R{} (or also to \\code{\\LinkA{sprintf}{sprintf}()}\n",
       "or \\code{\\LinkA{format}{format}()} based rounding).\n",
       "\\end{Section}\n",
       "%\n",
       "\\begin{References}\\relax\n",
       "Becker, R. A., Chambers, J. M. and Wilks, A. R. (1988)\n",
       "\\emph{The New S Language}.  Wadsworth \\& Brooks/Cole.\n",
       "\n",
       "The ISO/IEC/IEEE 60559:2011 standard is available for money from\n",
       "\\url{https://www.iso.org}.\n",
       "\n",
       "The IEEE 754:2008 standard is more openly documented, e.g, at\n",
       "\\url{https://en.wikipedia.org/wiki/IEEE_754}.\n",
       "\\end{References}\n",
       "%\n",
       "\\begin{SeeAlso}\\relax\n",
       "\\code{\\LinkA{as.integer}{as.integer}}.\n",
       "Package \\Rhref{https://CRAN.R-project.org/package=round}{\\pkg{round}}'s \\code{\\LinkA{roundX}{roundX}()} for several\n",
       "versions or implementations of rounding, including some previous and the\n",
       "current \\R{} version (as \\code{version = \"3d.C\"}).\n",
       "\\end{SeeAlso}\n",
       "%\n",
       "\\begin{Examples}\n",
       "\\begin{ExampleCode}\n",
       "round(.5 + -2:4) # IEEE / IEC rounding: -2  0  0  2  2  4  4\n",
       "## (this is *good* behaviour -- do *NOT* report it as bug !)\n",
       "\n",
       "( x1 <- seq(-2, 4, by = .5) )\n",
       "round(x1) #-- IEEE / IEC rounding !\n",
       "x1[trunc(x1) != floor(x1)]\n",
       "x1[round(x1) != floor(x1 + .5)]\n",
       "(non.int <- ceiling(x1) != floor(x1))\n",
       "\n",
       "x2 <- pi * 100^(-1:3)\n",
       "round(x2, 3)\n",
       "signif(x2, 3)\n",
       "\\end{ExampleCode}\n",
       "\\end{Examples}"
      ],
      "text/plain": [
       "Round                   package:base                   R Documentation\n",
       "\n",
       "_\bR_\bo_\bu_\bn_\bd_\bi_\bn_\bg _\bo_\bf _\bN_\bu_\bm_\bb_\be_\br_\bs\n",
       "\n",
       "_\bD_\be_\bs_\bc_\br_\bi_\bp_\bt_\bi_\bo_\bn:\n",
       "\n",
       "     ‘ceiling’ takes a single numeric argument ‘x’ and returns a\n",
       "     numeric vector containing the smallest integers not less than the\n",
       "     corresponding elements of ‘x’.\n",
       "\n",
       "     ‘floor’ takes a single numeric argument ‘x’ and returns a numeric\n",
       "     vector containing the largest integers not greater than the\n",
       "     corresponding elements of ‘x’.\n",
       "\n",
       "     ‘trunc’ takes a single numeric argument ‘x’ and returns a numeric\n",
       "     vector containing the integers formed by truncating the values in\n",
       "     ‘x’ toward ‘0’.\n",
       "\n",
       "     ‘round’ rounds the values in its first argument to the specified\n",
       "     number of decimal places (default 0).  See ‘Details’ about “round\n",
       "     to even” when rounding off a 5.\n",
       "\n",
       "     ‘signif’ rounds the values in its first argument to the specified\n",
       "     number of significant digits.  Hence, for ‘numeric’ ‘x’,\n",
       "     ‘signif(x, dig)’ is the same as ‘round(x, dig -\n",
       "     ceiling(log10(abs(x))))’.  For ‘complex’ ‘x’, this is not the\n",
       "     case, see the ‘Details’.\n",
       "\n",
       "_\bU_\bs_\ba_\bg_\be:\n",
       "\n",
       "     ceiling(x)\n",
       "     floor(x)\n",
       "     trunc(x, ...)\n",
       "     \n",
       "     round(x, digits = 0)\n",
       "     signif(x, digits = 6)\n",
       "     \n",
       "_\bA_\br_\bg_\bu_\bm_\be_\bn_\bt_\bs:\n",
       "\n",
       "       x: a numeric vector.  Or, for ‘round’ and ‘signif’, a complex\n",
       "          vector.\n",
       "\n",
       "  digits: integer indicating the number of decimal places (‘round’) or\n",
       "          significant digits (‘signif’) to be used.  Negative values\n",
       "          are allowed (see ‘Details’).\n",
       "\n",
       "     ...: arguments to be passed to methods.\n",
       "\n",
       "_\bD_\be_\bt_\ba_\bi_\bl_\bs:\n",
       "\n",
       "     These are generic functions: methods can be defined for them\n",
       "     individually or via the ‘Math’ group generic.\n",
       "\n",
       "     Note that for rounding off a 5, the IEC 60559 standard (see also\n",
       "     ‘IEEE 754’) is expected to be used, ‘_go to the even digit_’.\n",
       "     Therefore ‘round(0.5)’ is ‘0’ and ‘round(-1.5)’ is ‘-2’.  However,\n",
       "     this is dependent on OS services and on representation error\n",
       "     (since e.g. ‘0.15’ is not represented exactly, the rounding rule\n",
       "     applies to the represented number and not to the printed number,\n",
       "     and so ‘round(0.15, 1)’ could be either ‘0.1’ or ‘0.2’).\n",
       "\n",
       "     Rounding to a negative number of digits means rounding to a power\n",
       "     of ten, so for example ‘round(x, digits = -2)’ rounds to the\n",
       "     nearest hundred.\n",
       "\n",
       "     For ‘signif’ the recognized values of ‘digits’ are ‘1...22’, and\n",
       "     non-missing values are rounded to the nearest integer in that\n",
       "     range.  Complex numbers are rounded to retain the specified number\n",
       "     of digits in the larger of the components.  Each element of the\n",
       "     vector is rounded individually, unlike printing.\n",
       "\n",
       "     These are all primitive functions.\n",
       "\n",
       "_\bS_\b4 _\bm_\be_\bt_\bh_\bo_\bd_\bs:\n",
       "\n",
       "     These are all (internally) S4 generic.\n",
       "\n",
       "     ‘ceiling’, ‘floor’ and ‘trunc’ are members of the ‘Math’ group\n",
       "     generic.  As an S4 generic, ‘trunc’ has only one argument.\n",
       "\n",
       "     ‘round’ and ‘signif’ are members of the ‘Math2’ group generic.\n",
       "\n",
       "_\bW_\ba_\br_\bn_\bi_\bn_\bg:\n",
       "\n",
       "     The realities of computer arithmetic can cause unexpected results,\n",
       "     especially with ‘floor’ and ‘ceiling’.  For example, we ‘know’\n",
       "     that ‘floor(log(x, base = 8))’ for ‘x = 8’ is ‘1’, but ‘0’ has\n",
       "     been seen on an R platform.  It is normally necessary to use a\n",
       "     tolerance.\n",
       "\n",
       "     Rounding to decimal digits in binary arithmetic is non-trivial\n",
       "     (when ‘digits != 0’) and may be surprising.  Be aware that most\n",
       "     decimal fractions are _not_ exactly representable in binary double\n",
       "     precision.  In R 4.0.0, the algorithm for ‘round(x, d)’, for d >\n",
       "     0, has been improved to _measure_ and round “to nearest even”,\n",
       "     contrary to earlier versions of R (or also to ‘sprintf()’ or\n",
       "     ‘format()’ based rounding).\n",
       "\n",
       "_\bR_\be_\bf_\be_\br_\be_\bn_\bc_\be_\bs:\n",
       "\n",
       "     Becker, R. A., Chambers, J. M. and Wilks, A. R. (1988) _The New S\n",
       "     Language_.  Wadsworth & Brooks/Cole.\n",
       "\n",
       "     The ISO/IEC/IEEE 60559:2011 standard is available for money from\n",
       "     <URL: https://www.iso.org>.\n",
       "\n",
       "     The IEEE 754:2008 standard is more openly documented, e.g, at\n",
       "     <URL: https://en.wikipedia.org/wiki/IEEE_754>.\n",
       "\n",
       "_\bS_\be_\be _\bA_\bl_\bs_\bo:\n",
       "\n",
       "     ‘as.integer’.  Package ‘round’'s ‘roundX()’ for several versions\n",
       "     or implementations of rounding, including some previous and the\n",
       "     current R version (as ‘version = \"3d.C\"’).\n",
       "\n",
       "_\bE_\bx_\ba_\bm_\bp_\bl_\be_\bs:\n",
       "\n",
       "     round(.5 + -2:4) # IEEE / IEC rounding: -2  0  0  2  2  4  4\n",
       "     ## (this is *good* behaviour -- do *NOT* report it as bug !)\n",
       "     \n",
       "     ( x1 <- seq(-2, 4, by = .5) )\n",
       "     round(x1) #-- IEEE / IEC rounding !\n",
       "     x1[trunc(x1) != floor(x1)]\n",
       "     x1[round(x1) != floor(x1 + .5)]\n",
       "     (non.int <- ceiling(x1) != floor(x1))\n",
       "     \n",
       "     x2 <- pi * 100^(-1:3)\n",
       "     round(x2, 3)\n",
       "     signif(x2, 3)\n",
       "     "
      ]
     },
     "metadata": {},
     "output_type": "display_data"
    }
   ],
   "source": [
    "# cell 6\n",
    "help(round)"
   ]
  },
  {
   "cell_type": "code",
   "execution_count": 7,
   "metadata": {
    "tags": []
   },
   "outputs": [
    {
     "data": {
      "text/html": [
       "\n",
       "<table width=\"100%\" summary=\"page for log {base}\"><tr><td>log {base}</td><td style=\"text-align: right;\">R Documentation</td></tr></table>\n",
       "\n",
       "<h2>Logarithms and Exponentials</h2>\n",
       "\n",
       "<h3>Description</h3>\n",
       "\n",
       "<p><code>log</code> computes logarithms, by default natural logarithms,\n",
       "<code>log10</code> computes common (i.e., base 10) logarithms, and\n",
       "<code>log2</code> computes binary (i.e., base 2) logarithms.\n",
       "The general form <code>log(x, base)</code> computes logarithms with base\n",
       "<code>base</code>.\n",
       "</p>\n",
       "<p><code>log1p(x)</code> computes <i>log(1+x)</i> accurately also for\n",
       "<i>|x| &lt;&lt; 1</i>.\n",
       "</p>\n",
       "<p><code>exp</code> computes the exponential function.\n",
       "</p>\n",
       "<p><code>expm1(x)</code> computes <i>exp(x) - 1</i> accurately also for\n",
       "<i>|x| &lt;&lt; 1</i>.\n",
       "</p>\n",
       "\n",
       "\n",
       "<h3>Usage</h3>\n",
       "\n",
       "<pre>\n",
       "log(x, base = exp(1))\n",
       "logb(x, base = exp(1))\n",
       "log10(x)\n",
       "log2(x)\n",
       "\n",
       "log1p(x)\n",
       "\n",
       "exp(x)\n",
       "expm1(x)\n",
       "</pre>\n",
       "\n",
       "\n",
       "<h3>Arguments</h3>\n",
       "\n",
       "<table summary=\"R argblock\">\n",
       "<tr valign=\"top\"><td><code>x</code></td>\n",
       "<td>\n",
       "<p>a numeric or complex vector.</p>\n",
       "</td></tr>\n",
       "<tr valign=\"top\"><td><code>base</code></td>\n",
       "<td>\n",
       "<p>a positive or complex number: the base with respect to which\n",
       "logarithms are computed.  Defaults to <i>e</i>=<code>exp(1)</code>.</p>\n",
       "</td></tr>\n",
       "</table>\n",
       "\n",
       "\n",
       "<h3>Details</h3>\n",
       "\n",
       "<p>All except <code>logb</code> are generic functions: methods can be defined\n",
       "for them individually or via the <code>Math</code>\n",
       "group generic.\n",
       "</p>\n",
       "<p><code>log10</code> and <code>log2</code> are only convenience wrappers, but logs\n",
       "to bases 10 and 2 (whether computed <em>via</em> <code>log</code> or the wrappers)\n",
       "will be computed more efficiently and accurately where supported by the OS.\n",
       "Methods can be set for them individually (and otherwise methods for\n",
       "<code>log</code> will be used).\n",
       "</p>\n",
       "<p><code>logb</code> is a wrapper for <code>log</code> for compatibility with S.  If\n",
       "(S3 or S4) methods are set for <code>log</code> they will be dispatched.\n",
       "Do not set S4 methods on <code>logb</code> itself.\n",
       "</p>\n",
       "<p>All except <code>log</code> are primitive functions.\n",
       "</p>\n",
       "\n",
       "\n",
       "<h3>Value</h3>\n",
       "\n",
       "<p>A vector of the same length as <code>x</code> containing the transformed\n",
       "values.  <code>log(0)</code> gives <code>-Inf</code>, and <code>log(x)</code> for\n",
       "negative values of <code>x</code> is <code>NaN</code>.  <code>exp(-Inf)</code> is <code>0</code>.\n",
       "</p>\n",
       "<p>For complex inputs to the log functions, the value is a complex number\n",
       "with imaginary part in the range <i>[-pi, pi]</i>: which\n",
       "end of the range is used might be platform-specific.\n",
       "</p>\n",
       "\n",
       "\n",
       "<h3>S4 methods</h3>\n",
       "\n",
       "<p><code>exp</code>, <code>expm1</code>, <code>log</code>, <code>log10</code>, <code>log2</code> and\n",
       "<code>log1p</code> are S4 generic and are members of the\n",
       "<code>Math</code> group generic.\n",
       "</p>\n",
       "<p>Note that this means that the S4 generic for <code>log</code> has a\n",
       "signature with only one argument, <code>x</code>, but that <code>base</code> can\n",
       "be passed to methods (but will not be used for method selection).  On\n",
       "the other hand, if you only set a method for the <code>Math</code> group\n",
       "generic then <code>base</code> argument of <code>log</code> will be ignored for\n",
       "your class.\n",
       "</p>\n",
       "\n",
       "\n",
       "<h3>Source</h3>\n",
       "\n",
       "<p><code>log1p</code> and <code>expm1</code> may be taken from the operating system,\n",
       "but if not available there then they are based on the Fortran subroutine\n",
       "<code>dlnrel</code> by W. Fullerton of Los Alamos Scientific Laboratory (see\n",
       "<a href=\"https://www.netlib.org/slatec/fnlib/dlnrel.f\">https://www.netlib.org/slatec/fnlib/dlnrel.f</a>) and (for small x) a\n",
       "single Newton step for the solution of <code>log1p(y) = x</code>\n",
       "respectively.\n",
       "</p>\n",
       "\n",
       "\n",
       "<h3>References</h3>\n",
       "\n",
       "<p>Becker, R. A., Chambers, J. M. and Wilks, A. R. (1988)\n",
       "<em>The New S Language</em>.\n",
       "Wadsworth &amp; Brooks/Cole.\n",
       "(for <code>log</code>, <code>log10</code> and <code>exp</code>.)\n",
       "</p>\n",
       "<p>Chambers, J. M. (1998)\n",
       "<em>Programming with Data.  A Guide to the S Language</em>.\n",
       "Springer. (for <code>logb</code>.)\n",
       "</p>\n",
       "\n",
       "\n",
       "<h3>See Also</h3>\n",
       "\n",
       "<p><code>Trig</code>,\n",
       "<code>sqrt</code>,\n",
       "<code>Arithmetic</code>.\n",
       "</p>\n",
       "\n",
       "\n",
       "<h3>Examples</h3>\n",
       "\n",
       "<pre>\n",
       "log(exp(3))\n",
       "log10(1e7) # = 7\n",
       "\n",
       "x &lt;- 10^-(1+2*1:9)\n",
       "cbind(x, log(1+x), log1p(x), exp(x)-1, expm1(x))\n",
       "</pre>\n",
       "\n",
       "<hr /><div style=\"text-align: center;\">[Package <em>base</em> version 4.1.2 ]</div>"
      ],
      "text/latex": [
       "\\inputencoding{utf8}\n",
       "\\HeaderA{log}{Logarithms and Exponentials}{log}\n",
       "\\aliasA{exp}{log}{exp}\n",
       "\\aliasA{expm1}{log}{expm1}\n",
       "\\aliasA{log10}{log}{log10}\n",
       "\\aliasA{log1p}{log}{log1p}\n",
       "\\aliasA{log2}{log}{log2}\n",
       "\\aliasA{logb}{log}{logb}\n",
       "\\keyword{math}{log}\n",
       "%\n",
       "\\begin{Description}\\relax\n",
       "\\code{log} computes logarithms, by default natural logarithms,\n",
       "\\code{log10} computes common (i.e., base 10) logarithms, and\n",
       "\\code{log2} computes binary (i.e., base 2) logarithms.\n",
       "The general form \\code{log(x, base)} computes logarithms with base\n",
       "\\code{base}.\n",
       "\n",
       "\\code{log1p(x)} computes \\eqn{\\log(1+x)}{} accurately also for\n",
       "\\eqn{|x| \\ll 1}{}.\n",
       "\n",
       "\\code{exp} computes the exponential function.\n",
       "\n",
       "\\code{expm1(x)} computes \\eqn{\\exp(x) - 1}{} accurately also for\n",
       "\\eqn{|x| \\ll 1}{}.\n",
       "\\end{Description}\n",
       "%\n",
       "\\begin{Usage}\n",
       "\\begin{verbatim}\n",
       "log(x, base = exp(1))\n",
       "logb(x, base = exp(1))\n",
       "log10(x)\n",
       "log2(x)\n",
       "\n",
       "log1p(x)\n",
       "\n",
       "exp(x)\n",
       "expm1(x)\n",
       "\\end{verbatim}\n",
       "\\end{Usage}\n",
       "%\n",
       "\\begin{Arguments}\n",
       "\\begin{ldescription}\n",
       "\\item[\\code{x}] a numeric or complex vector.\n",
       "\\item[\\code{base}] a positive or complex number: the base with respect to which\n",
       "logarithms are computed.  Defaults to \\eqn{e}{}=\\code{exp(1)}.\n",
       "\n",
       "\\end{ldescription}\n",
       "\\end{Arguments}\n",
       "%\n",
       "\\begin{Details}\\relax\n",
       "All except \\code{logb} are generic functions: methods can be defined\n",
       "for them individually or via the \\code{\\LinkA{Math}{S3groupGeneric}}\n",
       "group generic.\n",
       "\n",
       "\\code{log10} and \\code{log2} are only convenience wrappers, but logs\n",
       "to bases 10 and 2 (whether computed \\emph{via} \\code{log} or the wrappers)\n",
       "will be computed more efficiently and accurately where supported by the OS.\n",
       "Methods can be set for them individually (and otherwise methods for\n",
       "\\code{log} will be used).\n",
       "\n",
       "\\code{logb} is a wrapper for \\code{log} for compatibility with S.  If\n",
       "(S3 or S4) methods are set for \\code{log} they will be dispatched.\n",
       "Do not set S4 methods on \\code{logb} itself.\n",
       "\n",
       "All except \\code{log} are \\LinkA{primitive}{primitive} functions.\n",
       "\\end{Details}\n",
       "%\n",
       "\\begin{Value}\n",
       "A vector of the same length as \\code{x} containing the transformed\n",
       "values.  \\code{log(0)} gives \\code{-Inf}, and \\code{log(x)} for\n",
       "negative values of \\code{x} is \\code{NaN}.  \\code{exp(-Inf)} is \\code{0}.\n",
       "\n",
       "For complex inputs to the log functions, the value is a complex number\n",
       "with imaginary part in the range \\eqn{[-\\pi, \\pi]}{}: which\n",
       "end of the range is used might be platform-specific.\n",
       "\\end{Value}\n",
       "%\n",
       "\\begin{Section}{S4 methods}\n",
       "\\code{exp}, \\code{expm1}, \\code{log}, \\code{log10}, \\code{log2} and\n",
       "\\code{log1p} are S4 generic and are members of the\n",
       "\\code{\\LinkA{Math}{S4groupGeneric}} group generic.\n",
       "\n",
       "Note that this means that the S4 generic for \\code{log} has a\n",
       "signature with only one argument, \\code{x}, but that \\code{base} can\n",
       "be passed to methods (but will not be used for method selection).  On\n",
       "the other hand, if you only set a method for the \\code{Math} group\n",
       "generic then \\code{base} argument of \\code{log} will be ignored for\n",
       "your class.\n",
       "\\end{Section}\n",
       "%\n",
       "\\begin{Source}\\relax\n",
       "\\code{log1p} and \\code{expm1} may be taken from the operating system,\n",
       "but if not available there then they are based on the Fortran subroutine\n",
       "\\code{dlnrel} by W. Fullerton of Los Alamos Scientific Laboratory (see\n",
       "\\url{https://www.netlib.org/slatec/fnlib/dlnrel.f}) and (for small x) a\n",
       "single Newton step for the solution of \\code{log1p(y) = x}\n",
       "respectively.\n",
       "\\end{Source}\n",
       "%\n",
       "\\begin{References}\\relax\n",
       "Becker, R. A., Chambers, J. M. and Wilks, A. R. (1988)\n",
       "\\emph{The New S Language}.\n",
       "Wadsworth \\& Brooks/Cole.\n",
       "(for \\code{log}, \\code{log10} and \\code{exp}.)\n",
       "\n",
       "Chambers, J. M. (1998)\n",
       "\\emph{Programming with Data.  A Guide to the S Language}.\n",
       "Springer. (for \\code{logb}.)\n",
       "\\end{References}\n",
       "%\n",
       "\\begin{SeeAlso}\\relax\n",
       "\\code{\\LinkA{Trig}{Trig}},\n",
       "\\code{\\LinkA{sqrt}{sqrt}},\n",
       "\\code{\\LinkA{Arithmetic}{Arithmetic}}.\n",
       "\\end{SeeAlso}\n",
       "%\n",
       "\\begin{Examples}\n",
       "\\begin{ExampleCode}\n",
       "log(exp(3))\n",
       "log10(1e7) # = 7\n",
       "\n",
       "x <- 10^-(1+2*1:9)\n",
       "cbind(x, log(1+x), log1p(x), exp(x)-1, expm1(x))\n",
       "\\end{ExampleCode}\n",
       "\\end{Examples}"
      ],
      "text/plain": [
       "log                    package:base                    R Documentation\n",
       "\n",
       "_\bL_\bo_\bg_\ba_\br_\bi_\bt_\bh_\bm_\bs _\ba_\bn_\bd _\bE_\bx_\bp_\bo_\bn_\be_\bn_\bt_\bi_\ba_\bl_\bs\n",
       "\n",
       "_\bD_\be_\bs_\bc_\br_\bi_\bp_\bt_\bi_\bo_\bn:\n",
       "\n",
       "     ‘log’ computes logarithms, by default natural logarithms, ‘log10’\n",
       "     computes common (i.e., base 10) logarithms, and ‘log2’ computes\n",
       "     binary (i.e., base 2) logarithms.  The general form ‘log(x, base)’\n",
       "     computes logarithms with base ‘base’.\n",
       "\n",
       "     ‘log1p(x)’ computes log(1+x) accurately also for |x| << 1.\n",
       "\n",
       "     ‘exp’ computes the exponential function.\n",
       "\n",
       "     ‘expm1(x)’ computes exp(x) - 1 accurately also for |x| << 1.\n",
       "\n",
       "_\bU_\bs_\ba_\bg_\be:\n",
       "\n",
       "     log(x, base = exp(1))\n",
       "     logb(x, base = exp(1))\n",
       "     log10(x)\n",
       "     log2(x)\n",
       "     \n",
       "     log1p(x)\n",
       "     \n",
       "     exp(x)\n",
       "     expm1(x)\n",
       "     \n",
       "_\bA_\br_\bg_\bu_\bm_\be_\bn_\bt_\bs:\n",
       "\n",
       "       x: a numeric or complex vector.\n",
       "\n",
       "    base: a positive or complex number: the base with respect to which\n",
       "          logarithms are computed.  Defaults to e=‘exp(1)’.\n",
       "\n",
       "_\bD_\be_\bt_\ba_\bi_\bl_\bs:\n",
       "\n",
       "     All except ‘logb’ are generic functions: methods can be defined\n",
       "     for them individually or via the ‘Math’ group generic.\n",
       "\n",
       "     ‘log10’ and ‘log2’ are only convenience wrappers, but logs to\n",
       "     bases 10 and 2 (whether computed _via_ ‘log’ or the wrappers) will\n",
       "     be computed more efficiently and accurately where supported by the\n",
       "     OS.  Methods can be set for them individually (and otherwise\n",
       "     methods for ‘log’ will be used).\n",
       "\n",
       "     ‘logb’ is a wrapper for ‘log’ for compatibility with S.  If (S3 or\n",
       "     S4) methods are set for ‘log’ they will be dispatched.  Do not set\n",
       "     S4 methods on ‘logb’ itself.\n",
       "\n",
       "     All except ‘log’ are primitive functions.\n",
       "\n",
       "_\bV_\ba_\bl_\bu_\be:\n",
       "\n",
       "     A vector of the same length as ‘x’ containing the transformed\n",
       "     values.  ‘log(0)’ gives ‘-Inf’, and ‘log(x)’ for negative values\n",
       "     of ‘x’ is ‘NaN’.  ‘exp(-Inf)’ is ‘0’.\n",
       "\n",
       "     For complex inputs to the log functions, the value is a complex\n",
       "     number with imaginary part in the range [-pi, pi]: which end of\n",
       "     the range is used might be platform-specific.\n",
       "\n",
       "_\bS_\b4 _\bm_\be_\bt_\bh_\bo_\bd_\bs:\n",
       "\n",
       "     ‘exp’, ‘expm1’, ‘log’, ‘log10’, ‘log2’ and ‘log1p’ are S4 generic\n",
       "     and are members of the ‘Math’ group generic.\n",
       "\n",
       "     Note that this means that the S4 generic for ‘log’ has a signature\n",
       "     with only one argument, ‘x’, but that ‘base’ can be passed to\n",
       "     methods (but will not be used for method selection).  On the other\n",
       "     hand, if you only set a method for the ‘Math’ group generic then\n",
       "     ‘base’ argument of ‘log’ will be ignored for your class.\n",
       "\n",
       "_\bS_\bo_\bu_\br_\bc_\be:\n",
       "\n",
       "     ‘log1p’ and ‘expm1’ may be taken from the operating system, but if\n",
       "     not available there then they are based on the Fortran subroutine\n",
       "     ‘dlnrel’ by W. Fullerton of Los Alamos Scientific Laboratory (see\n",
       "     <URL: https://www.netlib.org/slatec/fnlib/dlnrel.f>) and (for\n",
       "     small x) a single Newton step for the solution of ‘log1p(y) = x’\n",
       "     respectively.\n",
       "\n",
       "_\bR_\be_\bf_\be_\br_\be_\bn_\bc_\be_\bs:\n",
       "\n",
       "     Becker, R. A., Chambers, J. M. and Wilks, A. R. (1988) _The New S\n",
       "     Language_.  Wadsworth & Brooks/Cole.  (for ‘log’, ‘log10’ and\n",
       "     ‘exp’.)\n",
       "\n",
       "     Chambers, J. M. (1998) _Programming with Data.  A Guide to the S\n",
       "     Language_.  Springer. (for ‘logb’.)\n",
       "\n",
       "_\bS_\be_\be _\bA_\bl_\bs_\bo:\n",
       "\n",
       "     ‘Trig’, ‘sqrt’, ‘Arithmetic’.\n",
       "\n",
       "_\bE_\bx_\ba_\bm_\bp_\bl_\be_\bs:\n",
       "\n",
       "     log(exp(3))\n",
       "     log10(1e7) # = 7\n",
       "     \n",
       "     x <- 10^-(1+2*1:9)\n",
       "     cbind(x, log(1+x), log1p(x), exp(x)-1, expm1(x))\n",
       "     "
      ]
     },
     "metadata": {},
     "output_type": "display_data"
    }
   ],
   "source": [
    "# cell 7\n",
    "?exp"
   ]
  },
  {
   "cell_type": "markdown",
   "metadata": {},
   "source": [
    "<div class=\"alert alert-block alert-info\"><b>Tip:</b> If you want to mask the help, go to the cell and click on its left. </div>"
   ]
  },
  {
   "cell_type": "markdown",
   "metadata": {},
   "source": [
    "### **I-2 - Assigning data into R objects, using and reading them**\n",
    "---"
   ]
  },
  {
   "cell_type": "markdown",
   "metadata": {},
   "source": [
    "We can store values in R objects/variables to reuse them in another command.\n",
    "To do so, use `<-` made with `<` and `-`. *An alternative is to use `=`. For code clarity, it is not recommanded.*\n",
    "\n",
    "Let's assign for example `2` to `x`:"
   ]
  },
  {
   "cell_type": "code",
   "execution_count": 8,
   "metadata": {},
   "outputs": [],
   "source": [
    "# cell 8\n",
    "x <- 2"
   ]
  },
  {
   "cell_type": "markdown",
   "metadata": {},
   "source": [
    "To know what is in `x` just enter `x`:"
   ]
  },
  {
   "cell_type": "code",
   "execution_count": 9,
   "metadata": {},
   "outputs": [
    {
     "data": {
      "text/html": [
       "2"
      ],
      "text/latex": [
       "2"
      ],
      "text/markdown": [
       "2"
      ],
      "text/plain": [
       "[1] 2"
      ]
     },
     "metadata": {},
     "output_type": "display_data"
    }
   ],
   "source": [
    "# cell 9\n",
    "x"
   ]
  },
  {
   "cell_type": "markdown",
   "metadata": {},
   "source": [
    "We can do operations on x:"
   ]
  },
  {
   "cell_type": "code",
   "execution_count": 10,
   "metadata": {},
   "outputs": [
    {
     "data": {
      "text/html": [
       "4"
      ],
      "text/latex": [
       "4"
      ],
      "text/markdown": [
       "4"
      ],
      "text/plain": [
       "[1] 4"
      ]
     },
     "metadata": {},
     "output_type": "display_data"
    }
   ],
   "source": [
    "# cell 10\n",
    "x + x"
   ]
  },
  {
   "cell_type": "markdown",
   "metadata": {},
   "source": [
    "You can then assign an operation with `x` to `y` ."
   ]
  },
  {
   "cell_type": "code",
   "execution_count": 11,
   "metadata": {},
   "outputs": [],
   "source": [
    "# cell 11\n",
    "y <- x + 3"
   ]
  },
  {
   "cell_type": "markdown",
   "metadata": {},
   "source": [
    "To get the result y, enter it in the next command:"
   ]
  },
  {
   "cell_type": "code",
   "execution_count": 12,
   "metadata": {},
   "outputs": [
    {
     "data": {
      "text/html": [
       "5"
      ],
      "text/latex": [
       "5"
      ],
      "text/markdown": [
       "5"
      ],
      "text/plain": [
       "[1] 5"
      ]
     },
     "metadata": {},
     "output_type": "display_data"
    }
   ],
   "source": [
    "# cell 12\n",
    "y"
   ]
  },
  {
   "cell_type": "code",
   "execution_count": 13,
   "metadata": {},
   "outputs": [
    {
     "data": {
      "text/html": [
       "5"
      ],
      "text/latex": [
       "5"
      ],
      "text/markdown": [
       "5"
      ],
      "text/plain": [
       "[1] 5"
      ]
     },
     "metadata": {},
     "output_type": "display_data"
    }
   ],
   "source": [
    "# cell 13\n",
    "x <- 4\n",
    "y"
   ]
  },
  {
   "cell_type": "markdown",
   "metadata": {},
   "source": [
    "<div class=\"alert alert-block alert-danger\"><b>Caution:</b> \n",
    "If you assign a new value to x, y will not change because the result of the operation x+3 was stored in y, not the operation \"x + 3\" itself.\n",
    "</div>"
   ]
  },
  {
   "cell_type": "markdown",
   "metadata": {},
   "source": [
    "So you would have to rerun the command assigning `x+3` to y to change the value of y."
   ]
  },
  {
   "cell_type": "code",
   "execution_count": 14,
   "metadata": {},
   "outputs": [
    {
     "data": {
      "text/html": [
       "7"
      ],
      "text/latex": [
       "7"
      ],
      "text/markdown": [
       "7"
      ],
      "text/plain": [
       "[1] 7"
      ]
     },
     "metadata": {},
     "output_type": "display_data"
    }
   ],
   "source": [
    "# cell 14\n",
    "y <- x + 3\n",
    "y"
   ]
  },
  {
   "cell_type": "markdown",
   "metadata": {},
   "source": [
    "In addition to numeric values, we can store other kind of data in an object. For example we will put a string of character in s. Strings of characters have to be entered between \"quotes\""
   ]
  },
  {
   "cell_type": "code",
   "execution_count": 15,
   "metadata": {},
   "outputs": [
    {
     "data": {
      "text/html": [
       "'this is a string of characters'"
      ],
      "text/latex": [
       "'this is a string of characters'"
      ],
      "text/markdown": [
       "'this is a string of characters'"
      ],
      "text/plain": [
       "[1] \"this is a string of characters\""
      ]
     },
     "metadata": {},
     "output_type": "display_data"
    }
   ],
   "source": [
    "# cell 15\n",
    "s <- \"this is a string of characters\"\n",
    "s"
   ]
  },
  {
   "cell_type": "markdown",
   "metadata": {},
   "source": [
    "Of note, you can check the type of an R object using `class()`."
   ]
  },
  {
   "cell_type": "code",
   "execution_count": 16,
   "metadata": {},
   "outputs": [
    {
     "data": {
      "text/html": [
       "'numeric'"
      ],
      "text/latex": [
       "'numeric'"
      ],
      "text/markdown": [
       "'numeric'"
      ],
      "text/plain": [
       "[1] \"numeric\""
      ]
     },
     "metadata": {},
     "output_type": "display_data"
    },
    {
     "data": {
      "text/html": [
       "'character'"
      ],
      "text/latex": [
       "'character'"
      ],
      "text/markdown": [
       "'character'"
      ],
      "text/plain": [
       "[1] \"character\""
      ]
     },
     "metadata": {},
     "output_type": "display_data"
    }
   ],
   "source": [
    "# cell 16\n",
    "class(x)\n",
    "class(s)"
   ]
  },
  {
   "cell_type": "markdown",
   "metadata": {},
   "source": [
    "It is important that numeric values are well encoded as numeric in R and not as strings of characters. Y"
   ]
  },
  {
   "cell_type": "code",
   "execution_count": 17,
   "metadata": {},
   "outputs": [
    {
     "data": {
      "text/html": [
       "'1'"
      ],
      "text/latex": [
       "'1'"
      ],
      "text/markdown": [
       "'1'"
      ],
      "text/plain": [
       "[1] \"1\""
      ]
     },
     "metadata": {},
     "output_type": "display_data"
    },
    {
     "data": {
      "text/html": [
       "'character'"
      ],
      "text/latex": [
       "'character'"
      ],
      "text/markdown": [
       "'character'"
      ],
      "text/plain": [
       "[1] \"character\""
      ]
     },
     "metadata": {},
     "output_type": "display_data"
    },
    {
     "data": {
      "text/html": [
       "'numeric'"
      ],
      "text/latex": [
       "'numeric'"
      ],
      "text/markdown": [
       "'numeric'"
      ],
      "text/plain": [
       "[1] \"numeric\""
      ]
     },
     "metadata": {},
     "output_type": "display_data"
    }
   ],
   "source": [
    "# cell 17\n",
    "\"1\"\n",
    "class(\"1\")\n",
    "class(1)"
   ]
  },
  {
   "cell_type": "markdown",
   "metadata": {},
   "source": [
    "If you try to add `\"1\"` and 3,  an error message is returned here since we are trying to make an impossible operation:"
   ]
  },
  {
   "cell_type": "code",
   "execution_count": 18,
   "metadata": {},
   "outputs": [
    {
     "name": "stdout",
     "output_type": "stream",
     "text": [
      "Error in \"1\" + 3 : non-numeric argument to binary operator\n"
     ]
    }
   ],
   "source": [
    "# cell 18\n",
    "try(\"1\" + 3)# I added the try function to avoid stopping the notebook if you want to run all the cells"
   ]
  },
  {
   "cell_type": "markdown",
   "metadata": {},
   "source": [
    "If you are using numeric variables, the operation can be done:"
   ]
  },
  {
   "cell_type": "code",
   "execution_count": 19,
   "metadata": {},
   "outputs": [
    {
     "data": {
      "text/html": [
       "4"
      ],
      "text/latex": [
       "4"
      ],
      "text/markdown": [
       "4"
      ],
      "text/plain": [
       "[1] 4"
      ]
     },
     "metadata": {},
     "output_type": "display_data"
    }
   ],
   "source": [
    "# cell 19\n",
    "1 + 3"
   ]
  },
  {
   "cell_type": "markdown",
   "metadata": {},
   "source": [
    "\n",
    "\n",
    "### **I.3 - Managing your session**\n",
    "---"
   ]
  },
  {
   "cell_type": "markdown",
   "metadata": {},
   "source": [
    "When working with R, it is always a good practice to document the R version you are using and the packages that are loaded. The function is `sessionInfo()`."
   ]
  },
  {
   "cell_type": "code",
   "execution_count": 20,
   "metadata": {},
   "outputs": [
    {
     "data": {
      "text/plain": [
       "R version 4.1.2 (2021-11-01)\n",
       "Platform: x86_64-conda-linux-gnu (64-bit)\n",
       "Running under: Ubuntu 18.04.4 LTS\n",
       "\n",
       "Matrix products: default\n",
       "BLAS/LAPACK: /srv/conda/envs/notebook/lib/libopenblasp-r0.3.18.so\n",
       "\n",
       "locale:\n",
       " [1] LC_CTYPE=en_US.UTF-8       LC_NUMERIC=C              \n",
       " [3] LC_TIME=en_US.UTF-8        LC_COLLATE=en_US.UTF-8    \n",
       " [5] LC_MONETARY=en_US.UTF-8    LC_MESSAGES=en_US.UTF-8   \n",
       " [7] LC_PAPER=en_US.UTF-8       LC_NAME=C                 \n",
       " [9] LC_ADDRESS=C               LC_TELEPHONE=C            \n",
       "[11] LC_MEASUREMENT=en_US.UTF-8 LC_IDENTIFICATION=C       \n",
       "\n",
       "attached base packages:\n",
       "[1] stats     graphics  grDevices utils     datasets  methods   base     \n",
       "\n",
       "loaded via a namespace (and not attached):\n",
       " [1] fansi_1.0.2     utf8_1.2.2      digest_0.6.29   crayon_1.5.0   \n",
       " [5] IRdisplay_1.1   repr_1.1.4      lifecycle_1.0.1 jsonlite_1.8.0 \n",
       " [9] evaluate_0.15   pillar_1.7.0    rlang_1.0.2     cli_3.2.0      \n",
       "[13] uuid_1.0-4      vctrs_0.3.8     ellipsis_0.3.2  IRkernel_1.2   \n",
       "[17] tools_4.1.2     glue_1.6.2      fastmap_1.1.0   compiler_4.1.2 \n",
       "[21] base64enc_0.1-3 pbdZMQ_0.3-7    htmltools_0.5.2"
      ]
     },
     "metadata": {},
     "output_type": "display_data"
    }
   ],
   "source": [
    "# cell 20\n",
    "sessionInfo()"
   ]
  },
  {
   "cell_type": "markdown",
   "metadata": {},
   "source": [
    "As you can see, the version 4.0.5 is the one installed. By default, some \"base\" packages like stats are loaded. We will see in another R Session that we can load other packages.\n",
    "\n",
    "The command `getwd()` gives you the path of your working directory. It is similar to `pwd` in bash."
   ]
  },
  {
   "cell_type": "code",
   "execution_count": 21,
   "metadata": {},
   "outputs": [
    {
     "data": {
      "text/html": [
       "'/srv/home/cvandiedonck/pass_rs_ue3_bistats'"
      ],
      "text/latex": [
       "'/srv/home/cvandiedonck/pass\\_rs\\_ue3\\_bistats'"
      ],
      "text/markdown": [
       "'/srv/home/cvandiedonck/pass_rs_ue3_bistats'"
      ],
      "text/plain": [
       "[1] \"/srv/home/cvandiedonck/pass_rs_ue3_bistats\""
      ]
     },
     "metadata": {},
     "output_type": "display_data"
    }
   ],
   "source": [
    "# cell 21\n",
    "getwd()"
   ]
  },
  {
   "cell_type": "markdown",
   "metadata": {},
   "source": [
    "<div class=\"alert alert-block alert-warning\"><b>The result should be like this:</b>`'/srv/home/votre_login/pass_rs_ue3_bistats'`.</div>"
   ]
  },
  {
   "cell_type": "markdown",
   "metadata": {},
   "source": [
    "If needed, you can change it to another directory with `setwd()`. For example in the directory containing this notebook like in the example below(do not execute it)."
   ]
  },
  {
   "cell_type": "raw",
   "metadata": {},
   "source": [
    "setwd('/srv/home/cvandiedonck/megm1_ue5_r/R0') #change with your login!!!\n",
    "getwd() #change is visible"
   ]
  },
  {
   "cell_type": "markdown",
   "metadata": {},
   "source": [
    "\n",
    "### **I-4 - Managing objects in your R Session and working directory**\n",
    "___\n"
   ]
  },
  {
   "cell_type": "markdown",
   "metadata": {},
   "source": [
    "The objects `x`, `y`and `s` you have cretaed above are only present in your R session, but they are not written in your working directory on the computer -> they are not present in the left-hand panel of Jupyter Lab.\n",
    "\n",
    "So, to know which objects you have in your R session, you can use the same function as in Unix/bash to list the files. The only difference is that in R you add brackets to use functions  `ls()`."
   ]
  },
  {
   "cell_type": "code",
   "execution_count": 22,
   "metadata": {},
   "outputs": [
    {
     "data": {
      "text/html": [
       "<style>\n",
       ".list-inline {list-style: none; margin:0; padding: 0}\n",
       ".list-inline>li {display: inline-block}\n",
       ".list-inline>li:not(:last-child)::after {content: \"\\00b7\"; padding: 0 .5ex}\n",
       "</style>\n",
       "<ol class=list-inline><li>'s'</li><li>'x'</li><li>'y'</li></ol>\n"
      ],
      "text/latex": [
       "\\begin{enumerate*}\n",
       "\\item 's'\n",
       "\\item 'x'\n",
       "\\item 'y'\n",
       "\\end{enumerate*}\n"
      ],
      "text/markdown": [
       "1. 's'\n",
       "2. 'x'\n",
       "3. 'y'\n",
       "\n",
       "\n"
      ],
      "text/plain": [
       "[1] \"s\" \"x\" \"y\""
      ]
     },
     "metadata": {},
     "output_type": "display_data"
    }
   ],
   "source": [
    "# cell 22\n",
    "ls()"
   ]
  },
  {
   "cell_type": "markdown",
   "metadata": {},
   "source": [
    "Similarly, you can get rid of an object with the function `rm()`."
   ]
  },
  {
   "cell_type": "code",
   "execution_count": 23,
   "metadata": {},
   "outputs": [
    {
     "data": {
      "text/html": [
       "<style>\n",
       ".list-inline {list-style: none; margin:0; padding: 0}\n",
       ".list-inline>li {display: inline-block}\n",
       ".list-inline>li:not(:last-child)::after {content: \"\\00b7\"; padding: 0 .5ex}\n",
       "</style>\n",
       "<ol class=list-inline><li>'s'</li><li>'x'</li></ol>\n"
      ],
      "text/latex": [
       "\\begin{enumerate*}\n",
       "\\item 's'\n",
       "\\item 'x'\n",
       "\\end{enumerate*}\n"
      ],
      "text/markdown": [
       "1. 's'\n",
       "2. 'x'\n",
       "\n",
       "\n"
      ],
      "text/plain": [
       "[1] \"s\" \"x\""
      ]
     },
     "metadata": {},
     "output_type": "display_data"
    }
   ],
   "source": [
    "# cell 23\n",
    "rm(y)\n",
    "ls()"
   ]
  },
  {
   "cell_type": "markdown",
   "metadata": {},
   "source": [
    "Conversely, you can also look at the data on your computer from R with the function `dir()` or `list.files()`. With the second function, you can add an argument to specify a pattern of interest."
   ]
  },
  {
   "cell_type": "code",
   "execution_count": 24,
   "metadata": {},
   "outputs": [
    {
     "data": {
      "text/html": [
       "<style>\n",
       ".list-inline {list-style: none; margin:0; padding: 0}\n",
       ".list-inline>li {display: inline-block}\n",
       ".list-inline>li:not(:last-child)::after {content: \"\\00b7\"; padding: 0 .5ex}\n",
       "</style>\n",
       "<ol class=list-inline><li>'binder'</li><li>'bioinfo_1_correction_executed.ipynb'</li><li>'bioinfo_1.ipynb'</li><li>'biostats_1_executed.ipynb'</li><li>'biostats_1.ipynb'</li><li>'data'</li><li>'LICENSE'</li><li>'micro_projet_bi'</li><li>'micro_projet_bi_student_CV.ipynb'</li><li>'micro_projet_bi_student.ipynb'</li><li>'README.md'</li></ol>\n"
      ],
      "text/latex": [
       "\\begin{enumerate*}\n",
       "\\item 'binder'\n",
       "\\item 'bioinfo\\_1\\_correction\\_executed.ipynb'\n",
       "\\item 'bioinfo\\_1.ipynb'\n",
       "\\item 'biostats\\_1\\_executed.ipynb'\n",
       "\\item 'biostats\\_1.ipynb'\n",
       "\\item 'data'\n",
       "\\item 'LICENSE'\n",
       "\\item 'micro\\_projet\\_bi'\n",
       "\\item 'micro\\_projet\\_bi\\_student\\_CV.ipynb'\n",
       "\\item 'micro\\_projet\\_bi\\_student.ipynb'\n",
       "\\item 'README.md'\n",
       "\\end{enumerate*}\n"
      ],
      "text/markdown": [
       "1. 'binder'\n",
       "2. 'bioinfo_1_correction_executed.ipynb'\n",
       "3. 'bioinfo_1.ipynb'\n",
       "4. 'biostats_1_executed.ipynb'\n",
       "5. 'biostats_1.ipynb'\n",
       "6. 'data'\n",
       "7. 'LICENSE'\n",
       "8. 'micro_projet_bi'\n",
       "9. 'micro_projet_bi_student_CV.ipynb'\n",
       "10. 'micro_projet_bi_student.ipynb'\n",
       "11. 'README.md'\n",
       "\n",
       "\n"
      ],
      "text/plain": [
       " [1] \"binder\"                              \"bioinfo_1_correction_executed.ipynb\"\n",
       " [3] \"bioinfo_1.ipynb\"                     \"biostats_1_executed.ipynb\"          \n",
       " [5] \"biostats_1.ipynb\"                    \"data\"                               \n",
       " [7] \"LICENSE\"                             \"micro_projet_bi\"                    \n",
       " [9] \"micro_projet_bi_student_CV.ipynb\"    \"micro_projet_bi_student.ipynb\"      \n",
       "[11] \"README.md\"                          "
      ]
     },
     "metadata": {},
     "output_type": "display_data"
    }
   ],
   "source": [
    "# cell 24\n",
    "dir()"
   ]
  },
  {
   "cell_type": "code",
   "execution_count": 25,
   "metadata": {},
   "outputs": [
    {
     "data": {
      "text/html": [
       "<style>\n",
       ".list-inline {list-style: none; margin:0; padding: 0}\n",
       ".list-inline>li {display: inline-block}\n",
       ".list-inline>li:not(:last-child)::after {content: \"\\00b7\"; padding: 0 .5ex}\n",
       "</style>\n",
       "<ol class=list-inline><li>'bioinfo_1_correction_executed.ipynb'</li><li>'bioinfo_1.ipynb'</li><li>'biostats_1_executed.ipynb'</li><li>'biostats_1.ipynb'</li><li>'micro_projet_bi_student_CV.ipynb'</li><li>'micro_projet_bi_student.ipynb'</li></ol>\n"
      ],
      "text/latex": [
       "\\begin{enumerate*}\n",
       "\\item 'bioinfo\\_1\\_correction\\_executed.ipynb'\n",
       "\\item 'bioinfo\\_1.ipynb'\n",
       "\\item 'biostats\\_1\\_executed.ipynb'\n",
       "\\item 'biostats\\_1.ipynb'\n",
       "\\item 'micro\\_projet\\_bi\\_student\\_CV.ipynb'\n",
       "\\item 'micro\\_projet\\_bi\\_student.ipynb'\n",
       "\\end{enumerate*}\n"
      ],
      "text/markdown": [
       "1. 'bioinfo_1_correction_executed.ipynb'\n",
       "2. 'bioinfo_1.ipynb'\n",
       "3. 'biostats_1_executed.ipynb'\n",
       "4. 'biostats_1.ipynb'\n",
       "5. 'micro_projet_bi_student_CV.ipynb'\n",
       "6. 'micro_projet_bi_student.ipynb'\n",
       "\n",
       "\n"
      ],
      "text/plain": [
       "[1] \"bioinfo_1_correction_executed.ipynb\" \"bioinfo_1.ipynb\"                    \n",
       "[3] \"biostats_1_executed.ipynb\"           \"biostats_1.ipynb\"                   \n",
       "[5] \"micro_projet_bi_student_CV.ipynb\"    \"micro_projet_bi_student.ipynb\"      "
      ]
     },
     "metadata": {},
     "output_type": "display_data"
    }
   ],
   "source": [
    "# cell 25\n",
    "list.files(pattern=\".ipynb\")"
   ]
  },
  {
   "cell_type": "markdown",
   "metadata": {},
   "source": [
    "### **I.5 - Saving your data, session, and history**\n",
    "___\n"
   ]
  },
  {
   "cell_type": "markdown",
   "metadata": {},
   "source": [
    "Before quitting R, you will probably want to save objects and other session information on your computer to be able to find them again next time you use R.\n",
    "By default, all the data and files you save will be saved in your ***working directory***."
   ]
  },
  {
   "cell_type": "markdown",
   "metadata": {},
   "source": [
    "#### **a - Saving specific data *(or functions)***"
   ]
  },
  {
   "cell_type": "markdown",
   "metadata": {},
   "source": [
    "The function `save()` is used to save a specific object in your computer. You will have to give a name to the file on your computer. Generally, we save them with the extension `.RData`."
   ]
  },
  {
   "cell_type": "code",
   "execution_count": 26,
   "metadata": {},
   "outputs": [],
   "source": [
    "# cell 26\n",
    "save(x,file=\"x.RData\")"
   ]
  },
  {
   "cell_type": "markdown",
   "metadata": {},
   "source": [
    "With the above command, you should have created the file `x.Rdata` in your working directory. Check it is present on the left-hand panel of Jupyter Lab.<br>\n",
    "Now, if you remove `x` from your R session, you can load it back again with the `load()` function."
   ]
  },
  {
   "cell_type": "code",
   "execution_count": 27,
   "metadata": {},
   "outputs": [
    {
     "data": {
      "text/html": [
       "'s'"
      ],
      "text/latex": [
       "'s'"
      ],
      "text/markdown": [
       "'s'"
      ],
      "text/plain": [
       "[1] \"s\""
      ]
     },
     "metadata": {},
     "output_type": "display_data"
    }
   ],
   "source": [
    "# cell 27\n",
    "rm(x)\n",
    "ls()"
   ]
  },
  {
   "cell_type": "code",
   "execution_count": 28,
   "metadata": {},
   "outputs": [
    {
     "data": {
      "text/html": [
       "<style>\n",
       ".list-inline {list-style: none; margin:0; padding: 0}\n",
       ".list-inline>li {display: inline-block}\n",
       ".list-inline>li:not(:last-child)::after {content: \"\\00b7\"; padding: 0 .5ex}\n",
       "</style>\n",
       "<ol class=list-inline><li>'s'</li><li>'x'</li></ol>\n"
      ],
      "text/latex": [
       "\\begin{enumerate*}\n",
       "\\item 's'\n",
       "\\item 'x'\n",
       "\\end{enumerate*}\n"
      ],
      "text/markdown": [
       "1. 's'\n",
       "2. 'x'\n",
       "\n",
       "\n"
      ],
      "text/plain": [
       "[1] \"s\" \"x\""
      ]
     },
     "metadata": {},
     "output_type": "display_data"
    },
    {
     "data": {
      "text/html": [
       "4"
      ],
      "text/latex": [
       "4"
      ],
      "text/markdown": [
       "4"
      ],
      "text/plain": [
       "[1] 4"
      ]
     },
     "metadata": {},
     "output_type": "display_data"
    }
   ],
   "source": [
    "# cell 28\n",
    "load(\"x.RData\")\n",
    "ls()\n",
    "x #x is again accessible"
   ]
  },
  {
   "cell_type": "markdown",
   "metadata": {},
   "source": [
    "You can also delete the file from the working directory with the function `file.remove()`."
   ]
  },
  {
   "cell_type": "code",
   "execution_count": 29,
   "metadata": {},
   "outputs": [
    {
     "data": {
      "text/html": [
       "TRUE"
      ],
      "text/latex": [
       "TRUE"
      ],
      "text/markdown": [
       "TRUE"
      ],
      "text/plain": [
       "[1] TRUE"
      ]
     },
     "metadata": {},
     "output_type": "display_data"
    }
   ],
   "source": [
    "# cell 29\n",
    "file.remove(\"x.RData\") #remove file: returns TRUE on successful removal"
   ]
  },
  {
   "cell_type": "markdown",
   "metadata": {},
   "source": [
    "Instead of saving a single object, you can save several by listing them all as separate arguments in the `save()` function."
   ]
  },
  {
   "cell_type": "code",
   "execution_count": 30,
   "metadata": {},
   "outputs": [],
   "source": [
    "# cell 30\n",
    "save(x,s, file=\"xands.RData\")"
   ]
  },
  {
   "cell_type": "code",
   "execution_count": 31,
   "metadata": {},
   "outputs": [
    {
     "data": {
      "text/html": [
       "TRUE"
      ],
      "text/latex": [
       "TRUE"
      ],
      "text/markdown": [
       "TRUE"
      ],
      "text/plain": [
       "[1] TRUE"
      ]
     },
     "metadata": {},
     "output_type": "display_data"
    }
   ],
   "source": [
    "# cell 31\n",
    "file.remove(\"xands.RData\")# to clean the working directory"
   ]
  },
  {
   "cell_type": "markdown",
   "metadata": {},
   "source": [
    "#### **b - Saving all variables *(and functions)* at once**"
   ]
  },
  {
   "cell_type": "markdown",
   "metadata": {},
   "source": [
    "It is even more efficient when you want to save all objects to use the function `save.image()`"
   ]
  },
  {
   "cell_type": "code",
   "execution_count": 32,
   "metadata": {},
   "outputs": [
    {
     "data": {
      "text/html": [
       "<style>\n",
       ".list-inline {list-style: none; margin:0; padding: 0}\n",
       ".list-inline>li {display: inline-block}\n",
       ".list-inline>li:not(:last-child)::after {content: \"\\00b7\"; padding: 0 .5ex}\n",
       "</style>\n",
       "<ol class=list-inline><li>'s'</li><li>'x'</li></ol>\n"
      ],
      "text/latex": [
       "\\begin{enumerate*}\n",
       "\\item 's'\n",
       "\\item 'x'\n",
       "\\end{enumerate*}\n"
      ],
      "text/markdown": [
       "1. 's'\n",
       "2. 'x'\n",
       "\n",
       "\n"
      ],
      "text/plain": [
       "[1] \"s\" \"x\""
      ]
     },
     "metadata": {},
     "output_type": "display_data"
    }
   ],
   "source": [
    "# cell 32\n",
    "ls()\n",
    "save.image(file=\"AllMyData.RData\")"
   ]
  },
  {
   "cell_type": "markdown",
   "metadata": {},
   "source": [
    "And similarly you can upload them all back after removing all objects in the session or starting a new one."
   ]
  },
  {
   "cell_type": "code",
   "execution_count": 33,
   "metadata": {},
   "outputs": [
    {
     "data": {
      "text/html": [],
      "text/latex": [],
      "text/markdown": [],
      "text/plain": [
       "character(0)"
      ]
     },
     "metadata": {},
     "output_type": "display_data"
    }
   ],
   "source": [
    "# cell 33\n",
    "rm(list=ls()) # this command removes all the objects on the R session\n",
    "ls() #all variables have been removed"
   ]
  },
  {
   "cell_type": "code",
   "execution_count": 34,
   "metadata": {},
   "outputs": [
    {
     "data": {
      "text/html": [
       "<style>\n",
       ".list-inline {list-style: none; margin:0; padding: 0}\n",
       ".list-inline>li {display: inline-block}\n",
       ".list-inline>li:not(:last-child)::after {content: \"\\00b7\"; padding: 0 .5ex}\n",
       "</style>\n",
       "<ol class=list-inline><li>'s'</li><li>'x'</li></ol>\n"
      ],
      "text/latex": [
       "\\begin{enumerate*}\n",
       "\\item 's'\n",
       "\\item 'x'\n",
       "\\end{enumerate*}\n"
      ],
      "text/markdown": [
       "1. 's'\n",
       "2. 'x'\n",
       "\n",
       "\n"
      ],
      "text/plain": [
       "[1] \"s\" \"x\""
      ]
     },
     "metadata": {},
     "output_type": "display_data"
    },
    {
     "data": {
      "text/html": [
       "TRUE"
      ],
      "text/latex": [
       "TRUE"
      ],
      "text/markdown": [
       "TRUE"
      ],
      "text/plain": [
       "[1] TRUE"
      ]
     },
     "metadata": {},
     "output_type": "display_data"
    },
    {
     "data": {
      "text/html": [
       "<style>\n",
       ".list-inline {list-style: none; margin:0; padding: 0}\n",
       ".list-inline>li {display: inline-block}\n",
       ".list-inline>li:not(:last-child)::after {content: \"\\00b7\"; padding: 0 .5ex}\n",
       "</style>\n",
       "<ol class=list-inline><li>'s'</li><li>'x'</li></ol>\n"
      ],
      "text/latex": [
       "\\begin{enumerate*}\n",
       "\\item 's'\n",
       "\\item 'x'\n",
       "\\end{enumerate*}\n"
      ],
      "text/markdown": [
       "1. 's'\n",
       "2. 'x'\n",
       "\n",
       "\n"
      ],
      "text/plain": [
       "[1] \"s\" \"x\""
      ]
     },
     "metadata": {},
     "output_type": "display_data"
    }
   ],
   "source": [
    "# cell 34\n",
    "load(\"AllMyData.RData\")\n",
    "ls() #all variables are accessible again\n",
    "file.remove(\"AllMyData.RData\")\n",
    "ls()"
   ]
  },
  {
   "cell_type": "markdown",
   "metadata": {},
   "source": [
    "#### **c- Save \"history\"** = all past commands"
   ]
  },
  {
   "cell_type": "markdown",
   "metadata": {},
   "source": [
    "<div class=\"alert alert-block alert-warning\"><b> Do not run</b>. It does not work in R notebooks where no history is saved because we are running independant cells! The command below would be the one to run in R shell (Terminal > R) or in RStudio (change \"lab\" in URL to \"rstudio\").</div>"
   ]
  },
  {
   "cell_type": "raw",
   "metadata": {},
   "source": [
    "ls()\n",
    "savehistory(file=\"MyHistory.Rhistory\") #save all previously run commands in a special formatted file\n",
    "loadhistory(\"MyHistory.Rhistory\") #load all commands stored in the specified file\n",
    "my_history <- read.delim(\"MyHistory.Rhistory\") #see how the file is formatted: number of line and associated command\n",
    "head(my_history)"
   ]
  },
  {
   "cell_type": "markdown",
   "metadata": {},
   "source": [
    "\n",
    "### **I.6 - Classes and types of R objects**\n",
    "___\n"
   ]
  },
  {
   "cell_type": "markdown",
   "metadata": {},
   "source": [
    "#### **a - Classes of R objects**"
   ]
  },
  {
   "cell_type": "markdown",
   "metadata": {},
   "source": [
    "The main types of variables are :\n",
    "\n",
    "- numeric/integer\n",
    "- character\n",
    "- logical (FALSE/TRUE/NA)\n",
    "- factors"
   ]
  },
  {
   "cell_type": "code",
   "execution_count": 35,
   "metadata": {},
   "outputs": [
    {
     "data": {
      "text/html": [
       "<style>\n",
       ".list-inline {list-style: none; margin:0; padding: 0}\n",
       ".list-inline>li {display: inline-block}\n",
       ".list-inline>li:not(:last-child)::after {content: \"\\00b7\"; padding: 0 .5ex}\n",
       "</style>\n",
       "<ol class=list-inline><li>3</li><li>7</li><li>1</li><li>2</li></ol>\n"
      ],
      "text/latex": [
       "\\begin{enumerate*}\n",
       "\\item 3\n",
       "\\item 7\n",
       "\\item 1\n",
       "\\item 2\n",
       "\\end{enumerate*}\n"
      ],
      "text/markdown": [
       "1. 3\n",
       "2. 7\n",
       "3. 1\n",
       "4. 2\n",
       "\n",
       "\n"
      ],
      "text/plain": [
       "[1] 3 7 1 2"
      ]
     },
     "metadata": {},
     "output_type": "display_data"
    }
   ],
   "source": [
    "# cell 35\n",
    "x <- c(3,7,1,2) # we define a variable x with 4 numeric values concatenated\n",
    "x"
   ]
  },
  {
   "cell_type": "markdown",
   "metadata": {},
   "source": [
    "To have a more classical R display than in a notebook, you can add print()."
   ]
  },
  {
   "cell_type": "code",
   "execution_count": 36,
   "metadata": {},
   "outputs": [
    {
     "name": "stdout",
     "output_type": "stream",
     "text": [
      "[1] 3 7 1 2\n"
     ]
    }
   ],
   "source": [
    "# cell 36\n",
    "print(x) "
   ]
  },
  {
   "cell_type": "markdown",
   "metadata": {},
   "source": [
    "X contains 4 numeric values. We can check it is numeric with the function `is.numeric()`."
   ]
  },
  {
   "cell_type": "code",
   "execution_count": 37,
   "metadata": {},
   "outputs": [
    {
     "data": {
      "text/html": [
       "TRUE"
      ],
      "text/latex": [
       "TRUE"
      ],
      "text/markdown": [
       "TRUE"
      ],
      "text/plain": [
       "[1] TRUE"
      ]
     },
     "metadata": {},
     "output_type": "display_data"
    }
   ],
   "source": [
    "# cell 37\n",
    "is.numeric(x)"
   ]
  },
  {
   "cell_type": "markdown",
   "metadata": {},
   "source": [
    "It returns the logical value `TRUE`.\n",
    "\n",
    "You can also perform tests that will return logical values. Below we test wether the values in x are below 2."
   ]
  },
  {
   "cell_type": "code",
   "execution_count": 38,
   "metadata": {},
   "outputs": [
    {
     "data": {
      "text/html": [
       "<style>\n",
       ".list-inline {list-style: none; margin:0; padding: 0}\n",
       ".list-inline>li {display: inline-block}\n",
       ".list-inline>li:not(:last-child)::after {content: \"\\00b7\"; padding: 0 .5ex}\n",
       "</style>\n",
       "<ol class=list-inline><li>FALSE</li><li>FALSE</li><li>TRUE</li><li>FALSE</li></ol>\n"
      ],
      "text/latex": [
       "\\begin{enumerate*}\n",
       "\\item FALSE\n",
       "\\item FALSE\n",
       "\\item TRUE\n",
       "\\item FALSE\n",
       "\\end{enumerate*}\n"
      ],
      "text/markdown": [
       "1. FALSE\n",
       "2. FALSE\n",
       "3. TRUE\n",
       "4. FALSE\n",
       "\n",
       "\n"
      ],
      "text/plain": [
       "[1] FALSE FALSE  TRUE FALSE"
      ]
     },
     "metadata": {},
     "output_type": "display_data"
    }
   ],
   "source": [
    "# cell 38\n",
    "x<2 # we test wether the 4 values are < 2"
   ]
  },
  {
   "cell_type": "markdown",
   "metadata": {},
   "source": [
    "Only the third value of x is < 2. Similarly, we can test which values of x are equal to 2."
   ]
  },
  {
   "cell_type": "code",
   "execution_count": 39,
   "metadata": {},
   "outputs": [
    {
     "data": {
      "text/html": [
       "<style>\n",
       ".list-inline {list-style: none; margin:0; padding: 0}\n",
       ".list-inline>li {display: inline-block}\n",
       ".list-inline>li:not(:last-child)::after {content: \"\\00b7\"; padding: 0 .5ex}\n",
       "</style>\n",
       "<ol class=list-inline><li>FALSE</li><li>FALSE</li><li>FALSE</li><li>TRUE</li></ol>\n"
      ],
      "text/latex": [
       "\\begin{enumerate*}\n",
       "\\item FALSE\n",
       "\\item FALSE\n",
       "\\item FALSE\n",
       "\\item TRUE\n",
       "\\end{enumerate*}\n"
      ],
      "text/markdown": [
       "1. FALSE\n",
       "2. FALSE\n",
       "3. FALSE\n",
       "4. TRUE\n",
       "\n",
       "\n"
      ],
      "text/plain": [
       "[1] FALSE FALSE FALSE  TRUE"
      ]
     },
     "metadata": {},
     "output_type": "display_data"
    }
   ],
   "source": [
    "# cell 39\n",
    "x==2"
   ]
  },
  {
   "cell_type": "markdown",
   "metadata": {},
   "source": [
    "In R, the function `class()` returns the class of the object. The functions `is.logical()`, `is.numeric()`, `is.character()`,...test whether the values are of this type. You may enventually do a type conversion with `as.numeric()`, `as.logical()`, ..."
   ]
  },
  {
   "cell_type": "code",
   "execution_count": 40,
   "metadata": {},
   "outputs": [
    {
     "data": {
      "text/html": [
       "'numeric'"
      ],
      "text/latex": [
       "'numeric'"
      ],
      "text/markdown": [
       "'numeric'"
      ],
      "text/plain": [
       "[1] \"numeric\""
      ]
     },
     "metadata": {},
     "output_type": "display_data"
    },
    {
     "data": {
      "text/html": [
       "'character'"
      ],
      "text/latex": [
       "'character'"
      ],
      "text/markdown": [
       "'character'"
      ],
      "text/plain": [
       "[1] \"character\""
      ]
     },
     "metadata": {},
     "output_type": "display_data"
    },
    {
     "data": {
      "text/html": [
       "TRUE"
      ],
      "text/latex": [
       "TRUE"
      ],
      "text/markdown": [
       "TRUE"
      ],
      "text/plain": [
       "[1] TRUE"
      ]
     },
     "metadata": {},
     "output_type": "display_data"
    },
    {
     "data": {
      "text/html": [
       "FALSE"
      ],
      "text/latex": [
       "FALSE"
      ],
      "text/markdown": [
       "FALSE"
      ],
      "text/plain": [
       "[1] FALSE"
      ]
     },
     "metadata": {},
     "output_type": "display_data"
    },
    {
     "name": "stdout",
     "output_type": "stream",
     "text": [
      "[1] 0 0 1 0\n"
     ]
    },
    {
     "data": {
      "text/html": [
       "FALSE"
      ],
      "text/latex": [
       "FALSE"
      ],
      "text/markdown": [
       "FALSE"
      ],
      "text/plain": [
       "[1] FALSE"
      ]
     },
     "metadata": {},
     "output_type": "display_data"
    },
    {
     "data": {
      "text/html": [
       "TRUE"
      ],
      "text/latex": [
       "TRUE"
      ],
      "text/markdown": [
       "TRUE"
      ],
      "text/plain": [
       "[1] TRUE"
      ]
     },
     "metadata": {},
     "output_type": "display_data"
    },
    {
     "data": {
      "text/html": [
       "FALSE"
      ],
      "text/latex": [
       "FALSE"
      ],
      "text/markdown": [
       "FALSE"
      ],
      "text/plain": [
       "[1] FALSE"
      ]
     },
     "metadata": {},
     "output_type": "display_data"
    }
   ],
   "source": [
    "# cell 40\n",
    "class(x)\n",
    "class(s)\n",
    "is.character(s)\n",
    "is.numeric(s)\n",
    "print(as.numeric(x<2))\n",
    "is.numeric(\"1\")\n",
    "is.numeric(as.numeric(\"1\"))\n",
    "is.numeric(c(1,\"1\"))"
   ]
  },
  {
   "cell_type": "markdown",
   "metadata": {},
   "source": [
    "***Coercion rules:*** There are some coercion rules when doing conversions on concatenating elements of different types: `logical <integer < numeric < complex < character < list`\n",
    "- if character strings are present, everything will be coerced to a character string.\n",
    "- otherwise logical values are coerced to numbers: TRUE is converted to 1, FALSE to 0\n",
    "- values are converted to the simplest type required to represent all information\n",
    "- object attributes (sort of metadata of objects/variables like their names) are dropped"
   ]
  },
  {
   "cell_type": "markdown",
   "metadata": {},
   "source": [
    "#### **b. Main data structures in R**\n",
    "\n",
    "There are 4 main data structures in R. The heterogeneous ones accept several classes inside.\n",
    "\n",
    "|   object  | Can it be heterogeneous? |\n",
    "|:---------:|:------------------------:|\n",
    "|   vector  |            no            |\n",
    "|   matrix  |            no            |\n",
    "| dataframe |            yes           |\n",
    "|    list   |            yes           |"
   ]
  },
  {
   "cell_type": "markdown",
   "metadata": {},
   "source": [
    "## **II. Vectors**\n",
    "\n",
    "- They are **the most elementary R objects**. They have one dimension. Some functions to create them are `c()`, `seq()`, `:`, `rep()`, `append()`..."
   ]
  },
  {
   "cell_type": "code",
   "execution_count": 41,
   "metadata": {},
   "outputs": [
    {
     "data": {
      "text/plain": [
       "NULL"
      ]
     },
     "metadata": {},
     "output_type": "display_data"
    }
   ],
   "source": [
    "# cell 41\n",
    "a <- c()\n",
    "a"
   ]
  },
  {
   "cell_type": "code",
   "execution_count": 42,
   "metadata": {},
   "outputs": [
    {
     "data": {
      "text/html": [
       "<style>\n",
       ".list-inline {list-style: none; margin:0; padding: 0}\n",
       ".list-inline>li {display: inline-block}\n",
       ".list-inline>li:not(:last-child)::after {content: \"\\00b7\"; padding: 0 .5ex}\n",
       "</style>\n",
       "<ol class=list-inline><li>60</li><li>72</li><li>57</li><li>90</li><li>95</li><li>72</li></ol>\n"
      ],
      "text/latex": [
       "\\begin{enumerate*}\n",
       "\\item 60\n",
       "\\item 72\n",
       "\\item 57\n",
       "\\item 90\n",
       "\\item 95\n",
       "\\item 72\n",
       "\\end{enumerate*}\n"
      ],
      "text/markdown": [
       "1. 60\n",
       "2. 72\n",
       "3. 57\n",
       "4. 90\n",
       "5. 95\n",
       "6. 72\n",
       "\n",
       "\n"
      ],
      "text/plain": [
       "[1] 60 72 57 90 95 72"
      ]
     },
     "metadata": {},
     "output_type": "display_data"
    }
   ],
   "source": [
    "# cell 42\n",
    "weight <- c(60, 72, 57, 90, 95, 72)\n",
    "weight"
   ]
  },
  {
   "cell_type": "markdown",
   "metadata": {},
   "source": [
    "<div class=\"alert alert-block alert-info\"><b>Remark:</b><br> In such a jupyter notebook, by default each item of a vector is displayed sperated by a median dot. Should you wish to display a vector in a more classical way like in the R console with the index of the first value of each line indicated between [], you should use the function <b>print()</b>. </div>\n"
   ]
  },
  {
   "cell_type": "code",
   "execution_count": 43,
   "metadata": {},
   "outputs": [
    {
     "name": "stdout",
     "output_type": "stream",
     "text": [
      "[1] 60 72 57 90 95 72\n"
     ]
    }
   ],
   "source": [
    "# cell 43\n",
    "print(weight)"
   ]
  },
  {
   "cell_type": "code",
   "execution_count": 44,
   "metadata": {},
   "outputs": [
    {
     "data": {
      "text/html": [
       "<style>\n",
       ".list-inline {list-style: none; margin:0; padding: 0}\n",
       ".list-inline>li {display: inline-block}\n",
       ".list-inline>li:not(:last-child)::after {content: \"\\00b7\"; padding: 0 .5ex}\n",
       "</style>\n",
       "<ol class=list-inline><li>4</li><li>5</li><li>6</li><li>7</li><li>8</li><li>9</li><li>10</li></ol>\n"
      ],
      "text/latex": [
       "\\begin{enumerate*}\n",
       "\\item 4\n",
       "\\item 5\n",
       "\\item 6\n",
       "\\item 7\n",
       "\\item 8\n",
       "\\item 9\n",
       "\\item 10\n",
       "\\end{enumerate*}\n"
      ],
      "text/markdown": [
       "1. 4\n",
       "2. 5\n",
       "3. 6\n",
       "4. 7\n",
       "5. 8\n",
       "6. 9\n",
       "7. 10\n",
       "\n",
       "\n"
      ],
      "text/plain": [
       "[1]  4  5  6  7  8  9 10"
      ]
     },
     "metadata": {},
     "output_type": "display_data"
    },
    {
     "name": "stdout",
     "output_type": "stream",
     "text": [
      "[1]  4  5  6  7  8  9 10\n"
     ]
    }
   ],
   "source": [
    "# cell 44\n",
    "4:10\n",
    "print(4:10)"
   ]
  },
  {
   "cell_type": "code",
   "execution_count": 45,
   "metadata": {},
   "outputs": [
    {
     "name": "stdout",
     "output_type": "stream",
     "text": [
      "[1]  4  5  6  7  8  9 10\n"
     ]
    }
   ],
   "source": [
    "# cell 45\n",
    "print(seq(4,10))"
   ]
  },
  {
   "cell_type": "code",
   "execution_count": 46,
   "metadata": {},
   "outputs": [
    {
     "name": "stdout",
     "output_type": "stream",
     "text": [
      "[1]  2  4  6  8 10\n"
     ]
    }
   ],
   "source": [
    "# cell 46\n",
    "print(seq(2,10,2))"
   ]
  },
  {
   "cell_type": "code",
   "execution_count": 47,
   "metadata": {},
   "outputs": [
    {
     "name": "stdout",
     "output_type": "stream",
     "text": [
      "[1] 4 4\n"
     ]
    }
   ],
   "source": [
    "# cell 47\n",
    "print(rep(4,2))"
   ]
  },
  {
   "cell_type": "code",
   "execution_count": 48,
   "metadata": {},
   "outputs": [
    {
     "name": "stdout",
     "output_type": "stream",
     "text": [
      "[1]  4  6  8 10\n",
      "[1] 1 1 1 1 2 2 2 2\n",
      "[1] \"5\"                              \"this is a string of characters\"\n"
     ]
    }
   ],
   "source": [
    "# cell 48\n",
    "print(rep(seq(4,10,2)))\n",
    "print(c(rep(1,4),rep(2,4)))\n",
    "print(c(5,s))"
   ]
  },
  {
   "cell_type": "markdown",
   "metadata": {},
   "source": [
    "You can check the class of a vector but also get some information on its length with `length()` and structure with `str()`."
   ]
  },
  {
   "cell_type": "code",
   "execution_count": 49,
   "metadata": {},
   "outputs": [
    {
     "data": {
      "text/html": [
       "'character'"
      ],
      "text/latex": [
       "'character'"
      ],
      "text/markdown": [
       "'character'"
      ],
      "text/plain": [
       "[1] \"character\""
      ]
     },
     "metadata": {},
     "output_type": "display_data"
    },
    {
     "data": {
      "text/html": [
       "10"
      ],
      "text/latex": [
       "10"
      ],
      "text/markdown": [
       "10"
      ],
      "text/plain": [
       "[1] 10"
      ]
     },
     "metadata": {},
     "output_type": "display_data"
    },
    {
     "data": {
      "text/html": [
       "6"
      ],
      "text/latex": [
       "6"
      ],
      "text/markdown": [
       "6"
      ],
      "text/plain": [
       "[1] 6"
      ]
     },
     "metadata": {},
     "output_type": "display_data"
    },
    {
     "name": "stdout",
     "output_type": "stream",
     "text": [
      " num [1:6] 60 72 57 90 95 72\n"
     ]
    }
   ],
   "source": [
    "# cell 49\n",
    "class(c(5,s))\n",
    "length(1:10)\n",
    "length(weight)\n",
    "str(weight)"
   ]
  },
  {
   "cell_type": "markdown",
   "metadata": {},
   "source": [
    "- You can perform **operations** directly on vectors:"
   ]
  },
  {
   "cell_type": "code",
   "execution_count": 50,
   "metadata": {},
   "outputs": [
    {
     "name": "stdout",
     "output_type": "stream",
     "text": [
      "[1] 3.0625 3.2400 2.7225 3.6100 3.0276 3.6481\n",
      "[1] 19.59184 22.22222 20.93664 24.93075 31.37799 19.73630\n",
      "[1] 19.59184 22.22222 20.93664 24.93075 31.37799 19.73630\n"
     ]
    }
   ],
   "source": [
    "# cell 50\n",
    "size <- c(1.75, 1.8, 1.65, 1.9, 1.74, 1.91)\n",
    "print(size^2)\n",
    "print(bmi <- weight/size^2 )\n",
    "print(bmi)"
   ]
  },
  {
   "cell_type": "markdown",
   "metadata": {},
   "source": [
    "- You can **order** them or **get dispersion values**:"
   ]
  },
  {
   "cell_type": "code",
   "execution_count": 51,
   "metadata": {},
   "outputs": [
    {
     "name": "stdout",
     "output_type": "stream",
     "text": [
      "[1] 1.65 1.74 1.75 1.80 1.90 1.91\n"
     ]
    },
    {
     "data": {
      "text/html": [
       "1.79166666666667"
      ],
      "text/latex": [
       "1.79166666666667"
      ],
      "text/markdown": [
       "1.79166666666667"
      ],
      "text/plain": [
       "[1] 1.791667"
      ]
     },
     "metadata": {},
     "output_type": "display_data"
    },
    {
     "data": {
      "text/html": [
       "0.100282933077701"
      ],
      "text/latex": [
       "0.100282933077701"
      ],
      "text/markdown": [
       "0.100282933077701"
      ],
      "text/plain": [
       "[1] 0.1002829"
      ]
     },
     "metadata": {},
     "output_type": "display_data"
    },
    {
     "data": {
      "text/html": [
       "1.775"
      ],
      "text/latex": [
       "1.775"
      ],
      "text/markdown": [
       "1.775"
      ],
      "text/plain": [
       "[1] 1.775"
      ]
     },
     "metadata": {},
     "output_type": "display_data"
    },
    {
     "data": {
      "text/html": [
       "1.65"
      ],
      "text/latex": [
       "1.65"
      ],
      "text/markdown": [
       "1.65"
      ],
      "text/plain": [
       "[1] 1.65"
      ]
     },
     "metadata": {},
     "output_type": "display_data"
    },
    {
     "data": {
      "text/html": [
       "1.91"
      ],
      "text/latex": [
       "1.91"
      ],
      "text/markdown": [
       "1.91"
      ],
      "text/plain": [
       "[1] 1.91"
      ]
     },
     "metadata": {},
     "output_type": "display_data"
    },
    {
     "name": "stdout",
     "output_type": "stream",
     "text": [
      "[1] 1.65 1.91\n"
     ]
    },
    {
     "data": {
      "text/plain": [
       "   Min. 1st Qu.  Median    Mean 3rd Qu.    Max. \n",
       "  1.650   1.742   1.775   1.792   1.875   1.910 "
      ]
     },
     "metadata": {},
     "output_type": "display_data"
    }
   ],
   "source": [
    "# cell 51\n",
    "print(sort(size))\n",
    "mean(size)\n",
    "sd(size)\n",
    "median(size)\n",
    "min(size)\n",
    "max(size)\n",
    "print(range(size))\n",
    "summary(size)"
   ]
  },
  {
   "cell_type": "markdown",
   "metadata": {},
   "source": [
    "- You can **extract some values** from a vector with the index of the values you want to extract inside using square brackets `[]`:"
   ]
  },
  {
   "cell_type": "code",
   "execution_count": 52,
   "metadata": {},
   "outputs": [
    {
     "name": "stdout",
     "output_type": "stream",
     "text": [
      "[1] 1.75 1.80 1.65 1.90 1.74 1.91\n"
     ]
    },
    {
     "data": {
      "text/html": [
       "1.75"
      ],
      "text/latex": [
       "1.75"
      ],
      "text/markdown": [
       "1.75"
      ],
      "text/plain": [
       "[1] 1.75"
      ]
     },
     "metadata": {},
     "output_type": "display_data"
    },
    {
     "data": {
      "text/html": [
       "1.8"
      ],
      "text/latex": [
       "1.8"
      ],
      "text/markdown": [
       "1.8"
      ],
      "text/plain": [
       "[1] 1.8"
      ]
     },
     "metadata": {},
     "output_type": "display_data"
    },
    {
     "data": {
      "text/html": [
       "1.91"
      ],
      "text/latex": [
       "1.91"
      ],
      "text/markdown": [
       "1.91"
      ],
      "text/plain": [
       "[1] 1.91"
      ]
     },
     "metadata": {},
     "output_type": "display_data"
    },
    {
     "data": {
      "text/html": [
       "<style>\n",
       ".list-inline {list-style: none; margin:0; padding: 0}\n",
       ".list-inline>li {display: inline-block}\n",
       ".list-inline>li:not(:last-child)::after {content: \"\\00b7\"; padding: 0 .5ex}\n",
       "</style>\n",
       "<ol class=list-inline><li>1.8</li><li>1.91</li></ol>\n"
      ],
      "text/latex": [
       "\\begin{enumerate*}\n",
       "\\item 1.8\n",
       "\\item 1.91\n",
       "\\end{enumerate*}\n"
      ],
      "text/markdown": [
       "1. 1.8\n",
       "2. 1.91\n",
       "\n",
       "\n"
      ],
      "text/plain": [
       "[1] 1.80 1.91"
      ]
     },
     "metadata": {},
     "output_type": "display_data"
    },
    {
     "data": {
      "text/html": [
       "<style>\n",
       ".list-inline {list-style: none; margin:0; padding: 0}\n",
       ".list-inline>li {display: inline-block}\n",
       ".list-inline>li:not(:last-child)::after {content: \"\\00b7\"; padding: 0 .5ex}\n",
       "</style>\n",
       "<ol class=list-inline><li>1.91</li><li>1.8</li></ol>\n"
      ],
      "text/latex": [
       "\\begin{enumerate*}\n",
       "\\item 1.91\n",
       "\\item 1.8\n",
       "\\end{enumerate*}\n"
      ],
      "text/markdown": [
       "1. 1.91\n",
       "2. 1.8\n",
       "\n",
       "\n"
      ],
      "text/plain": [
       "[1] 1.91 1.80"
      ]
     },
     "metadata": {},
     "output_type": "display_data"
    },
    {
     "data": {
      "text/html": [
       "1.8"
      ],
      "text/latex": [
       "1.8"
      ],
      "text/markdown": [
       "1.8"
      ],
      "text/plain": [
       "[1] 1.8"
      ]
     },
     "metadata": {},
     "output_type": "display_data"
    }
   ],
   "source": [
    "# cell 52\n",
    "print(size)\n",
    "size[1]\n",
    "size[2]\n",
    "size[6]\n",
    "size[c(2,6)]\n",
    "size[c(6,2)]\n",
    "min(size[c(6,2)])"
   ]
  },
  {
   "cell_type": "markdown",
   "metadata": {},
   "source": [
    "- Finally you can **add a name to the different values**. Names on vector values are attributes of the vector. Here the function `names()` returns a vector of the names of vector `size`. "
   ]
  },
  {
   "cell_type": "code",
   "execution_count": 53,
   "metadata": {},
   "outputs": [
    {
     "data": {
      "text/plain": [
       "NULL"
      ]
     },
     "metadata": {},
     "output_type": "display_data"
    },
    {
     "data": {
      "text/html": [
       "<style>\n",
       ".dl-inline {width: auto; margin:0; padding: 0}\n",
       ".dl-inline>dt, .dl-inline>dd {float: none; width: auto; display: inline-block}\n",
       ".dl-inline>dt::after {content: \":\\0020\"; padding-right: .5ex}\n",
       ".dl-inline>dt:not(:first-of-type) {padding-left: .5ex}\n",
       "</style><dl class=dl-inline><dt>Fabien</dt><dd>1.75</dd><dt>Pierre</dt><dd>1.8</dd><dt>Sandrine</dt><dd>1.65</dd><dt>Claire</dt><dd>1.9</dd><dt>Bruno</dt><dd>1.74</dd><dt>Delphine</dt><dd>1.91</dd></dl>\n"
      ],
      "text/latex": [
       "\\begin{description*}\n",
       "\\item[Fabien] 1.75\n",
       "\\item[Pierre] 1.8\n",
       "\\item[Sandrine] 1.65\n",
       "\\item[Claire] 1.9\n",
       "\\item[Bruno] 1.74\n",
       "\\item[Delphine] 1.91\n",
       "\\end{description*}\n"
      ],
      "text/markdown": [
       "Fabien\n",
       ":   1.75Pierre\n",
       ":   1.8Sandrine\n",
       ":   1.65Claire\n",
       ":   1.9Bruno\n",
       ":   1.74Delphine\n",
       ":   1.91\n",
       "\n"
      ],
      "text/plain": [
       "  Fabien   Pierre Sandrine   Claire    Bruno Delphine \n",
       "    1.75     1.80     1.65     1.90     1.74     1.91 "
      ]
     },
     "metadata": {},
     "output_type": "display_data"
    },
    {
     "name": "stdout",
     "output_type": "stream",
     "text": [
      " Named num [1:6] 1.75 1.8 1.65 1.9 1.74 1.91\n",
      " - attr(*, \"names\")= chr [1:6] \"Fabien\" \"Pierre\" \"Sandrine\" \"Claire\" ...\n"
     ]
    }
   ],
   "source": [
    "# cell 53\n",
    "names(size)\n",
    "names(size) <- c(\"Fabien\",\"Pierre\",\"Sandrine\",\"Claire\",\"Bruno\",\"Delphine\")\n",
    "size\n",
    "str(size)"
   ]
  },
  {
   "cell_type": "markdown",
   "metadata": {
    "tags": []
   },
   "source": [
    "## **III. Dataframes**\n",
    "---\n",
    "\n",
    "Dataframes properties:\n",
    "- **2-dimension objects** (rows x columns)\n",
    "- can be **heterogeneous** : can contain several types of variables in different columns\n",
    "\n",
    "\n",
    "\n",
    "<div class=\"alert alert-block alert-danger\"><b> Caution: </b> Each column must remain with the same type (homogeneous).</div>\n",
    "\n",
    ">*For info, another type of 2-dimension object exists in R, called `matrices` but they have to be homogeneous also across columns.*\n",
    "\n",
    "### **II.1. - Creating a dataframe**\n",
    "---\n",
    "\n",
    "\n",
    "\n",
    "- They are generated with the function `data.frame()`:\n",
    "\n",
    "This can be done **using existing vectors of same length** like the previoulsy generated \"weight\", \"size\" and \"bmi\" ."
   ]
  },
  {
   "cell_type": "code",
   "execution_count": 54,
   "metadata": {},
   "outputs": [
    {
     "data": {
      "text/html": [
       "<table class=\"dataframe\">\n",
       "<caption>A data.frame: 6 × 3</caption>\n",
       "<thead>\n",
       "\t<tr><th></th><th scope=col>weight</th><th scope=col>size</th><th scope=col>bmi</th></tr>\n",
       "\t<tr><th></th><th scope=col>&lt;dbl&gt;</th><th scope=col>&lt;dbl&gt;</th><th scope=col>&lt;dbl&gt;</th></tr>\n",
       "</thead>\n",
       "<tbody>\n",
       "\t<tr><th scope=row>Fabien</th><td>60</td><td>1.75</td><td>19.59184</td></tr>\n",
       "\t<tr><th scope=row>Pierre</th><td>72</td><td>1.80</td><td>22.22222</td></tr>\n",
       "\t<tr><th scope=row>Sandrine</th><td>57</td><td>1.65</td><td>20.93664</td></tr>\n",
       "\t<tr><th scope=row>Claire</th><td>90</td><td>1.90</td><td>24.93075</td></tr>\n",
       "\t<tr><th scope=row>Bruno</th><td>95</td><td>1.74</td><td>31.37799</td></tr>\n",
       "\t<tr><th scope=row>Delphine</th><td>72</td><td>1.91</td><td>19.73630</td></tr>\n",
       "</tbody>\n",
       "</table>\n"
      ],
      "text/latex": [
       "A data.frame: 6 × 3\n",
       "\\begin{tabular}{r|lll}\n",
       "  & weight & size & bmi\\\\\n",
       "  & <dbl> & <dbl> & <dbl>\\\\\n",
       "\\hline\n",
       "\tFabien & 60 & 1.75 & 19.59184\\\\\n",
       "\tPierre & 72 & 1.80 & 22.22222\\\\\n",
       "\tSandrine & 57 & 1.65 & 20.93664\\\\\n",
       "\tClaire & 90 & 1.90 & 24.93075\\\\\n",
       "\tBruno & 95 & 1.74 & 31.37799\\\\\n",
       "\tDelphine & 72 & 1.91 & 19.73630\\\\\n",
       "\\end{tabular}\n"
      ],
      "text/markdown": [
       "\n",
       "A data.frame: 6 × 3\n",
       "\n",
       "| <!--/--> | weight &lt;dbl&gt; | size &lt;dbl&gt; | bmi &lt;dbl&gt; |\n",
       "|---|---|---|---|\n",
       "| Fabien | 60 | 1.75 | 19.59184 |\n",
       "| Pierre | 72 | 1.80 | 22.22222 |\n",
       "| Sandrine | 57 | 1.65 | 20.93664 |\n",
       "| Claire | 90 | 1.90 | 24.93075 |\n",
       "| Bruno | 95 | 1.74 | 31.37799 |\n",
       "| Delphine | 72 | 1.91 | 19.73630 |\n",
       "\n"
      ],
      "text/plain": [
       "         weight size bmi     \n",
       "Fabien   60     1.75 19.59184\n",
       "Pierre   72     1.80 22.22222\n",
       "Sandrine 57     1.65 20.93664\n",
       "Claire   90     1.90 24.93075\n",
       "Bruno    95     1.74 31.37799\n",
       "Delphine 72     1.91 19.73630"
      ]
     },
     "metadata": {},
     "output_type": "display_data"
    }
   ],
   "source": [
    "# cell 54\n",
    "myDataf <- data.frame(weight, size, bmi)\n",
    "myDataf"
   ]
  },
  {
   "cell_type": "code",
   "execution_count": 55,
   "metadata": {},
   "outputs": [
    {
     "data": {
      "text/html": [
       "'data.frame'"
      ],
      "text/latex": [
       "'data.frame'"
      ],
      "text/markdown": [
       "'data.frame'"
      ],
      "text/plain": [
       "[1] \"data.frame\""
      ]
     },
     "metadata": {},
     "output_type": "display_data"
    }
   ],
   "source": [
    "# cell 55\n",
    "class(myDataf)"
   ]
  },
  {
   "cell_type": "code",
   "execution_count": 56,
   "metadata": {},
   "outputs": [
    {
     "name": "stdout",
     "output_type": "stream",
     "text": [
      "'data.frame':\t6 obs. of  3 variables:\n",
      " $ weight: num  60 72 57 90 95 72\n",
      " $ size  : num  1.75 1.8 1.65 1.9 1.74 1.91\n",
      " $ bmi   : num  19.6 22.2 20.9 24.9 31.4 ...\n"
     ]
    }
   ],
   "source": [
    "# cell 56\n",
    "str(myDataf)"
   ]
  },
  {
   "cell_type": "code",
   "execution_count": 57,
   "metadata": {},
   "outputs": [
    {
     "name": "stdout",
     "output_type": "stream",
     "text": [
      "[1] 6 3\n"
     ]
    }
   ],
   "source": [
    "# cell 57\n",
    "print(dim(myDataf))"
   ]
  },
  {
   "cell_type": "markdown",
   "metadata": {},
   "source": [
    ">*Note that if the vectors used to generate the dataframe are character strings, it is advised in versions < 4 to add the argument `stringsAsFactors=FALSE` in the data.frame() function.* "
   ]
  },
  {
   "cell_type": "markdown",
   "metadata": {},
   "source": [
    "- Dataframes can be generated by **converting a matrix into a dataframe** with `as.data.frame()`"
   ]
  },
  {
   "cell_type": "markdown",
   "metadata": {},
   "source": [
    "You may use `as.data.frame()` on a matrix generated by binding columns of vectors with  `cbind()`:"
   ]
  },
  {
   "cell_type": "code",
   "execution_count": 58,
   "metadata": {},
   "outputs": [
    {
     "name": "stdout",
     "output_type": "stream",
     "text": [
      "'data.frame':\t2 obs. of  2 variables:\n",
      " $ V1: int  1 2\n",
      " $ V2: int  10 11\n"
     ]
    }
   ],
   "source": [
    "# cell 58\n",
    "d1 <- as.data.frame(cbind(1:2, 10:11))\n",
    "str(d1)"
   ]
  },
  {
   "cell_type": "markdown",
   "metadata": {},
   "source": [
    "Similarly, we can do such a conversion of an empy matrix (created with `matrix()` into a dataframe like in the example below with a matrix of two rows and three columns currently filled with missing values:"
   ]
  },
  {
   "cell_type": "code",
   "execution_count": 59,
   "metadata": {},
   "outputs": [
    {
     "data": {
      "text/html": [
       "<table class=\"dataframe\">\n",
       "<caption>A data.frame: 2 × 3</caption>\n",
       "<thead>\n",
       "\t<tr><th scope=col>V1</th><th scope=col>V2</th><th scope=col>V3</th></tr>\n",
       "\t<tr><th scope=col>&lt;lgl&gt;</th><th scope=col>&lt;lgl&gt;</th><th scope=col>&lt;lgl&gt;</th></tr>\n",
       "</thead>\n",
       "<tbody>\n",
       "\t<tr><td>NA</td><td>NA</td><td>NA</td></tr>\n",
       "\t<tr><td>NA</td><td>NA</td><td>NA</td></tr>\n",
       "</tbody>\n",
       "</table>\n"
      ],
      "text/latex": [
       "A data.frame: 2 × 3\n",
       "\\begin{tabular}{lll}\n",
       " V1 & V2 & V3\\\\\n",
       " <lgl> & <lgl> & <lgl>\\\\\n",
       "\\hline\n",
       "\t NA & NA & NA\\\\\n",
       "\t NA & NA & NA\\\\\n",
       "\\end{tabular}\n"
      ],
      "text/markdown": [
       "\n",
       "A data.frame: 2 × 3\n",
       "\n",
       "| V1 &lt;lgl&gt; | V2 &lt;lgl&gt; | V3 &lt;lgl&gt; |\n",
       "|---|---|---|\n",
       "| NA | NA | NA |\n",
       "| NA | NA | NA |\n",
       "\n"
      ],
      "text/plain": [
       "  V1 V2 V3\n",
       "1 NA NA NA\n",
       "2 NA NA NA"
      ]
     },
     "metadata": {},
     "output_type": "display_data"
    },
    {
     "data": {
      "text/html": [
       "<style>\n",
       ".list-inline {list-style: none; margin:0; padding: 0}\n",
       ".list-inline>li {display: inline-block}\n",
       ".list-inline>li:not(:last-child)::after {content: \"\\00b7\"; padding: 0 .5ex}\n",
       "</style>\n",
       "<ol class=list-inline><li>2</li><li>3</li></ol>\n"
      ],
      "text/latex": [
       "\\begin{enumerate*}\n",
       "\\item 2\n",
       "\\item 3\n",
       "\\end{enumerate*}\n"
      ],
      "text/markdown": [
       "1. 2\n",
       "2. 3\n",
       "\n",
       "\n"
      ],
      "text/plain": [
       "[1] 2 3"
      ]
     },
     "metadata": {},
     "output_type": "display_data"
    },
    {
     "name": "stdout",
     "output_type": "stream",
     "text": [
      "'data.frame':\t2 obs. of  3 variables:\n",
      " $ V1: logi  NA NA\n",
      " $ V2: logi  NA NA\n",
      " $ V3: logi  NA NA\n"
     ]
    }
   ],
   "source": [
    "# cell 59\n",
    "d2 <- as.data.frame(matrix(NA,2,3))\n",
    "d2\n",
    "dim(d2)\n",
    "str(d2)"
   ]
  },
  {
   "cell_type": "markdown",
   "metadata": {},
   "source": [
    "### **II.2. - Reading a text file into R and vice versa**\n",
    "---"
   ]
  },
  {
   "cell_type": "markdown",
   "metadata": {},
   "source": [
    "#### **a. reading a text file into R**\n",
    "\n",
    "The function `read.table()` reads a delimited text file (tabulated, scv or other column separator) into R.\n",
    "\n",
    "<span style=\"color:red\"><b>read.table() returns a dataframe</b></span>. \n",
    "\n",
    "Let's have a look at the file `Temperature.txt`. It is on `/srv/data/pass-rs-ue3/data/` and on moodle.\n",
    "\n",
    "\n",
    "You will see it is a tab-delimited text file.\n",
    "\n",
    "Now let's import it in R by specifying the correct separator with the `read.table()` function:"
   ]
  },
  {
   "cell_type": "code",
   "execution_count": 60,
   "metadata": {},
   "outputs": [
    {
     "data": {
      "text/html": [
       "<table class=\"dataframe\">\n",
       "<caption>A data.frame: 12 × 2</caption>\n",
       "<thead>\n",
       "\t<tr><th scope=col>Month</th><th scope=col>Mean_Temp</th></tr>\n",
       "\t<tr><th scope=col>&lt;chr&gt;</th><th scope=col>&lt;dbl&gt;</th></tr>\n",
       "</thead>\n",
       "<tbody>\n",
       "\t<tr><td>January  </td><td> 2.0</td></tr>\n",
       "\t<tr><td>February </td><td> 2.6</td></tr>\n",
       "\t<tr><td>March    </td><td> 7.9</td></tr>\n",
       "\t<tr><td>April    </td><td>11.2</td></tr>\n",
       "\t<tr><td>May      </td><td>15.3</td></tr>\n",
       "\t<tr><td>June     </td><td>22.2</td></tr>\n",
       "\t<tr><td>July     </td><td>22.9</td></tr>\n",
       "\t<tr><td>August   </td><td>22.5</td></tr>\n",
       "\t<tr><td>September</td><td>17.3</td></tr>\n",
       "\t<tr><td>October  </td><td>11.7</td></tr>\n",
       "\t<tr><td>November </td><td> 5.2</td></tr>\n",
       "\t<tr><td>December </td><td> 2.8</td></tr>\n",
       "</tbody>\n",
       "</table>\n"
      ],
      "text/latex": [
       "A data.frame: 12 × 2\n",
       "\\begin{tabular}{ll}\n",
       " Month & Mean\\_Temp\\\\\n",
       " <chr> & <dbl>\\\\\n",
       "\\hline\n",
       "\t January   &  2.0\\\\\n",
       "\t February  &  2.6\\\\\n",
       "\t March     &  7.9\\\\\n",
       "\t April     & 11.2\\\\\n",
       "\t May       & 15.3\\\\\n",
       "\t June      & 22.2\\\\\n",
       "\t July      & 22.9\\\\\n",
       "\t August    & 22.5\\\\\n",
       "\t September & 17.3\\\\\n",
       "\t October   & 11.7\\\\\n",
       "\t November  &  5.2\\\\\n",
       "\t December  &  2.8\\\\\n",
       "\\end{tabular}\n"
      ],
      "text/markdown": [
       "\n",
       "A data.frame: 12 × 2\n",
       "\n",
       "| Month &lt;chr&gt; | Mean_Temp &lt;dbl&gt; |\n",
       "|---|---|\n",
       "| January   |  2.0 |\n",
       "| February  |  2.6 |\n",
       "| March     |  7.9 |\n",
       "| April     | 11.2 |\n",
       "| May       | 15.3 |\n",
       "| June      | 22.2 |\n",
       "| July      | 22.9 |\n",
       "| August    | 22.5 |\n",
       "| September | 17.3 |\n",
       "| October   | 11.7 |\n",
       "| November  |  5.2 |\n",
       "| December  |  2.8 |\n",
       "\n"
      ],
      "text/plain": [
       "   Month     Mean_Temp\n",
       "1  January    2.0     \n",
       "2  February   2.6     \n",
       "3  March      7.9     \n",
       "4  April     11.2     \n",
       "5  May       15.3     \n",
       "6  June      22.2     \n",
       "7  July      22.9     \n",
       "8  August    22.5     \n",
       "9  September 17.3     \n",
       "10 October   11.7     \n",
       "11 November   5.2     \n",
       "12 December   2.8     "
      ]
     },
     "metadata": {},
     "output_type": "display_data"
    },
    {
     "name": "stdout",
     "output_type": "stream",
     "text": [
      "'data.frame':\t12 obs. of  2 variables:\n",
      " $ Month    : chr  \"January\" \"February\" \"March\" \"April\" ...\n",
      " $ Mean_Temp: num  2 2.6 7.9 11.2 15.3 22.2 22.9 22.5 17.3 11.7 ...\n"
     ]
    }
   ],
   "source": [
    "# cell 60\n",
    "path_to_file <- \"/srv/data/pass-rs-ue3/data/Temperatures.txt\" \n",
    "temperatures <- read.table(path_to_file, sep=\"\\t\", header=T, stringsAsFactors=F)\n",
    "temperatures\n",
    "str(temperatures)"
   ]
  },
  {
   "cell_type": "markdown",
   "metadata": {},
   "source": [
    "In the above command, I used the argument `stringsAsFactors=FALSE`to avoid a factorisation of the columns with strings of character (here the \"Month\" column).\n",
    "In R versions < 4, the default value for this argument is `TRUE`. Let's see what would have happened:"
   ]
  },
  {
   "cell_type": "code",
   "execution_count": 61,
   "metadata": {},
   "outputs": [
    {
     "name": "stdout",
     "output_type": "stream",
     "text": [
      "'data.frame':\t12 obs. of  2 variables:\n",
      " $ Month    : Factor w/ 12 levels \"April\",\"August\",..: 5 4 8 1 9 7 6 2 12 11 ...\n",
      " $ Mean_Temp: num  2 2.6 7.9 11.2 15.3 22.2 22.9 22.5 17.3 11.7 ...\n"
     ]
    }
   ],
   "source": [
    "# cell 61\n",
    "temperatures.2 <- read.table(path_to_file, sep=\"\\t\", header=T, stringsAsFactors=TRUE)\n",
    "str(temperatures.2)"
   ]
  },
  {
   "cell_type": "markdown",
   "metadata": {},
   "source": [
    "Here the \"Month\" column has been factorised. How?"
   ]
  },
  {
   "cell_type": "code",
   "execution_count": 62,
   "metadata": {},
   "outputs": [
    {
     "data": {
      "text/html": [
       "<style>\n",
       ".list-inline {list-style: none; margin:0; padding: 0}\n",
       ".list-inline>li {display: inline-block}\n",
       ".list-inline>li:not(:last-child)::after {content: \"\\00b7\"; padding: 0 .5ex}\n",
       "</style>\n",
       "<ol class=list-inline><li>'April'</li><li>'August'</li><li>'December'</li><li>'February'</li><li>'January'</li><li>'July'</li><li>'June'</li><li>'March'</li><li>'May'</li><li>'November'</li><li>'October'</li><li>'September'</li></ol>\n"
      ],
      "text/latex": [
       "\\begin{enumerate*}\n",
       "\\item 'April'\n",
       "\\item 'August'\n",
       "\\item 'December'\n",
       "\\item 'February'\n",
       "\\item 'January'\n",
       "\\item 'July'\n",
       "\\item 'June'\n",
       "\\item 'March'\n",
       "\\item 'May'\n",
       "\\item 'November'\n",
       "\\item 'October'\n",
       "\\item 'September'\n",
       "\\end{enumerate*}\n"
      ],
      "text/markdown": [
       "1. 'April'\n",
       "2. 'August'\n",
       "3. 'December'\n",
       "4. 'February'\n",
       "5. 'January'\n",
       "6. 'July'\n",
       "7. 'June'\n",
       "8. 'March'\n",
       "9. 'May'\n",
       "10. 'November'\n",
       "11. 'October'\n",
       "12. 'September'\n",
       "\n",
       "\n"
      ],
      "text/plain": [
       " [1] \"April\"     \"August\"    \"December\"  \"February\"  \"January\"   \"July\"     \n",
       " [7] \"June\"      \"March\"     \"May\"       \"November\"  \"October\"   \"September\""
      ]
     },
     "metadata": {},
     "output_type": "display_data"
    }
   ],
   "source": [
    "# cell 62\n",
    "levels(temperatures.2$Month)"
   ]
  },
  {
   "cell_type": "markdown",
   "metadata": {},
   "source": [
    "By alphabetic order, which is not what you want!\n",
    "Thus always use `stringsAsFactors=FALSE`"
   ]
  },
  {
   "cell_type": "markdown",
   "metadata": {},
   "source": [
    "<div class=\"alert alert-block alert-info\"><b>Facultative at home:</b> to better understand the behaviour of factors, you may follow a tutorial available on moodle.</div>"
   ]
  },
  {
   "cell_type": "markdown",
   "metadata": {},
   "source": [
    "#### **b. writing a dataframe on your computer**\n",
    "\n",
    "Conversely, save a dataframe into your working directory with `write.table()`:"
   ]
  },
  {
   "cell_type": "code",
   "execution_count": 63,
   "metadata": {},
   "outputs": [],
   "source": [
    "# cell 63\n",
    "# save a dataframe as a text file in the working directory\n",
    "write.table(myDataf, file=\"bmi_data.txt\", sep=\"\\t\", quote=F, col.names=T)"
   ]
  },
  {
   "cell_type": "markdown",
   "metadata": {},
   "source": [
    "Have a look at it by double clicking on it in your working directory."
   ]
  },
  {
   "cell_type": "markdown",
   "metadata": {},
   "source": [
    "and check you can import it back in R again:"
   ]
  },
  {
   "cell_type": "code",
   "execution_count": 64,
   "metadata": {},
   "outputs": [
    {
     "data": {
      "text/html": [
       "<table class=\"dataframe\">\n",
       "<caption>A data.frame: 6 × 3</caption>\n",
       "<thead>\n",
       "\t<tr><th></th><th scope=col>weight</th><th scope=col>size</th><th scope=col>bmi</th></tr>\n",
       "\t<tr><th></th><th scope=col>&lt;int&gt;</th><th scope=col>&lt;dbl&gt;</th><th scope=col>&lt;dbl&gt;</th></tr>\n",
       "</thead>\n",
       "<tbody>\n",
       "\t<tr><th scope=row>Fabien</th><td>60</td><td>1.75</td><td>19.59184</td></tr>\n",
       "\t<tr><th scope=row>Pierre</th><td>72</td><td>1.80</td><td>22.22222</td></tr>\n",
       "\t<tr><th scope=row>Sandrine</th><td>57</td><td>1.65</td><td>20.93664</td></tr>\n",
       "\t<tr><th scope=row>Claire</th><td>90</td><td>1.90</td><td>24.93075</td></tr>\n",
       "\t<tr><th scope=row>Bruno</th><td>95</td><td>1.74</td><td>31.37799</td></tr>\n",
       "\t<tr><th scope=row>Delphine</th><td>72</td><td>1.91</td><td>19.73630</td></tr>\n",
       "</tbody>\n",
       "</table>\n"
      ],
      "text/latex": [
       "A data.frame: 6 × 3\n",
       "\\begin{tabular}{r|lll}\n",
       "  & weight & size & bmi\\\\\n",
       "  & <int> & <dbl> & <dbl>\\\\\n",
       "\\hline\n",
       "\tFabien & 60 & 1.75 & 19.59184\\\\\n",
       "\tPierre & 72 & 1.80 & 22.22222\\\\\n",
       "\tSandrine & 57 & 1.65 & 20.93664\\\\\n",
       "\tClaire & 90 & 1.90 & 24.93075\\\\\n",
       "\tBruno & 95 & 1.74 & 31.37799\\\\\n",
       "\tDelphine & 72 & 1.91 & 19.73630\\\\\n",
       "\\end{tabular}\n"
      ],
      "text/markdown": [
       "\n",
       "A data.frame: 6 × 3\n",
       "\n",
       "| <!--/--> | weight &lt;int&gt; | size &lt;dbl&gt; | bmi &lt;dbl&gt; |\n",
       "|---|---|---|---|\n",
       "| Fabien | 60 | 1.75 | 19.59184 |\n",
       "| Pierre | 72 | 1.80 | 22.22222 |\n",
       "| Sandrine | 57 | 1.65 | 20.93664 |\n",
       "| Claire | 90 | 1.90 | 24.93075 |\n",
       "| Bruno | 95 | 1.74 | 31.37799 |\n",
       "| Delphine | 72 | 1.91 | 19.73630 |\n",
       "\n"
      ],
      "text/plain": [
       "         weight size bmi     \n",
       "Fabien   60     1.75 19.59184\n",
       "Pierre   72     1.80 22.22222\n",
       "Sandrine 57     1.65 20.93664\n",
       "Claire   90     1.90 24.93075\n",
       "Bruno    95     1.74 31.37799\n",
       "Delphine 72     1.91 19.73630"
      ]
     },
     "metadata": {},
     "output_type": "display_data"
    },
    {
     "data": {
      "text/html": [
       "TRUE"
      ],
      "text/latex": [
       "TRUE"
      ],
      "text/markdown": [
       "TRUE"
      ],
      "text/plain": [
       "[1] TRUE"
      ]
     },
     "metadata": {},
     "output_type": "display_data"
    }
   ],
   "source": [
    "# cell 64\n",
    "rm(myDataf)\n",
    "myDataf <- read.table(\"bmi_data.txt\", sep=\"\\t\", header=T, stringsAsFactors=F)\n",
    "head(myDataf) #myDataf is again accessible\n",
    "file.remove(\"bmi_data.txt\") #to clean the working directory"
   ]
  },
  {
   "cell_type": "markdown",
   "metadata": {},
   "source": [
    "### **II.3. - Extracting information from a dataframe**\n",
    "---\n",
    "\n",
    "To better follow, let's first diplay again myDataf:"
   ]
  },
  {
   "cell_type": "code",
   "execution_count": 65,
   "metadata": {},
   "outputs": [
    {
     "name": "stdout",
     "output_type": "stream",
     "text": [
      "         weight size      bmi\n",
      "Fabien       60 1.75 19.59184\n",
      "Pierre       72 1.80 22.22222\n",
      "Sandrine     57 1.65 20.93664\n",
      "Claire       90 1.90 24.93075\n",
      "Bruno        95 1.74 31.37799\n",
      "Delphine     72 1.91 19.73630\n"
     ]
    }
   ],
   "source": [
    "# cell 65\n",
    "print(myDataf)"
   ]
  },
  {
   "cell_type": "markdown",
   "metadata": {},
   "source": [
    "- Getting **row and column names** of a dataframe:"
   ]
  },
  {
   "cell_type": "markdown",
   "metadata": {},
   "source": [
    "Use the functions dedicated to dataframes which are `row.names()` and `names()`:"
   ]
  },
  {
   "cell_type": "code",
   "execution_count": 66,
   "metadata": {},
   "outputs": [
    {
     "data": {
      "text/html": [
       "<style>\n",
       ".list-inline {list-style: none; margin:0; padding: 0}\n",
       ".list-inline>li {display: inline-block}\n",
       ".list-inline>li:not(:last-child)::after {content: \"\\00b7\"; padding: 0 .5ex}\n",
       "</style>\n",
       "<ol class=list-inline><li>'Fabien'</li><li>'Pierre'</li><li>'Sandrine'</li><li>'Claire'</li><li>'Bruno'</li><li>'Delphine'</li></ol>\n"
      ],
      "text/latex": [
       "\\begin{enumerate*}\n",
       "\\item 'Fabien'\n",
       "\\item 'Pierre'\n",
       "\\item 'Sandrine'\n",
       "\\item 'Claire'\n",
       "\\item 'Bruno'\n",
       "\\item 'Delphine'\n",
       "\\end{enumerate*}\n"
      ],
      "text/markdown": [
       "1. 'Fabien'\n",
       "2. 'Pierre'\n",
       "3. 'Sandrine'\n",
       "4. 'Claire'\n",
       "5. 'Bruno'\n",
       "6. 'Delphine'\n",
       "\n",
       "\n"
      ],
      "text/plain": [
       "[1] \"Fabien\"   \"Pierre\"   \"Sandrine\" \"Claire\"   \"Bruno\"    \"Delphine\""
      ]
     },
     "metadata": {},
     "output_type": "display_data"
    },
    {
     "data": {
      "text/html": [
       "<style>\n",
       ".list-inline {list-style: none; margin:0; padding: 0}\n",
       ".list-inline>li {display: inline-block}\n",
       ".list-inline>li:not(:last-child)::after {content: \"\\00b7\"; padding: 0 .5ex}\n",
       "</style>\n",
       "<ol class=list-inline><li>'weight'</li><li>'size'</li><li>'bmi'</li></ol>\n"
      ],
      "text/latex": [
       "\\begin{enumerate*}\n",
       "\\item 'weight'\n",
       "\\item 'size'\n",
       "\\item 'bmi'\n",
       "\\end{enumerate*}\n"
      ],
      "text/markdown": [
       "1. 'weight'\n",
       "2. 'size'\n",
       "3. 'bmi'\n",
       "\n",
       "\n"
      ],
      "text/plain": [
       "[1] \"weight\" \"size\"   \"bmi\"   "
      ]
     },
     "metadata": {},
     "output_type": "display_data"
    }
   ],
   "source": [
    "# cell 66\n",
    "row.names(myDataf)\n",
    "names(myDataf)"
   ]
  },
  {
   "cell_type": "markdown",
   "metadata": {},
   "source": [
    "<div class=\"alert alert-block alert-danger\"><b>Caution:</b>\n",
    "    each row name must be unique in a dataframe!\n",
    "</div>"
   ]
  },
  {
   "cell_type": "markdown",
   "metadata": {},
   "source": [
    "- **Getting a variable from a dataframe:**\n",
    "\n"
   ]
  },
  {
   "cell_type": "markdown",
   "metadata": {},
   "source": [
    "Variables are the columns of a dataframe. You can extract the vector corresponding to a column from a dataframe with its `index`, with the `name` of the column inside`\"\"` or using the symbol `$`:"
   ]
  },
  {
   "cell_type": "code",
   "execution_count": 67,
   "metadata": {},
   "outputs": [
    {
     "name": "stdout",
     "output_type": "stream",
     "text": [
      "[1] 1.75 1.80 1.65 1.90 1.74 1.91\n",
      "[1] 1.75 1.80 1.65 1.90 1.74 1.91\n",
      "[1] 1.75 1.80 1.65 1.90 1.74 1.91\n"
     ]
    }
   ],
   "source": [
    "# cell 67\n",
    "print(myDataf[,2])\n",
    "print(myDataf[,\"size\"])\n",
    "print(myDataf$size)"
   ]
  },
  {
   "cell_type": "markdown",
   "metadata": {},
   "source": [
    "- **Extracting rows from a dataframe:**\n",
    "\n",
    "You have two options to do so:\n",
    "\n",
    "**1.** either by specifying the index of the row"
   ]
  },
  {
   "cell_type": "code",
   "execution_count": 68,
   "metadata": {},
   "outputs": [
    {
     "data": {
      "text/html": [
       "<table class=\"dataframe\">\n",
       "<caption>A data.frame: 1 × 3</caption>\n",
       "<thead>\n",
       "\t<tr><th></th><th scope=col>weight</th><th scope=col>size</th><th scope=col>bmi</th></tr>\n",
       "\t<tr><th></th><th scope=col>&lt;int&gt;</th><th scope=col>&lt;dbl&gt;</th><th scope=col>&lt;dbl&gt;</th></tr>\n",
       "</thead>\n",
       "<tbody>\n",
       "\t<tr><th scope=row>Pierre</th><td>72</td><td>1.8</td><td>22.22222</td></tr>\n",
       "</tbody>\n",
       "</table>\n"
      ],
      "text/latex": [
       "A data.frame: 1 × 3\n",
       "\\begin{tabular}{r|lll}\n",
       "  & weight & size & bmi\\\\\n",
       "  & <int> & <dbl> & <dbl>\\\\\n",
       "\\hline\n",
       "\tPierre & 72 & 1.8 & 22.22222\\\\\n",
       "\\end{tabular}\n"
      ],
      "text/markdown": [
       "\n",
       "A data.frame: 1 × 3\n",
       "\n",
       "| <!--/--> | weight &lt;int&gt; | size &lt;dbl&gt; | bmi &lt;dbl&gt; |\n",
       "|---|---|---|---|\n",
       "| Pierre | 72 | 1.8 | 22.22222 |\n",
       "\n"
      ],
      "text/plain": [
       "       weight size bmi     \n",
       "Pierre 72     1.8  22.22222"
      ]
     },
     "metadata": {},
     "output_type": "display_data"
    }
   ],
   "source": [
    "# cell 68\n",
    "myDataf[2,]"
   ]
  },
  {
   "cell_type": "markdown",
   "metadata": {},
   "source": [
    "**2.** or by giving its name within the `\"\"` inside the squared brackets:"
   ]
  },
  {
   "cell_type": "code",
   "execution_count": 69,
   "metadata": {},
   "outputs": [
    {
     "data": {
      "text/html": [
       "<table class=\"dataframe\">\n",
       "<caption>A data.frame: 1 × 3</caption>\n",
       "<thead>\n",
       "\t<tr><th></th><th scope=col>weight</th><th scope=col>size</th><th scope=col>bmi</th></tr>\n",
       "\t<tr><th></th><th scope=col>&lt;int&gt;</th><th scope=col>&lt;dbl&gt;</th><th scope=col>&lt;dbl&gt;</th></tr>\n",
       "</thead>\n",
       "<tbody>\n",
       "\t<tr><th scope=row>Pierre</th><td>72</td><td>1.8</td><td>22.22222</td></tr>\n",
       "</tbody>\n",
       "</table>\n"
      ],
      "text/latex": [
       "A data.frame: 1 × 3\n",
       "\\begin{tabular}{r|lll}\n",
       "  & weight & size & bmi\\\\\n",
       "  & <int> & <dbl> & <dbl>\\\\\n",
       "\\hline\n",
       "\tPierre & 72 & 1.8 & 22.22222\\\\\n",
       "\\end{tabular}\n"
      ],
      "text/markdown": [
       "\n",
       "A data.frame: 1 × 3\n",
       "\n",
       "| <!--/--> | weight &lt;int&gt; | size &lt;dbl&gt; | bmi &lt;dbl&gt; |\n",
       "|---|---|---|---|\n",
       "| Pierre | 72 | 1.8 | 22.22222 |\n",
       "\n"
      ],
      "text/plain": [
       "       weight size bmi     \n",
       "Pierre 72     1.8  22.22222"
      ]
     },
     "metadata": {},
     "output_type": "display_data"
    }
   ],
   "source": [
    "# cell 69\n",
    "myDataf[\"Pierre\",]"
   ]
  },
  {
   "cell_type": "code",
   "execution_count": 70,
   "metadata": {},
   "outputs": [
    {
     "data": {
      "text/html": [
       "'data.frame'"
      ],
      "text/latex": [
       "'data.frame'"
      ],
      "text/markdown": [
       "'data.frame'"
      ],
      "text/plain": [
       "[1] \"data.frame\""
      ]
     },
     "metadata": {},
     "output_type": "display_data"
    }
   ],
   "source": [
    "# cell 70\n",
    "class(myDataf[\"Pierre\",])"
   ]
  },
  {
   "cell_type": "markdown",
   "metadata": {},
   "source": [
    "In both cases, you may notice that you obtain a dataframe and not a vector, even if you extract only one row.\n",
    "If you wish to get the vector corresponing to a row, you have to convert it with the `unlist()` function.\n",
    "\n",
    ">*Of note, dataframes are a special case of list variables of the same number of rows with unique row names.*"
   ]
  },
  {
   "cell_type": "code",
   "execution_count": 71,
   "metadata": {},
   "outputs": [
    {
     "name": "stdout",
     "output_type": "stream",
     "text": [
      "  weight     size      bmi \n",
      "72.00000  1.80000 22.22222 \n"
     ]
    },
    {
     "data": {
      "text/html": [
       "'numeric'"
      ],
      "text/latex": [
       "'numeric'"
      ],
      "text/markdown": [
       "'numeric'"
      ],
      "text/plain": [
       "[1] \"numeric\""
      ]
     },
     "metadata": {},
     "output_type": "display_data"
    }
   ],
   "source": [
    "# cell 71\n",
    "temp <- unlist(myDataf[\"Pierre\",])\n",
    "print(temp)\n",
    "class(temp)"
   ]
  },
  {
   "cell_type": "markdown",
   "metadata": {},
   "source": [
    "<div class=\"alert alert-block alert-warning\"><b>Your turn:</b> which command could you use to extract the blue cells in the 3 dataframes below? Think of answers on your own -> we will discuss the solutions together. </div>"
   ]
  },
  {
   "attachments": {
    "3602e3b7-dc0e-4cf5-a783-1a5f82441946.png": {
     "image/png": "[encoded data removed]"
    }
   },
   "cell_type": "markdown",
   "metadata": {},
   "source": [
    "![image.png](attachment:3602e3b7-dc0e-4cf5-a783-1a5f82441946.png)"
   ]
  },
  {
   "cell_type": "markdown",
   "metadata": {},
   "source": [
    "### **II.4. - Adding variables/columns to a dataframe:**\n",
    "---\n",
    "\n",
    "- **adding a column:** creating a new vector with characters and including it in the dataframe\n",
    "\n",
    "1. either you add one vector at a time:"
   ]
  },
  {
   "cell_type": "code",
   "execution_count": 72,
   "metadata": {},
   "outputs": [
    {
     "data": {
      "text/html": [
       "<table class=\"dataframe\">\n",
       "<caption>A data.frame: 2 × 2</caption>\n",
       "<thead>\n",
       "\t<tr><th scope=col>V1</th><th scope=col>V2</th></tr>\n",
       "\t<tr><th scope=col>&lt;int&gt;</th><th scope=col>&lt;int&gt;</th></tr>\n",
       "</thead>\n",
       "<tbody>\n",
       "\t<tr><td>1</td><td>10</td></tr>\n",
       "\t<tr><td>2</td><td>11</td></tr>\n",
       "</tbody>\n",
       "</table>\n"
      ],
      "text/latex": [
       "A data.frame: 2 × 2\n",
       "\\begin{tabular}{ll}\n",
       " V1 & V2\\\\\n",
       " <int> & <int>\\\\\n",
       "\\hline\n",
       "\t 1 & 10\\\\\n",
       "\t 2 & 11\\\\\n",
       "\\end{tabular}\n"
      ],
      "text/markdown": [
       "\n",
       "A data.frame: 2 × 2\n",
       "\n",
       "| V1 &lt;int&gt; | V2 &lt;int&gt; |\n",
       "|---|---|\n",
       "| 1 | 10 |\n",
       "| 2 | 11 |\n",
       "\n"
      ],
      "text/plain": [
       "  V1 V2\n",
       "1 1  10\n",
       "2 2  11"
      ]
     },
     "metadata": {},
     "output_type": "display_data"
    },
    {
     "data": {
      "text/html": [
       "<table class=\"dataframe\">\n",
       "<caption>A data.frame: 2 × 3</caption>\n",
       "<thead>\n",
       "\t<tr><th scope=col>V1</th><th scope=col>V2</th><th scope=col>new</th></tr>\n",
       "\t<tr><th scope=col>&lt;int&gt;</th><th scope=col>&lt;int&gt;</th><th scope=col>&lt;int&gt;</th></tr>\n",
       "</thead>\n",
       "<tbody>\n",
       "\t<tr><td>1</td><td>10</td><td>1</td></tr>\n",
       "\t<tr><td>2</td><td>11</td><td>2</td></tr>\n",
       "</tbody>\n",
       "</table>\n"
      ],
      "text/latex": [
       "A data.frame: 2 × 3\n",
       "\\begin{tabular}{lll}\n",
       " V1 & V2 & new\\\\\n",
       " <int> & <int> & <int>\\\\\n",
       "\\hline\n",
       "\t 1 & 10 & 1\\\\\n",
       "\t 2 & 11 & 2\\\\\n",
       "\\end{tabular}\n"
      ],
      "text/markdown": [
       "\n",
       "A data.frame: 2 × 3\n",
       "\n",
       "| V1 &lt;int&gt; | V2 &lt;int&gt; | new &lt;int&gt; |\n",
       "|---|---|---|\n",
       "| 1 | 10 | 1 |\n",
       "| 2 | 11 | 2 |\n",
       "\n"
      ],
      "text/plain": [
       "  V1 V2 new\n",
       "1 1  10 1  \n",
       "2 2  11 2  "
      ]
     },
     "metadata": {},
     "output_type": "display_data"
    }
   ],
   "source": [
    "# cell 72\n",
    "d1\n",
    "d1$new <- 1:2\n",
    "d1"
   ]
  },
  {
   "cell_type": "markdown",
   "metadata": {},
   "source": [
    "Here is another example to add a colum \"sex\" to the dataframe myDataf using a vector called \"sex\". I changed the name of the vector but you could keep the same name!"
   ]
  },
  {
   "cell_type": "code",
   "execution_count": 73,
   "metadata": {},
   "outputs": [
    {
     "name": "stdout",
     "output_type": "stream",
     "text": [
      "[1] \"Man\"   \"Man\"   \"Woman\" \"Woman\" \"Man\"   \"Woman\"\n",
      "[1] \"Man\"   \"Man\"   \"Woman\" \"Woman\" \"Man\"   \"Woman\"\n"
     ]
    },
    {
     "data": {
      "text/html": [
       "<table class=\"dataframe\">\n",
       "<caption>A data.frame: 6 × 4</caption>\n",
       "<thead>\n",
       "\t<tr><th></th><th scope=col>weight</th><th scope=col>size</th><th scope=col>bmi</th><th scope=col>sex</th></tr>\n",
       "\t<tr><th></th><th scope=col>&lt;int&gt;</th><th scope=col>&lt;dbl&gt;</th><th scope=col>&lt;dbl&gt;</th><th scope=col>&lt;chr&gt;</th></tr>\n",
       "</thead>\n",
       "<tbody>\n",
       "\t<tr><th scope=row>Fabien</th><td>60</td><td>1.75</td><td>19.59184</td><td>Man  </td></tr>\n",
       "\t<tr><th scope=row>Pierre</th><td>72</td><td>1.80</td><td>22.22222</td><td>Man  </td></tr>\n",
       "\t<tr><th scope=row>Sandrine</th><td>57</td><td>1.65</td><td>20.93664</td><td>Woman</td></tr>\n",
       "\t<tr><th scope=row>Claire</th><td>90</td><td>1.90</td><td>24.93075</td><td>Woman</td></tr>\n",
       "\t<tr><th scope=row>Bruno</th><td>95</td><td>1.74</td><td>31.37799</td><td>Man  </td></tr>\n",
       "\t<tr><th scope=row>Delphine</th><td>72</td><td>1.91</td><td>19.73630</td><td>Woman</td></tr>\n",
       "</tbody>\n",
       "</table>\n"
      ],
      "text/latex": [
       "A data.frame: 6 × 4\n",
       "\\begin{tabular}{r|llll}\n",
       "  & weight & size & bmi & sex\\\\\n",
       "  & <int> & <dbl> & <dbl> & <chr>\\\\\n",
       "\\hline\n",
       "\tFabien & 60 & 1.75 & 19.59184 & Man  \\\\\n",
       "\tPierre & 72 & 1.80 & 22.22222 & Man  \\\\\n",
       "\tSandrine & 57 & 1.65 & 20.93664 & Woman\\\\\n",
       "\tClaire & 90 & 1.90 & 24.93075 & Woman\\\\\n",
       "\tBruno & 95 & 1.74 & 31.37799 & Man  \\\\\n",
       "\tDelphine & 72 & 1.91 & 19.73630 & Woman\\\\\n",
       "\\end{tabular}\n"
      ],
      "text/markdown": [
       "\n",
       "A data.frame: 6 × 4\n",
       "\n",
       "| <!--/--> | weight &lt;int&gt; | size &lt;dbl&gt; | bmi &lt;dbl&gt; | sex &lt;chr&gt; |\n",
       "|---|---|---|---|---|\n",
       "| Fabien | 60 | 1.75 | 19.59184 | Man   |\n",
       "| Pierre | 72 | 1.80 | 22.22222 | Man   |\n",
       "| Sandrine | 57 | 1.65 | 20.93664 | Woman |\n",
       "| Claire | 90 | 1.90 | 24.93075 | Woman |\n",
       "| Bruno | 95 | 1.74 | 31.37799 | Man   |\n",
       "| Delphine | 72 | 1.91 | 19.73630 | Woman |\n",
       "\n"
      ],
      "text/plain": [
       "         weight size bmi      sex  \n",
       "Fabien   60     1.75 19.59184 Man  \n",
       "Pierre   72     1.80 22.22222 Man  \n",
       "Sandrine 57     1.65 20.93664 Woman\n",
       "Claire   90     1.90 24.93075 Woman\n",
       "Bruno    95     1.74 31.37799 Man  \n",
       "Delphine 72     1.91 19.73630 Woman"
      ]
     },
     "metadata": {},
     "output_type": "display_data"
    },
    {
     "name": "stdout",
     "output_type": "stream",
     "text": [
      "'data.frame':\t6 obs. of  4 variables:\n",
      " $ weight: int  60 72 57 90 95 72\n",
      " $ size  : num  1.75 1.8 1.65 1.9 1.74 1.91\n",
      " $ bmi   : num  19.6 22.2 20.9 24.9 31.4 ...\n",
      " $ sex   : chr  \"Man\" \"Man\" \"Woman\" \"Woman\" ...\n"
     ]
    }
   ],
   "source": [
    "# cell 73\n",
    "gender <- c(\"Man\",\"Man\",\"Woman\",\"Woman\",\"Man\",\"Woman\")\n",
    "print(gender)\n",
    "myDataf$sex <- gender\n",
    "print(myDataf$sex)\n",
    "myDataf\n",
    "str(myDataf)"
   ]
  },
  {
   "cell_type": "markdown",
   "metadata": {},
   "source": [
    "2. or add several vectors or several columns from another dataframe at once using `data.frame()`:"
   ]
  },
  {
   "cell_type": "code",
   "execution_count": 74,
   "metadata": {},
   "outputs": [
    {
     "data": {
      "text/html": [
       "<table class=\"dataframe\">\n",
       "<caption>A data.frame: 2 × 6</caption>\n",
       "<thead>\n",
       "\t<tr><th scope=col>V1</th><th scope=col>V2</th><th scope=col>new</th><th scope=col>V1.1</th><th scope=col>V2.1</th><th scope=col>V3</th></tr>\n",
       "\t<tr><th scope=col>&lt;int&gt;</th><th scope=col>&lt;int&gt;</th><th scope=col>&lt;int&gt;</th><th scope=col>&lt;lgl&gt;</th><th scope=col>&lt;lgl&gt;</th><th scope=col>&lt;lgl&gt;</th></tr>\n",
       "</thead>\n",
       "<tbody>\n",
       "\t<tr><td>1</td><td>10</td><td>1</td><td>NA</td><td>NA</td><td>NA</td></tr>\n",
       "\t<tr><td>2</td><td>11</td><td>2</td><td>NA</td><td>NA</td><td>NA</td></tr>\n",
       "</tbody>\n",
       "</table>\n"
      ],
      "text/latex": [
       "A data.frame: 2 × 6\n",
       "\\begin{tabular}{llllll}\n",
       " V1 & V2 & new & V1.1 & V2.1 & V3\\\\\n",
       " <int> & <int> & <int> & <lgl> & <lgl> & <lgl>\\\\\n",
       "\\hline\n",
       "\t 1 & 10 & 1 & NA & NA & NA\\\\\n",
       "\t 2 & 11 & 2 & NA & NA & NA\\\\\n",
       "\\end{tabular}\n"
      ],
      "text/markdown": [
       "\n",
       "A data.frame: 2 × 6\n",
       "\n",
       "| V1 &lt;int&gt; | V2 &lt;int&gt; | new &lt;int&gt; | V1.1 &lt;lgl&gt; | V2.1 &lt;lgl&gt; | V3 &lt;lgl&gt; |\n",
       "|---|---|---|---|---|---|\n",
       "| 1 | 10 | 1 | NA | NA | NA |\n",
       "| 2 | 11 | 2 | NA | NA | NA |\n",
       "\n"
      ],
      "text/plain": [
       "  V1 V2 new V1.1 V2.1 V3\n",
       "1 1  10 1   NA   NA   NA\n",
       "2 2  11 2   NA   NA   NA"
      ]
     },
     "metadata": {},
     "output_type": "display_data"
    }
   ],
   "source": [
    "# cell 74\n",
    "d3 <-  data.frame(d1, d2)\n",
    "d3"
   ]
  },
  {
   "cell_type": "markdown",
   "metadata": {},
   "source": [
    "<div class=\"alert alert-block alert-danger\"><b>Caution:</b> \n",
    "    You could also use <b>cbind()</b> but it is at risk as cbind() is rather a function for matrices. If you use it for dataframes, it will keep the data types only if you combine several variables of both dataframes. If you take only one variable from a dataframe, cbind() will convert it as a vector with a possible risk of coercion and of factorisation in versions of R < 4.\n",
    "</div>"
   ]
  },
  {
   "cell_type": "markdown",
   "metadata": {},
   "source": [
    "- **adding a row**: We do generally add columns that correspond to variables. In case you reallu want to add a row, this is achiveable by the function `rbind` which creates a matrix and you need to convert into a dataframe.\n",
    "\n",
    "<div class=\"alert alert-block alert-danger\"><b>Caution:</b> \n",
    "    But it is extremly dangereous as your new row might modify the type of the values within columns/variables..\n",
    "</div>"
   ]
  },
  {
   "cell_type": "code",
   "execution_count": 75,
   "metadata": {},
   "outputs": [
    {
     "data": {
      "text/html": [
       "<table class=\"dataframe\">\n",
       "<caption>A data.frame: 3 × 6</caption>\n",
       "<thead>\n",
       "\t<tr><th scope=col>V1</th><th scope=col>V2</th><th scope=col>new</th><th scope=col>V1.1</th><th scope=col>V2.1</th><th scope=col>V3</th></tr>\n",
       "\t<tr><th scope=col>&lt;chr&gt;</th><th scope=col>&lt;chr&gt;</th><th scope=col>&lt;chr&gt;</th><th scope=col>&lt;chr&gt;</th><th scope=col>&lt;chr&gt;</th><th scope=col>&lt;chr&gt;</th></tr>\n",
       "</thead>\n",
       "<tbody>\n",
       "\t<tr><td>1   </td><td>10  </td><td>1   </td><td>NA  </td><td>NA  </td><td>NA  </td></tr>\n",
       "\t<tr><td>2   </td><td>11  </td><td>2   </td><td>NA  </td><td>NA  </td><td>NA  </td></tr>\n",
       "\t<tr><td>toto</td><td>toto</td><td>toto</td><td>toto</td><td>toto</td><td>toto</td></tr>\n",
       "</tbody>\n",
       "</table>\n"
      ],
      "text/latex": [
       "A data.frame: 3 × 6\n",
       "\\begin{tabular}{llllll}\n",
       " V1 & V2 & new & V1.1 & V2.1 & V3\\\\\n",
       " <chr> & <chr> & <chr> & <chr> & <chr> & <chr>\\\\\n",
       "\\hline\n",
       "\t 1    & 10   & 1    & NA   & NA   & NA  \\\\\n",
       "\t 2    & 11   & 2    & NA   & NA   & NA  \\\\\n",
       "\t toto & toto & toto & toto & toto & toto\\\\\n",
       "\\end{tabular}\n"
      ],
      "text/markdown": [
       "\n",
       "A data.frame: 3 × 6\n",
       "\n",
       "| V1 &lt;chr&gt; | V2 &lt;chr&gt; | new &lt;chr&gt; | V1.1 &lt;chr&gt; | V2.1 &lt;chr&gt; | V3 &lt;chr&gt; |\n",
       "|---|---|---|---|---|---|\n",
       "| 1    | 10   | 1    | NA   | NA   | NA   |\n",
       "| 2    | 11   | 2    | NA   | NA   | NA   |\n",
       "| toto | toto | toto | toto | toto | toto |\n",
       "\n"
      ],
      "text/plain": [
       "  V1   V2   new  V1.1 V2.1 V3  \n",
       "1 1    10   1    NA   NA   NA  \n",
       "2 2    11   2    NA   NA   NA  \n",
       "3 toto toto toto toto toto toto"
      ]
     },
     "metadata": {},
     "output_type": "display_data"
    },
    {
     "name": "stdout",
     "output_type": "stream",
     "text": [
      "'data.frame':\t3 obs. of  6 variables:\n",
      " $ V1  : chr  \"1\" \"2\" \"toto\"\n",
      " $ V2  : chr  \"10\" \"11\" \"toto\"\n",
      " $ new : chr  \"1\" \"2\" \"toto\"\n",
      " $ V1.1: chr  NA NA \"toto\"\n",
      " $ V2.1: chr  NA NA \"toto\"\n",
      " $ V3  : chr  NA NA \"toto\"\n"
     ]
    }
   ],
   "source": [
    "# cell 75\n",
    "d3 <- as.data.frame(rbind(d3, rep(\"toto\", 6)))\n",
    "d3\n",
    "str(d3)"
   ]
  },
  {
   "cell_type": "markdown",
   "metadata": {},
   "source": [
    "### **II.5. - Subsetting a dataframe**\n",
    "---"
   ]
  },
  {
   "cell_type": "markdown",
   "metadata": {},
   "source": [
    "#### **a. The function `which()` returns the index of what is TRUE in a tested condition:**"
   ]
  },
  {
   "cell_type": "code",
   "execution_count": 76,
   "metadata": {},
   "outputs": [
    {
     "name": "stdout",
     "output_type": "stream",
     "text": [
      "[1] 3 4 6\n"
     ]
    }
   ],
   "source": [
    "# cell 76\n",
    "print(which ( myDataf$sex == \"Woman\") )"
   ]
  },
  {
   "cell_type": "markdown",
   "metadata": {},
   "source": [
    "Here, we obtain a vector where 3, 4 and 6 corrrespond to the positions or indexes (1-based) of the occurence \"Woman\" in the vector/variable myDataf$sex. We can the use this vector as usual in a dataframe before the \",\" to select the corresponding rows."
   ]
  },
  {
   "cell_type": "code",
   "execution_count": 77,
   "metadata": {},
   "outputs": [
    {
     "data": {
      "text/html": [
       "<table class=\"dataframe\">\n",
       "<caption>A data.frame: 3 × 4</caption>\n",
       "<thead>\n",
       "\t<tr><th></th><th scope=col>weight</th><th scope=col>size</th><th scope=col>bmi</th><th scope=col>sex</th></tr>\n",
       "\t<tr><th></th><th scope=col>&lt;int&gt;</th><th scope=col>&lt;dbl&gt;</th><th scope=col>&lt;dbl&gt;</th><th scope=col>&lt;chr&gt;</th></tr>\n",
       "</thead>\n",
       "<tbody>\n",
       "\t<tr><th scope=row>Sandrine</th><td>57</td><td>1.65</td><td>20.93664</td><td>Woman</td></tr>\n",
       "\t<tr><th scope=row>Claire</th><td>90</td><td>1.90</td><td>24.93075</td><td>Woman</td></tr>\n",
       "\t<tr><th scope=row>Delphine</th><td>72</td><td>1.91</td><td>19.73630</td><td>Woman</td></tr>\n",
       "</tbody>\n",
       "</table>\n"
      ],
      "text/latex": [
       "A data.frame: 3 × 4\n",
       "\\begin{tabular}{r|llll}\n",
       "  & weight & size & bmi & sex\\\\\n",
       "  & <int> & <dbl> & <dbl> & <chr>\\\\\n",
       "\\hline\n",
       "\tSandrine & 57 & 1.65 & 20.93664 & Woman\\\\\n",
       "\tClaire & 90 & 1.90 & 24.93075 & Woman\\\\\n",
       "\tDelphine & 72 & 1.91 & 19.73630 & Woman\\\\\n",
       "\\end{tabular}\n"
      ],
      "text/markdown": [
       "\n",
       "A data.frame: 3 × 4\n",
       "\n",
       "| <!--/--> | weight &lt;int&gt; | size &lt;dbl&gt; | bmi &lt;dbl&gt; | sex &lt;chr&gt; |\n",
       "|---|---|---|---|---|\n",
       "| Sandrine | 57 | 1.65 | 20.93664 | Woman |\n",
       "| Claire | 90 | 1.90 | 24.93075 | Woman |\n",
       "| Delphine | 72 | 1.91 | 19.73630 | Woman |\n",
       "\n"
      ],
      "text/plain": [
       "         weight size bmi      sex  \n",
       "Sandrine 57     1.65 20.93664 Woman\n",
       "Claire   90     1.90 24.93075 Woman\n",
       "Delphine 72     1.91 19.73630 Woman"
      ]
     },
     "metadata": {},
     "output_type": "display_data"
    }
   ],
   "source": [
    "# cell 77\n",
    "myDataf [ which ( myDataf$sex == \"Woman\") , ] "
   ]
  },
  {
   "cell_type": "code",
   "execution_count": 78,
   "metadata": {},
   "outputs": [
    {
     "name": "stdout",
     "output_type": "stream",
     "text": [
      "'data.frame':\t3 obs. of  4 variables:\n",
      " $ weight: int  57 90 72\n",
      " $ size  : num  1.65 1.9 1.91\n",
      " $ bmi   : num  20.9 24.9 19.7\n",
      " $ sex   : chr  \"Woman\" \"Woman\" \"Woman\"\n"
     ]
    }
   ],
   "source": [
    "# cell 78\n",
    "str(myDataf [ which ( myDataf$sex == \"Woman\") , ])"
   ]
  },
  {
   "cell_type": "markdown",
   "metadata": {},
   "source": [
    "Instead of \"==\" one can use ̀`!=` for \"is different\" to detect what does not match."
   ]
  },
  {
   "cell_type": "code",
   "execution_count": 79,
   "metadata": {},
   "outputs": [
    {
     "name": "stdout",
     "output_type": "stream",
     "text": [
      "[1] 3 4 6\n"
     ]
    }
   ],
   "source": [
    "# cell 79\n",
    "print(which ( myDataf$sex != \"Man\"))"
   ]
  },
  {
   "cell_type": "markdown",
   "metadata": {},
   "source": [
    "Abother method would be to add `!`  for \"not\" before the test, to get the complementary result:"
   ]
  },
  {
   "cell_type": "code",
   "execution_count": 80,
   "metadata": {},
   "outputs": [
    {
     "name": "stdout",
     "output_type": "stream",
     "text": [
      "[1] 3 4 6\n"
     ]
    }
   ],
   "source": [
    "# cell 80\n",
    "print(which (! myDataf$sex == \"Man\"))"
   ]
  },
  {
   "cell_type": "markdown",
   "metadata": {},
   "source": [
    "<div class=\"alert alert-block alert-danger\"><b>Caution:</b>\n",
    "    What happens if you do not use `which()`?\n",
    "</div>"
   ]
  },
  {
   "cell_type": "markdown",
   "metadata": {},
   "source": [
    "Lets' make a copy of our dataframe and replace the gender of Claire by a missing value:"
   ]
  },
  {
   "cell_type": "code",
   "execution_count": 81,
   "metadata": {},
   "outputs": [
    {
     "data": {
      "text/html": [
       "<table class=\"dataframe\">\n",
       "<caption>A data.frame: 6 × 4</caption>\n",
       "<thead>\n",
       "\t<tr><th></th><th scope=col>weight</th><th scope=col>size</th><th scope=col>bmi</th><th scope=col>sex</th></tr>\n",
       "\t<tr><th></th><th scope=col>&lt;int&gt;</th><th scope=col>&lt;dbl&gt;</th><th scope=col>&lt;dbl&gt;</th><th scope=col>&lt;chr&gt;</th></tr>\n",
       "</thead>\n",
       "<tbody>\n",
       "\t<tr><th scope=row>Fabien</th><td>60</td><td>1.75</td><td>19.59184</td><td>Man  </td></tr>\n",
       "\t<tr><th scope=row>Pierre</th><td>72</td><td>1.80</td><td>22.22222</td><td>Man  </td></tr>\n",
       "\t<tr><th scope=row>Sandrine</th><td>57</td><td>1.65</td><td>20.93664</td><td>Woman</td></tr>\n",
       "\t<tr><th scope=row>Claire</th><td>90</td><td>1.90</td><td>24.93075</td><td>NA   </td></tr>\n",
       "\t<tr><th scope=row>Bruno</th><td>95</td><td>1.74</td><td>31.37799</td><td>Man  </td></tr>\n",
       "\t<tr><th scope=row>Delphine</th><td>72</td><td>1.91</td><td>19.73630</td><td>Woman</td></tr>\n",
       "</tbody>\n",
       "</table>\n"
      ],
      "text/latex": [
       "A data.frame: 6 × 4\n",
       "\\begin{tabular}{r|llll}\n",
       "  & weight & size & bmi & sex\\\\\n",
       "  & <int> & <dbl> & <dbl> & <chr>\\\\\n",
       "\\hline\n",
       "\tFabien & 60 & 1.75 & 19.59184 & Man  \\\\\n",
       "\tPierre & 72 & 1.80 & 22.22222 & Man  \\\\\n",
       "\tSandrine & 57 & 1.65 & 20.93664 & Woman\\\\\n",
       "\tClaire & 90 & 1.90 & 24.93075 & NA   \\\\\n",
       "\tBruno & 95 & 1.74 & 31.37799 & Man  \\\\\n",
       "\tDelphine & 72 & 1.91 & 19.73630 & Woman\\\\\n",
       "\\end{tabular}\n"
      ],
      "text/markdown": [
       "\n",
       "A data.frame: 6 × 4\n",
       "\n",
       "| <!--/--> | weight &lt;int&gt; | size &lt;dbl&gt; | bmi &lt;dbl&gt; | sex &lt;chr&gt; |\n",
       "|---|---|---|---|---|\n",
       "| Fabien | 60 | 1.75 | 19.59184 | Man   |\n",
       "| Pierre | 72 | 1.80 | 22.22222 | Man   |\n",
       "| Sandrine | 57 | 1.65 | 20.93664 | Woman |\n",
       "| Claire | 90 | 1.90 | 24.93075 | NA    |\n",
       "| Bruno | 95 | 1.74 | 31.37799 | Man   |\n",
       "| Delphine | 72 | 1.91 | 19.73630 | Woman |\n",
       "\n"
      ],
      "text/plain": [
       "         weight size bmi      sex  \n",
       "Fabien   60     1.75 19.59184 Man  \n",
       "Pierre   72     1.80 22.22222 Man  \n",
       "Sandrine 57     1.65 20.93664 Woman\n",
       "Claire   90     1.90 24.93075 NA   \n",
       "Bruno    95     1.74 31.37799 Man  \n",
       "Delphine 72     1.91 19.73630 Woman"
      ]
     },
     "metadata": {},
     "output_type": "display_data"
    }
   ],
   "source": [
    "# cell 81\n",
    "myDataf2 <- myDataf\n",
    "myDataf2[\"Claire\", \"sex\"] <- NA\n",
    "myDataf2"
   ]
  },
  {
   "cell_type": "markdown",
   "metadata": {},
   "source": [
    "and rerun the same command as above without which() on the new myDataf2:"
   ]
  },
  {
   "cell_type": "code",
   "execution_count": 82,
   "metadata": {},
   "outputs": [
    {
     "data": {
      "text/html": [
       "<table class=\"dataframe\">\n",
       "<caption>A data.frame: 3 × 4</caption>\n",
       "<thead>\n",
       "\t<tr><th></th><th scope=col>weight</th><th scope=col>size</th><th scope=col>bmi</th><th scope=col>sex</th></tr>\n",
       "\t<tr><th></th><th scope=col>&lt;int&gt;</th><th scope=col>&lt;dbl&gt;</th><th scope=col>&lt;dbl&gt;</th><th scope=col>&lt;chr&gt;</th></tr>\n",
       "</thead>\n",
       "<tbody>\n",
       "\t<tr><th scope=row>Sandrine</th><td>57</td><td>1.65</td><td>20.93664</td><td>Woman</td></tr>\n",
       "\t<tr><th scope=row>NA</th><td>NA</td><td>  NA</td><td>      NA</td><td>NA   </td></tr>\n",
       "\t<tr><th scope=row>Delphine</th><td>72</td><td>1.91</td><td>19.73630</td><td>Woman</td></tr>\n",
       "</tbody>\n",
       "</table>\n"
      ],
      "text/latex": [
       "A data.frame: 3 × 4\n",
       "\\begin{tabular}{r|llll}\n",
       "  & weight & size & bmi & sex\\\\\n",
       "  & <int> & <dbl> & <dbl> & <chr>\\\\\n",
       "\\hline\n",
       "\tSandrine & 57 & 1.65 & 20.93664 & Woman\\\\\n",
       "\tNA & NA &   NA &       NA & NA   \\\\\n",
       "\tDelphine & 72 & 1.91 & 19.73630 & Woman\\\\\n",
       "\\end{tabular}\n"
      ],
      "text/markdown": [
       "\n",
       "A data.frame: 3 × 4\n",
       "\n",
       "| <!--/--> | weight &lt;int&gt; | size &lt;dbl&gt; | bmi &lt;dbl&gt; | sex &lt;chr&gt; |\n",
       "|---|---|---|---|---|\n",
       "| Sandrine | 57 | 1.65 | 20.93664 | Woman |\n",
       "| NA | NA |   NA |       NA | NA    |\n",
       "| Delphine | 72 | 1.91 | 19.73630 | Woman |\n",
       "\n"
      ],
      "text/plain": [
       "         weight size bmi      sex  \n",
       "Sandrine 57     1.65 20.93664 Woman\n",
       "NA       NA       NA       NA NA   \n",
       "Delphine 72     1.91 19.73630 Woman"
      ]
     },
     "metadata": {},
     "output_type": "display_data"
    }
   ],
   "source": [
    "# cell 82\n",
    "myDataf2[myDataf2$sex == \"Woman\",]"
   ]
  },
  {
   "cell_type": "code",
   "execution_count": 83,
   "metadata": {},
   "outputs": [
    {
     "data": {
      "text/html": [
       "<table class=\"dataframe\">\n",
       "<caption>A data.frame: 2 × 4</caption>\n",
       "<thead>\n",
       "\t<tr><th></th><th scope=col>weight</th><th scope=col>size</th><th scope=col>bmi</th><th scope=col>sex</th></tr>\n",
       "\t<tr><th></th><th scope=col>&lt;int&gt;</th><th scope=col>&lt;dbl&gt;</th><th scope=col>&lt;dbl&gt;</th><th scope=col>&lt;chr&gt;</th></tr>\n",
       "</thead>\n",
       "<tbody>\n",
       "\t<tr><th scope=row>Sandrine</th><td>57</td><td>1.65</td><td>20.93664</td><td>Woman</td></tr>\n",
       "\t<tr><th scope=row>Delphine</th><td>72</td><td>1.91</td><td>19.73630</td><td>Woman</td></tr>\n",
       "</tbody>\n",
       "</table>\n"
      ],
      "text/latex": [
       "A data.frame: 2 × 4\n",
       "\\begin{tabular}{r|llll}\n",
       "  & weight & size & bmi & sex\\\\\n",
       "  & <int> & <dbl> & <dbl> & <chr>\\\\\n",
       "\\hline\n",
       "\tSandrine & 57 & 1.65 & 20.93664 & Woman\\\\\n",
       "\tDelphine & 72 & 1.91 & 19.73630 & Woman\\\\\n",
       "\\end{tabular}\n"
      ],
      "text/markdown": [
       "\n",
       "A data.frame: 2 × 4\n",
       "\n",
       "| <!--/--> | weight &lt;int&gt; | size &lt;dbl&gt; | bmi &lt;dbl&gt; | sex &lt;chr&gt; |\n",
       "|---|---|---|---|---|\n",
       "| Sandrine | 57 | 1.65 | 20.93664 | Woman |\n",
       "| Delphine | 72 | 1.91 | 19.73630 | Woman |\n",
       "\n"
      ],
      "text/plain": [
       "         weight size bmi      sex  \n",
       "Sandrine 57     1.65 20.93664 Woman\n",
       "Delphine 72     1.91 19.73630 Woman"
      ]
     },
     "metadata": {},
     "output_type": "display_data"
    }
   ],
   "source": [
    "# cell 83\n",
    "myDataf2[which(myDataf2$sex == \"Woman\"),]"
   ]
  },
  {
   "cell_type": "markdown",
   "metadata": {},
   "source": [
    "<div class=\"alert alert-block alert-danger\"><b>Caution:</b>\n",
    "    If you have missing data and you forget to use which(), you will also return them.<b> =>  Always use which()</b>\n",
    "</div>"
   ]
  },
  {
   "cell_type": "markdown",
   "metadata": {},
   "source": [
    "#### **b. One can also search for a pattern with `grep()`:**\n",
    "\n",
    "It returns the index of what matches, even partially."
   ]
  },
  {
   "cell_type": "code",
   "execution_count": 84,
   "metadata": {},
   "outputs": [
    {
     "name": "stdout",
     "output_type": "stream",
     "text": [
      "[1] 3 4 6\n"
     ]
    }
   ],
   "source": [
    "# cell 84\n",
    "print(grep(\"Wom\", myDataf$sex))"
   ]
  },
  {
   "cell_type": "code",
   "execution_count": 85,
   "metadata": {},
   "outputs": [
    {
     "name": "stdout",
     "output_type": "stream",
     "text": [
      "[1] 3 4 6\n"
     ]
    }
   ],
   "source": [
    "# cell 85\n",
    "print(grep(\"Woman\", myDataf$sex))"
   ]
  },
  {
   "cell_type": "code",
   "execution_count": 86,
   "metadata": {},
   "outputs": [
    {
     "data": {
      "text/html": [
       "<table class=\"dataframe\">\n",
       "<caption>A data.frame: 3 × 4</caption>\n",
       "<thead>\n",
       "\t<tr><th></th><th scope=col>weight</th><th scope=col>size</th><th scope=col>bmi</th><th scope=col>sex</th></tr>\n",
       "\t<tr><th></th><th scope=col>&lt;int&gt;</th><th scope=col>&lt;dbl&gt;</th><th scope=col>&lt;dbl&gt;</th><th scope=col>&lt;chr&gt;</th></tr>\n",
       "</thead>\n",
       "<tbody>\n",
       "\t<tr><th scope=row>Sandrine</th><td>57</td><td>1.65</td><td>20.93664</td><td>Woman</td></tr>\n",
       "\t<tr><th scope=row>Claire</th><td>90</td><td>1.90</td><td>24.93075</td><td>Woman</td></tr>\n",
       "\t<tr><th scope=row>Delphine</th><td>72</td><td>1.91</td><td>19.73630</td><td>Woman</td></tr>\n",
       "</tbody>\n",
       "</table>\n"
      ],
      "text/latex": [
       "A data.frame: 3 × 4\n",
       "\\begin{tabular}{r|llll}\n",
       "  & weight & size & bmi & sex\\\\\n",
       "  & <int> & <dbl> & <dbl> & <chr>\\\\\n",
       "\\hline\n",
       "\tSandrine & 57 & 1.65 & 20.93664 & Woman\\\\\n",
       "\tClaire & 90 & 1.90 & 24.93075 & Woman\\\\\n",
       "\tDelphine & 72 & 1.91 & 19.73630 & Woman\\\\\n",
       "\\end{tabular}\n"
      ],
      "text/markdown": [
       "\n",
       "A data.frame: 3 × 4\n",
       "\n",
       "| <!--/--> | weight &lt;int&gt; | size &lt;dbl&gt; | bmi &lt;dbl&gt; | sex &lt;chr&gt; |\n",
       "|---|---|---|---|---|\n",
       "| Sandrine | 57 | 1.65 | 20.93664 | Woman |\n",
       "| Claire | 90 | 1.90 | 24.93075 | Woman |\n",
       "| Delphine | 72 | 1.91 | 19.73630 | Woman |\n",
       "\n"
      ],
      "text/plain": [
       "         weight size bmi      sex  \n",
       "Sandrine 57     1.65 20.93664 Woman\n",
       "Claire   90     1.90 24.93075 Woman\n",
       "Delphine 72     1.91 19.73630 Woman"
      ]
     },
     "metadata": {},
     "output_type": "display_data"
    }
   ],
   "source": [
    "# cell 86\n",
    "myDataf [grep(\"Woman\", myDataf$sex), ] "
   ]
  },
  {
   "cell_type": "code",
   "execution_count": 87,
   "metadata": {},
   "outputs": [
    {
     "name": "stdout",
     "output_type": "stream",
     "text": [
      "[1] 1 3 4\n"
     ]
    }
   ],
   "source": [
    "# cell 87\n",
    "print(grep(\"a\", row.names(myDataf)))"
   ]
  },
  {
   "cell_type": "code",
   "execution_count": 88,
   "metadata": {},
   "outputs": [
    {
     "data": {
      "text/html": [
       "<table class=\"dataframe\">\n",
       "<caption>A data.frame: 3 × 4</caption>\n",
       "<thead>\n",
       "\t<tr><th></th><th scope=col>weight</th><th scope=col>size</th><th scope=col>bmi</th><th scope=col>sex</th></tr>\n",
       "\t<tr><th></th><th scope=col>&lt;int&gt;</th><th scope=col>&lt;dbl&gt;</th><th scope=col>&lt;dbl&gt;</th><th scope=col>&lt;chr&gt;</th></tr>\n",
       "</thead>\n",
       "<tbody>\n",
       "\t<tr><th scope=row>Fabien</th><td>60</td><td>1.75</td><td>19.59184</td><td>Man  </td></tr>\n",
       "\t<tr><th scope=row>Sandrine</th><td>57</td><td>1.65</td><td>20.93664</td><td>Woman</td></tr>\n",
       "\t<tr><th scope=row>Claire</th><td>90</td><td>1.90</td><td>24.93075</td><td>Woman</td></tr>\n",
       "</tbody>\n",
       "</table>\n"
      ],
      "text/latex": [
       "A data.frame: 3 × 4\n",
       "\\begin{tabular}{r|llll}\n",
       "  & weight & size & bmi & sex\\\\\n",
       "  & <int> & <dbl> & <dbl> & <chr>\\\\\n",
       "\\hline\n",
       "\tFabien & 60 & 1.75 & 19.59184 & Man  \\\\\n",
       "\tSandrine & 57 & 1.65 & 20.93664 & Woman\\\\\n",
       "\tClaire & 90 & 1.90 & 24.93075 & Woman\\\\\n",
       "\\end{tabular}\n"
      ],
      "text/markdown": [
       "\n",
       "A data.frame: 3 × 4\n",
       "\n",
       "| <!--/--> | weight &lt;int&gt; | size &lt;dbl&gt; | bmi &lt;dbl&gt; | sex &lt;chr&gt; |\n",
       "|---|---|---|---|---|\n",
       "| Fabien | 60 | 1.75 | 19.59184 | Man   |\n",
       "| Sandrine | 57 | 1.65 | 20.93664 | Woman |\n",
       "| Claire | 90 | 1.90 | 24.93075 | Woman |\n",
       "\n"
      ],
      "text/plain": [
       "         weight size bmi      sex  \n",
       "Fabien   60     1.75 19.59184 Man  \n",
       "Sandrine 57     1.65 20.93664 Woman\n",
       "Claire   90     1.90 24.93075 Woman"
      ]
     },
     "metadata": {},
     "output_type": "display_data"
    }
   ],
   "source": [
    "# cell 88\n",
    "myDataf [grep(\"a\", row.names(myDataf)),]"
   ]
  },
  {
   "cell_type": "markdown",
   "metadata": {},
   "source": [
    "#### **c. The function `subset()` is even simpler than `which()`:**\n",
    "\n",
    "Just enter the dataframe as first argument, and the variable without \"quotes\" on which you do the filtering followed by the condition."
   ]
  },
  {
   "cell_type": "code",
   "execution_count": 89,
   "metadata": {},
   "outputs": [
    {
     "data": {
      "text/html": [
       "<table class=\"dataframe\">\n",
       "<caption>A data.frame: 3 × 4</caption>\n",
       "<thead>\n",
       "\t<tr><th></th><th scope=col>weight</th><th scope=col>size</th><th scope=col>bmi</th><th scope=col>sex</th></tr>\n",
       "\t<tr><th></th><th scope=col>&lt;int&gt;</th><th scope=col>&lt;dbl&gt;</th><th scope=col>&lt;dbl&gt;</th><th scope=col>&lt;chr&gt;</th></tr>\n",
       "</thead>\n",
       "<tbody>\n",
       "\t<tr><th scope=row>Sandrine</th><td>57</td><td>1.65</td><td>20.93664</td><td>Woman</td></tr>\n",
       "\t<tr><th scope=row>Claire</th><td>90</td><td>1.90</td><td>24.93075</td><td>Woman</td></tr>\n",
       "\t<tr><th scope=row>Delphine</th><td>72</td><td>1.91</td><td>19.73630</td><td>Woman</td></tr>\n",
       "</tbody>\n",
       "</table>\n"
      ],
      "text/latex": [
       "A data.frame: 3 × 4\n",
       "\\begin{tabular}{r|llll}\n",
       "  & weight & size & bmi & sex\\\\\n",
       "  & <int> & <dbl> & <dbl> & <chr>\\\\\n",
       "\\hline\n",
       "\tSandrine & 57 & 1.65 & 20.93664 & Woman\\\\\n",
       "\tClaire & 90 & 1.90 & 24.93075 & Woman\\\\\n",
       "\tDelphine & 72 & 1.91 & 19.73630 & Woman\\\\\n",
       "\\end{tabular}\n"
      ],
      "text/markdown": [
       "\n",
       "A data.frame: 3 × 4\n",
       "\n",
       "| <!--/--> | weight &lt;int&gt; | size &lt;dbl&gt; | bmi &lt;dbl&gt; | sex &lt;chr&gt; |\n",
       "|---|---|---|---|---|\n",
       "| Sandrine | 57 | 1.65 | 20.93664 | Woman |\n",
       "| Claire | 90 | 1.90 | 24.93075 | Woman |\n",
       "| Delphine | 72 | 1.91 | 19.73630 | Woman |\n",
       "\n"
      ],
      "text/plain": [
       "         weight size bmi      sex  \n",
       "Sandrine 57     1.65 20.93664 Woman\n",
       "Claire   90     1.90 24.93075 Woman\n",
       "Delphine 72     1.91 19.73630 Woman"
      ]
     },
     "metadata": {},
     "output_type": "display_data"
    }
   ],
   "source": [
    "# cell 89\n",
    "WomenDataf <- subset(myDataf, gender== \"Woman\")\n",
    "WomenDataf"
   ]
  },
  {
   "cell_type": "markdown",
   "metadata": {},
   "source": [
    "#### **d. You can even combine conditions:**\n",
    "\n",
    "- logical: `&` = AND, `|` = OR, `!` = not\n",
    "- comparisons: `==` , `!=` for diffferent, `>`, `<`, `>=`, `>=`\n",
    "- \"is an element of\" a vector using `%in%`"
   ]
  },
  {
   "cell_type": "code",
   "execution_count": 90,
   "metadata": {},
   "outputs": [
    {
     "data": {
      "text/html": [
       "<table class=\"dataframe\">\n",
       "<caption>A data.frame: 1 × 4</caption>\n",
       "<thead>\n",
       "\t<tr><th></th><th scope=col>weight</th><th scope=col>size</th><th scope=col>bmi</th><th scope=col>sex</th></tr>\n",
       "\t<tr><th></th><th scope=col>&lt;int&gt;</th><th scope=col>&lt;dbl&gt;</th><th scope=col>&lt;dbl&gt;</th><th scope=col>&lt;chr&gt;</th></tr>\n",
       "</thead>\n",
       "<tbody>\n",
       "\t<tr><th scope=row>Sandrine</th><td>57</td><td>1.65</td><td>20.93664</td><td>Woman</td></tr>\n",
       "</tbody>\n",
       "</table>\n"
      ],
      "text/latex": [
       "A data.frame: 1 × 4\n",
       "\\begin{tabular}{r|llll}\n",
       "  & weight & size & bmi & sex\\\\\n",
       "  & <int> & <dbl> & <dbl> & <chr>\\\\\n",
       "\\hline\n",
       "\tSandrine & 57 & 1.65 & 20.93664 & Woman\\\\\n",
       "\\end{tabular}\n"
      ],
      "text/markdown": [
       "\n",
       "A data.frame: 1 × 4\n",
       "\n",
       "| <!--/--> | weight &lt;int&gt; | size &lt;dbl&gt; | bmi &lt;dbl&gt; | sex &lt;chr&gt; |\n",
       "|---|---|---|---|---|\n",
       "| Sandrine | 57 | 1.65 | 20.93664 | Woman |\n",
       "\n"
      ],
      "text/plain": [
       "         weight size bmi      sex  \n",
       "Sandrine 57     1.65 20.93664 Woman"
      ]
     },
     "metadata": {},
     "output_type": "display_data"
    }
   ],
   "source": [
    "# cell 90\n",
    "filteredData <- myDataf [ which ( myDataf$sex == \"Woman\" & myDataf$weight < 80 & myDataf$bmi > 20), ]\n",
    "filteredData"
   ]
  },
  {
   "cell_type": "code",
   "execution_count": 91,
   "metadata": {},
   "outputs": [
    {
     "data": {
      "text/html": [
       "<table class=\"dataframe\">\n",
       "<caption>A data.frame: 1 × 4</caption>\n",
       "<thead>\n",
       "\t<tr><th></th><th scope=col>weight</th><th scope=col>size</th><th scope=col>bmi</th><th scope=col>sex</th></tr>\n",
       "\t<tr><th></th><th scope=col>&lt;int&gt;</th><th scope=col>&lt;dbl&gt;</th><th scope=col>&lt;dbl&gt;</th><th scope=col>&lt;chr&gt;</th></tr>\n",
       "</thead>\n",
       "<tbody>\n",
       "\t<tr><th scope=row>Sandrine</th><td>57</td><td>1.65</td><td>20.93664</td><td>Woman</td></tr>\n",
       "</tbody>\n",
       "</table>\n"
      ],
      "text/latex": [
       "A data.frame: 1 × 4\n",
       "\\begin{tabular}{r|llll}\n",
       "  & weight & size & bmi & sex\\\\\n",
       "  & <int> & <dbl> & <dbl> & <chr>\\\\\n",
       "\\hline\n",
       "\tSandrine & 57 & 1.65 & 20.93664 & Woman\\\\\n",
       "\\end{tabular}\n"
      ],
      "text/markdown": [
       "\n",
       "A data.frame: 1 × 4\n",
       "\n",
       "| <!--/--> | weight &lt;int&gt; | size &lt;dbl&gt; | bmi &lt;dbl&gt; | sex &lt;chr&gt; |\n",
       "|---|---|---|---|---|\n",
       "| Sandrine | 57 | 1.65 | 20.93664 | Woman |\n",
       "\n"
      ],
      "text/plain": [
       "         weight size bmi      sex  \n",
       "Sandrine 57     1.65 20.93664 Woman"
      ]
     },
     "metadata": {},
     "output_type": "display_data"
    }
   ],
   "source": [
    "# cell 91\n",
    "subset( myDataf, sex == \"Woman\" & weight < 80 & bmi > 20)"
   ]
  },
  {
   "cell_type": "markdown",
   "metadata": {},
   "source": [
    "<div class=\"alert alert-block alert-success\"><b>Success:</b> Well done! You now know all the main functions to create and manipulate dataframes.\n",
    "\n",
    "</div>\n",
    "    "
   ]
  },
  {
   "cell_type": "markdown",
   "metadata": {},
   "source": [
    "___\n",
    "\n",
    "## **IV - Plots**"
   ]
  },
  {
   "cell_type": "markdown",
   "metadata": {},
   "source": [
    "R is a fanstatic tool to draw nice graphs: https://r-graph-gallery.com/ and https://www.data-to-viz.com/. A great package **ggplot2** allows to draw the nicest plots.\n",
    "\n",
    "We could spend several sessions on the topic but let's have a quick view of what can be done with **R base** commands on our dataframe."
   ]
  },
  {
   "cell_type": "markdown",
   "metadata": {},
   "source": [
    "#### **a. scatter plot with the function `plot()`**"
   ]
  },
  {
   "cell_type": "code",
   "execution_count": 92,
   "metadata": {},
   "outputs": [
    {
     "data": {
      "image/png": "[encoded data removed]",
      "text/plain": [
       "plot without title"
      ]
     },
     "metadata": {
      "image/png": {
       "height": 420,
       "width": 420
      }
     },
     "output_type": "display_data"
    }
   ],
   "source": [
    "# cell 92\n",
    "plot(myDataf$weight~myDataf$size)  "
   ]
  },
  {
   "cell_type": "markdown",
   "metadata": {},
   "source": [
    "#### **b. Representation of quantitative data distribution** \n",
    "\n",
    "- as a boxplot with `boxplot()`:"
   ]
  },
  {
   "cell_type": "code",
   "execution_count": 93,
   "metadata": {},
   "outputs": [
    {
     "data": {
      "image/png": "[encoded data removed]",
      "text/plain": [
       "plot without title"
      ]
     },
     "metadata": {
      "image/png": {
       "height": 420,
       "width": 420
      }
     },
     "output_type": "display_data"
    }
   ],
   "source": [
    "# cell 93\n",
    "boxplot(myDataf$weight)"
   ]
  },
  {
   "cell_type": "markdown",
   "metadata": {},
   "source": [
    "or using `~ ` to display boxplots on the same plot depending on a categorical variable:"
   ]
  },
  {
   "cell_type": "code",
   "execution_count": 94,
   "metadata": {},
   "outputs": [
    {
     "data": {
      "image/png": "[encoded data removed]",
      "text/plain": [
       "plot without title"
      ]
     },
     "metadata": {
      "image/png": {
       "height": 420,
       "width": 420
      }
     },
     "output_type": "display_data"
    }
   ],
   "source": [
    "# cell 94\n",
    "boxplot(myDataf$weight ~ myDataf$sex) "
   ]
  },
  {
   "cell_type": "markdown",
   "metadata": {},
   "source": [
    "- as a histogram with `hist()`:"
   ]
  },
  {
   "cell_type": "code",
   "execution_count": 95,
   "metadata": {},
   "outputs": [
    {
     "data": {
      "image/png": "[encoded data removed]",
      "text/plain": [
       "Plot with title “Histogram of a”"
      ]
     },
     "metadata": {
      "image/png": {
       "height": 420,
       "width": 420
      }
     },
     "output_type": "display_data"
    }
   ],
   "source": [
    "# cell 95\n",
    "a <- rnorm(1000) # to sample 1000 values from a normal distribution of mean 0 and standard deviation 1\n",
    "hist(a, breaks=20) # the argument breaks is used to specify the number of intervals"
   ]
  },
  {
   "cell_type": "markdown",
   "metadata": {},
   "source": [
    "- **customize graphs**"
   ]
  },
  {
   "cell_type": "markdown",
   "metadata": {},
   "source": [
    "<div class=\"alert alert-block alert-info\"><b><u>Graphs have three-level functions:</u></b>\n",
    "\n",
    "1. <b>primary graph functions</b> like `plot()`, `boxplot` and `hist()` to display the most principal graphs in R\n",
    "\n",
    "2. <b>secondary graph functions</b> to complement an existing plot like `points()`, `lines()`, `legend()` or `title()` to display the most principal graphs in R. In a notebook, use them in the same cell.\n",
    "\n",
    "3. <b>graphical parameters</b> to modify the plots display:\n",
    "    - either as options of the primary and secondary functions\n",
    "    - or permanetly with the `par()` function before plotting the graph.</div>\n"
   ]
  },
  {
   "cell_type": "markdown",
   "metadata": {},
   "source": [
    "Below is an example using primary and secondary functions:"
   ]
  },
  {
   "cell_type": "code",
   "execution_count": 96,
   "metadata": {},
   "outputs": [
    {
     "data": {
      "image/png": "[encoded data removed]",
      "text/plain": [
       "Plot with title “Weight ~Size”"
      ]
     },
     "metadata": {
      "image/png": {
       "height": 420,
       "width": 420
      }
     },
     "output_type": "display_data"
    }
   ],
   "source": [
    "# cell 96\n",
    "plot(myDataf$weight~myDataf$size, main = \"Weight ~Size\", \n",
    "     xlim = c(-3,3), ylim = c(0,200), type = \"n\", xlab = \"Size\", ylab = \"Weight\")\n",
    "points(myDataf$weight[1:2]~myDataf$size[1:2], pch = 6, col = \"blue\")\n",
    "points(myDataf[3:6,\"weight\"]~myDataf$size[3:6], type = \"b\", pch = 23, col = \"magenta\", bg = \"cyan\", cex = 2)\n",
    "points(seq(0,2.5, 0.5), c(1, 10, 25, 50, 125, 150), type = \"l\") \n",
    "lines(-seq(0,2.5, 0.5), c(1, 10, 25, 50, 125, 150), lty = \"dotdash\", col = \"blue\", lwd = 3) \n",
    "abline(0, -50, lty = 3, col = \"red\")\n",
    "abline(v = 0, lty = 2, col = \"green\")\n",
    "\n",
    "mtext(\"overlap of unrelated graphs\", side = 1)\n",
    "mtext(\"other text\", side = 1, line = 2)\n",
    "text(-1, 150, \"some text here\")\n",
    "axis(side = 4, labels = c(0, 20, 80, 160), at = c(0, 20, 80, 160), tick = T)\n",
    "legend(\"topright\", c(\"blue triangles\", \"diamonds\", \"red line\"), pch = c(6, 23, NA),\n",
    "       col = c(\"blue\", \"magenta\", \"red\"), pt.bg = c(\"transparent\", \"cyan\", \"transparent\"),  lty = c(0,0,3))\n",
    "     "
   ]
  },
  {
   "cell_type": "markdown",
   "metadata": {},
   "source": [
    "- **saving graphs**"
   ]
  },
  {
   "cell_type": "markdown",
   "metadata": {},
   "source": [
    "Save figures in different formats with the appropriate function (by default in the working directory)\n",
    "<style type=\"text/css\">\n",
    ".tg  {border-collapse:collapse;border-spacing:0;}\n",
    ".tg td{border-color:black;border-style:solid;border-width:1px;font-family:Arial, sans-serif;font-size:14px;\n",
    "  overflow:hidden;padding:10px 5px;word-break:normal;}\n",
    ".tg th{border-color:black;border-style:solid;border-width:1px;font-family:Arial, sans-serif;font-size:14px;\n",
    "  font-weight:normal;overflow:hidden;padding:10px 5px;word-break:normal;}\n",
    ".tg .tg-0pky{border-color:inherit;text-align:left;vertical-align:top}\n",
    "</style>\n",
    "<table class=\"tg\">\n",
    "<thead>\n",
    "  <tr>\n",
    "    <th class=\"tg-0pky\">function</th>\n",
    "    <th class=\"tg-0pky\">extension file</th>\n",
    "  </tr>\n",
    "</thead>\n",
    "<tbody>\n",
    "  <tr>\n",
    "    <td class=\"tg-0pky\">bmp()</td>\n",
    "    <td class=\"tg-0pky\">.bmp</td>\n",
    "  </tr>\n",
    "  <tr>\n",
    "    <td class=\"tg-0pky\">jpeg()</td>\n",
    "    <td class=\"tg-0pky\">.jpeg</td>\n",
    "  </tr>\n",
    "  <tr>\n",
    "    <td class=\"tg-0pky\">tiff()</td>\n",
    "    <td class=\"tg-0pky\">.tiff</td>\n",
    "  </tr>\n",
    "  <tr>\n",
    "    <td class=\"tg-0pky\">png()</td>\n",
    "    <td class=\"tg-0pky\">.png</td>\n",
    "  </tr>\n",
    "  <tr>\n",
    "    <td class=\"tg-0pky\">postscript()</td>\n",
    "    <td class=\"tg-0pky\">.eps</td>\n",
    "  </tr>\n",
    "  <tr>\n",
    "    <td class=\"tg-0pky\">pdf()</td>\n",
    "    <td class=\"tg-0pky\">.pdf</td>\n",
    "  </tr>\n",
    "</tbody>\n",
    "</table>\n",
    "\n",
    "***Three steps***\n",
    "1. Type the function with the name of the saved file as an argument with the correct extension. Other arguments like « width » and « height » to specify dimensions.\n",
    "2. Do your plot -> it is directed to the file and not displayed in the graphical window within R\n",
    "3. Close the graph by typing the `dev.off()` function\n",
    "\n",
    "> Specific case for pdf(): you may save each figure at a time or all several (all) figures generated with all the command lines entered between pdf() and dev.off()."
   ]
  },
  {
   "cell_type": "markdown",
   "metadata": {},
   "source": [
    "___\n",
    "\n",
    "## **IV - Statistics with R**"
   ]
  },
  {
   "cell_type": "markdown",
   "metadata": {},
   "source": [
    "R is a dedicated language to perform statistics including descriptive statistics and statistical tests."
   ]
  },
  {
   "cell_type": "markdown",
   "metadata": {},
   "source": [
    "- for descriptive statistics you may use `summary()` function:"
   ]
  },
  {
   "cell_type": "code",
   "execution_count": 97,
   "metadata": {},
   "outputs": [
    {
     "data": {
      "text/plain": [
       "     weight           size            bmi            sex           \n",
       " Min.   :57.00   Min.   :1.650   Min.   :19.59   Length:6          \n",
       " 1st Qu.:63.00   1st Qu.:1.742   1st Qu.:20.04   Class :character  \n",
       " Median :72.00   Median :1.775   Median :21.58   Mode  :character  \n",
       " Mean   :74.33   Mean   :1.792   Mean   :23.13                     \n",
       " 3rd Qu.:85.50   3rd Qu.:1.875   3rd Qu.:24.25                     \n",
       " Max.   :95.00   Max.   :1.910   Max.   :31.38                     "
      ]
     },
     "metadata": {},
     "output_type": "display_data"
    }
   ],
   "source": [
    "# cell 97\n",
    "summary(myDataf)"
   ]
  },
  {
   "cell_type": "markdown",
   "metadata": {},
   "source": [
    "- for statistical tests\n",
    "\n",
    "Let's start with a t test with the function `t.test` that compares means of quantitative variable between 2 groups."
   ]
  },
  {
   "cell_type": "code",
   "execution_count": 98,
   "metadata": {},
   "outputs": [
    {
     "data": {
      "text/plain": [
       "\n",
       "\tWelch Two Sample t-test\n",
       "\n",
       "data:  myDataf$weight by myDataf$sex\n",
       "t = 0.19026, df = 3.9785, p-value = 0.8584\n",
       "alternative hypothesis: true difference in means between group Man and group Woman is not equal to 0\n",
       "95 percent confidence interval:\n",
       " -36.33073  41.66406\n",
       "sample estimates:\n",
       "  mean in group Man mean in group Woman \n",
       "           75.66667            73.00000 \n"
      ]
     },
     "metadata": {},
     "output_type": "display_data"
    }
   ],
   "source": [
    "# cell 98\n",
    "t.test(myDataf$weight ~ myDataf$sex) "
   ]
  },
  {
   "cell_type": "markdown",
   "metadata": {
    "tags": []
   },
   "source": [
    "<div class=\"alert alert-block alert-info\"><b><u>To interpret the test, look at the p-value</u></b>  If it is below the alpha risk, then you can reject the null hypothesis</div>\n",
    "    \n",
    "In the example above, it is not significant at 5%: the null hypothesis could not be rejected. "
   ]
  },
  {
   "cell_type": "markdown",
   "metadata": {},
   "source": [
    "Let's now perform a Chi square test with `chisq.test()` that compares distributions of qualitative variables."
   ]
  },
  {
   "cell_type": "markdown",
   "metadata": {},
   "source": [
    "For the example, lets consider a contingency table with counts of genotypes obtained in 2 groups, one of patients and one of controls.\n",
    "\n",
    "<style type=\"text/css\">\n",
    ".tg  {border-collapse:collapse;border-spacing:0;}\n",
    ".tg td{border-color:black;border-style:solid;border-width:1px;font-family:Arial, sans-serif;font-size:14px;\n",
    "  overflow:hidden;padding:10px 5px;word-break:normal;}\n",
    ".tg th{border-color:black;border-style:solid;border-width:1px;font-family:Arial, sans-serif;font-size:14px;\n",
    "  font-weight:normal;overflow:hidden;padding:10px 5px;word-break:normal;}\n",
    ".tg .tg-0pky{border-color:inherit;text-align:left;vertical-align:top}\n",
    "</style>\n",
    "<table class=\"tg\">\n",
    "<thead>\n",
    "  <tr>\n",
    "    <th class=\"tg-0pky\">genotype</th>\n",
    "    <th class=\"tg-0pky\">cases</th>\n",
    "    <th class=\"tg-0pky\">controls</th>\n",
    "  </tr>\n",
    "</thead>\n",
    "<tbody>\n",
    "  <tr>\n",
    "    <td class=\"tg-0pky\">0/0</td>\n",
    "    <td class=\"tg-0pky\">188</td>\n",
    "    <td class=\"tg-0pky\">94</td>\n",
    "  </tr>\n",
    "  <tr>\n",
    "    <td class=\"tg-0pky\">1/0 (or 0/1)<br></td>\n",
    "    <td class=\"tg-0pky\">133<br></td>\n",
    "    <td class=\"tg-0pky\">92</td>\n",
    "  </tr>\n",
    "  <tr>\n",
    "    <td class=\"tg-0pky\">1/1<br></td>\n",
    "    <td class=\"tg-0pky\">24</td>\n",
    "    <td class=\"tg-0pky\">30</td>\n",
    "  </tr>\n",
    "</tbody>\n",
    "</table>"
   ]
  },
  {
   "cell_type": "code",
   "execution_count": 99,
   "metadata": {},
   "outputs": [],
   "source": [
    "# cell 99\n",
    "cases_controls <- data.frame(\"genotype\" = c(\"0/0\", \"1/0 (or 0/1)\", \"1/1\"), \"cases\" = c(188,133,24), \"controls\" = c(94,92,30))"
   ]
  },
  {
   "cell_type": "code",
   "execution_count": 100,
   "metadata": {},
   "outputs": [
    {
     "data": {
      "text/html": [
       "<table class=\"dataframe\">\n",
       "<caption>A data.frame: 3 × 3</caption>\n",
       "<thead>\n",
       "\t<tr><th scope=col>genotype</th><th scope=col>cases</th><th scope=col>controls</th></tr>\n",
       "\t<tr><th scope=col>&lt;chr&gt;</th><th scope=col>&lt;dbl&gt;</th><th scope=col>&lt;dbl&gt;</th></tr>\n",
       "</thead>\n",
       "<tbody>\n",
       "\t<tr><td>0/0         </td><td>188</td><td>94</td></tr>\n",
       "\t<tr><td>1/0 (or 0/1)</td><td>133</td><td>92</td></tr>\n",
       "\t<tr><td>1/1         </td><td> 24</td><td>30</td></tr>\n",
       "</tbody>\n",
       "</table>\n"
      ],
      "text/latex": [
       "A data.frame: 3 × 3\n",
       "\\begin{tabular}{lll}\n",
       " genotype & cases & controls\\\\\n",
       " <chr> & <dbl> & <dbl>\\\\\n",
       "\\hline\n",
       "\t 0/0          & 188 & 94\\\\\n",
       "\t 1/0 (or 0/1) & 133 & 92\\\\\n",
       "\t 1/1          &  24 & 30\\\\\n",
       "\\end{tabular}\n"
      ],
      "text/markdown": [
       "\n",
       "A data.frame: 3 × 3\n",
       "\n",
       "| genotype &lt;chr&gt; | cases &lt;dbl&gt; | controls &lt;dbl&gt; |\n",
       "|---|---|---|\n",
       "| 0/0          | 188 | 94 |\n",
       "| 1/0 (or 0/1) | 133 | 92 |\n",
       "| 1/1          |  24 | 30 |\n",
       "\n"
      ],
      "text/plain": [
       "  genotype     cases controls\n",
       "1 0/0          188   94      \n",
       "2 1/0 (or 0/1) 133   92      \n",
       "3 1/1           24   30      "
      ]
     },
     "metadata": {},
     "output_type": "display_data"
    }
   ],
   "source": [
    "# cell 100\n",
    "cases_controls"
   ]
  },
  {
   "cell_type": "markdown",
   "metadata": {},
   "source": [
    "We can compute the observed frequencies with the function `proportions`..."
   ]
  },
  {
   "cell_type": "code",
   "execution_count": 101,
   "metadata": {},
   "outputs": [
    {
     "data": {
      "text/html": [
       "<table class=\"dataframe\">\n",
       "<caption>A matrix: 3 × 2 of type dbl</caption>\n",
       "<thead>\n",
       "\t<tr><th scope=col>cases</th><th scope=col>controls</th></tr>\n",
       "</thead>\n",
       "<tbody>\n",
       "\t<tr><td>0.54492754</td><td>0.4351852</td></tr>\n",
       "\t<tr><td>0.38550725</td><td>0.4259259</td></tr>\n",
       "\t<tr><td>0.06956522</td><td>0.1388889</td></tr>\n",
       "</tbody>\n",
       "</table>\n"
      ],
      "text/latex": [
       "A matrix: 3 × 2 of type dbl\n",
       "\\begin{tabular}{ll}\n",
       " cases & controls\\\\\n",
       "\\hline\n",
       "\t 0.54492754 & 0.4351852\\\\\n",
       "\t 0.38550725 & 0.4259259\\\\\n",
       "\t 0.06956522 & 0.1388889\\\\\n",
       "\\end{tabular}\n"
      ],
      "text/markdown": [
       "\n",
       "A matrix: 3 × 2 of type dbl\n",
       "\n",
       "| cases | controls |\n",
       "|---|---|\n",
       "| 0.54492754 | 0.4351852 |\n",
       "| 0.38550725 | 0.4259259 |\n",
       "| 0.06956522 | 0.1388889 |\n",
       "\n"
      ],
      "text/plain": [
       "     cases      controls \n",
       "[1,] 0.54492754 0.4351852\n",
       "[2,] 0.38550725 0.4259259\n",
       "[3,] 0.06956522 0.1388889"
      ]
     },
     "metadata": {},
     "output_type": "display_data"
    }
   ],
   "source": [
    "# cell 101\n",
    "proportions(as.matrix(cases_controls[,2:3]),2)"
   ]
  },
  {
   "cell_type": "markdown",
   "metadata": {},
   "source": [
    "...and display these proportions in a stacked barplot:"
   ]
  },
  {
   "cell_type": "code",
   "execution_count": 102,
   "metadata": {},
   "outputs": [
    {
     "data": {
      "image/png": "[encoded data removed]",
      "text/plain": [
       "plot without title"
      ]
     },
     "metadata": {
      "image/png": {
       "height": 420,
       "width": 420
      }
     },
     "output_type": "display_data"
    }
   ],
   "source": [
    "# cell 102\n",
    "barplot(proportions(as.matrix(cases_controls[,2:3]),2), beside = FALSE, legend = cases_controls$genotype)"
   ]
  },
  {
   "cell_type": "markdown",
   "metadata": {},
   "source": [
    "Let's now test whether these proportions differ between cases and controls with a Chi square test:"
   ]
  },
  {
   "cell_type": "code",
   "execution_count": 103,
   "metadata": {},
   "outputs": [
    {
     "data": {
      "text/plain": [
       "\n",
       "\tPearson's Chi-squared test\n",
       "\n",
       "data:  cases_controls[, 2:3]\n",
       "X-squared = 10.356, df = 2, p-value = 0.005641\n"
      ]
     },
     "metadata": {},
     "output_type": "display_data"
    }
   ],
   "source": [
    "# cell 103\n",
    "chisq.test(cases_controls[, 2:3]) "
   ]
  },
  {
   "cell_type": "markdown",
   "metadata": {},
   "source": [
    "This time the pvalue is belwo 5%, wa can reject the null hypothesis of equal frequencies. "
   ]
  },
  {
   "cell_type": "markdown",
   "metadata": {},
   "source": [
    "<div class=\"alert alert-block alert-success\"><b>Success:</b> Well done! You have seen how to draw basic plots and run simple statistics with R base.\n",
    "\n",
    "</div>\n"
   ]
  },
  {
   "cell_type": "markdown",
   "metadata": {},
   "source": [
    "***\n",
    "***\n",
    "## Useful commands\n",
    "<div class=\"alert alert-block alert-info\"> \n",
    "    \n",
    "- <kbd>CTRL</kbd>+<kbd>S</kbd> : save notebook<br>    \n",
    "- <kbd>CTRL</kbd>+<kbd>ENTER</kbd> : Run Cell<br>  \n",
    "- <kbd>SHIFT</kbd>+<kbd>ENTER</kbd> : Run Cell and Select Next<br>   \n",
    "- <kbd>ALT</kbd>+<kbd>ENTER</kbd> : Run Cell and Insert Below<br>   \n",
    "- <kbd>ESC</kbd>+<kbd>y</kbd> : Change to *Code* Cell Type<br>  \n",
    "- <kbd>ESC</kbd>+<kbd>m</kbd> : Change to *Markdown* Cell Type<br> \n",
    "- <kbd>ESC</kbd>+<kbd>r</kbd> : Change to *Raw* Cell Type<br>    \n",
    "- <kbd>ESC</kbd>+<kbd>a</kbd> : Create Cell Above<br> \n",
    "- <kbd>ESC</kbd>+<kbd>b</kbd> : Create Cell Below<br> \n",
    "\n",
    "<em>  \n",
    "To make nice html reports with markdown: <a href=\"https://dillinger.io/\" title=\"dillinger.io\">html visualization tool 1</a> or <a href=\"https://stackedit.io/app#\" title=\"stackedit.io\">html visualization tool 2</a>, <a href=\"https://www.tablesgenerator.com/markdown_tables\" title=\"tablesgenerator.com\">to draw nice tables</a>, and the <a href=\"https://medium.com/analytics-vidhya/the-ultimate-markdown-guide-for-jupyter-notebook-d5e5abf728fd\" title=\"Ultimate guide\">Ultimate guide</a>. <br>\n",
    "Further reading on JupyterLab notebooks: <a href=\"https://jupyterlab.readthedocs.io/en/latest/user/notebook.html\" title=\"Jupyter Lab\">Jupyter Lab documentation</a>.<br>   \n",
    "</em>    \n",
    " \n",
    "</div>"
   ]
  }
 ],
 "metadata": {
  "kernelspec": {
   "display_name": "R",
   "language": "R",
   "name": "ir"
  },
  "language_info": {
   "codemirror_mode": "r",
   "file_extension": ".r",
   "mimetype": "text/x-r-source",
   "name": "R",
   "pygments_lexer": "r",
   "version": "4.1.2"
  },
  "toc-showtags": true
 },
 "nbformat": 4,
 "nbformat_minor": 4
}
