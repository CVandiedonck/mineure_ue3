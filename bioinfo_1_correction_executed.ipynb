{
 "cells": [
  {
   "cell_type": "markdown",
   "id": "8d3705be-6dd2-4790-9590-945276a9c158",
   "metadata": {},
   "source": [
    "# **Bioinformatique**\n",
    "## **Découverte des commandes de base Unix**\n",
    "\n",
    "- pwd, ls\n",
    "- du, df\n",
    "- tree, cd\n",
    "- mkdir, touch, echo, nano\n",
    "- cp, mv\n",
    "- rm, rmdir\n",
    "- cat, head, tail\n",
    "- wc, sort, cut, grep, sed\n",
    "- md5sum"
   ]
  },
  {
   "cell_type": "markdown",
   "id": "efee4b46-4ebf-4b8d-9a94-d1608ef94ffb",
   "metadata": {
    "tags": []
   },
   "source": [
    "\n",
    "## Avant d'aller plus loin\n",
    "---\n",
    "<div class=\"alert alert-block alert-danger\"><b>Attention:</b> \n",
    "Ne travaillez pas directement sur ce notebook pour ne pas le perdre. Dupliquez-le et renommez-le par exemple en ajoutant vos initiales et travaillez sur cette nouvelle copie. Pour ce faire, dans le panneau de gauche, faites un clic droit sur le fichier et sélectionnez \"Duplicate\". Puis, toujours dans la colonne de gauche, faites un clic droit sur cette copie et sélectionnez \"rename\" pour changer le nom. Ouvrez ensuite cette nouvelle version en double cliquant dessus. Vous êtes prêt(e) à démarrer! <br>\n",
    "<br>\n",
    "<b>N'oubliez pas de sauvegarder régulièrement votre notebook</b>: <kbd>Ctrl</kbd> + <kbd>S</kbd>. ou en cliquant sur l'icone 💾 en haut à gauche de votre notebook ou dans le Menu du JupyterLab \"File puis \"Save Notebook\"!\n",
    "</div>"
   ]
  },
  {
   "cell_type": "markdown",
   "id": "1bc416de-6edc-4545-aa95-ffece0a30a4b",
   "metadata": {},
   "source": [
    "<div class=\"alert alert-block alert-info\"> \n",
    "   \n",
    "<b>Rappel :</b> Vous pouvez prendre des notes directement dans ce notebook, en ajoutant une cellule Markdown en cliquant sur l'icône <kbd>➕</kbd> dans la barre des menus, et en choisissant son format dans le menu déroulant. \n",
    "Les astuces pour utiliser les cellules des notebooks sont rappelées tout en bas dans un cadre bleu ⏬.\n",
    "</div>"
   ]
  },
  {
   "cell_type": "markdown",
   "id": "0e53dc2f-c963-4959-98d2-2a66ab36ecd4",
   "metadata": {},
   "source": [
    "__=> A propos de ce notebook jupyter__\n",
    "\n",
    "Ce notebook jupyter notebook est en **bash**, ce qui signifie que les commandes que vous entrerez dans les cellules de `Code` seront directement lues en Bash par le serveur. <br> Vous pourriez executez ces mêmes commandes dans un  `Terminal` (l'effroyable fenêtre noire :😰). \n",
    "\n",
    ">_Facultatif, si vous êtes curieux de voir un terminal, vous pouvez **transitoirement** en ouvrir un sur adenine:_\n",
    ">- _dans le menu in the `File` dans la barre du haut, selectionnez `New Launcher` ou cliquez sur le `+` juste en dessous de `File`_\n",
    ">- _ouvrez un `Terminal` Bash_\n",
    ">- _Vous pouvez copier et coller les 1ères commandes de ce notebook présentes dans les cellules de`Code` juste après le prompt `$` dans le terminal._ <span style=\"color:red\">\n",
    "Mais surtout, revenez ensuite au notebook pour tout réaliser dedans, sinon vous perdez tout l'intérêt d'utiliser une interface Jupyterlab!</span>"
   ]
  },
  {
   "cell_type": "markdown",
   "id": "d7c59419-8116-4a82-8d6c-45003e35274a",
   "metadata": {},
   "source": [
    "\n",
    "## 1. Introduction\n",
    "---"
   ]
  },
  {
   "cell_type": "markdown",
   "id": "4d3ef14a-cfbb-4c94-a080-e120780f42d7",
   "metadata": {},
   "source": [
    "**Bash** est un interpréteur de lignes de commande (*shell*) utilisé sur des systèmes Unix / Linux. C'est un des *shells* les plus utilisés sous Linux. Si vous souhaitez mieux comprendre la différence entre *shell* et terminal, jetez un oeil à cette [video](https://www.youtube.com/watch?v=U2b-MYcSCLc)."
   ]
  },
  {
   "cell_type": "markdown",
   "id": "5bd337e5-2d3c-4b81-bfa8-e667dc9182f6",
   "metadata": {},
   "source": [
    "- Dans Unix, tous les caractères sont sensibles à la casse.\n",
    "- N'utilisez pas d'accents et évitez les caractères spéciaux.   \n",
    "- Dans les cellules de `Code`, les lignes débutant par un `#` sont des commentaires qui ne seront pas interprétées comme des commandes. Elles ont été ajoutées pour vous aider.  \n",
    "- Vous pouvez ajouter vos propres commentaires ou notes dans ce document, soit dans des cellules de `Code` en utilisant `#`, soit dans des cellules de type `Markdown` que vous pouvez ajouter en cliquant sur le <kbd>➕</kbd> dans le menu en haut à gauche de ce notebook.  \n",
    "    \n",
    "**Dans ce notebook, vous aurez 2 types de cellule de code:**\n",
    "    \n",
    "- <span style=\"color:blue\">des cellules sans code:</span> vous devrez trouver le code adéquat\n",
    "- <span style=\"color:green\">des cellules avec le code déjà renseigné:</span> vous devrez comprendre les commandes correspondantes.\n"
   ]
  },
  {
   "cell_type": "markdown",
   "id": "365d54a5-9e2d-45a3-bdd6-ed89e17ed1e2",
   "metadata": {},
   "source": [
    "<mark>Dans ce TP, vous lancerez chaque cellule l'une après l'autre dans l'ordre. Si vous revenez en arrière et rééxécuter une cellule, veillez à relancer les suivantes. Les cellules sont numérotées dans leur ordre d'éxécution.</mark>"
   ]
  },
  {
   "cell_type": "markdown",
   "id": "0d5cbf64-6171-42b8-ad56-344a618396ea",
   "metadata": {},
   "source": [
    "## 2. Système de fichiers \n",
    "---\n",
    "\n",
    "Le système de fichiers (*file system*) d'un système d'exploitation (*operating system* ou *OS*) permet l'organisation hiérarchique des fichiers (*file*) et des répertoires/dossiers (*directory*). Un ensemble de commandes Unix permettent de se déplacer dans cette arborescence, de créer/renommer/déplacer/effacer des fichiers ou des répertoires. \n"
   ]
  },
  {
   "cell_type": "markdown",
   "id": "edc1f746-c9f7-42ce-b21b-c03cf8fcf3bb",
   "metadata": {},
   "source": [
    "### 2.1. Répertoire de travail/répertoire courant\n",
    "---\n",
    "\n",
    "Pour se déplacer dans l'arborescence, il faut d'abord savoir à quel niveau on se trouve à un instant donné, c'est-à-dire **connaitre le répertoire de travail** (*working directory* ou *wd*) encore appelé **répertoire courant**. \n",
    "\n",
    "<span style=\"color:blue\">- Exécutez la commande `pwd` qui affiche le répertoire de travail (<i>print working directory</i>):</span>"
   ]
  },
  {
   "cell_type": "code",
   "execution_count": 1,
   "id": "e14fc91a-c0d2-4cb6-8bae-7a6dec6a01f5",
   "metadata": {},
   "outputs": [
    {
     "name": "stdout",
     "output_type": "stream",
     "text": [
      "/srv/home/cvandiedonck/pass_rs_ue3_bistats/MINEURE_UE3\n"
     ]
    }
   ],
   "source": [
    "# cell 1\n",
    "pwd"
   ]
  },
  {
   "cell_type": "markdown",
   "id": "11772517-8f69-41fc-ab14-90e1158553bb",
   "metadata": {},
   "source": [
    "<div class=\"alert alert-block alert-success\">\n",
    "Vous devriez obtenir ceci: /srv/home/votre_login/pass_rs_ue3_bistats\n",
    "</div>"
   ]
  },
  {
   "cell_type": "markdown",
   "id": "090a4122-84c0-44a6-9c16-67a572d7bd13",
   "metadata": {},
   "source": [
    "Il s'agit du chemin absolu (*absolute path*) du répertoire de travail. \n",
    "\n",
    "Remarquez qu' <span style=\"color:red\"><b>un chemin absolu commence toujours par un \"slash\" `/`</b></span> , qui désigne la racine (*root*) de l'arborescence.\n",
    "\n",
    "Remarquez que le chemin affiché contient votre `Username`, correspondant à votre `home`,  ainsi que le nom de l'environnement que vous avez chargé dans PlasmaBio. En effet un répertoire est créé dans votre home lorsque vous chargez un environnement dans PlasmaBio pour la 1ère fois.\n",
    "\n",
    "<div class=\"alert alert-block alert-warning\">\n",
    "<b>La <code>home</code> est votre répertoire principal</b> sur adenine (et tout autre serveur). Le symbole <code>~</code> (touches <kbd>Alt</kbd>+<kbd>Gr</kbd>+<kbd>2</kbd> sur Azerty) est un raccourci de votre home. Vous pouvez utiliser ce symbole plutôt que le chemin absolu/relatif de votre home.</div>"
   ]
  },
  {
   "cell_type": "markdown",
   "id": "711c7a0e-0374-43d0-967b-c829d4d5a0bd",
   "metadata": {},
   "source": [
    "### 2.2. Contenu d'un répertoire\n",
    "---\n",
    "\n",
    "#### 2.2.A. Lister le contenu du répertoire de travail\n",
    "---\n"
   ]
  },
  {
   "cell_type": "markdown",
   "id": "87f5a0da-e700-468e-ad43-66644d1b2f0e",
   "metadata": {},
   "source": [
    "<span style=\"color:blue\">- Listez (<i>list</i>) les fichiers/répertoires du répertoire courant à l'aide de la commande `ls`:</span>"
   ]
  },
  {
   "cell_type": "code",
   "execution_count": 2,
   "id": "fd5302e2-f8e9-4194-85bd-1d14bdae55f2",
   "metadata": {},
   "outputs": [
    {
     "name": "stdout",
     "output_type": "stream",
     "text": [
      "bioinfo_1_correction_executed.ipynb\n",
      "bioinfo_1.ipynb\n",
      "biostats_1_executed.ipynb\n",
      "biostats_2_exectuted.ipynb\n",
      "biostats_2.ipynb\n",
      "IntroIA_Student.ipynb\n",
      "micro_projet_biostats.ipynb\n",
      "microprojet_biostats_old_old.ipynb\n",
      "micro_projet_biostats-teachers-Copy1.ipynb\n",
      "micro_projet_biostats-teachers.ipynb\n",
      "micro_projet_biostats-teachers_old.ipynb\n",
      "micro_projet_bi_student.ipynb\n",
      "R1_exercices_vecteurs_correction.ipynb\n",
      "R1_exercices_vecteurs.ipynb\n",
      "R2_exercices_matrices_corrections.ipynb\n",
      "R2_exercices_matrices.ipynb\n",
      "R3_exercices_dataframes_correction.ipynb\n",
      "R3_exercices_dataframes.ipynb\n",
      "README.md\n"
     ]
    }
   ],
   "source": [
    "# cell 2\n",
    "ls"
   ]
  },
  {
   "cell_type": "markdown",
   "id": "07fc94bc-4a8a-44e4-9e42-d8500372f266",
   "metadata": {},
   "source": [
    "Comparez le résultat à ce qui est affiché dans la barre latérale gauche de l'interface. Ce doit être identique."
   ]
  },
  {
   "cell_type": "markdown",
   "id": "b323dfd6-05bf-474d-b04e-6a90b0e89b2d",
   "metadata": {},
   "source": [
    "L'affichage se fait sous forme d'une série de valeurs sur une même ligne ou plusieurs lignes.\n",
    "\n",
    "<span style=\"color:blue\">- En consultant l'aide intégrée avec ` --help`, faites-vous une idée du nombre de possibilités pour changer cet affichage (il devrait y avoir beaucoup de possibilités, plus ou moins intéressantes ou compréhensibles...). </span>"
   ]
  },
  {
   "cell_type": "code",
   "execution_count": 3,
   "id": "520bb46d-e682-41f0-b21c-e6caf682459b",
   "metadata": {},
   "outputs": [
    {
     "name": "stdout",
     "output_type": "stream",
     "text": [
      "Usage: ls [OPTION]... [FILE]...\n",
      "List information about the FILEs (the current directory by default).\n",
      "Sort entries alphabetically if none of -cftuvSUX nor --sort is specified.\n",
      "\n",
      "Mandatory arguments to long options are mandatory for short options too.\n",
      "  -a, --all                  do not ignore entries starting with .\n",
      "  -A, --almost-all           do not list implied . and ..\n",
      "      --author               with -l, print the author of each file\n",
      "  -b, --escape               print C-style escapes for nongraphic characters\n",
      "      --block-size=SIZE      scale sizes by SIZE before printing them; e.g.,\n",
      "                               '--block-size=M' prints sizes in units of\n",
      "                               1,048,576 bytes; see SIZE format below\n",
      "  -B, --ignore-backups       do not list implied entries ending with ~\n",
      "  -c                         with -lt: sort by, and show, ctime (time of last\n",
      "                               modification of file status information);\n",
      "                               with -l: show ctime and sort by name;\n",
      "                               otherwise: sort by ctime, newest first\n",
      "  -C                         list entries by columns\n",
      "      --color[=WHEN]         colorize the output; WHEN can be 'always' (default\n",
      "                               if omitted), 'auto', or 'never'; more info below\n",
      "  -d, --directory            list directories themselves, not their contents\n",
      "  -D, --dired                generate output designed for Emacs' dired mode\n",
      "  -f                         do not sort, enable -aU, disable -ls --color\n",
      "  -F, --classify             append indicator (one of */=>@|) to entries\n",
      "      --file-type            likewise, except do not append '*'\n",
      "      --format=WORD          across -x, commas -m, horizontal -x, long -l,\n",
      "                               single-column -1, verbose -l, vertical -C\n",
      "      --full-time            like -l --time-style=full-iso\n",
      "  -g                         like -l, but do not list owner\n",
      "      --group-directories-first\n",
      "                             group directories before files;\n",
      "                               can be augmented with a --sort option, but any\n",
      "                               use of --sort=none (-U) disables grouping\n",
      "  -G, --no-group             in a long listing, don't print group names\n",
      "  -h, --human-readable       with -l and/or -s, print human readable sizes\n",
      "                               (e.g., 1K 234M 2G)\n",
      "      --si                   likewise, but use powers of 1000 not 1024\n",
      "  -H, --dereference-command-line\n",
      "                             follow symbolic links listed on the command line\n",
      "      --dereference-command-line-symlink-to-dir\n",
      "                             follow each command line symbolic link\n",
      "                               that points to a directory\n",
      "      --hide=PATTERN         do not list implied entries matching shell PATTERN\n",
      "                               (overridden by -a or -A)\n",
      "      --hyperlink[=WHEN]     hyperlink file names; WHEN can be 'always'\n",
      "                               (default if omitted), 'auto', or 'never'\n",
      "      --indicator-style=WORD  append indicator with style WORD to entry names:\n",
      "                               none (default), slash (-p),\n",
      "                               file-type (--file-type), classify (-F)\n",
      "  -i, --inode                print the index number of each file\n",
      "  -I, --ignore=PATTERN       do not list implied entries matching shell PATTERN\n",
      "  -k, --kibibytes            default to 1024-byte blocks for disk usage\n",
      "  -l                         use a long listing format\n",
      "  -L, --dereference          when showing file information for a symbolic\n",
      "                               link, show information for the file the link\n",
      "                               references rather than for the link itself\n",
      "  -m                         fill width with a comma separated list of entries\n",
      "  -n, --numeric-uid-gid      like -l, but list numeric user and group IDs\n",
      "  -N, --literal              print entry names without quoting\n",
      "  -o                         like -l, but do not list group information\n",
      "  -p, --indicator-style=slash\n",
      "                             append / indicator to directories\n",
      "  -q, --hide-control-chars   print ? instead of nongraphic characters\n",
      "      --show-control-chars   show nongraphic characters as-is (the default,\n",
      "                               unless program is 'ls' and output is a terminal)\n",
      "  -Q, --quote-name           enclose entry names in double quotes\n",
      "      --quoting-style=WORD   use quoting style WORD for entry names:\n",
      "                               literal, locale, shell, shell-always,\n",
      "                               shell-escape, shell-escape-always, c, escape\n",
      "  -r, --reverse              reverse order while sorting\n",
      "  -R, --recursive            list subdirectories recursively\n",
      "  -s, --size                 print the allocated size of each file, in blocks\n",
      "  -S                         sort by file size, largest first\n",
      "      --sort=WORD            sort by WORD instead of name: none (-U), size (-S),\n",
      "                               time (-t), version (-v), extension (-X)\n",
      "      --time=WORD            with -l, show time as WORD instead of default\n",
      "                               modification time: atime or access or use (-u);\n",
      "                               ctime or status (-c); also use specified time\n",
      "                               as sort key if --sort=time (newest first)\n",
      "      --time-style=STYLE     with -l, show times using style STYLE:\n",
      "                               full-iso, long-iso, iso, locale, or +FORMAT;\n",
      "                               FORMAT is interpreted like in 'date'; if FORMAT\n",
      "                               is FORMAT1<newline>FORMAT2, then FORMAT1 applies\n",
      "                               to non-recent files and FORMAT2 to recent files;\n",
      "                               if STYLE is prefixed with 'posix-', STYLE\n",
      "                               takes effect only outside the POSIX locale\n",
      "  -t                         sort by modification time, newest first\n",
      "  -T, --tabsize=COLS         assume tab stops at each COLS instead of 8\n",
      "  -u                         with -lt: sort by, and show, access time;\n",
      "                               with -l: show access time and sort by name;\n",
      "                               otherwise: sort by access time, newest first\n",
      "  -U                         do not sort; list entries in directory order\n",
      "  -v                         natural sort of (version) numbers within text\n",
      "  -w, --width=COLS           set output width to COLS.  0 means no limit\n",
      "  -x                         list entries by lines instead of by columns\n",
      "  -X                         sort alphabetically by entry extension\n",
      "  -Z, --context              print any security context of each file\n",
      "  -1                         list one file per line.  Avoid '\\n' with -q or -b\n",
      "      --help     display this help and exit\n",
      "      --version  output version information and exit\n",
      "\n",
      "The SIZE argument is an integer and optional unit (example: 10K is 10*1024).\n",
      "Units are K,M,G,T,P,E,Z,Y (powers of 1024) or KB,MB,... (powers of 1000).\n",
      "\n",
      "Using color to distinguish file types is disabled both by default and\n",
      "with --color=never.  With --color=auto, ls emits color codes only when\n",
      "standard output is connected to a terminal.  The LS_COLORS environment\n",
      "variable can change the settings.  Use the dircolors command to set it.\n",
      "\n",
      "Exit status:\n",
      " 0  if OK,\n",
      " 1  if minor problems (e.g., cannot access subdirectory),\n",
      " 2  if serious trouble (e.g., cannot access command-line argument).\n",
      "\n",
      "GNU coreutils online help: <http://www.gnu.org/software/coreutils/>\n",
      "Full documentation at: <http://www.gnu.org/software/coreutils/ls>\n",
      "or available locally via: info '(coreutils) ls invocation'\n"
     ]
    }
   ],
   "source": [
    "# cell 3\n",
    "ls --help"
   ]
  },
  {
   "cell_type": "markdown",
   "id": "274a51f2-2bac-4ec8-88b2-818a693dffa2",
   "metadata": {},
   "source": [
    "<span style=\"color:blue\"> - Trouvez le/les argument/s à ajouter à la commande `ls` pour :  </span>"
   ]
  },
  {
   "cell_type": "markdown",
   "id": "153d079f-ee71-4c1f-af02-17dc2841ec38",
   "metadata": {},
   "source": [
    "<span style=\"color:blue\"> <b>a-</b>\n",
    "faire apparaître des fichiers/répertoires cachés, c'est-à-dire les fichiers/répertoires dont le nom commence par un point `.`</span>"
   ]
  },
  {
   "cell_type": "code",
   "execution_count": 4,
   "id": "1670f5ba-92cd-4be9-a18a-ce7e7808f89f",
   "metadata": {},
   "outputs": [
    {
     "name": "stdout",
     "output_type": "stream",
     "text": [
      ".                                    bioinfo_1.ipynb     .ipython\n",
      "..                                   .conda              .jupyter\n",
      ".bash_logout                         data                LICENSE\n",
      ".bashrc                              .git                .local\n",
      "binder                               .gitignore          .profile\n",
      "bioinfo_1_correction_executed.ipynb  .ipynb_checkpoints  README.md\n"
     ]
    }
   ],
   "source": [
    "# cell 4\n",
    "ls -a"
   ]
  },
  {
   "cell_type": "markdown",
   "id": "7d6f2536-67d4-4663-b1de-bc36aca92e83",
   "metadata": {},
   "source": [
    "Ces fichiers/répertoires cachés correspondent à des fichiers/répertoires de configuration qui n'ont pas vocation à être modifiés régulièrement, notamment dans le cadre d'une utilisation scientifique. Néanmoins, ils permettent de configurer vos préférences (langues, éditeur de texte, shell à utiliser, etc.), de stocker des historiques, des identifiants à des sites distants, etc.\n"
   ]
  },
  {
   "cell_type": "markdown",
   "id": "d783da32-322e-4e6f-a5ef-45c8f0a03168",
   "metadata": {},
   "source": [
    "<span style=\"color:blue\"> <b>b-</b>\n",
    "n'avoir qu'un seul nom (un seul fichier ou répertoire) par ligne dans un format complet</span>"
   ]
  },
  {
   "cell_type": "code",
   "execution_count": 5,
   "id": "2787c269-36f9-4bf0-aee1-5d6b2379dad7",
   "metadata": {},
   "outputs": [
    {
     "name": "stdout",
     "output_type": "stream",
     "text": [
      "total 172\n",
      "drwxr-xr-x 2 cvandiedonck cvandiedonck  4096 Mar 24 09:20 binder\n",
      "-rw-rw-r-- 1 cvandiedonck cvandiedonck 89806 Mar 28 13:52 bioinfo_1_correction_executed.ipynb\n",
      "-rw-r--r-- 1 cvandiedonck cvandiedonck 66172 Mar 24 09:20 bioinfo_1.ipynb\n",
      "drwxr-xr-x 4 cvandiedonck cvandiedonck  4096 Mar 24 09:20 data\n",
      "-rw-r--r-- 1 cvandiedonck cvandiedonck  1517 Mar 24 09:20 LICENSE\n",
      "-rw-r--r-- 1 cvandiedonck cvandiedonck    16 Mar 24 09:20 README.md\n"
     ]
    }
   ],
   "source": [
    "# cell 5\n",
    "ls -l"
   ]
  },
  {
   "cell_type": "markdown",
   "id": "8bbb5596-a350-44ba-bedd-bec660838b03",
   "metadata": {},
   "source": [
    "L'affichage devrait se faire ligne par ligne et indiquer, pour chaque entrée du répertoire de travail, s'il s'agit d'un fichier (`-`) ou un répertoire (`d`), les permissions (`rwx`) de lecture/écriture/exécution (*read/write/execute*), le propriétaire, le groupe, la taille et la date de modification."
   ]
  },
  {
   "cell_type": "markdown",
   "id": "b9cc5865-965e-417a-a026-7ecea08a0f84",
   "metadata": {},
   "source": [
    "*Note: l'argument `-1` affichait aussi un élément par ligne mais sans information complémentaire.*"
   ]
  },
  {
   "cell_type": "markdown",
   "id": "4ce2e5d9-ac95-4bd3-949c-08c762e1978f",
   "metadata": {},
   "source": [
    "- On peut combiner des arguments dans une même commande de manière séparée:"
   ]
  },
  {
   "cell_type": "code",
   "execution_count": 6,
   "id": "5208d48a-078f-4e3b-b2f4-306cf27585c6",
   "metadata": {},
   "outputs": [
    {
     "name": "stdout",
     "output_type": "stream",
     "text": [
      "total 172K\n",
      "drwxr-xr-x 2 cvandiedonck cvandiedonck 4.0K Mar 24 09:20 binder\n",
      "-rw-rw-r-- 1 cvandiedonck cvandiedonck  88K Mar 28 13:52 bioinfo_1_correction_executed.ipynb\n",
      "-rw-r--r-- 1 cvandiedonck cvandiedonck  65K Mar 24 09:20 bioinfo_1.ipynb\n",
      "drwxr-xr-x 4 cvandiedonck cvandiedonck 4.0K Mar 24 09:20 data\n",
      "-rw-r--r-- 1 cvandiedonck cvandiedonck 1.5K Mar 24 09:20 LICENSE\n",
      "-rw-r--r-- 1 cvandiedonck cvandiedonck   16 Mar 24 09:20 README.md\n"
     ]
    }
   ],
   "source": [
    "# cell 6\n",
    "ls -l -h"
   ]
  },
  {
   "cell_type": "markdown",
   "id": "0ab3c1c5-4dc1-4815-85b3-384cf6cdf733",
   "metadata": {},
   "source": [
    "- ou groupée"
   ]
  },
  {
   "cell_type": "code",
   "execution_count": 7,
   "id": "bb176732-ac05-4ad8-aa3a-6c87f2923e45",
   "metadata": {},
   "outputs": [
    {
     "name": "stdout",
     "output_type": "stream",
     "text": [
      "total 172K\n",
      "drwxr-xr-x 2 cvandiedonck cvandiedonck 4.0K Mar 24 09:20 binder\n",
      "-rw-rw-r-- 1 cvandiedonck cvandiedonck  88K Mar 28 13:52 bioinfo_1_correction_executed.ipynb\n",
      "-rw-r--r-- 1 cvandiedonck cvandiedonck  65K Mar 24 09:20 bioinfo_1.ipynb\n",
      "drwxr-xr-x 4 cvandiedonck cvandiedonck 4.0K Mar 24 09:20 data\n",
      "-rw-r--r-- 1 cvandiedonck cvandiedonck 1.5K Mar 24 09:20 LICENSE\n",
      "-rw-r--r-- 1 cvandiedonck cvandiedonck   16 Mar 24 09:20 README.md\n"
     ]
    }
   ],
   "source": [
    "# cell 7\n",
    "ls -lh"
   ]
  },
  {
   "cell_type": "markdown",
   "id": "074a5125-6986-48bb-9a32-f06a4de08cb2",
   "metadata": {},
   "source": [
    "<span style=\"color:green\">- <b>Question 1 :</b> Qu'est-ce que l'argument `-h` a permis de faire?</span>"
   ]
  },
  {
   "cell_type": "markdown",
   "id": "f1f4b310-a6ad-4587-ab09-a17033cefd64",
   "metadata": {},
   "source": [
    "<span style=\"color:gray\">-> Par défaut, l'argument `-l` affiche les tailles en octet ce qui n'est pas toujours lisible. L'ajout de l'argument `-h` permet d'afficher les tailles dans un format lisible par un humain en arrondissant dans les unités les plus appropriées (kilo-octets, mégaoctets, ...).</div>"
   ]
  },
  {
   "cell_type": "markdown",
   "id": "2cbb2565-3833-4c9e-b369-1557b5a3f2e5",
   "metadata": {
    "tags": []
   },
   "source": [
    "#### 2.2.B. Lister le contenu de n'importe quel répertoire\n",
    "---\n",
    "\n",
    "\n",
    "Pour lister le contenu d'un répertoire autre que le répertoire de travail, il suffit d'utiliser la commande `ls` (suivie de ses éventuels arguments) suivie du **chemin absolu ou relatif** de ce répertoire.\n",
    "\n",
    "<div class=\"alert alert-block alert-warning\"><ul>\n",
    "    <li>le <b>chemin absolu</b> commence par un <code>/</code> et toute l'arborence depuis la racine (<i>root</i>) et donnée</il>\n",
    "    <li>le <b>chemin relatif</b> est positionné par rapport à votre répertoire courant et ne démarre jamais pas un slash</li> </ul> </div>\n",
    "\n",
    "<span style=\"color:blue\"> - Listez le contenu du répertoire `/srv/data/pass-rs-ue3/`.</span>\n",
    "\n",
    "<span style=\"color:blue\"> - Listez le contenu du répertoire `/srv/data/pass-rs-ue3/`.</span>\n"
   ]
  },
  {
   "cell_type": "code",
   "execution_count": 4,
   "id": "09d2f021-69eb-401d-a257-b6e44daeb636",
   "metadata": {},
   "outputs": [
    {
     "name": "stdout",
     "output_type": "stream",
     "text": [
      "total 12\n",
      "drwxrwxr-x 2 cvandiedonck 1011 4096 Apr 10  2022 brca1\n",
      "drwxrwxr-x 5 cvandiedonck 1011 4096 Apr 11  2022 data\n",
      "drwxrwxr-x 2         1124 1136 4096 Apr 14  2022 hg38-chr17-1kgenome\n"
     ]
    }
   ],
   "source": [
    "# cell 8\n",
    "ls -l /srv/data/pass-rs-ue3/"
   ]
  },
  {
   "cell_type": "markdown",
   "id": "efe74d82-932f-4dd6-b2fd-aa6148a2a526",
   "metadata": {},
   "source": [
    "<span style=\"color:green\">- <b>Question 2</b>  Quels droits avez-vous sur ces fichiers/répertoires?</span>"
   ]
  },
  {
   "cell_type": "markdown",
   "id": "f586b053-fab3-4060-8157-6a19366bc8be",
   "metadata": {},
   "source": [
    "<span style=\"color:gray\">-> Contrairement à votre enseignant qui est propriétaire, le résultat de la commande ci-dessus n'indiquera pas votre login, ce qui signifie que vous faites partie du groupe des \"autres utilisateurs\". Les permissions des \"autres utilisateurs\" sont données dans les 3 derniers caractères du 1er champ de chaque ligne. Dans le répertoire <vode>/srv/data/pass-rs-ue3/</code> et ses sous-répertoires, vous avez des droits de lecture (w) voire d'éxécution (x) mais pas d'écriture (- au lieu de w). Cela signifie que vous pouvez lire les fichiers mais pas les modifier. Vous ne pouvez pas non plus créer de répertoire ou de fichiers dans ce répertoire.</span>"
   ]
  },
  {
   "cell_type": "markdown",
   "id": "967035b1-a36a-4a6f-b1b2-f73eb4d1370e",
   "metadata": {},
   "source": [
    "Ce répertoire contient des données que nous utiliserons notamment pour le microprojet."
   ]
  },
  {
   "cell_type": "markdown",
   "id": "cc46602b-b993-48bc-add3-9ef7285565f1",
   "metadata": {},
   "source": [
    "A noter que le **répertoire courant**  peut aussi s'indiquer avec son chemin absolu ou par un `.` ou `./`. Ainsi les 3 commandes suivantes retournent le même résultat!"
   ]
  },
  {
   "cell_type": "code",
   "execution_count": 5,
   "id": "df65a480-26a2-4fa5-9d5e-4e8a0884a8cd",
   "metadata": {},
   "outputs": [
    {
     "name": "stdout",
     "output_type": "stream",
     "text": [
      "bioinfo_1_correction_executed.ipynb\n",
      "bioinfo_1.ipynb\n",
      "biostats_1_executed.ipynb\n",
      "biostats_2_exectuted.ipynb\n",
      "biostats_2.ipynb\n",
      "IntroIA_Student.ipynb\n",
      "micro_projet_biostats.ipynb\n",
      "microprojet_biostats_old_old.ipynb\n",
      "micro_projet_biostats-teachers-Copy1.ipynb\n",
      "micro_projet_biostats-teachers.ipynb\n",
      "micro_projet_biostats-teachers_old.ipynb\n",
      "micro_projet_bi_student.ipynb\n",
      "R1_exercices_vecteurs_correction.ipynb\n",
      "R1_exercices_vecteurs.ipynb\n",
      "R2_exercices_matrices_corrections.ipynb\n",
      "R2_exercices_matrices.ipynb\n",
      "R3_exercices_dataframes_correction.ipynb\n",
      "R3_exercices_dataframes.ipynb\n",
      "README.md\n"
     ]
    }
   ],
   "source": [
    "# cell 9\n",
    "ls"
   ]
  },
  {
   "cell_type": "code",
   "execution_count": 6,
   "id": "1f3cd7d2-c3b7-42a1-8c27-6d80bba568b1",
   "metadata": {},
   "outputs": [
    {
     "name": "stdout",
     "output_type": "stream",
     "text": [
      "bioinfo_1_correction_executed.ipynb\n",
      "bioinfo_1.ipynb\n",
      "biostats_1_executed.ipynb\n",
      "biostats_2_exectuted.ipynb\n",
      "biostats_2.ipynb\n",
      "IntroIA_Student.ipynb\n",
      "micro_projet_biostats.ipynb\n",
      "microprojet_biostats_old_old.ipynb\n",
      "micro_projet_biostats-teachers-Copy1.ipynb\n",
      "micro_projet_biostats-teachers.ipynb\n",
      "micro_projet_biostats-teachers_old.ipynb\n",
      "micro_projet_bi_student.ipynb\n",
      "R1_exercices_vecteurs_correction.ipynb\n",
      "R1_exercices_vecteurs.ipynb\n",
      "R2_exercices_matrices_corrections.ipynb\n",
      "R2_exercices_matrices.ipynb\n",
      "R3_exercices_dataframes_correction.ipynb\n",
      "R3_exercices_dataframes.ipynb\n",
      "README.md\n"
     ]
    }
   ],
   "source": [
    "# cell 10\n",
    "ls ./ # ou ls ."
   ]
  },
  {
   "cell_type": "code",
   "execution_count": 7,
   "id": "fc0269e7-78c0-4a9b-b529-43d0c2a83055",
   "metadata": {},
   "outputs": [
    {
     "name": "stdout",
     "output_type": "stream",
     "text": [
      " binder\n",
      " bioinfo_1_correction_executed2.ipynb\n",
      " bioinfo_1_correction_executed.html\n",
      " bioinfo__21.ipynb\n",
      " biostats_1_executed.ipynb\n",
      " biostats_2_exectuted.ipynb\n",
      " biostats_2.ipynb\n",
      " chr17_brca1.tsv\n",
      " data\n",
      " IntroIA_Student.ipynb\n",
      " LICENSE\n",
      " micro_projet_bi\n",
      " micro_projet_bi.html\n",
      " micro_projet_biostats.ipynb\n",
      " microprojet_biostats_old_old.ipynb\n",
      " micro_projet_biostats-teachers-Copy1.ipynb\n",
      " micro_projet_biostats-teachers.html\n",
      " micro_projet_biostats-teachers.ipynb\n",
      " micro_projet_biostats-teachers_old.html\n",
      " micro_projet_biostats-teachers_old.ipynb\n",
      " micro_projet_bi_student.ipynb\n",
      " MINEURE_UE3\n",
      " other_notebooks\n",
      " README.md\n",
      " Temperatures.txt\n",
      " test.txt\n",
      "'to_keep?'\n"
     ]
    }
   ],
   "source": [
    "#cell 11\n",
    "ls /srv/home/cvandiedonck/pass_rs_ue3_bistats ## ici remplacez cvandiedonck par votre login et transformez votre cellule au format code."
   ]
  },
  {
   "cell_type": "markdown",
   "id": "3029c682-0628-4bad-ae76-91872e5299ec",
   "metadata": {},
   "source": [
    "#### 2.2.C. Espace disque utilisé\n",
    "---"
   ]
  },
  {
   "cell_type": "markdown",
   "id": "7a7a439e-bc1b-43bd-a2aa-ba2e5d1b61d9",
   "metadata": {},
   "source": [
    "- **Sur un répertoire**"
   ]
  },
  {
   "cell_type": "markdown",
   "id": "4338348a-0fb1-4f0b-81a3-aa7113dd7ab4",
   "metadata": {},
   "source": [
    "Afin de connaître l'espace occupé par un répertoire, il faut utiliser la commande `du` pour *disk usage*.\n",
    "Plusieurs arguments peuvent être utilisés comme indiqué dans le menu d'aide."
   ]
  },
  {
   "cell_type": "code",
   "execution_count": 12,
   "id": "593da0ed-f18a-41b9-a19a-6f89bef9fd98",
   "metadata": {},
   "outputs": [
    {
     "name": "stdout",
     "output_type": "stream",
     "text": [
      "Usage: du [OPTION]... [FILE]...\n",
      "  or:  du [OPTION]... --files0-from=F\n",
      "Summarize disk usage of the set of FILEs, recursively for directories.\n",
      "\n",
      "Mandatory arguments to long options are mandatory for short options too.\n",
      "  -0, --null            end each output line with NUL, not newline\n",
      "  -a, --all             write counts for all files, not just directories\n",
      "      --apparent-size   print apparent sizes, rather than disk usage; although\n",
      "                          the apparent size is usually smaller, it may be\n",
      "                          larger due to holes in ('sparse') files, internal\n",
      "                          fragmentation, indirect blocks, and the like\n",
      "  -B, --block-size=SIZE  scale sizes by SIZE before printing them; e.g.,\n",
      "                           '-BM' prints sizes in units of 1,048,576 bytes;\n",
      "                           see SIZE format below\n",
      "  -b, --bytes           equivalent to '--apparent-size --block-size=1'\n",
      "  -c, --total           produce a grand total\n",
      "  -D, --dereference-args  dereference only symlinks that are listed on the\n",
      "                          command line\n",
      "  -d, --max-depth=N     print the total for a directory (or file, with --all)\n",
      "                          only if it is N or fewer levels below the command\n",
      "                          line argument;  --max-depth=0 is the same as\n",
      "                          --summarize\n",
      "      --files0-from=F   summarize disk usage of the\n",
      "                          NUL-terminated file names specified in file F;\n",
      "                          if F is -, then read names from standard input\n",
      "  -H                    equivalent to --dereference-args (-D)\n",
      "  -h, --human-readable  print sizes in human readable format (e.g., 1K 234M 2G)\n",
      "      --inodes          list inode usage information instead of block usage\n",
      "  -k                    like --block-size=1K\n",
      "  -L, --dereference     dereference all symbolic links\n",
      "  -l, --count-links     count sizes many times if hard linked\n",
      "  -m                    like --block-size=1M\n",
      "  -P, --no-dereference  don't follow any symbolic links (this is the default)\n",
      "  -S, --separate-dirs   for directories do not include size of subdirectories\n",
      "      --si              like -h, but use powers of 1000 not 1024\n",
      "  -s, --summarize       display only a total for each argument\n",
      "  -t, --threshold=SIZE  exclude entries smaller than SIZE if positive,\n",
      "                          or entries greater than SIZE if negative\n",
      "      --time            show time of the last modification of any file in the\n",
      "                          directory, or any of its subdirectories\n",
      "      --time=WORD       show time as WORD instead of modification time:\n",
      "                          atime, access, use, ctime or status\n",
      "      --time-style=STYLE  show times using STYLE, which can be:\n",
      "                            full-iso, long-iso, iso, or +FORMAT;\n",
      "                            FORMAT is interpreted like in 'date'\n",
      "  -X, --exclude-from=FILE  exclude files that match any pattern in FILE\n",
      "      --exclude=PATTERN    exclude files that match PATTERN\n",
      "  -x, --one-file-system    skip directories on different file systems\n",
      "      --help     display this help and exit\n",
      "      --version  output version information and exit\n",
      "\n",
      "Display values are in units of the first available SIZE from --block-size,\n",
      "and the DU_BLOCK_SIZE, BLOCK_SIZE and BLOCKSIZE environment variables.\n",
      "Otherwise, units default to 1024 bytes (or 512 if POSIXLY_CORRECT is set).\n",
      "\n",
      "The SIZE argument is an integer and optional unit (example: 10K is 10*1024).\n",
      "Units are K,M,G,T,P,E,Z,Y (powers of 1024) or KB,MB,... (powers of 1000).\n",
      "\n",
      "GNU coreutils online help: <http://www.gnu.org/software/coreutils/>\n",
      "Full documentation at: <http://www.gnu.org/software/coreutils/du>\n",
      "or available locally via: info '(coreutils) du invocation'\n"
     ]
    }
   ],
   "source": [
    "# cell 12\n",
    "du --help"
   ]
  },
  {
   "cell_type": "markdown",
   "id": "8fdeb0fd-bf03-46dc-91fd-5edc7c942d0c",
   "metadata": {},
   "source": [
    "<span style=\"color:green\">- <b>Question 3</b>  Que vous affiche la commande ci-dessous?</span>"
   ]
  },
  {
   "cell_type": "code",
   "execution_count": 13,
   "id": "9d14c7bf-a7f8-49df-988e-5b8bb108eecd",
   "metadata": {},
   "outputs": [
    {
     "name": "stdout",
     "output_type": "stream",
     "text": [
      "656K\t.\n"
     ]
    }
   ],
   "source": [
    "# cell 13\n",
    "du -sh ."
   ]
  },
  {
   "cell_type": "markdown",
   "id": "fe84b3d6-4c5a-43a2-a58b-27b6435f08b3",
   "metadata": {},
   "source": [
    "<span style=\"color:gray\">-> Espace occupé par le repertoire courant (.) = un seul niveau (-s) en mode lisible humain (-h).</span>"
   ]
  },
  {
   "cell_type": "markdown",
   "id": "8505d6b1-d93b-489b-a70e-a19a56f76160",
   "metadata": {},
   "source": [
    "La commande ci-après donne un résultat similaire avec également les répertoires cachés"
   ]
  },
  {
   "cell_type": "code",
   "execution_count": 14,
   "id": "b6f6bff6-6c2b-49ca-8877-f42dca8e6a16",
   "metadata": {},
   "outputs": [
    {
     "name": "stdout",
     "output_type": "stream",
     "text": [
      "64K\t./.jupyter\n",
      "8.0K\t./.conda\n",
      "208K\t./.git\n",
      "32K\t./.local\n",
      "48K\t./data\n",
      "4.0K\t./.ipython\n",
      "92K\t./.ipynb_checkpoints\n",
      "16K\t./binder\n",
      "656K\t.\n"
     ]
    }
   ],
   "source": [
    "# cell 14\n",
    "du -hd1"
   ]
  },
  {
   "cell_type": "markdown",
   "id": "659da712-46f9-4023-a1f7-4933a5fd52cf",
   "metadata": {},
   "source": [
    "<span style=\"color:green\">- <b>Question 4 :</b>  Qu'apporte l'agument `d2` dans la commande ci-dessous comparé à la commande avec `d1`?</span>"
   ]
  },
  {
   "cell_type": "code",
   "execution_count": 8,
   "id": "e4b33652-1a98-4a29-9402-8564965b4120",
   "metadata": {},
   "outputs": [
    {
     "name": "stdout",
     "output_type": "stream",
     "text": [
      "5.0M\t./.git/objects\n",
      "32K\t./.git/refs\n",
      "8.0K\t./.git/info\n",
      "36K\t./.git/logs\n",
      "52K\t./.git/hooks\n",
      "4.0K\t./.git/branches\n",
      "5.1M\t./.git\n",
      "192K\t./.ipynb_checkpoints\n",
      "14M\t.\n"
     ]
    }
   ],
   "source": [
    "# cell 15\n",
    "du -hd2"
   ]
  },
  {
   "cell_type": "markdown",
   "id": "6169e16e-1474-4484-86d5-79ff481e3551",
   "metadata": {},
   "source": [
    "<span style=\"color:gray\">-> L'argument <code>d</code> permet d'afficher le total (taille) à une profondeur donnée. Avec d1 on a la même profonduer qu'avec <code>-s .</code>: les informations de taille sont données pour le répertoire courant. En indiquant <code>-d2</code>, on a les tailles sur 2 niveaux de profondeur depuis le répertoire courant.</span>"
   ]
  },
  {
   "cell_type": "markdown",
   "id": "ed179c0c-9bcc-4fe5-9619-268489c42dda",
   "metadata": {},
   "source": [
    "- **Sur toute la machine**\n",
    "\n",
    "La commande `df` pour *disk free* donne sur chacun des volumes de la machine l'espace libre et occupé."
   ]
  },
  {
   "cell_type": "code",
   "execution_count": 9,
   "id": "ff38d106-8f51-4a19-8de6-52cf38165767",
   "metadata": {},
   "outputs": [
    {
     "name": "stdout",
     "output_type": "stream",
     "text": [
      "Filesystem      Size  Used Avail Use% Mounted on\n",
      "overlay         879G  199G  636G  24% /\n",
      "tmpfs            64M     0   64M   0% /dev\n",
      "tmpfs           378G     0  378G   0% /sys/fs/cgroup\n",
      "shm              64M     0   64M   0% /dev/shm\n",
      "/dev/sdb1        29T  378G   27T   2% /srv/data\n",
      "/dev/sda2       879G  199G  636G  24% /etc/hosts\n",
      "tmpfs           378G     0  378G   0% /proc/acpi\n",
      "tmpfs           378G     0  378G   0% /proc/scsi\n",
      "tmpfs           378G     0  378G   0% /sys/firmware\n"
     ]
    }
   ],
   "source": [
    "# cell 16\n",
    "df -h"
   ]
  },
  {
   "cell_type": "markdown",
   "id": "bd59bdec-e03d-47fd-817f-0fba1d64d282",
   "metadata": {},
   "source": [
    "#### 2.2.D. Arboresence\n",
    "---\n",
    "\n",
    "Le système de fichiers est une arborescence plus ou moins complexe constituée d'une racine, de branches et de noeuds sur une profondeur variable. On peut visualiser l'arborescence à partir d'un noeud du système de fichiers à l'aide de la commande `tree`.  \n",
    "\n",
    "- **Visualisez l'arborescence du répertoire de travail**"
   ]
  },
  {
   "cell_type": "code",
   "execution_count": 10,
   "id": "2916a7ff-85f9-447e-ac7f-762dda5d71ba",
   "metadata": {},
   "outputs": [
    {
     "name": "stdout",
     "output_type": "stream",
     "text": [
      ".\n",
      "├── bioinfo_1_correction_executed.ipynb\n",
      "├── bioinfo_1.ipynb\n",
      "├── biostats_1_executed.ipynb\n",
      "├── biostats_2_exectuted.ipynb\n",
      "├── biostats_2.ipynb\n",
      "├── IntroIA_Student.ipynb\n",
      "├── micro_projet_biostats.ipynb\n",
      "├── microprojet_biostats_old_old.ipynb\n",
      "├── micro_projet_biostats-teachers-Copy1.ipynb\n",
      "├── micro_projet_biostats-teachers.ipynb\n",
      "├── micro_projet_biostats-teachers_old.ipynb\n",
      "├── micro_projet_bi_student.ipynb\n",
      "├── R1_exercices_vecteurs_correction.ipynb\n",
      "├── R1_exercices_vecteurs.ipynb\n",
      "├── R2_exercices_matrices_corrections.ipynb\n",
      "├── R2_exercices_matrices.ipynb\n",
      "├── R3_exercices_dataframes_correction.ipynb\n",
      "├── R3_exercices_dataframes.ipynb\n",
      "└── README.md\n",
      "\n",
      "0 directories, 19 files\n"
     ]
    }
   ],
   "source": [
    "# cell 17\n",
    "tree"
   ]
  },
  {
   "cell_type": "markdown",
   "id": "cf405694-53e2-46f5-842d-af277bd36934",
   "metadata": {},
   "source": [
    "Parmi les répertoires présents dans votre répertoire de travail, ne faites pas attention à celui appelé `binder`. Il était nécessaire pour la création de l'environnement.\n",
    "\n",
    "En revanche, vous pouvez noter qu'il existe un répertoire `data` contenant lui-même 2 sous-répertoires.\n",
    "\n",
    ">*Pour info, ils contiennent des fichiers dans des formats très utilisés en génétique: `.ped`, `.map` et`.info`. Il s'agit pour `.ped` d'un fichier de pedigree avec un individu par ligne avec des metadata dans les colonnes 1 à 6, suivi des génotypes des individus pour les marqueurs génétiques listés dans le fichier `.map` ou `.info`. Nous n'aurons pas l'occasion de travailler sur ce type de fichier, ni d'utiliser les logiciels de génétique associés comme le très populaire PLINK. Mais si vous êtes curieux, vous pouvez regarder la documentation ce PLINK et le format de ces fichiers à ce lien https://zzz.bwh.harvard.edu/plink/.*"
   ]
  },
  {
   "cell_type": "markdown",
   "id": "ac71332d-3d98-4f85-a595-5d779f1e0a88",
   "metadata": {},
   "source": [
    "La commande ci-dessus a été utilisée sans argument. Un argument très pratique est `-L` pour afficher le nombre de niveaux souhaités."
   ]
  },
  {
   "cell_type": "code",
   "execution_count": 12,
   "id": "7dc5e9dd-dd05-4842-8845-55e363d607a6",
   "metadata": {},
   "outputs": [
    {
     "name": "stdout",
     "output_type": "stream",
     "text": [
      ".\n",
      "├── bioinfo_1_correction_executed.ipynb\n",
      "├── bioinfo_1.ipynb\n",
      "├── biostats_1_executed.ipynb\n",
      "├── biostats_2_exectuted.ipynb\n",
      "├── biostats_2.ipynb\n",
      "├── IntroIA_Student.ipynb\n",
      "├── micro_projet_biostats.ipynb\n",
      "├── microprojet_biostats_old_old.ipynb\n",
      "├── micro_projet_biostats-teachers-Copy1.ipynb\n",
      "├── micro_projet_biostats-teachers.ipynb\n",
      "├── micro_projet_biostats-teachers_old.ipynb\n",
      "├── micro_projet_bi_student.ipynb\n",
      "├── R1_exercices_vecteurs_correction.ipynb\n",
      "├── R1_exercices_vecteurs.ipynb\n",
      "├── R2_exercices_matrices_corrections.ipynb\n",
      "├── R2_exercices_matrices.ipynb\n",
      "├── R3_exercices_dataframes_correction.ipynb\n",
      "├── R3_exercices_dataframes.ipynb\n",
      "└── README.md\n",
      "\n",
      "0 directories, 19 files\n"
     ]
    }
   ],
   "source": [
    "# cell 18\n",
    "tree -L 2 # affichage de 2 niveaux"
   ]
  },
  {
   "cell_type": "markdown",
   "id": "90bda64f-4cf1-4973-8104-b76c7e5bea6b",
   "metadata": {},
   "source": [
    "- **Se déplacer dans l'arboresence**"
   ]
  },
  {
   "cell_type": "markdown",
   "id": "7d149c74-1d06-41d6-9569-7b29a8644e45",
   "metadata": {},
   "source": [
    "📌 <span style=\"color:red\">Nous sommes actuellement dans le répertoire <code>~/pass_rs_ue3_bistats</code>.</span>\n",
    "\n",
    "\n",
    "<div class=\"alert alert-block alert-warning\"> <b> Aide: retour dans le bon répertoire \"~/pass_rs_ue3_bistats\" </b><br>En cas de problème sur cette partie 2.2.D, si vous avez besoin de refaire tourner les commandes dans l'ordre des cellules 19 à 23, retournez dans le répertoire de l'environnement avec la commande <br><code>cd ~/pass_rs_ue3_bistats</code>. </div>"
   ]
  },
  {
   "cell_type": "markdown",
   "id": "9aaf4470-2d93-4eab-ad7a-78347686a2be",
   "metadata": {},
   "source": [
    "Pour se déplacer dans l'arborescence du système de fichiers, c'est-à-dire changer le répertoire de travail, on utilise la commande `cd` (*change directory*).\n",
    "\n",
    "<span style=\"color:blue\">- Déplacez-vous dans le sous-répertoire `PLINK_example_files` du répertoire `data` en utilisant un <i>chemin relatif</i>, puis vérifier que le <b>working directory</b> a bien été modifié. Vous pouvez effectuer plusieurs lignes de code dans la même cellule. </span>"
   ]
  },
  {
   "cell_type": "code",
   "execution_count": 13,
   "id": "57a17b4d-f610-4cbc-a350-04a558f2a9e4",
   "metadata": {},
   "outputs": [
    {
     "name": "stdout",
     "output_type": "stream",
     "text": [
      "bash: cd: ./data/PLINK_example_files: No such file or directory\n",
      "/srv/home/cvandiedonck/pass_rs_ue3_bistats/MINEURE_UE3\n"
     ]
    }
   ],
   "source": [
    "# cell 19\n",
    "cd ./data/PLINK_example_files\n",
    "pwd"
   ]
  },
  {
   "cell_type": "markdown",
   "id": "95646201-275b-4c48-a779-b5107bc7189e",
   "metadata": {},
   "source": [
    "<span style=\"color:blue\">- Déplacez-vous dans le sous répertoire `TSI` du répertoire `data` en utilisant un <b>chemin relatif</b> et vérifiez que vous vous êtes bien déplacés dans le bon répertoire.\n",
    "\n",
    "<b><i>Astuce</i></b>: <i>Pour remonter d'un niveau dans l'arborescence, on utilise l'écriture `../` qui désigne le répertoire \"parent\" du répertoire de travail.</i></span>"
   ]
  },
  {
   "cell_type": "code",
   "execution_count": 20,
   "id": "3c0a6d28-3de4-470f-b43c-1a6778d42a25",
   "metadata": {},
   "outputs": [
    {
     "name": "stdout",
     "output_type": "stream",
     "text": [
      "/srv/home/cvandiedonck/pass_rs_ue3_bistats/data/TSI\n"
     ]
    }
   ],
   "source": [
    "# cell 20\n",
    "cd ../TSI\n",
    "pwd"
   ]
  },
  {
   "cell_type": "markdown",
   "id": "e2a3fbc2-8bb5-4e66-a216-8ac45dbddd30",
   "metadata": {},
   "source": [
    "<span style=\"color:blue\">- Déplacez vous dans le répertoire correspondant à l'environnement de ce notebook `pass_rs_ue3_bistats` avec le <b>chemin relatif</b>. Vérifiez que vous y êtes bien arrivés.</span>"
   ]
  },
  {
   "cell_type": "code",
   "execution_count": 21,
   "id": "a0fd9e8f-cbf0-4e5c-89c3-fe3f6194ec0d",
   "metadata": {},
   "outputs": [
    {
     "name": "stdout",
     "output_type": "stream",
     "text": [
      "/srv/home/cvandiedonck/pass_rs_ue3_bistats\n"
     ]
    }
   ],
   "source": [
    "# cell 21\n",
    "cd ../../\n",
    "pwd"
   ]
  },
  {
   "cell_type": "markdown",
   "id": "daf4fbbe-bcd4-4fc3-9b57-e2e17979765e",
   "metadata": {},
   "source": [
    "<span style=\"color:blue\">- Déplacez-vous dans le répertoire `TSI` en utilisant le <b>chemin relatif</b>. Vérifiez où vous êtes.</span>"
   ]
  },
  {
   "cell_type": "code",
   "execution_count": 22,
   "id": "2dade9d9-3655-4c3f-bd69-5e4704339011",
   "metadata": {},
   "outputs": [
    {
     "name": "stdout",
     "output_type": "stream",
     "text": [
      "/srv/home/cvandiedonck/pass_rs_ue3_bistats/data/TSI\n"
     ]
    }
   ],
   "source": [
    "# cell 22\n",
    "cd ./data/TSI\n",
    "pwd"
   ]
  },
  {
   "cell_type": "markdown",
   "id": "251d14ad-b0f5-448d-ae2a-56883d048937",
   "metadata": {},
   "source": [
    "<span style=\"color:blue\">- Allez à présent dans le répertoire `data` en utilisant le <b>chemin absolu</b>. Vérifiez où vous êtes.\n",
    "\n",
    "<b><i>Astuce:</i></b> <i>Utilisez la flèche de tabulation de votre clavier pour autocompléter le nom des répertoires!</i></span>"
   ]
  },
  {
   "cell_type": "code",
   "execution_count": 23,
   "id": "b30cdcd0-da64-4bdd-ab64-377a2429345d",
   "metadata": {},
   "outputs": [
    {
     "name": "stdout",
     "output_type": "stream",
     "text": [
      "/srv/home/cvandiedonck/pass_rs_ue3_bistats/data\n"
     ]
    }
   ],
   "source": [
    "# cell 23\n",
    "cd /srv/home/cvandiedonck/pass_rs_ue3_bistats/data\n",
    "pwd"
   ]
  },
  {
   "cell_type": "markdown",
   "id": "421b7236-9c75-4ae6-8839-2c8fdf3a175e",
   "metadata": {},
   "source": [
    "## 3. Manipulation de fichiers et répertoires\n",
    "---"
   ]
  },
  {
   "cell_type": "markdown",
   "id": "0b7b7a53-ca8a-460d-897e-51d24f8c3529",
   "metadata": {},
   "source": [
    "📌 <span style=\"color:red\">Nous sommes actuellement dans le répertoire <code>~/pass_rs_ue3_bistats/data</code>.</span>\n",
    "\n",
    "\n",
    "<div class=\"alert alert-block alert-warning\"> <b> Aide: retour dans le bon répertoire \"~/pass_rs_ue3_bistats/data\" </b><br>En cas de problème sur cette partie 3, si vous avez besoin de refaire tourner les commandes dans l'ordre des cellules 24 à 39, retournez dans le répertoire de l'environnement avec la commande <br><code>cd ~/pass_rs_ue3_bistats/data</code>. </div>"
   ]
  },
  {
   "cell_type": "markdown",
   "id": "b0e0e20f-82ac-40e7-a1fb-b7c80e08d180",
   "metadata": {
    "tags": []
   },
   "source": [
    "### 3.1. Création d'un répertoire et d'un fichier\n",
    "---"
   ]
  },
  {
   "cell_type": "markdown",
   "id": "9471346c-0181-400a-9090-08f172a26ff0",
   "metadata": {},
   "source": [
    "- Pour **créer un répertoire**, on utilise la commande `mkdir` (*make directory*) suivie du chemin du nouveau répertoire et de son nom. \n",
    "\n",
    "<span style=\"color:blue\">- Créez un répertoire temporaire `tmp` dans `pass_rs_ue3_bistats` puis déplacez-vous dans ce répertoire et vérifiez que vous y êtes.</span>"
   ]
  },
  {
   "cell_type": "code",
   "execution_count": 24,
   "id": "19907912-0159-45bc-891b-54d0c756fefb",
   "metadata": {},
   "outputs": [
    {
     "name": "stdout",
     "output_type": "stream",
     "text": [
      "/srv/home/cvandiedonck/pass_rs_ue3_bistats/tmp\n"
     ]
    }
   ],
   "source": [
    "# cell 24\n",
    "mkdir ../tmp\n",
    "cd ../tmp\n",
    "pwd"
   ]
  },
  {
   "cell_type": "markdown",
   "id": "769d1490-d2c2-4539-ba6f-112bfe08aec4",
   "metadata": {},
   "source": [
    "- Pour **créer un fichier**, on utilise la commande `touch` suivie du chemin du nouveau fichier avec son nom. \n",
    "\n",
    "<span style=\"color:blue\">- Créez un fichier texte `tmp_file.txt` dans le répertoire `tmp` et vérifiez qu'il a bien été créé avec `ls`.</span>"
   ]
  },
  {
   "cell_type": "code",
   "execution_count": 25,
   "id": "721755cd-2768-4790-92e3-441be64bf0d2",
   "metadata": {},
   "outputs": [
    {
     "name": "stdout",
     "output_type": "stream",
     "text": [
      "tmp_file.txt\n"
     ]
    }
   ],
   "source": [
    "# cell 25\n",
    "# votre code\n",
    "touch tmp_file.txt\n",
    "ls"
   ]
  },
  {
   "cell_type": "markdown",
   "id": "305836d3-8653-47e3-a932-1f9a6edbe8a5",
   "metadata": {},
   "source": [
    "### 3.2. Copie d'un fichier ou d'un répertoire\n",
    "---\n",
    "\n",
    "- Pour **copier un fichier**, on utilise la commande `cp` (*copy*) suivie du chemin (absolu ou relatif) du fichier source, suivi du chemin (absolu ou relatif) du répertoire de copie. \n",
    "\n",
    "<span style=\"color:blue\">- Sans vous déplacer, copiez le fichier `test.map` présent dans le répertoire `PLINK_example_files` dans le répertoire `tmp`. NB: il vous faudra réfléchir à la localisation du fichier et du répertoire par rapport au <i>working directory</i>. La tabulation peut de nouveau vous aider à autocompléter les noms des répertoires/fichiers. N'hésitez pas à ajouter une cellule pour vérifier quel est votre répertoire courant si vous l'avez oublié.</span>"
   ]
  },
  {
   "cell_type": "code",
   "execution_count": 26,
   "id": "fcc0f0c3-9756-4ad3-a3ed-832d5ca7a865",
   "metadata": {},
   "outputs": [],
   "source": [
    "# cell 26\n",
    "# votre code\n",
    "cp ../data/PLINK_example_files/test.map ."
   ]
  },
  {
   "cell_type": "markdown",
   "id": "eb687e1e-ece3-4af6-9b56-6e18d0a65975",
   "metadata": {},
   "source": [
    "<span style=\"color:blue\">-Quelle commande pouvez-vous utiliser pour vérifier que vous avez bien copié le bon fichier au bon endroit ?</span>"
   ]
  },
  {
   "cell_type": "code",
   "execution_count": 27,
   "id": "668c1016-e514-4c31-b8bd-491bea55cc33",
   "metadata": {},
   "outputs": [
    {
     "name": "stdout",
     "output_type": "stream",
     "text": [
      "test.map  tmp_file.txt\n"
     ]
    }
   ],
   "source": [
    "# cell 27\n",
    "# votre code\n",
    "ls "
   ]
  },
  {
   "cell_type": "markdown",
   "id": "5627ae96-84d2-4129-898c-382f073ff46c",
   "metadata": {},
   "source": [
    "- Pour **copier un répertoire**, la commande est également `cp` en ajoutant l'argument `-r` pour recursif (*recursive*) afin de copier le contenu du répertoire également. Par exemple, dans la cellule suivante, on copie le répertoire `pass_rs_ue3_bistats/data` dans le répertoire courant `tmp`."
   ]
  },
  {
   "cell_type": "code",
   "execution_count": 28,
   "id": "0bf0ab66-4669-4486-80ba-c9a71c93f74e",
   "metadata": {},
   "outputs": [
    {
     "name": "stdout",
     "output_type": "stream",
     "text": [
      "data  test.map  tmp_file.txt\n"
     ]
    }
   ],
   "source": [
    "# cell 28\n",
    "cp -r ../data . \n",
    "ls"
   ]
  },
  {
   "cell_type": "markdown",
   "id": "becb0da9-3372-40aa-8f1c-73d6f3c55684",
   "metadata": {
    "tags": []
   },
   "source": [
    "### 3.3 Suppression d'un fichier ou d'un répertoire\n",
    "---\n",
    "\n",
    "- Pour **supprimer un fichier**, on utilise la commande `rm` (*remove*) suivie du chemin du fichier à supprimer. \n",
    "\n",
    "<span style=\"color:blue\">- Supprimez le fichier `tmp_file.txt` situé dans `tmp` et vérifiez que la suppression a bien eu lieu.</span>\n"
   ]
  },
  {
   "cell_type": "code",
   "execution_count": 29,
   "id": "4e85127f-1b89-46b2-9bac-7a2e7befe4c4",
   "metadata": {},
   "outputs": [
    {
     "name": "stdout",
     "output_type": "stream",
     "text": [
      "data  test.map\n"
     ]
    }
   ],
   "source": [
    "# cell 29\n",
    "# votre code\n",
    "rm tmp_file.txt\n",
    "ls"
   ]
  },
  {
   "cell_type": "markdown",
   "id": "4acd1493-5580-42ba-a470-277622576a00",
   "metadata": {},
   "source": [
    "- Pour **supprimer un répertoire** il existe deux méthodes:\n",
    "\n",
    "**1.** Celle qui fonctionne toujours, **que le répéretoire soit vide ou non**,  utilise `rm -r` puis le nom du répertoire. Par exemple, nous pouvons supprimer le répertoire `data` que nous avions copié dans `tmp` ainsi:"
   ]
  },
  {
   "cell_type": "code",
   "execution_count": 30,
   "id": "c4e70fbe-74f8-41d7-b5cb-cc534a79e9e0",
   "metadata": {},
   "outputs": [
    {
     "name": "stdout",
     "output_type": "stream",
     "text": [
      "test.map\n"
     ]
    }
   ],
   "source": [
    "# cell 30\n",
    "rm -r data\n",
    "ls"
   ]
  },
  {
   "cell_type": "markdown",
   "id": "17220ec5-2abe-4f02-8a27-98dc30eb25f6",
   "metadata": {},
   "source": [
    "<div class=\"alert alert-block alert-danger\"><b>Attention:</b> La commande <b>rm -r</b> supprime le répertoire et bien évidemment tout son contenu. Vous pourriez le regretter. Par prudence, la seconde solution est conseillée. </div>"
   ]
  },
  {
   "cell_type": "markdown",
   "id": "813d2ee2-9ff0-414e-bf3a-9c2866f7ac5b",
   "metadata": {},
   "source": [
    "**2. Si le répertoire est vide**, le mieux est d'utiliser `rmdir`. Cette commande ne fonctionne que si le répertoire est vide. Vous pouvez donc le vider avant. C'est ce que nous allons faire en vidant ce qui reste dans le répertoire `tmp` avant de le supprimer."
   ]
  },
  {
   "cell_type": "code",
   "execution_count": 31,
   "id": "b75c44be-ab0b-485f-b657-ca8512d97c44",
   "metadata": {},
   "outputs": [
    {
     "name": "stdout",
     "output_type": "stream",
     "text": [
      "binder                               bioinfo_1.ipynb  LICENSE\n",
      "bioinfo_1_correction_executed.ipynb  data             README.md\n"
     ]
    }
   ],
   "source": [
    "# cell 31\n",
    "rm test.map\n",
    "cd  ..\n",
    "rmdir tmp\n",
    "ls"
   ]
  },
  {
   "cell_type": "markdown",
   "id": "fa64983e-ae94-4686-a98e-9a93f87fe1a7",
   "metadata": {},
   "source": [
    "<div class=\"alert alert-block alert-info\">Avant de passer à la suite de ce notebook on recrée un répertoire temporaire <b>tmp2</b> dans lequel on copie de nouveau le fichier <b>test.map</b>.</div>"
   ]
  },
  {
   "cell_type": "code",
   "execution_count": 32,
   "id": "d77d14fd-fc50-4a73-a933-d6e2fa5c3db5",
   "metadata": {},
   "outputs": [
    {
     "name": "stdout",
     "output_type": "stream",
     "text": [
      "test.map\n"
     ]
    }
   ],
   "source": [
    "# cell 32\n",
    "mkdir tmp2\n",
    "cd tmp2\n",
    "cp ../data/PLINK_example_files/test.map .\n",
    "ls"
   ]
  },
  {
   "cell_type": "markdown",
   "id": "0f4cc556-689a-4317-a999-30892689fb0b",
   "metadata": {
    "tags": []
   },
   "source": [
    "### 3.4. Déplacer ou renommer un fichier ou un répertoire avec `mv`\n",
    "---"
   ]
  },
  {
   "cell_type": "markdown",
   "id": "5a57e39a-53e2-4d9d-809d-ae587b923b62",
   "metadata": {},
   "source": [
    "- Pour **déplacer (*sans le copier*) un fichier vers un répertoire cible**, on utilise la commande `mv` (*move*) suivie en 1er argument du chemin du fichier à déplacer, puis en 2ème argument du chemin du répertoire cible. \n",
    "\n",
    "On déplace par exemple dans le répertoire `pass_rs_ue3_bistats` le fichier `test.map` présent dans le répertoire `tmp2`."
   ]
  },
  {
   "cell_type": "code",
   "execution_count": 33,
   "id": "a49a8166-45f4-42a6-89d0-8b27ca51cf04",
   "metadata": {},
   "outputs": [],
   "source": [
    "# cell 33\n",
    "mv ./test.map ../"
   ]
  },
  {
   "cell_type": "markdown",
   "id": "e814c4f4-6cf1-48ef-b8fc-01afdf715e92",
   "metadata": {},
   "source": [
    "<span style=\"color:green\">- <b>Question 5</b>  Expliquez pas à pas le détail de la commande ci-dessus.</span>"
   ]
  },
  {
   "cell_type": "markdown",
   "id": "42c428a8-fa79-473d-8200-06d484718ce7",
   "metadata": {},
   "source": [
    "<span style=\"color:gray\">-> <code>mv</code> sert à déplacer un fichier ou répertoire, <code>./test.map</code> indique qu'on prend le fichier <code>test.map</code> actuellement présent dans le répertoire courant (./). La destination est <code>../</code> ce qui indique qu'il s'agit du répertoire parent (pass_rs_ue3_bistats) du répertoire courant (tmp2).</span>"
   ]
  },
  {
   "cell_type": "markdown",
   "id": "18eb2b18-7f8d-479a-80e8-debdf5e2c564",
   "metadata": {},
   "source": [
    "Une fois déplacé le fichier n'est plus dans le répertoire initial comme on peut s'en assurer ci-dessous."
   ]
  },
  {
   "cell_type": "code",
   "execution_count": 34,
   "id": "4ec29140-fb83-46da-be40-9a0425a7d01a",
   "metadata": {},
   "outputs": [],
   "source": [
    "# cell 34\n",
    "ls"
   ]
  },
  {
   "cell_type": "markdown",
   "id": "1714d610-e586-420c-98c0-d9c2f647cc89",
   "metadata": {},
   "source": [
    "Vous auriez pu en profiter également pour changer le nom du fichier déplacé en indiquant un nouveau nom après le chemin du répertoire de destination (sans espace). Par exemple on le remet dans `tmp2` en le renommant `test2.map`."
   ]
  },
  {
   "cell_type": "code",
   "execution_count": 35,
   "id": "8cb55ca4-2e86-4030-bfec-9b7675d17d8c",
   "metadata": {},
   "outputs": [],
   "source": [
    "# cell 35\n",
    "mv ../test.map ./test2.map"
   ]
  },
  {
   "cell_type": "markdown",
   "id": "31ad3b86-c82b-4306-a72c-8dce2ccb21f3",
   "metadata": {},
   "source": [
    "<span style=\"color:green\">- <b>Question 6</b>  Expliquez pas à pas le détail de la commande ci-dessus.</span>"
   ]
  },
  {
   "cell_type": "markdown",
   "id": "faed16ae-ec68-463f-b57a-4535abde1f97",
   "metadata": {},
   "source": [
    "<span style=\"color:gray\">-> Cette fois-ci on déplace tout en renommant avec <code>mv</code> le fichier <code>test.map</code> actuellement présent dans le répertoire parent (pass_rs_ue3_bistats) du répertoire courant (tmp2). La destination est le répertoire courant (./) en donnant un nouveau nom <code>test2.map</code> au fichier ainsi déplacé. Le fichier source n'est plus présent dans le répertoire source."
   ]
  },
  {
   "cell_type": "markdown",
   "id": "dc08abb1-5d2d-48fd-b583-3d88cf74a291",
   "metadata": {},
   "source": [
    "- Pour **renommer un fichier**, on utilise en effet également la commande `mv` (*move*) suivie en 1er argument du nom du fichier à renommer, puis en 2ème argument du nouveau nom. C'est donc possible sans changer de répertoire!\n",
    "\n",
    "Par exemple, on renomme le fichier `test.map` de notre répertoire courant en `example.map`."
   ]
  },
  {
   "cell_type": "code",
   "execution_count": 36,
   "id": "87703453-3814-439e-a7cb-9752948e5550",
   "metadata": {},
   "outputs": [
    {
     "name": "stdout",
     "output_type": "stream",
     "text": [
      "example.map\n"
     ]
    }
   ],
   "source": [
    "# cell 36\n",
    "mv test2.map example.map\n",
    "ls"
   ]
  },
  {
   "cell_type": "markdown",
   "id": "9f9476eb-4721-4c88-a3b9-82e168ea3209",
   "metadata": {},
   "source": [
    "- Pour **déplacer ou renommer un répertoire** on utilise également la commande `mv`, ce qui déplace le répertoire et tout son contenu. Par exemple, on va renommer le répertoire `tmp2` en `tmp3`."
   ]
  },
  {
   "cell_type": "code",
   "execution_count": 37,
   "id": "6c9635a3-cded-4deb-b0bb-5807f5d5a7af",
   "metadata": {},
   "outputs": [],
   "source": [
    "# cell 37\n",
    "cd ..\n",
    "mv tmp2 tmp3"
   ]
  },
  {
   "cell_type": "code",
   "execution_count": 38,
   "id": "95a7db99-cbd0-42dd-81ea-baef09d5a81a",
   "metadata": {},
   "outputs": [
    {
     "name": "stdout",
     "output_type": "stream",
     "text": [
      "binder                               bioinfo_1.ipynb  LICENSE    tmp3\n",
      "bioinfo_1_correction_executed.ipynb  data             README.md\n"
     ]
    }
   ],
   "source": [
    "# cell 38\n",
    "ls"
   ]
  },
  {
   "cell_type": "code",
   "execution_count": 39,
   "id": "e259e01d-6249-459e-914c-ca3adcf17dd3",
   "metadata": {},
   "outputs": [
    {
     "name": "stdout",
     "output_type": "stream",
     "text": [
      "example.map\n"
     ]
    }
   ],
   "source": [
    "# cell 39\n",
    "ls tmp3"
   ]
  },
  {
   "cell_type": "markdown",
   "id": "994fcb93-9669-462e-a5c2-b732fd5a563a",
   "metadata": {
    "tags": []
   },
   "source": [
    "## 4. Lire, explorer un fichier et écrire dedans\n",
    "---"
   ]
  },
  {
   "cell_type": "markdown",
   "id": "ef3df3e2-5a13-4a11-a043-9f449668d911",
   "metadata": {},
   "source": [
    "📌 <span style=\"color:red\">Nous sommes actuellement dans le répertoire <code>~/pass_rs_ue3_bistats</code>.</span>\n",
    "\n",
    "\n",
    "<div class=\"alert alert-block alert-warning\"> <b> Aide: retour dans le bon répertoire \"~/pass_rs_ue3_bistats/data\" </b><br>En cas de problème sur cette partie 3, si vous avez besoin de refaire tourner les commandes dans l'ordre des cellules 24 à 39, retournez dans le répertoire de l'environnement avec la commande <br><code>cd ~/pass_rs_ue3_bistats/</code>. </div>"
   ]
  },
  {
   "cell_type": "markdown",
   "id": "0f3d3424-dc9d-4845-82d9-c7dedfae44b9",
   "metadata": {
    "tags": []
   },
   "source": [
    "### 4.1. Lire un fichier\n",
    "\n",
    "- Pour **visualiser le contenu d'un fichier** de type texte (on verra dans le projet qu'il existe d'autres formats dits binaires), on utilise la commande `cat` suivie du chemin du fichier à visualiser. \n",
    "\n",
    "<span style=\"color:blue\">- Déplacez-vous dans le répertoire `data/TSI`.\n",
    "Visualisez le contenu du fichier `Hapmap3-TSI_13q.21.info` situé dans ce répertoire . </span>"
   ]
  },
  {
   "cell_type": "code",
   "execution_count": 40,
   "id": "4de30835-f8bc-4e0b-9dec-5e0cee162bea",
   "metadata": {
    "tags": []
   },
   "outputs": [
    {
     "name": "stdout",
     "output_type": "stream",
     "text": [
      "rs9569366\t55232916\n",
      "rs9597258\t55234440\n",
      "rs4885941\t55234854\n",
      "rs11839457\t55243360\n",
      "rs9591687\t55249342\n",
      "rs9569373\t55254118\n",
      "rs7334154\t55259125\n",
      "rs6561867\t55267869\n",
      "rs9597267\t55268861\n",
      "rs4597206\t55274285\n",
      "rs2997106\t55278733\n",
      "rs3015425\t55280381\n",
      "rs12585364\t55286848\n",
      "rs2997114\t55287986\n",
      "rs2997118\t55290109\n",
      "rs2935461\t55302250\n",
      "rs9569384\t55306855\n",
      "rs1391044\t55311160\n",
      "rs1532453\t55315271\n",
      "rs1391041\t55324975\n",
      "rs10507603\t55328914\n",
      "rs2645938\t55329151\n",
      "rs1117969\t55334130\n",
      "rs2645929\t55342530\n",
      "rs1497292\t55348261\n",
      "rs2645924\t55348356\n",
      "rs2801621\t55352569\n",
      "rs2645920\t55357235\n",
      "rs17052609\t55366456\n",
      "rs2801618\t55368150\n",
      "rs9591697\t55368450\n",
      "rs2801617\t55368842\n",
      "rs17052626\t55369150\n",
      "rs3015430\t55371003\n",
      "rs1995099\t55374794\n",
      "rs975273\t55379417\n",
      "rs1587260\t55381246\n",
      "rs17052641\t55384997\n",
      "rs9537297\t55387445\n",
      "rs9527458\t55391080\n",
      "rs7993035\t55397589\n",
      "rs9597296\t55403182\n",
      "rs1497301\t55407531\n",
      "rs2201715\t55409754\n",
      "rs7992310\t55418764\n",
      "rs11617045\t55419026\n",
      "rs7993082\t55419220\n",
      "rs9597307\t55426306\n",
      "rs1497302\t55429744\n",
      "rs7989771\t55434151\n",
      "rs12430288\t55444122\n",
      "rs377576\t55448019\n",
      "rs2314014\t55448804\n",
      "rs10467541\t55454251\n",
      "rs573051\t55455450\n",
      "rs12584224\t55464336\n",
      "rs442714\t55464860\n",
      "rs494175\t55466299\n",
      "rs9563369\t55469632\n",
      "rs9597316\t55471531\n",
      "rs7997193\t55472364\n",
      "rs8000414\t55472527\n"
     ]
    }
   ],
   "source": [
    "# cell 40\n",
    "# votre code\n",
    "cd data/TSI\n",
    "cat Hapmap3-TSI_13q21.info"
   ]
  },
  {
   "cell_type": "markdown",
   "id": "d7cd10b0-c8d4-46a5-b3ab-9ffff0d86bb4",
   "metadata": {
    "tags": []
   },
   "source": [
    "Il s'agit d'un fichier au format `.info` d'Haploview, un logiciel d'analyse génétique. Il liste les marqueurs génétiques analysés, chaque ligne décrivant un SNP (*identifiant*, *position physique sur le chromosome*)."
   ]
  },
  {
   "cell_type": "markdown",
   "id": "2207ba61-60c8-43b9-8817-c14d491df0c6",
   "metadata": {},
   "source": [
    "- Souvent les fichiers sont très longs et on recommande alors de ne **visualiser** que le **début** ou la **fin** du fichier. Les commandes dédiées à ces tâches sont `head` et `tail`. \n",
    "\n",
    "<span style=\"color:blue\">-Exécutez-les sur le fichier `Hapmap3-TSI_13q21.info`.</span>\n"
   ]
  },
  {
   "cell_type": "code",
   "execution_count": 41,
   "id": "bf704e70-8a08-4f1b-a7e2-90d3f175a89c",
   "metadata": {},
   "outputs": [
    {
     "name": "stdout",
     "output_type": "stream",
     "text": [
      "rs9569366\t55232916\n",
      "rs9597258\t55234440\n",
      "rs4885941\t55234854\n",
      "rs11839457\t55243360\n",
      "rs9591687\t55249342\n",
      "rs9569373\t55254118\n",
      "rs7334154\t55259125\n",
      "rs6561867\t55267869\n",
      "rs9597267\t55268861\n",
      "rs4597206\t55274285\n"
     ]
    }
   ],
   "source": [
    "# cell 41\n",
    "# votre code\n",
    "head Hapmap3-TSI_13q21.info"
   ]
  },
  {
   "cell_type": "code",
   "execution_count": 42,
   "id": "86cabc0f-b940-48f4-ab62-f32f0a912498",
   "metadata": {},
   "outputs": [
    {
     "name": "stdout",
     "output_type": "stream",
     "text": [
      "rs2314014\t55448804\n",
      "rs10467541\t55454251\n",
      "rs573051\t55455450\n",
      "rs12584224\t55464336\n",
      "rs442714\t55464860\n",
      "rs494175\t55466299\n",
      "rs9563369\t55469632\n",
      "rs9597316\t55471531\n",
      "rs7997193\t55472364\n",
      "rs8000414\t55472527\n"
     ]
    }
   ],
   "source": [
    "# cell 42\n",
    "# votre code\n",
    "tail Hapmap3-TSI_13q21.info"
   ]
  },
  {
   "cell_type": "markdown",
   "id": "24519490-bc0d-4acd-aa9b-94314a188121",
   "metadata": {},
   "source": [
    "Les commandes `head` et `tail` par défaut n'affiche que 10 lignes en bash."
   ]
  },
  {
   "cell_type": "markdown",
   "id": "a899b52e-c68a-49bb-a3a5-30252d57d24e",
   "metadata": {},
   "source": [
    "<span style=\"color:blue\">-  Consulter l'aide des commandes `head` et `tail` pour trouver les arguments à utiliser afin de:</span>"
   ]
  },
  {
   "cell_type": "code",
   "execution_count": 43,
   "id": "f5dbfb52-46a9-496e-bd3a-a2b2fd71829b",
   "metadata": {},
   "outputs": [
    {
     "name": "stdout",
     "output_type": "stream",
     "text": [
      "Usage: head [OPTION]... [FILE]...\n",
      "Print the first 10 lines of each FILE to standard output.\n",
      "With more than one FILE, precede each with a header giving the file name.\n",
      "\n",
      "With no FILE, or when FILE is -, read standard input.\n",
      "\n",
      "Mandatory arguments to long options are mandatory for short options too.\n",
      "  -c, --bytes=[-]NUM       print the first NUM bytes of each file;\n",
      "                             with the leading '-', print all but the last\n",
      "                             NUM bytes of each file\n",
      "  -n, --lines=[-]NUM       print the first NUM lines instead of the first 10;\n",
      "                             with the leading '-', print all but the last\n",
      "                             NUM lines of each file\n",
      "  -q, --quiet, --silent    never print headers giving file names\n",
      "  -v, --verbose            always print headers giving file names\n",
      "  -z, --zero-terminated    line delimiter is NUL, not newline\n",
      "      --help     display this help and exit\n",
      "      --version  output version information and exit\n",
      "\n",
      "NUM may have a multiplier suffix:\n",
      "b 512, kB 1000, K 1024, MB 1000*1000, M 1024*1024,\n",
      "GB 1000*1000*1000, G 1024*1024*1024, and so on for T, P, E, Z, Y.\n",
      "\n",
      "GNU coreutils online help: <http://www.gnu.org/software/coreutils/>\n",
      "Full documentation at: <http://www.gnu.org/software/coreutils/head>\n",
      "or available locally via: info '(coreutils) head invocation'\n"
     ]
    }
   ],
   "source": [
    "# cell 43\n",
    "# votre code\n",
    "head --help"
   ]
  },
  {
   "cell_type": "code",
   "execution_count": 44,
   "id": "77c941e3-4f56-4a8b-8264-fdf4330044a8",
   "metadata": {},
   "outputs": [
    {
     "name": "stdout",
     "output_type": "stream",
     "text": [
      "Usage: tail [OPTION]... [FILE]...\n",
      "Print the last 10 lines of each FILE to standard output.\n",
      "With more than one FILE, precede each with a header giving the file name.\n",
      "\n",
      "With no FILE, or when FILE is -, read standard input.\n",
      "\n",
      "Mandatory arguments to long options are mandatory for short options too.\n",
      "  -c, --bytes=[+]NUM       output the last NUM bytes; or use -c +NUM to\n",
      "                             output starting with byte NUM of each file\n",
      "  -f, --follow[={name|descriptor}]\n",
      "                           output appended data as the file grows;\n",
      "                             an absent option argument means 'descriptor'\n",
      "  -F                       same as --follow=name --retry\n",
      "  -n, --lines=[+]NUM       output the last NUM lines, instead of the last 10;\n",
      "                             or use -n +NUM to output starting with line NUM\n",
      "      --max-unchanged-stats=N\n",
      "                           with --follow=name, reopen a FILE which has not\n",
      "                             changed size after N (default 5) iterations\n",
      "                             to see if it has been unlinked or renamed\n",
      "                             (this is the usual case of rotated log files);\n",
      "                             with inotify, this option is rarely useful\n",
      "      --pid=PID            with -f, terminate after process ID, PID dies\n",
      "  -q, --quiet, --silent    never output headers giving file names\n",
      "      --retry              keep trying to open a file if it is inaccessible\n",
      "  -s, --sleep-interval=N   with -f, sleep for approximately N seconds\n",
      "                             (default 1.0) between iterations;\n",
      "                             with inotify and --pid=P, check process P at\n",
      "                             least once every N seconds\n",
      "  -v, --verbose            always output headers giving file names\n",
      "  -z, --zero-terminated    line delimiter is NUL, not newline\n",
      "      --help     display this help and exit\n",
      "      --version  output version information and exit\n",
      "\n",
      "NUM may have a multiplier suffix:\n",
      "b 512, kB 1000, K 1024, MB 1000*1000, M 1024*1024,\n",
      "GB 1000*1000*1000, G 1024*1024*1024, and so on for T, P, E, Z, Y.\n",
      "\n",
      "With --follow (-f), tail defaults to following the file descriptor, which\n",
      "means that even if a tail'ed file is renamed, tail will continue to track\n",
      "its end.  This default behavior is not desirable when you really want to\n",
      "track the actual name of the file, not the file descriptor (e.g., log\n",
      "rotation).  Use --follow=name in that case.  That causes tail to track the\n",
      "named file in a way that accommodates renaming, removal and creation.\n",
      "\n",
      "GNU coreutils online help: <http://www.gnu.org/software/coreutils/>\n",
      "Full documentation at: <http://www.gnu.org/software/coreutils/tail>\n",
      "or available locally via: info '(coreutils) tail invocation'\n"
     ]
    }
   ],
   "source": [
    "# cell 44\n",
    "# votre code\n",
    "tail --help"
   ]
  },
  {
   "cell_type": "markdown",
   "id": "3cb1c412-1ef4-40c5-af63-0c3ea8c6adea",
   "metadata": {},
   "source": [
    "<span style=\"color:blue\">   <b>a-</b>\n",
    "n'afficher que les 5 premières lignes</span>\n"
   ]
  },
  {
   "cell_type": "code",
   "execution_count": 45,
   "id": "4339f498-cb1a-44f3-b4ed-a8b013e956eb",
   "metadata": {},
   "outputs": [
    {
     "name": "stdout",
     "output_type": "stream",
     "text": [
      "rs9569366\t55232916\n",
      "rs9597258\t55234440\n",
      "rs4885941\t55234854\n",
      "rs11839457\t55243360\n",
      "rs9591687\t55249342\n"
     ]
    }
   ],
   "source": [
    "# cell 45\n",
    "# votre code\n",
    "head -5 Hapmap3-TSI_13q21.info"
   ]
  },
  {
   "cell_type": "markdown",
   "id": "d656215e-0c91-46c1-9128-479552bcea3a",
   "metadata": {},
   "source": [
    "<span style=\"color:blue\"><b>b-</b>\n",
    "n'afficher que les 3 dernières lignes</span>\n"
   ]
  },
  {
   "cell_type": "code",
   "execution_count": 46,
   "id": "e5d10657-b131-45ce-9435-63d31d8a545e",
   "metadata": {},
   "outputs": [
    {
     "name": "stdout",
     "output_type": "stream",
     "text": [
      "rs9597316\t55471531\n",
      "rs7997193\t55472364\n",
      "rs8000414\t55472527\n"
     ]
    }
   ],
   "source": [
    "# cell 46\n",
    "#votre code\n",
    "tail -3 Hapmap3-TSI_13q21.info"
   ]
  },
  {
   "cell_type": "markdown",
   "id": "dcc75848-e106-48cf-8ce9-5f6f5055b97e",
   "metadata": {},
   "source": [
    "<span style=\"color:blue\"><b>c-</b>\n",
    "afficher tout le contenu sauf les 50 premières lignes</span>\n"
   ]
  },
  {
   "cell_type": "code",
   "execution_count": 47,
   "id": "8e2baa4f-3d46-4964-8a0c-47c40416505f",
   "metadata": {},
   "outputs": [
    {
     "name": "stdout",
     "output_type": "stream",
     "text": [
      "rs12430288\t55444122\n",
      "rs377576\t55448019\n",
      "rs2314014\t55448804\n",
      "rs10467541\t55454251\n",
      "rs573051\t55455450\n",
      "rs12584224\t55464336\n",
      "rs442714\t55464860\n",
      "rs494175\t55466299\n",
      "rs9563369\t55469632\n",
      "rs9597316\t55471531\n",
      "rs7997193\t55472364\n",
      "rs8000414\t55472527\n"
     ]
    }
   ],
   "source": [
    "# cell 47\n",
    "# votre code\n",
    "tail -n +51 Hapmap3-TSI_13q21.info"
   ]
  },
  {
   "cell_type": "markdown",
   "id": "14c1333c-1b09-44b6-b550-63989fa37d7c",
   "metadata": {},
   "source": [
    "<span style=\"color:blue\"><b>d-</b>\n",
    "afficher tout le contenu sauf les 60 dernières lignes</span>\n"
   ]
  },
  {
   "cell_type": "code",
   "execution_count": 48,
   "id": "c9df5043-81c7-4e72-8c69-cd1739185aae",
   "metadata": {},
   "outputs": [
    {
     "name": "stdout",
     "output_type": "stream",
     "text": [
      "rs9569366\t55232916\n",
      "rs9597258\t55234440\n"
     ]
    }
   ],
   "source": [
    "# cell 48\n",
    "# votre code\n",
    "head -n -60 Hapmap3-TSI_13q21.info"
   ]
  },
  {
   "cell_type": "markdown",
   "id": "549ada25-c618-4cc8-bd8d-6f7248f7faec",
   "metadata": {
    "tags": []
   },
   "source": [
    "### 4.2. Compter les éléments d'un fichier\n",
    "\n",
    "\n",
    "- On peut **compter le nombre de caratères, mots, ou lignes** (mais aussi de caractères et de mots) d'un fichier texte à l'aide de la commande `wc`.\n",
    "\n",
    "Avec son argument `-l` (pour *line*), vous comptez le nombre de lignes.\n",
    "\n",
    "<span style=\"color:blue\">- Comptez le nombre de lignes du fichier `Hapmap3-TSI_13q21.info`</span>\n"
   ]
  },
  {
   "cell_type": "code",
   "execution_count": 49,
   "id": "5de26e7f-b7e6-41d1-bb29-5bef4646e8de",
   "metadata": {},
   "outputs": [
    {
     "name": "stdout",
     "output_type": "stream",
     "text": [
      "62 Hapmap3-TSI_13q21.info\n"
     ]
    }
   ],
   "source": [
    "# cell 49\n",
    "# votre code\n",
    "wc -l Hapmap3-TSI_13q21.info"
   ]
  },
  {
   "cell_type": "markdown",
   "id": "18d74d13-c3af-4731-905b-5e1fd6ff7b3b",
   "metadata": {},
   "source": [
    "Avec d'autres arguments, vous comptez d'autres éléments."
   ]
  },
  {
   "cell_type": "code",
   "execution_count": 50,
   "id": "9128f909-2b40-402b-a57f-986fe95c0340",
   "metadata": {},
   "outputs": [
    {
     "name": "stdout",
     "output_type": "stream",
     "text": [
      "Usage: wc [OPTION]... [FILE]...\n",
      "  or:  wc [OPTION]... --files0-from=F\n",
      "Print newline, word, and byte counts for each FILE, and a total line if\n",
      "more than one FILE is specified.  A word is a non-zero-length sequence of\n",
      "characters delimited by white space.\n",
      "\n",
      "With no FILE, or when FILE is -, read standard input.\n",
      "\n",
      "The options below may be used to select which counts are printed, always in\n",
      "the following order: newline, word, character, byte, maximum line length.\n",
      "  -c, --bytes            print the byte counts\n",
      "  -m, --chars            print the character counts\n",
      "  -l, --lines            print the newline counts\n",
      "      --files0-from=F    read input from the files specified by\n",
      "                           NUL-terminated names in file F;\n",
      "                           If F is - then read names from standard input\n",
      "  -L, --max-line-length  print the maximum display width\n",
      "  -w, --words            print the word counts\n",
      "      --help     display this help and exit\n",
      "      --version  output version information and exit\n",
      "\n",
      "GNU coreutils online help: <http://www.gnu.org/software/coreutils/>\n",
      "Full documentation at: <http://www.gnu.org/software/coreutils/wc>\n",
      "or available locally via: info '(coreutils) wc invocation'\n"
     ]
    }
   ],
   "source": [
    "# cell 50\n",
    "wc --help"
   ]
  },
  {
   "cell_type": "code",
   "execution_count": 51,
   "id": "a608868b-f0e4-45e7-be1e-237908060579",
   "metadata": {},
   "outputs": [
    {
     "name": "stdout",
     "output_type": "stream",
     "text": [
      "124 Hapmap3-TSI_13q21.info\n"
     ]
    }
   ],
   "source": [
    "# cell 51\n",
    "wc -w Hapmap3-TSI_13q21.info"
   ]
  },
  {
   "cell_type": "code",
   "execution_count": 52,
   "id": "940ca9db-19d7-437e-9b90-8ab3bb138aae",
   "metadata": {},
   "outputs": [
    {
     "name": "stdout",
     "output_type": "stream",
     "text": [
      "  62  124 1183 Hapmap3-TSI_13q21.info\n"
     ]
    }
   ],
   "source": [
    "# cell 52\n",
    "wc Hapmap3-TSI_13q21.info"
   ]
  },
  {
   "cell_type": "markdown",
   "id": "6d721c60-469e-4bec-beb5-a4bf30040f36",
   "metadata": {},
   "source": [
    "<span style=\"color:green\">- <b>Question 7</b>  Expliquez les résultat des deux commandes ci-dessus en consultant l'aide de la commande.</span>"
   ]
  },
  {
   "cell_type": "markdown",
   "id": "ee113cf8-2ec6-41a4-974a-e0cf935e3a46",
   "metadata": {},
   "source": [
    "<span style=\"color:gray\">-> Dans la dellule 51, l'argument <code>-w</code> permet de compter le nombre de mots. Il y en a 124 ce qui est normal car le fichier avait 62 lignes et 2 mots par ligne (ouvrez le en double cliquant dessus depuis le navigateur du Jupyter Lab pour en être convaincu). Dans la cellule 52, aucun argument n'a  été ajouté. Dans ce cas, l'aide indique que la commande affiche d'abord le nombre de lignes, puis le nombre de mots puis le nombre d'octets (taille).</span>"
   ]
  },
  {
   "cell_type": "markdown",
   "id": "e5aa6f2a-ee23-4832-859b-3b1646c1c307",
   "metadata": {
    "tags": []
   },
   "source": [
    "### 4.3. Triez des lignes d'un fichier\n",
    "\n",
    "- Avec la commande `sort`, il est possible de **trier les lignes** d'un fichier selon un ordre ascendant, descendant, voire aléatoire selon les valeurs d'une colonne. "
   ]
  },
  {
   "cell_type": "code",
   "execution_count": 53,
   "id": "f88dc1e9-0685-49b4-8c83-8f441685bbaf",
   "metadata": {},
   "outputs": [
    {
     "name": "stdout",
     "output_type": "stream",
     "text": [
      "Usage: sort [OPTION]... [FILE]...\n",
      "  or:  sort [OPTION]... --files0-from=F\n",
      "Write sorted concatenation of all FILE(s) to standard output.\n",
      "\n",
      "With no FILE, or when FILE is -, read standard input.\n",
      "\n",
      "Mandatory arguments to long options are mandatory for short options too.\n",
      "Ordering options:\n",
      "\n",
      "  -b, --ignore-leading-blanks  ignore leading blanks\n",
      "  -d, --dictionary-order      consider only blanks and alphanumeric characters\n",
      "  -f, --ignore-case           fold lower case to upper case characters\n",
      "  -g, --general-numeric-sort  compare according to general numerical value\n",
      "  -i, --ignore-nonprinting    consider only printable characters\n",
      "  -M, --month-sort            compare (unknown) < 'JAN' < ... < 'DEC'\n",
      "  -h, --human-numeric-sort    compare human readable numbers (e.g., 2K 1G)\n",
      "  -n, --numeric-sort          compare according to string numerical value\n",
      "  -R, --random-sort           shuffle, but group identical keys.  See shuf(1)\n",
      "      --random-source=FILE    get random bytes from FILE\n",
      "  -r, --reverse               reverse the result of comparisons\n",
      "      --sort=WORD             sort according to WORD:\n",
      "                                general-numeric -g, human-numeric -h, month -M,\n",
      "                                numeric -n, random -R, version -V\n",
      "  -V, --version-sort          natural sort of (version) numbers within text\n",
      "\n",
      "Other options:\n",
      "\n",
      "      --batch-size=NMERGE   merge at most NMERGE inputs at once;\n",
      "                            for more use temp files\n",
      "  -c, --check, --check=diagnose-first  check for sorted input; do not sort\n",
      "  -C, --check=quiet, --check=silent  like -c, but do not report first bad line\n",
      "      --compress-program=PROG  compress temporaries with PROG;\n",
      "                              decompress them with PROG -d\n",
      "      --debug               annotate the part of the line used to sort,\n",
      "                              and warn about questionable usage to stderr\n",
      "      --files0-from=F       read input from the files specified by\n",
      "                            NUL-terminated names in file F;\n",
      "                            If F is - then read names from standard input\n",
      "  -k, --key=KEYDEF          sort via a key; KEYDEF gives location and type\n",
      "  -m, --merge               merge already sorted files; do not sort\n",
      "  -o, --output=FILE         write result to FILE instead of standard output\n",
      "  -s, --stable              stabilize sort by disabling last-resort comparison\n",
      "  -S, --buffer-size=SIZE    use SIZE for main memory buffer\n",
      "  -t, --field-separator=SEP  use SEP instead of non-blank to blank transition\n",
      "  -T, --temporary-directory=DIR  use DIR for temporaries, not $TMPDIR or /tmp;\n",
      "                              multiple options specify multiple directories\n",
      "      --parallel=N          change the number of sorts run concurrently to N\n",
      "  -u, --unique              with -c, check for strict ordering;\n",
      "                              without -c, output only the first of an equal run\n",
      "  -z, --zero-terminated     line delimiter is NUL, not newline\n",
      "      --help     display this help and exit\n",
      "      --version  output version information and exit\n",
      "\n",
      "KEYDEF is F[.C][OPTS][,F[.C][OPTS]] for start and stop position, where F is a\n",
      "field number and C a character position in the field; both are origin 1, and\n",
      "the stop position defaults to the line's end.  If neither -t nor -b is in\n",
      "effect, characters in a field are counted from the beginning of the preceding\n",
      "whitespace.  OPTS is one or more single-letter ordering options [bdfgiMhnRrV],\n",
      "which override global ordering options for that key.  If no key is given, use\n",
      "the entire line as the key.  Use --debug to diagnose incorrect key usage.\n",
      "\n",
      "SIZE may be followed by the following multiplicative suffixes:\n",
      "% 1% of memory, b 1, K 1024 (default), and so on for M, G, T, P, E, Z, Y.\n",
      "\n",
      "*** WARNING ***\n",
      "The locale specified by the environment affects sort order.\n",
      "Set LC_ALL=C to get the traditional sort order that uses\n",
      "native byte values.\n",
      "\n",
      "GNU coreutils online help: <http://www.gnu.org/software/coreutils/>\n",
      "Full documentation at: <http://www.gnu.org/software/coreutils/sort>\n",
      "or available locally via: info '(coreutils) sort invocation'\n"
     ]
    }
   ],
   "source": [
    "# cell 53\n",
    "sort --help"
   ]
  },
  {
   "cell_type": "code",
   "execution_count": 54,
   "id": "e0b18ff1-46b0-4b5d-bb9a-2152b42cb9f3",
   "metadata": {},
   "outputs": [
    {
     "name": "stdout",
     "output_type": "stream",
     "text": [
      "rs8000414\t55472527\n",
      "rs7997193\t55472364\n",
      "rs9597316\t55471531\n",
      "rs9563369\t55469632\n",
      "rs494175\t55466299\n",
      "rs442714\t55464860\n",
      "rs12584224\t55464336\n",
      "rs573051\t55455450\n",
      "rs10467541\t55454251\n",
      "rs2314014\t55448804\n",
      "rs377576\t55448019\n",
      "rs12430288\t55444122\n",
      "rs7989771\t55434151\n",
      "rs1497302\t55429744\n",
      "rs9597307\t55426306\n",
      "rs7993082\t55419220\n",
      "rs11617045\t55419026\n",
      "rs7992310\t55418764\n",
      "rs2201715\t55409754\n",
      "rs1497301\t55407531\n",
      "rs9597296\t55403182\n",
      "rs7993035\t55397589\n",
      "rs9527458\t55391080\n",
      "rs9537297\t55387445\n",
      "rs17052641\t55384997\n",
      "rs1587260\t55381246\n",
      "rs975273\t55379417\n",
      "rs1995099\t55374794\n",
      "rs3015430\t55371003\n",
      "rs17052626\t55369150\n",
      "rs2801617\t55368842\n",
      "rs9591697\t55368450\n",
      "rs2801618\t55368150\n",
      "rs17052609\t55366456\n",
      "rs2645920\t55357235\n",
      "rs2801621\t55352569\n",
      "rs2645924\t55348356\n",
      "rs1497292\t55348261\n",
      "rs2645929\t55342530\n",
      "rs1117969\t55334130\n",
      "rs2645938\t55329151\n",
      "rs10507603\t55328914\n",
      "rs1391041\t55324975\n",
      "rs1532453\t55315271\n",
      "rs1391044\t55311160\n",
      "rs9569384\t55306855\n",
      "rs2935461\t55302250\n",
      "rs2997118\t55290109\n",
      "rs2997114\t55287986\n",
      "rs12585364\t55286848\n",
      "rs3015425\t55280381\n",
      "rs2997106\t55278733\n",
      "rs4597206\t55274285\n",
      "rs9597267\t55268861\n",
      "rs6561867\t55267869\n",
      "rs7334154\t55259125\n",
      "rs9569373\t55254118\n",
      "rs9591687\t55249342\n",
      "rs11839457\t55243360\n",
      "rs4885941\t55234854\n",
      "rs9597258\t55234440\n",
      "rs9569366\t55232916\n"
     ]
    }
   ],
   "source": [
    "# cell 54\n",
    "sort -n -r -k2 Hapmap3-TSI_13q21.info"
   ]
  },
  {
   "cell_type": "markdown",
   "id": "58f10ea9-5bc8-4cda-95ea-27149977e883",
   "metadata": {},
   "source": [
    "<span style=\"color:green\">- <b>Question 8 :</b> Quel tri a été fait dans la commande précédente? Expliquez les 3 arguments. </span>"
   ]
  },
  {
   "cell_type": "markdown",
   "id": "8e3f108e-23ac-40b5-b0b7-b2ba802d3b62",
   "metadata": {},
   "source": [
    "<span style=\"color:gray\">-> Votre réponse: Le tri est numérique, avec une clé de tri correspondant à la 2e colonne, et dans l'ordre décroissant.</span>\n"
   ]
  },
  {
   "cell_type": "markdown",
   "id": "ffbd6ed7-4da1-46b7-b4e3-500d3a24f44b",
   "metadata": {},
   "source": [
    "<div class=\"alert alert-block alert-info\"> Dans Unix, on peut enchaîner 2 commandes en utilisant à la suite en utilisant le pipe <b>|</b> (Alt+Gr+6 des claviers Azerty). La commande située après le pipe utilise comme \"input\" le résultat \"output\" de la commande à gauche du pipe.</div> "
   ]
  },
  {
   "cell_type": "code",
   "execution_count": 14,
   "id": "5463274c-2aee-4188-9aaf-9515dfa98a70",
   "metadata": {},
   "outputs": [
    {
     "name": "stdout",
     "output_type": "stream",
     "text": [
      "sort: cannot read: Hapmap3-TSI_13q21.info: No such file or directory\n"
     ]
    }
   ],
   "source": [
    "# cell 55\n",
    "sort -n -r -k2 Hapmap3-TSI_13q21.info | head"
   ]
  },
  {
   "cell_type": "markdown",
   "id": "92f6276b-0c2d-4647-83a3-53b5a61ec9a2",
   "metadata": {},
   "source": [
    "Ci-dessus on a donc enchainé le tri et décidé de n'afficher que les 10 1ètres lignes du résultat du tri. On voit que cela correspond à l'ordre inverse des 10 dernières lignes du fichier non trié."
   ]
  },
  {
   "cell_type": "code",
   "execution_count": 56,
   "id": "7774ee57-a797-4bba-b686-6a6165fb3dc6",
   "metadata": {},
   "outputs": [
    {
     "name": "stdout",
     "output_type": "stream",
     "text": [
      "rs2314014\t55448804\n",
      "rs10467541\t55454251\n",
      "rs573051\t55455450\n",
      "rs12584224\t55464336\n",
      "rs442714\t55464860\n",
      "rs494175\t55466299\n",
      "rs9563369\t55469632\n",
      "rs9597316\t55471531\n",
      "rs7997193\t55472364\n",
      "rs8000414\t55472527\n"
     ]
    }
   ],
   "source": [
    "# cell 56\n",
    "tail Hapmap3-TSI_13q21.info"
   ]
  },
  {
   "cell_type": "markdown",
   "id": "b4736cbd-484a-4e6f-8e81-f38dc122746c",
   "metadata": {
    "tags": []
   },
   "source": [
    "### 4.4. Extraire les colonnes d'un fichier"
   ]
  },
  {
   "cell_type": "markdown",
   "id": "595f32ab-0c3a-4595-a230-b4cb12b33e38",
   "metadata": {},
   "source": [
    "- Lorsque le fichier texte est un **\"fichier plat\"** (chaque ligne contient le même nombre de colonnes, séparées les unes des autres par un délimiteur), il est possible d'**extraire uniquement certaines colonnes** avec la commande `cut`. "
   ]
  },
  {
   "cell_type": "markdown",
   "id": "24245048-3017-4572-8960-95fa0d68353b",
   "metadata": {},
   "source": [
    "Pour l'exemple, nous allons regarder le fichier `Hapmap3-TSI_13q.21.ped`. Ce fichier est un fichier de génétique au format `.ped` contenant pour chaque ligne les informations pour un individu donné, avec dans les 6 1ères colonnes des informations d'identifiant sur cet un individu (identifiant de la famille, identifiant de l'individu, identifiant du père, identifiant de la mère, sexe, statut par rapport à la maladie). Les colonnes suivantes contiennent les génotypes pour chacun des marqueurs listé dans le fichier `.info` ou `.map` correspondant.\n",
    "\n",
    "Affichons d'abord les 1ères lignes."
   ]
  },
  {
   "cell_type": "code",
   "execution_count": 57,
   "id": "dd33358a-70be-419d-89bd-bd01ee50777f",
   "metadata": {},
   "outputs": [
    {
     "name": "stdout",
     "output_type": "stream",
     "text": [
      "NA20502 NA20502 0 0 2 0 C C G A A G A G C C T T A G G G T C G A C A C C G G T G T G G A T T G A T T T G A A T G G G G G G G C C C C C C A A A A G G T T G G A A G A G G T T A A C C T T C C A A A A C C C C G G A A G G C C C C A A A G G G T C T C G A C C A G C C A G C T C A\n",
      "NA20504 NA20504 0 0 2 0 C C G A A G A G T C T T A G A G T C G A C A T C G G T G 0 0 G A T T G A C T T G A A T G A G G G G G C C C C C C A A A A G G T T A G A A A A G G T T A A C C C T C C A A A A C C C C A G A A A G C C C C A A A G G G C C C C A A C C G G C C G G T T A A\n",
      "NA20505 NA20505 0 0 2 0 C C G A A G A G T C T T A G A G T C G A C A T C G G T G T G G A T T G A C T T G A A T G A G G G G G C C C C C C A A A A G G T T A G A A G A G G T T A A C C T T C C A A A A C C C C A G A A G G C C C C A A A A G G C C C C A A C C G G C C G G T T A A\n",
      "NA20506 NA20506 0 0 2 0 C C G A A G A G T C T T A G A G T C G A C A T C G G T G T G G A T T G A C T G G A A G G A G G G G G C C C C C C A A A A G G T T G G A A A A G G C T A A T C C T C C A A A A C C C C G G A A G G G C C C A A G G G G C C C C A A C C A G C C G G T T A A\n",
      "NA20508 NA20508 0 0 2 0 C C G A A G A G C C T T A G G G T C G A C A C C G G T G T G G A T T G A T T T G A A T G G G A G G G C C T C C C A A C A A G C T G G C A G A T G C T A A T C T T C C C A A A T C C C G G A A A G G C T C G A A G G G T C T C G A C C A G C C A G C T C A\n",
      "NA20509 NA20509 0 0 1 0 C C A A G G G G C C T T G G G G C C A A A A C C G G G G T G A A T T A A T T T T A A T T G G G G G G C C C C C C A A A A G G T T G G A A G A G G T T A A C C C T C C A A A A C C C C G G A A G G C C C C A A A G G G C C C C A A C C G G C C G G T T A A\n",
      "NA20510 NA20510 0 0 1 0 T C G A A A A G T C C T A G A G T C G A C A T C A G T G G G G A C T G G C T G G A A G G A G A G G G C C T C C C A A C A A G T T A G C A A A T G C T A A T C T T C C C A A A T C C C A G A A A G G C T C G A A G G G T C T C G A C C A G C C A G C T C A\n",
      "NA20512 NA20512 0 0 1 0 C C G A A G A G C C T T A G G G T C G A C A C C G G T G T G G A T T G A T T T G A A T G G G A G G G C C C C C C A A A A G G T T G G A A A A G G T T A A C C C T C C A A A A C C C C G G A A G G C C C C A A G G G G T C T C G A C C A G C C A G C T C A\n",
      "NA20515 NA20515 0 0 1 0 C C G A A G A G T C T T A G A G T C G A C A T C G G T G T G G A T T G A C T T G A A T G A G G G G G C C C C C C A A A A G G T T A G A A G A G G T T A A C C T T C C A A A A C C C C A G A A G G C C C C A A A A G G C C C C A A C C G G C C G G T T A A\n",
      "NA20516 NA20516 0 0 1 0 T T A A A A G G C C T T G G G G C C A A A A C C A A G G G G A A C C G G T T G G G G G G G G G G G G C C C C C C A A A A G G T T G G A A G A G G T T A A C C C T C C A A A A C C C C G G A A G G C C C C A A A G G G C C C C A A C C G G C C G G T T A A\n"
     ]
    }
   ],
   "source": [
    "# cell 57\n",
    "head Hapmap3-TSI_13q.21.ped"
   ]
  },
  {
   "cell_type": "markdown",
   "id": "10df7349-0e5f-49ca-be7a-b52eeb0ec70c",
   "metadata": {},
   "source": [
    "Chaque ligne commence par un identifiant au format `NAXXXXX` dans cet exemple. Comme 62 marqueurs ont été génotypés, l'affichage de chaque ligne continue en dessous."
   ]
  },
  {
   "cell_type": "markdown",
   "id": "dead3708-d354-46d5-a70a-b696a5e82874",
   "metadata": {},
   "source": [
    "Consultons l'aide de la commande `cut` pour connaitre les options possibles. "
   ]
  },
  {
   "cell_type": "code",
   "execution_count": 58,
   "id": "44868bbe-18f1-4259-9e31-045960dc869b",
   "metadata": {},
   "outputs": [
    {
     "name": "stdout",
     "output_type": "stream",
     "text": [
      "Usage: cut OPTION... [FILE]...\n",
      "Print selected parts of lines from each FILE to standard output.\n",
      "\n",
      "With no FILE, or when FILE is -, read standard input.\n",
      "\n",
      "Mandatory arguments to long options are mandatory for short options too.\n",
      "  -b, --bytes=LIST        select only these bytes\n",
      "  -c, --characters=LIST   select only these characters\n",
      "  -d, --delimiter=DELIM   use DELIM instead of TAB for field delimiter\n",
      "  -f, --fields=LIST       select only these fields;  also print any line\n",
      "                            that contains no delimiter character, unless\n",
      "                            the -s option is specified\n",
      "  -n                      (ignored)\n",
      "      --complement        complement the set of selected bytes, characters\n",
      "                            or fields\n",
      "  -s, --only-delimited    do not print lines not containing delimiters\n",
      "      --output-delimiter=STRING  use STRING as the output delimiter\n",
      "                            the default is to use the input delimiter\n",
      "  -z, --zero-terminated    line delimiter is NUL, not newline\n",
      "      --help     display this help and exit\n",
      "      --version  output version information and exit\n",
      "\n",
      "Use one, and only one of -b, -c or -f.  Each LIST is made up of one\n",
      "range, or many ranges separated by commas.  Selected input is written\n",
      "in the same order that it is read, and is written exactly once.\n",
      "Each range is one of:\n",
      "\n",
      "  N     N'th byte, character or field, counted from 1\n",
      "  N-    from N'th byte, character or field, to end of line\n",
      "  N-M   from N'th to M'th (included) byte, character or field\n",
      "  -M    from first to M'th (included) byte, character or field\n",
      "\n",
      "GNU coreutils online help: <http://www.gnu.org/software/coreutils/>\n",
      "Full documentation at: <http://www.gnu.org/software/coreutils/cut>\n",
      "or available locally via: info '(coreutils) cut invocation'\n"
     ]
    }
   ],
   "source": [
    "# cell 58\n",
    "cut --help"
   ]
  },
  {
   "cell_type": "markdown",
   "id": "f7fb3bdf-76b8-4a8b-8206-908809abd294",
   "metadata": {},
   "source": [
    "Sélectionnons à présent les 6 1ères colonnes du fichier."
   ]
  },
  {
   "cell_type": "code",
   "execution_count": 59,
   "id": "0bb04e19-6772-49aa-be03-fd187166c1ae",
   "metadata": {},
   "outputs": [
    {
     "name": "stdout",
     "output_type": "stream",
     "text": [
      "NA20502 NA20502 0 0 2 0\n",
      "NA20504 NA20504 0 0 2 0\n",
      "NA20505 NA20505 0 0 2 0\n",
      "NA20506 NA20506 0 0 2 0\n",
      "NA20508 NA20508 0 0 2 0\n",
      "NA20509 NA20509 0 0 1 0\n",
      "NA20510 NA20510 0 0 1 0\n",
      "NA20512 NA20512 0 0 1 0\n",
      "NA20515 NA20515 0 0 1 0\n",
      "NA20516 NA20516 0 0 1 0\n"
     ]
    }
   ],
   "source": [
    "# cell 59\n",
    "cut -d\" \" -f1-6 Hapmap3-TSI_13q.21.ped | head"
   ]
  },
  {
   "cell_type": "markdown",
   "id": "24aa9d40-c266-49fd-b1a4-955eef8135e2",
   "metadata": {},
   "source": [
    "<span style=\"color:green\">- <b>Question 9:</b> Expliquez la commande ci-dessus. </span>"
   ]
  },
  {
   "cell_type": "markdown",
   "id": "a92a555a-a9d6-4c53-8ea0-2694f4825bec",
   "metadata": {},
   "source": [
    "<span style=\"color:gray\">-> Votre réponse: Le séparateur étant un expace plutôt qu'une tabulation, on utilise `-d` pour indiquer le type de séparateur, puis on choisit les colonnes 1 à 6 avec l'agrument <code>-f.</code> On idnique ensuite le fichier sur lequel on réalise ces manipulations. Le résultat de cette 1ère commande est envoyé comme input de la commande <code>head</code> grâce au pipe <code>|</code>.</span>"
   ]
  },
  {
   "cell_type": "markdown",
   "id": "34a5c1fd-1659-48b9-96b8-2b7745a9d8db",
   "metadata": {},
   "source": [
    "<div class=\"alert alert-block alert-info\"> <b> Information: </b>Vous noterez l'odre dans le fichier `Hapmap3-TSI_13q21.info` n'a pas été modifié, et que toutes les colonnes du fichier `Hapmap3-TSI_13q21.ped` n'ont pas disparu. Les commandes `sort` ou `cut` ont seulement affiché le résultat du tri mais elles n'ont pas écrasé les données dans le fichier.<br>\n",
    "Comment modifie-t-on un fichier ou écrit-on dedans? C'est ce qui vous sera présenté dans le paragraphe 4.6.</div> "
   ]
  },
  {
   "cell_type": "markdown",
   "id": "0d0d072a-60b8-41ef-9f3a-3c44cbf53d68",
   "metadata": {},
   "source": [
    "### 4.5 Extraire un motif d'un fichier"
   ]
  },
  {
   "cell_type": "markdown",
   "id": "54ad8aa7-96fe-42af-b227-364036ebed62",
   "metadata": {},
   "source": [
    "Pour extraire un motif, on utilise la commande `grep`. Cela retourne toutes les lignes d'un fichier texte contenant le motif en question indiqué entre des doubles ou simples guillemets."
   ]
  },
  {
   "cell_type": "markdown",
   "id": "64456c9c-67ba-4cf5-9e1a-b113664ca645",
   "metadata": {},
   "source": [
    "- Par exemple, on peut extraire la ligne contenant le SNP `rs9597307` du fichier `Hapmap3-TSI_13q21.info`."
   ]
  },
  {
   "cell_type": "code",
   "execution_count": 15,
   "id": "2b7bda1a-5519-4790-af5f-3fb1f02b07e1",
   "metadata": {},
   "outputs": [
    {
     "name": "stdout",
     "output_type": "stream",
     "text": [
      "grep: Hapmap3-TSI_13q21.info: No such file or directory\n"
     ]
    },
    {
     "ename": "",
     "evalue": "2",
     "output_type": "error",
     "traceback": []
    }
   ],
   "source": [
    "# cell 60\n",
    "grep \"rs9597307\" Hapmap3-TSI_13q21.info"
   ]
  },
  {
   "cell_type": "markdown",
   "id": "fa9b323d-574c-4152-9085-a7e9f5a8e0c9",
   "metadata": {},
   "source": [
    "- On peut aussi extraire un motif plus court, par exemple toutes les lignes avec le motif \"rs95\"."
   ]
  },
  {
   "cell_type": "code",
   "execution_count": 61,
   "id": "b5eebed0-fe46-4540-a24f-9b64f41c52dc",
   "metadata": {},
   "outputs": [
    {
     "name": "stdout",
     "output_type": "stream",
     "text": [
      "rs9569366\t55232916\n",
      "rs9597258\t55234440\n",
      "rs9591687\t55249342\n",
      "rs9569373\t55254118\n",
      "rs9597267\t55268861\n",
      "rs9569384\t55306855\n",
      "rs9591697\t55368450\n",
      "rs9537297\t55387445\n",
      "rs9527458\t55391080\n",
      "rs9597296\t55403182\n",
      "rs9597307\t55426306\n",
      "rs9563369\t55469632\n",
      "rs9597316\t55471531\n"
     ]
    }
   ],
   "source": [
    "# cell 61\n",
    "grep \"rs95\" Hapmap3-TSI_13q21.info"
   ]
  },
  {
   "cell_type": "markdown",
   "id": "1d14429d-0ab3-4749-8a77-80e5b691c30b",
   "metadata": {},
   "source": [
    "- Ici on extrait tous les SNPs dont l'identifiant se termine par un \"3\". Pour ce faire, on utilise l'argument `-P` pour lire en langage Perl une *expression régulière*. Entre les guillements, on ajoute un `.` pour indiquer un caratère, n'importe lequel. Le fait d'ajouter `*` permet d'appliquer le `.` à un nombre variable de caractères (un ou plusieurs). Ensuite, comme il y a 2 colonnes, on ajoute `\\\\t` pour indiquer qu'il y a une tabulation comme séparateur de colonne."
   ]
  },
  {
   "cell_type": "code",
   "execution_count": 62,
   "id": "36460c62-45e8-45be-acf3-ae19c2f42f73",
   "metadata": {},
   "outputs": [
    {
     "name": "stdout",
     "output_type": "stream",
     "text": [
      "rs9569373\t55254118\n",
      "rs1532453\t55315271\n",
      "rs10507603\t55328914\n",
      "rs975273\t55379417\n",
      "rs7997193\t55472364\n"
     ]
    }
   ],
   "source": [
    "# cell 62\n",
    "grep -P \"rs.*3\\\\t\" Hapmap3-TSI_13q21.info"
   ]
  },
  {
   "cell_type": "markdown",
   "id": "bc6ad254-f359-4eb0-be1f-3f90e5834f5c",
   "metadata": {},
   "source": [
    "- Au dessus, on savait que le rs était dans la 1ère colonne et en début de ligne, mais ce n'est pas toujours le cas. On peut forcer à chercher en début de ligne avec le `^` placé au début du motif recherché.\n"
   ]
  },
  {
   "cell_type": "code",
   "execution_count": 63,
   "id": "a6eb5ee9-62f1-4d42-a140-1bb16c16d0f7",
   "metadata": {},
   "outputs": [
    {
     "name": "stdout",
     "output_type": "stream",
     "text": [
      "rs9569373\t55254118\n",
      "rs1532453\t55315271\n",
      "rs10507603\t55328914\n",
      "rs975273\t55379417\n",
      "rs7997193\t55472364\n"
     ]
    }
   ],
   "source": [
    "# cell 63\n",
    "grep -P \"^rs.*3\\\\t\" Hapmap3-TSI_13q21.info"
   ]
  },
  {
   "cell_type": "markdown",
   "id": "51ab3bfe-7414-4d37-a401-4bcbb12f93b3",
   "metadata": {},
   "source": [
    "- On peut aussi chercher dans la 2ème colonne (après la tabulation) tout ce qui commence par \"554\"."
   ]
  },
  {
   "cell_type": "code",
   "execution_count": 64,
   "id": "ab31af8b-7d45-4fc4-9511-67cb8a103c19",
   "metadata": {},
   "outputs": [
    {
     "name": "stdout",
     "output_type": "stream",
     "text": [
      "rs9597296\t55403182\n",
      "rs1497301\t55407531\n",
      "rs2201715\t55409754\n",
      "rs7992310\t55418764\n",
      "rs11617045\t55419026\n",
      "rs7993082\t55419220\n",
      "rs9597307\t55426306\n",
      "rs1497302\t55429744\n",
      "rs7989771\t55434151\n",
      "rs12430288\t55444122\n",
      "rs377576\t55448019\n",
      "rs2314014\t55448804\n",
      "rs10467541\t55454251\n",
      "rs573051\t55455450\n",
      "rs12584224\t55464336\n",
      "rs442714\t55464860\n",
      "rs494175\t55466299\n",
      "rs9563369\t55469632\n",
      "rs9597316\t55471531\n",
      "rs7997193\t55472364\n",
      "rs8000414\t55472527\n"
     ]
    }
   ],
   "source": [
    "# cell 64\n",
    "grep -P \"\\\\t554\" Hapmap3-TSI_13q21.info"
   ]
  },
  {
   "cell_type": "markdown",
   "id": "81fd6088-818d-4f4c-9b88-43e6b1f49bca",
   "metadata": {},
   "source": [
    "- Dans ce dernier  exemple, on recherche toutes les lignes qui se terminent par \"1\" en utilisant `$` pour indiquer la fin de la ligne."
   ]
  },
  {
   "cell_type": "code",
   "execution_count": 65,
   "id": "0a8a0fff-3d83-4ee2-8699-abee19b57013",
   "metadata": {},
   "outputs": [
    {
     "name": "stdout",
     "output_type": "stream",
     "text": [
      "rs9597267\t55268861\n",
      "rs3015425\t55280381\n",
      "rs1532453\t55315271\n",
      "rs2645938\t55329151\n",
      "rs1497292\t55348261\n",
      "rs1497301\t55407531\n",
      "rs7989771\t55434151\n",
      "rs10467541\t55454251\n",
      "rs9597316\t55471531\n"
     ]
    }
   ],
   "source": [
    "# cell 65\n",
    "grep \"1$\" Hapmap3-TSI_13q21.info"
   ]
  },
  {
   "cell_type": "markdown",
   "id": "415ff189-6016-4db0-a558-b9513bbc504c",
   "metadata": {
    "tags": []
   },
   "source": [
    "### 4.6. Ecrire dans un fichier\n",
    "\n",
    "Pour **écrire dans un fichier :**\n",
    "\n",
    "**1. Sur l'interface Jupyter Lab**, il est possible d'ouvrir le fichier par un double clic sur son nom dans le navigateur à gauche. Si vous le faites, vous verrez qu'il est vide. Vous pouvez y écrire du texte directement. En le fermant, Jupyter Lab vous demandera de le sauvegarder.\n",
    "\n",
    "**2. Sans interface Jupyter Lab**, comment écrit-on dans un fichier texte?\n",
    "Plusieurs outils existent, plus ou moins faciles.\n",
    "\n",
    "Une solution est de **rediriger le résultat d'une commande dans un fichier**. Cela se fait avec avec `>` qui écrase le fichier ou avec `>>` qui écrit à la suite d'un fichier existant.\n",
    "    \n",
    "Pour l'exemple, une façon simple d'écrire du texte est d'utiliser la commande `echo` qui écrit du texte sur le terminal et dont vous pouvez rediriger  le contenu dans un fichier.\n"
   ]
  },
  {
   "cell_type": "code",
   "execution_count": 66,
   "id": "c01375c2-ffad-435a-a06e-2b9a784a19ba",
   "metadata": {},
   "outputs": [],
   "source": [
    "# cell 66\n",
    "cd ../../tmp3\n",
    "echo \"quelques mots dans mon fichier\" > tmp_file.txt"
   ]
  },
  {
   "cell_type": "markdown",
   "id": "71ace914-556a-4481-9e07-ad02225c5e0f",
   "metadata": {},
   "source": [
    "Si vous voulez continuer d'écrire à la suite, il faudra utiliser `>>` plutôt que `>` pour ne pas écraser le contenu."
   ]
  },
  {
   "cell_type": "code",
   "execution_count": 67,
   "id": "982d8801-f6bc-4f48-9dbe-83c3c2ddd0fb",
   "metadata": {},
   "outputs": [],
   "source": [
    "# cell 67\n",
    "echo \"d'autres mots dans mon fichier\" >> tmp_file.txt"
   ]
  },
  {
   "cell_type": "markdown",
   "id": "f353a459-644d-493c-91e9-dd2164c39759",
   "metadata": {},
   "source": [
    "Regardez le résultat:"
   ]
  },
  {
   "cell_type": "code",
   "execution_count": 68,
   "id": "d735ba7d-5038-4e4a-b2fc-ab19356483e5",
   "metadata": {},
   "outputs": [
    {
     "name": "stdout",
     "output_type": "stream",
     "text": [
      "quelques mots dans mon fichier\n",
      "d'autres mots dans mon fichier\n"
     ]
    }
   ],
   "source": [
    "# cell 68\n",
    "cat tmp_file.txt"
   ]
  },
  {
   "cell_type": "markdown",
   "id": "dd1f2794-6147-492b-804a-029419143268",
   "metadata": {},
   "source": [
    "> ***Facultatif*** *Pour les plus audacieux, vous pouvez tester le programme `nano`.*\n",
    "> On veut créer un nouveau fichier de type texte nommé `gene_list.txt` dans le répertoire `tmp` et ayant le contenu suivant (NB: vous séparerez les colonnes par des tabulations):\n",
    ">\n",
    "> | symbol | name |\n",
    "> | --- | --- |\n",
    "> | APOE | apolipoprotein  |\n",
    "> | AR | androgen receptor |\n",
    "> | GRN | granulin |\n",
    "> | HTT | huntingtin |\n",
    "> | PSEN1 | presenilin 1 |\n",
    ">\n",
    "> <div class=\"alert alert-block alert-danger\">\n",
    "><b>Attention</b>: \n",
    ">    nano est un outil interactif qui doit être appelé depuis un <b>Terminal</b> et pas depuis un Notebook Jupyter. \n",
    "></div>\n",
    ">- Cliquez en haut à gauche sur le \"+\" et ouvrez un Terminal.\n",
    ">\n",
    "> - Déplacez-vous dans le répertoire `tmp` avec la commande `cd data/tmp`\n",
    "> - Executez la commande: `nano gene_list.txt`\n",
    ">\n",
    "> **Attention**: si nano s'utilise comme n'importe quel éditeur de texte classique pour la saisie du texte, les raccourcis clavier (pour copier, couper, coller, sauvegarder, quitter) sont inhabituels:\n",
    "> - <kbd>ALT</kbd>+<kbd>SHIFT</kbd>+<kbd>6</kbd>: copier un texte sélectionné (et le placer dans le presse-papier)\n",
    "> - <kbd>CTRL</kbd>+<kbd>K</kbd> : couper un texte sélectionné (et le placer dans le presse-papier)\n",
    "> - <kbd>CTRL</kbd>+<kbd>U</kbd> : coller le texte présent dans le presse-paprier\n",
    "> - <kbd>CTRL</kbd>+<kbd>O</kbd> : enregistrer le fichier\n",
    "> - <kbd>CTRL</kbd>+<kbd>X</kbd> : quitter nano\n",
    "\n",
    "\n"
   ]
  },
  {
   "cell_type": "markdown",
   "id": "e1723c90-85ec-4ed5-81e5-5edbe9784bc1",
   "metadata": {
    "tags": []
   },
   "source": [
    "## 5. Sommes de contrôle\n",
    "---"
   ]
  },
  {
   "cell_type": "markdown",
   "id": "1d295961-e43c-4204-a6f8-649232e9310d",
   "metadata": {},
   "source": [
    "Les sommes de contrôle sont la signature ou l'empreinte numérique (*hash*) d'un fichier. Elles sont particulièrement utiles pour vérifier l'intégrité d'un fichier. En passant un fichier dans un algorithme particulier, on obtient une somme de contrôle, souvent représentée comme une suite de chiffres et de lettres."
   ]
  },
  {
   "cell_type": "markdown",
   "id": "c3d17891-93f8-48af-9e6b-044a3483a17b",
   "metadata": {
    "tags": []
   },
   "source": [
    "**MD5:** L'agorithme *Message Digest 5* (MD5) est un des algorithmes les plus utilisés et un des plus anciens. Il date de 1991.\n",
    "\n",
    "Cet algorithme est (était) utilisé en cryptographie. L'empreinte est obtenue est représentée sur 32 caractatères. Par exemple : \n",
    "```\n",
    "0648b3abc5c0e0e7cbf78c466670affa\n",
    "```\n",
    "\n",
    "La probabilité que 2 fichiers différents possèdent la même empreinte est de l'ordre de $2^{-128}$.\n",
    "\n",
    ">*Remarque :* avec un système d'exploitation Mac OS X, l'équivalent de la commande `md5sum` est `md5`\n",
    "\n",
    "\n",
    "Voici une ***démonstration:***"
   ]
  },
  {
   "cell_type": "markdown",
   "id": "fa7b584d-97e4-4ccf-bc6b-6c8421698364",
   "metadata": {},
   "source": [
    "1. Faisons une copie du fichier dans `tmp_file.txt`."
   ]
  },
  {
   "cell_type": "code",
   "execution_count": 69,
   "id": "16c93268-f7d8-4521-8ad8-afbd6750ea71",
   "metadata": {},
   "outputs": [],
   "source": [
    "# cell 69\n",
    "cp tmp_file.txt tmp_file2.txt"
   ]
  },
  {
   "cell_type": "markdown",
   "id": "9e7e4543-142d-4985-9f78-7ff2778ab09d",
   "metadata": {},
   "source": [
    "2. On calcule les empreintes MD5 des deux fichiers avec la commande suivante:"
   ]
  },
  {
   "cell_type": "code",
   "execution_count": 70,
   "id": "7da2535d-6dcd-40a0-b69f-2f448be1bbfb",
   "metadata": {},
   "outputs": [
    {
     "name": "stdout",
     "output_type": "stream",
     "text": [
      "c0e4d8e35c33fff15162af498635086b  tmp_file.txt\n",
      "c0e4d8e35c33fff15162af498635086b  tmp_file2.txt\n"
     ]
    }
   ],
   "source": [
    "# cell 70\n",
    "md5sum tmp_file.txt tmp_file2.txt"
   ]
  },
  {
   "cell_type": "markdown",
   "id": "523e093c-4569-43dc-9253-d956e8d35cce",
   "metadata": {},
   "source": [
    "\n",
    "\n",
    "=> On voit que les empreintes sont les mêmes donc les fichiers sont identiques (copie l'un de l'autre)."
   ]
  },
  {
   "cell_type": "markdown",
   "id": "c3474972-19be-4852-80fe-bc1bf7650d66",
   "metadata": {},
   "source": [
    "3. Modifions le fichier `tmp_file2.txt` en changeant un seul caractère."
   ]
  },
  {
   "cell_type": "markdown",
   "id": "a797c007-a328-4718-92c1-6dbd3b0a11db",
   "metadata": {},
   "source": [
    "On peut modifier le fichier `tmp_file2.txt`, en l'ouvrant dans le lab, avec nano ou directement en ligne de commande, par exemple, en remplacant un seul caractère (le `a` de `avec` est remplacé par `A`) :"
   ]
  },
  {
   "cell_type": "code",
   "execution_count": 71,
   "id": "db2ee5e4-e5f7-4170-9107-6064bf870c38",
   "metadata": {},
   "outputs": [],
   "source": [
    "# cell 71\n",
    "sed -i 's/a/A/' tmp_file2.txt"
   ]
  },
  {
   "cell_type": "markdown",
   "id": "825bada7-b127-42fa-b673-210d3f50fddc",
   "metadata": {},
   "source": [
    "4. On calcule à nouveau les empreintes MD5 des deux fichiers."
   ]
  },
  {
   "cell_type": "code",
   "execution_count": 72,
   "id": "20b8745e-4af4-40c0-8c39-981a5dd1f594",
   "metadata": {},
   "outputs": [
    {
     "name": "stdout",
     "output_type": "stream",
     "text": [
      "c0e4d8e35c33fff15162af498635086b  tmp_file.txt\n",
      "614be7730d995df76a4feeb59761e657  tmp_file2.txt\n"
     ]
    }
   ],
   "source": [
    "# cell 72\n",
    "md5sum tmp_file.txt tmp_file2.txt"
   ]
  },
  {
   "cell_type": "markdown",
   "id": "7f2e64be-90f7-4955-a5d2-bf5ce2c5bcbb",
   "metadata": {},
   "source": [
    "L'empreinte du fichier `tmp_file.txt` est la même que précédemment car le fichier n'a pas été modifié. Par contre, l'empreinte du fichier `tmp_file2.txt` est complètement différente, alors qu'un seul caractère a été modifié (*a* minuscule remplacé par un *A* majuscule)."
   ]
  },
  {
   "cell_type": "markdown",
   "id": "0ebf0710-3946-4b56-b0e1-6cd4af3a352c",
   "metadata": {},
   "source": [
    "Comme nous ne nous en servirons pas par la suite, nous supprimon le reperoire tmp3."
   ]
  },
  {
   "cell_type": "code",
   "execution_count": 73,
   "id": "af4c9893-1926-4ac5-9420-5b6a621d3142",
   "metadata": {},
   "outputs": [],
   "source": [
    "# cell 73\n",
    "cd ..\n",
    "rm -r tmp3"
   ]
  },
  {
   "cell_type": "code",
   "execution_count": 74,
   "id": "a1243e82-c537-44d2-b058-761311efb066",
   "metadata": {},
   "outputs": [
    {
     "name": "stdout",
     "output_type": "stream",
     "text": [
      "binder                               bioinfo_1.ipynb  LICENSE\n",
      "bioinfo_1_correction_executed.ipynb  data             README.md\n"
     ]
    }
   ],
   "source": [
    "# cell 74\n",
    "ls"
   ]
  },
  {
   "cell_type": "markdown",
   "id": "5f9e8c4b-abe0-4836-bbc9-1a9e8099d738",
   "metadata": {},
   "source": [
    "## Conclusion/Perspectives\n",
    "---\n",
    "\n",
    "Le *shell* Bash vous donne accès aux commandes Unix (`ls`, `cat`, `pwd`...).\n",
    "\n",
    "Bash est aussi un langage de programmation que l'ont peututiliser pour automatiser un certain nombre de manipulations sur des fichiers.\n",
    "En programmation, on a besoin de faire 4 actions essentielles :\n",
    "\n",
    "1. Stocker de l'information (les variables).\n",
    "2. Manipuler cette information (les opérateurs).\n",
    "3. Répéter des actions (les boucles).\n",
    "4. Prendre des décisions (les tests).\n",
    "\n",
    "Une fois qu'on sait faire ces 4 actions, on peut pratiquement tout faire.\n",
    "Nous n'avons pas le temps dans le cadre de cette UE de vous initier à la programmation Bash. Nous ferons une petite initiation avec le langage R dans la partie \"Biostatistiques\" de l'UE."
   ]
  },
  {
   "cell_type": "markdown",
   "id": "e2883a53-eed9-4b70-aa1e-85fa3279b833",
   "metadata": {},
   "source": [
    "<div class=\"alert alert-block alert-success\"><b>\n",
    "    Bravo! Vous avez accompli vos 1ers pas dans l'univers des commandes Unix avec  succès!</b> <br>\n",
    "    Vous pourrez désormais vous lancer dans le microprojet sur les variants identifiés par le projet 1000 genomes.<br><br>\n",
    "    N'oubliez pas de sauvegarder votre rapport. Vous pouvez en faire un export en format html : <br>\n",
    "- Ouvrez \"File\" dans le Menu<br>\n",
    "- Selectionnez \"Export Notebook As\"<br>\n",
    "- Exportez votre notebook en HTML<br>\n",
    "- Vous pouvez maintenant l'ouvrir dans un navigateur sans être connecté à Plasma ! \n",
    "</div>"
   ]
  },
  {
   "cell_type": "markdown",
   "id": "aa5f538f-abfd-47c6-8c5f-edaeece3789a",
   "metadata": {},
   "source": [
    "---\n",
    "---\n",
    "\n",
    "🙏 Remerciements à Bruno Toupance et Pierre Poulain leur matériel de cours."
   ]
  },
  {
   "cell_type": "markdown",
   "id": "26a8881e-6b2a-494c-9421-f5d07f8cbc5d",
   "metadata": {},
   "source": [
    "<div class=\"alert alert-block alert-info\"> \n",
    "    \n",
    "<b>Rappel</b>, dans un notebook :\n",
    "\n",
    "- la combinaison de touches <kbd>Ctrl</kbd>+<kbd>Entrée</kbd> exécute une cellule.<br>\n",
    "- la combinaison de touches <kbd>Shift</kbd>+<kbd>Entrée</kbd> exécute une cellule puis passe à la suivante. C'est équivalent à cliquer sur l'icone ▶️ dans la barre de menu du notebook.<br>\n",
    "- la combinaison de touches <kbd>Alt</kbd>+<kbd>Entrée</kbd> exécute une cellule puis en crée une nouvelle (vide) en dessous.<br>\n",
    "\n",
    "Pour ajouter une cellule, vous pouvez aussi cliquer sur l'icone ➕ dans la barre de menu du notebook.\n",
    "- vous pouvez déplacer les cellules en les glissant pour les réorganiser les unes en-dessous des autres.<br>\n",
    "- vous pouvez ajouter des commentaires, soit en commençant la ligne par un \"#\" dans une cellule de code (ces lignes ne seront pas éxécutées), soit dans une nouvelle céllule de type Markdown.<br>\n",
    "- vous sélectionner le type de cellule dans le menu en haut de votre Vnotebbok.<br>\n",
    "    - \"Code\" pour entrer des lignes de commande à éxécuter <br>\n",
    "    - \"Markdown pour ajouter du texte balisé qui peut être formatté<br>\n",
    "- pour modifier une cellule ̀Markdown, double-cliquez dessus<br>\n",
    "- attention à la casse des caractères pour les cellules de code<br>\n",
    "- évitez les caractères spéciaux dans les cellules de code<br>\n",
    "    \n",
    "<em>  \n",
    "To make nice html reports with markdown: <a href=\"https://dillinger.io/\" title=\"dillinger.io\">html visualization tool 1</a> or <a href=\"https://stackedit.io/app#\" title=\"stackedit.io\">html visualization tool 2</a>, <a href=\"https://www.tablesgenerator.com/markdown_tables\" title=\"tablesgenerator.com\">to draw nice tables</a>, and the <a href=\"https://medium.com/analytics-vidhya/the-ultimate-markdown-guide-for-jupyter-notebook-d5e5abf728fd\" title=\"Ultimate guide\">Ultimate guide</a>. <br>\n",
    "Further reading on JupyterLab notebooks: <a href=\"https://jupyterlab.readthedocs.io/en/latest/user/notebook.html\" title=\"Jupyter Lab\">Jupyter Lab documentation</a>.<br>\n",
    "Here we are using JupyterLab interface implemented as part of the <a href=\"https://plasmabio.org/\" title=\"plasmabio.org\">Plasmabio</a> project led by Sandrine Caburet, Pierre Poulain and Claire Vandiedonck.\n",
    "</em>    \n",
    "</div>"
   ]
  },
  {
   "cell_type": "markdown",
   "id": "d071abf9-c116-4df1-ac76-b8b1d4687d8d",
   "metadata": {},
   "source": [
    "*[Last version of this notebook modified on 20/03/2023 by @CVandiedonck]*"
   ]
  }
 ],
 "metadata": {
  "kernelspec": {
   "display_name": "Bash",
   "language": "bash",
   "name": "bash"
  },
  "language_info": {
   "codemirror_mode": "shell",
   "file_extension": ".sh",
   "mimetype": "text/x-sh",
   "name": "bash"
  },
  "toc-autonumbering": false
 },
 "nbformat": 4,
 "nbformat_minor": 5
}
